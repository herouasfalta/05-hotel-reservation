{
 "cells": [
  {
   "cell_type": "markdown",
   "metadata": {},
   "source": [
    "# Прогнозирование оттока клиентов в сети отелей «Как в гостях»"
   ]
  },
  {
   "cell_type": "markdown",
   "metadata": {},
   "source": [
    "Заказчик этого исследования — сеть отелей «Как в гостях».\\\n",
    "Чтобы привлечь клиентов, эта сеть отелей добавила на свой сайт возможность забронировать номер без предоплаты. Однако если клиент отменял бронирование, то компания терпела убытки. Сотрудники отеля могли, например, закупить продукты к приезду гостя или просто не успеть найти другого клиента.\\\n",
    "Чтобы решить эту проблему, нужно разработать систему, которая предсказывает отказ от брони. Если модель покажет, что бронь будет отменена, то клиенту предлагается внести депозит. Размер депозита — 80% от стоимости номера за одни сутки и затрат на разовую уборку. Деньги будут списаны со счёта клиента, если он всё же отменит бронь.\\\n",
    "\\\n",
    "На разработку системы прогнозирования заложен бюджет — 400 000. При этом необходимо учесть, что внедрение модели должно окупиться за тестовый период. Затраты на разработку должны быть меньше той выручки, которую система принесёт компании."
   ]
  },
  {
   "cell_type": "markdown",
   "metadata": {},
   "source": [
    "В таблицах hotel_train и hotel_test содержатся одинаковые столбцы:\n",
    "\n",
    "- id— номер записи;\n",
    "- adults— количество взрослых постояльцев;\n",
    "- arrival_date_year— год заезда;\n",
    "- arrival_date_month— месяц заезда;\n",
    "- arrival_date_week_number— неделя заезда;\n",
    "- arrival_date_day_of_month— день заезда;\n",
    "- babies— количество младенцев;\n",
    "- booking_changes— количество изменений параметров заказа;\n",
    "- children— количество детей от 3 до 14 лет;\n",
    "- country— гражданство постояльца;\n",
    "- customer_type— тип заказчика:\n",
    "\t- Contract— договор с юридическим лицом;\n",
    "\t- Group— групповой заезд;\n",
    "\t- Transient— не связано с договором или групповым заездом;\n",
    "\t- Transient-party— не связано с договором или групповым заездом, но связано с бронированием типа Transient.\n",
    "- days_in_waiting_list— сколько дней заказ ожидал подтверждения;\n",
    "- distribution_channel— канал дистрибуции заказа;\n",
    "- is_canceled— отмена заказа;\n",
    "- is_repeated_guest— признак того, что гость бронирует номер второй раз;\n",
    "- lead_time— количество дней между датой бронирования и датой прибытия;\n",
    "- meal— опции заказа:\n",
    "\t- SC— нет дополнительных опций;\n",
    "\t- BB— включён завтрак;\n",
    "\t- HB— включён завтрак и обед;\n",
    "\t- FB— включён завтрак, обед и ужин.\n",
    "- previous_bookings_not_canceled— количество подтверждённых заказов у клиента;\n",
    "- previous_cancellations— количество отменённых заказов у клиента;\n",
    "- required_car_parking_spaces— необходимость места для автомобиля;\n",
    "- reserved_room_type— тип забронированной комнаты;\n",
    "- stays_in_weekend_nights— количество ночей в выходные дни;\n",
    "- stays_in_week_nights— количество ночей в будние дни;\n",
    "- total_nights— общее количество ночей;\n",
    "- total_of_special_requests— количество специальных отметок."
   ]
  },
  {
   "cell_type": "markdown",
   "metadata": {},
   "source": [
    "### Шаг 1. Откройте файлы с данными"
   ]
  },
  {
   "cell_type": "code",
   "execution_count": 2,
   "metadata": {},
   "outputs": [],
   "source": [
    "import pandas as pd\n",
    "import matplotlib.pyplot as plt\n",
    "from sklearn.model_selection import train_test_split\n",
    "from sklearn.preprocessing import StandardScaler\n",
    "from sklearn.tree import DecisionTreeClassifier\n",
    "from sklearn.ensemble import RandomForestClassifier\n",
    "from sklearn.linear_model import LogisticRegression\n",
    "from sklearn.linear_model import LinearRegression\n",
    "from sklearn.metrics import f1_score\n",
    "from sklearn.metrics import roc_curve\n",
    "from sklearn.metrics import roc_auc_score\n",
    "from sklearn.utils import shuffle\n",
    "from sklearn.preprocessing import OneHotEncoder"
   ]
  },
  {
   "cell_type": "code",
   "execution_count": 3,
   "metadata": {},
   "outputs": [],
   "source": [
    "pd.set_option('display.max_columns', None)"
   ]
  },
  {
   "cell_type": "code",
   "execution_count": 4,
   "metadata": {},
   "outputs": [],
   "source": [
    "df_train = pd.read_csv('/datasets/hotel_train.csv')\n",
    "df_test = pd.read_csv('/datasets/hotel_test.csv')"
   ]
  },
  {
   "cell_type": "code",
   "execution_count": 5,
   "metadata": {},
   "outputs": [
    {
     "data": {
      "text/html": [
       "<div>\n",
       "<style scoped>\n",
       "    .dataframe tbody tr th:only-of-type {\n",
       "        vertical-align: middle;\n",
       "    }\n",
       "\n",
       "    .dataframe tbody tr th {\n",
       "        vertical-align: top;\n",
       "    }\n",
       "\n",
       "    .dataframe thead th {\n",
       "        text-align: right;\n",
       "    }\n",
       "</style>\n",
       "<table border=\"1\" class=\"dataframe\">\n",
       "  <thead>\n",
       "    <tr style=\"text-align: right;\">\n",
       "      <th></th>\n",
       "      <th>id</th>\n",
       "      <th>is_canceled</th>\n",
       "      <th>lead_time</th>\n",
       "      <th>arrival_date_year</th>\n",
       "      <th>arrival_date_month</th>\n",
       "      <th>arrival_date_week_number</th>\n",
       "      <th>arrival_date_day_of_month</th>\n",
       "      <th>stays_in_weekend_nights</th>\n",
       "      <th>stays_in_week_nights</th>\n",
       "      <th>adults</th>\n",
       "      <th>children</th>\n",
       "      <th>babies</th>\n",
       "      <th>meal</th>\n",
       "      <th>country</th>\n",
       "      <th>distribution_channel</th>\n",
       "      <th>is_repeated_guest</th>\n",
       "      <th>previous_cancellations</th>\n",
       "      <th>previous_bookings_not_canceled</th>\n",
       "      <th>reserved_room_type</th>\n",
       "      <th>booking_changes</th>\n",
       "      <th>days_in_waiting_list</th>\n",
       "      <th>customer_type</th>\n",
       "      <th>required_car_parking_spaces</th>\n",
       "      <th>total_of_special_requests</th>\n",
       "      <th>total_nights</th>\n",
       "    </tr>\n",
       "  </thead>\n",
       "  <tbody>\n",
       "    <tr>\n",
       "      <th>0</th>\n",
       "      <td>0</td>\n",
       "      <td>0</td>\n",
       "      <td>7.0</td>\n",
       "      <td>2015</td>\n",
       "      <td>July</td>\n",
       "      <td>27</td>\n",
       "      <td>1</td>\n",
       "      <td>0</td>\n",
       "      <td>1</td>\n",
       "      <td>1.0</td>\n",
       "      <td>0.0</td>\n",
       "      <td>0.0</td>\n",
       "      <td>BB</td>\n",
       "      <td>GBR</td>\n",
       "      <td>Direct</td>\n",
       "      <td>0</td>\n",
       "      <td>0</td>\n",
       "      <td>0</td>\n",
       "      <td>A</td>\n",
       "      <td>0</td>\n",
       "      <td>0</td>\n",
       "      <td>Transient</td>\n",
       "      <td>0</td>\n",
       "      <td>0</td>\n",
       "      <td>1</td>\n",
       "    </tr>\n",
       "    <tr>\n",
       "      <th>1</th>\n",
       "      <td>1</td>\n",
       "      <td>0</td>\n",
       "      <td>14.0</td>\n",
       "      <td>2015</td>\n",
       "      <td>July</td>\n",
       "      <td>27</td>\n",
       "      <td>1</td>\n",
       "      <td>0</td>\n",
       "      <td>2</td>\n",
       "      <td>2.0</td>\n",
       "      <td>0.0</td>\n",
       "      <td>0.0</td>\n",
       "      <td>BB</td>\n",
       "      <td>GBR</td>\n",
       "      <td>TA/TO</td>\n",
       "      <td>0</td>\n",
       "      <td>0</td>\n",
       "      <td>0</td>\n",
       "      <td>A</td>\n",
       "      <td>0</td>\n",
       "      <td>0</td>\n",
       "      <td>Transient</td>\n",
       "      <td>0</td>\n",
       "      <td>1</td>\n",
       "      <td>2</td>\n",
       "    </tr>\n",
       "    <tr>\n",
       "      <th>2</th>\n",
       "      <td>2</td>\n",
       "      <td>0</td>\n",
       "      <td>0.0</td>\n",
       "      <td>2015</td>\n",
       "      <td>July</td>\n",
       "      <td>27</td>\n",
       "      <td>1</td>\n",
       "      <td>0</td>\n",
       "      <td>2</td>\n",
       "      <td>2.0</td>\n",
       "      <td>0.0</td>\n",
       "      <td>0.0</td>\n",
       "      <td>BB</td>\n",
       "      <td>PRT</td>\n",
       "      <td>Direct</td>\n",
       "      <td>0</td>\n",
       "      <td>0</td>\n",
       "      <td>0</td>\n",
       "      <td>C</td>\n",
       "      <td>0</td>\n",
       "      <td>0</td>\n",
       "      <td>Transient</td>\n",
       "      <td>0</td>\n",
       "      <td>0</td>\n",
       "      <td>2</td>\n",
       "    </tr>\n",
       "    <tr>\n",
       "      <th>3</th>\n",
       "      <td>3</td>\n",
       "      <td>0</td>\n",
       "      <td>9.0</td>\n",
       "      <td>2015</td>\n",
       "      <td>July</td>\n",
       "      <td>27</td>\n",
       "      <td>1</td>\n",
       "      <td>0</td>\n",
       "      <td>2</td>\n",
       "      <td>2.0</td>\n",
       "      <td>0.0</td>\n",
       "      <td>0.0</td>\n",
       "      <td>FB</td>\n",
       "      <td>PRT</td>\n",
       "      <td>Direct</td>\n",
       "      <td>0</td>\n",
       "      <td>0</td>\n",
       "      <td>0</td>\n",
       "      <td>C</td>\n",
       "      <td>0</td>\n",
       "      <td>0</td>\n",
       "      <td>Transient</td>\n",
       "      <td>0</td>\n",
       "      <td>1</td>\n",
       "      <td>2</td>\n",
       "    </tr>\n",
       "    <tr>\n",
       "      <th>4</th>\n",
       "      <td>4</td>\n",
       "      <td>1</td>\n",
       "      <td>85.0</td>\n",
       "      <td>2015</td>\n",
       "      <td>July</td>\n",
       "      <td>27</td>\n",
       "      <td>1</td>\n",
       "      <td>0</td>\n",
       "      <td>3</td>\n",
       "      <td>2.0</td>\n",
       "      <td>0.0</td>\n",
       "      <td>0.0</td>\n",
       "      <td>BB</td>\n",
       "      <td>PRT</td>\n",
       "      <td>TA/TO</td>\n",
       "      <td>0</td>\n",
       "      <td>0</td>\n",
       "      <td>0</td>\n",
       "      <td>A</td>\n",
       "      <td>0</td>\n",
       "      <td>0</td>\n",
       "      <td>Transient</td>\n",
       "      <td>0</td>\n",
       "      <td>1</td>\n",
       "      <td>3</td>\n",
       "    </tr>\n",
       "  </tbody>\n",
       "</table>\n",
       "</div>"
      ],
      "text/plain": [
       "   id  is_canceled  lead_time  arrival_date_year arrival_date_month  \\\n",
       "0   0            0        7.0               2015               July   \n",
       "1   1            0       14.0               2015               July   \n",
       "2   2            0        0.0               2015               July   \n",
       "3   3            0        9.0               2015               July   \n",
       "4   4            1       85.0               2015               July   \n",
       "\n",
       "   arrival_date_week_number  arrival_date_day_of_month  \\\n",
       "0                        27                          1   \n",
       "1                        27                          1   \n",
       "2                        27                          1   \n",
       "3                        27                          1   \n",
       "4                        27                          1   \n",
       "\n",
       "   stays_in_weekend_nights  stays_in_week_nights  adults  children  babies  \\\n",
       "0                        0                     1     1.0       0.0     0.0   \n",
       "1                        0                     2     2.0       0.0     0.0   \n",
       "2                        0                     2     2.0       0.0     0.0   \n",
       "3                        0                     2     2.0       0.0     0.0   \n",
       "4                        0                     3     2.0       0.0     0.0   \n",
       "\n",
       "        meal country distribution_channel  is_repeated_guest  \\\n",
       "0  BB            GBR               Direct                  0   \n",
       "1  BB            GBR                TA/TO                  0   \n",
       "2  BB            PRT               Direct                  0   \n",
       "3  FB            PRT               Direct                  0   \n",
       "4  BB            PRT                TA/TO                  0   \n",
       "\n",
       "   previous_cancellations  previous_bookings_not_canceled reserved_room_type  \\\n",
       "0                       0                               0   A                  \n",
       "1                       0                               0   A                  \n",
       "2                       0                               0   C                  \n",
       "3                       0                               0   C                  \n",
       "4                       0                               0   A                  \n",
       "\n",
       "   booking_changes  days_in_waiting_list customer_type  \\\n",
       "0                0                     0     Transient   \n",
       "1                0                     0     Transient   \n",
       "2                0                     0     Transient   \n",
       "3                0                     0     Transient   \n",
       "4                0                     0     Transient   \n",
       "\n",
       "   required_car_parking_spaces  total_of_special_requests  total_nights  \n",
       "0                            0                          0             1  \n",
       "1                            0                          1             2  \n",
       "2                            0                          0             2  \n",
       "3                            0                          1             2  \n",
       "4                            0                          1             3  "
      ]
     },
     "metadata": {},
     "output_type": "display_data"
    },
    {
     "name": "stdout",
     "output_type": "stream",
     "text": [
      "<class 'pandas.core.frame.DataFrame'>\n",
      "RangeIndex: 65229 entries, 0 to 65228\n",
      "Data columns (total 25 columns):\n",
      " #   Column                          Non-Null Count  Dtype  \n",
      "---  ------                          --------------  -----  \n",
      " 0   id                              65229 non-null  int64  \n",
      " 1   is_canceled                     65229 non-null  int64  \n",
      " 2   lead_time                       65229 non-null  float64\n",
      " 3   arrival_date_year               65229 non-null  int64  \n",
      " 4   arrival_date_month              65229 non-null  object \n",
      " 5   arrival_date_week_number        65229 non-null  int64  \n",
      " 6   arrival_date_day_of_month       65229 non-null  int64  \n",
      " 7   stays_in_weekend_nights         65229 non-null  int64  \n",
      " 8   stays_in_week_nights            65229 non-null  int64  \n",
      " 9   adults                          65229 non-null  float64\n",
      " 10  children                        65229 non-null  float64\n",
      " 11  babies                          65229 non-null  float64\n",
      " 12  meal                            65229 non-null  object \n",
      " 13  country                         65229 non-null  object \n",
      " 14  distribution_channel            65229 non-null  object \n",
      " 15  is_repeated_guest               65229 non-null  int64  \n",
      " 16  previous_cancellations          65229 non-null  int64  \n",
      " 17  previous_bookings_not_canceled  65229 non-null  int64  \n",
      " 18  reserved_room_type              65229 non-null  object \n",
      " 19  booking_changes                 65229 non-null  int64  \n",
      " 20  days_in_waiting_list            65229 non-null  int64  \n",
      " 21  customer_type                   65229 non-null  object \n",
      " 22  required_car_parking_spaces     65229 non-null  int64  \n",
      " 23  total_of_special_requests       65229 non-null  int64  \n",
      " 24  total_nights                    65229 non-null  int64  \n",
      "dtypes: float64(4), int64(15), object(6)\n",
      "memory usage: 12.4+ MB\n"
     ]
    }
   ],
   "source": [
    "display (df_train.head(5))\n",
    "df_train.info()"
   ]
  },
  {
   "cell_type": "code",
   "execution_count": 6,
   "metadata": {},
   "outputs": [
    {
     "data": {
      "text/html": [
       "<div>\n",
       "<style scoped>\n",
       "    .dataframe tbody tr th:only-of-type {\n",
       "        vertical-align: middle;\n",
       "    }\n",
       "\n",
       "    .dataframe tbody tr th {\n",
       "        vertical-align: top;\n",
       "    }\n",
       "\n",
       "    .dataframe thead th {\n",
       "        text-align: right;\n",
       "    }\n",
       "</style>\n",
       "<table border=\"1\" class=\"dataframe\">\n",
       "  <thead>\n",
       "    <tr style=\"text-align: right;\">\n",
       "      <th></th>\n",
       "      <th>id</th>\n",
       "      <th>is_canceled</th>\n",
       "      <th>lead_time</th>\n",
       "      <th>arrival_date_year</th>\n",
       "      <th>arrival_date_month</th>\n",
       "      <th>arrival_date_week_number</th>\n",
       "      <th>arrival_date_day_of_month</th>\n",
       "      <th>stays_in_weekend_nights</th>\n",
       "      <th>stays_in_week_nights</th>\n",
       "      <th>adults</th>\n",
       "      <th>children</th>\n",
       "      <th>babies</th>\n",
       "      <th>meal</th>\n",
       "      <th>country</th>\n",
       "      <th>distribution_channel</th>\n",
       "      <th>is_repeated_guest</th>\n",
       "      <th>previous_cancellations</th>\n",
       "      <th>previous_bookings_not_canceled</th>\n",
       "      <th>reserved_room_type</th>\n",
       "      <th>booking_changes</th>\n",
       "      <th>days_in_waiting_list</th>\n",
       "      <th>customer_type</th>\n",
       "      <th>required_car_parking_spaces</th>\n",
       "      <th>total_of_special_requests</th>\n",
       "      <th>total_nights</th>\n",
       "    </tr>\n",
       "  </thead>\n",
       "  <tbody>\n",
       "    <tr>\n",
       "      <th>0</th>\n",
       "      <td>6086</td>\n",
       "      <td>1</td>\n",
       "      <td>74.0</td>\n",
       "      <td>2017</td>\n",
       "      <td>January</td>\n",
       "      <td>1</td>\n",
       "      <td>1</td>\n",
       "      <td>1</td>\n",
       "      <td>0</td>\n",
       "      <td>2.0</td>\n",
       "      <td>0.0</td>\n",
       "      <td>0.0</td>\n",
       "      <td>BB</td>\n",
       "      <td>PRT</td>\n",
       "      <td>TA/TO</td>\n",
       "      <td>0</td>\n",
       "      <td>0</td>\n",
       "      <td>0</td>\n",
       "      <td>A</td>\n",
       "      <td>0</td>\n",
       "      <td>0</td>\n",
       "      <td>Transient</td>\n",
       "      <td>0</td>\n",
       "      <td>0</td>\n",
       "      <td>1</td>\n",
       "    </tr>\n",
       "    <tr>\n",
       "      <th>1</th>\n",
       "      <td>6087</td>\n",
       "      <td>1</td>\n",
       "      <td>62.0</td>\n",
       "      <td>2017</td>\n",
       "      <td>January</td>\n",
       "      <td>1</td>\n",
       "      <td>1</td>\n",
       "      <td>2</td>\n",
       "      <td>2</td>\n",
       "      <td>2.0</td>\n",
       "      <td>0.0</td>\n",
       "      <td>0.0</td>\n",
       "      <td>BB</td>\n",
       "      <td>AUT</td>\n",
       "      <td>TA/TO</td>\n",
       "      <td>0</td>\n",
       "      <td>0</td>\n",
       "      <td>0</td>\n",
       "      <td>A</td>\n",
       "      <td>0</td>\n",
       "      <td>0</td>\n",
       "      <td>Transient</td>\n",
       "      <td>0</td>\n",
       "      <td>1</td>\n",
       "      <td>4</td>\n",
       "    </tr>\n",
       "    <tr>\n",
       "      <th>2</th>\n",
       "      <td>6088</td>\n",
       "      <td>1</td>\n",
       "      <td>62.0</td>\n",
       "      <td>2017</td>\n",
       "      <td>January</td>\n",
       "      <td>1</td>\n",
       "      <td>1</td>\n",
       "      <td>2</td>\n",
       "      <td>2</td>\n",
       "      <td>2.0</td>\n",
       "      <td>0.0</td>\n",
       "      <td>0.0</td>\n",
       "      <td>BB</td>\n",
       "      <td>AUT</td>\n",
       "      <td>TA/TO</td>\n",
       "      <td>0</td>\n",
       "      <td>0</td>\n",
       "      <td>0</td>\n",
       "      <td>A</td>\n",
       "      <td>0</td>\n",
       "      <td>0</td>\n",
       "      <td>Transient</td>\n",
       "      <td>0</td>\n",
       "      <td>1</td>\n",
       "      <td>4</td>\n",
       "    </tr>\n",
       "    <tr>\n",
       "      <th>3</th>\n",
       "      <td>6089</td>\n",
       "      <td>1</td>\n",
       "      <td>71.0</td>\n",
       "      <td>2017</td>\n",
       "      <td>January</td>\n",
       "      <td>1</td>\n",
       "      <td>1</td>\n",
       "      <td>2</td>\n",
       "      <td>2</td>\n",
       "      <td>1.0</td>\n",
       "      <td>0.0</td>\n",
       "      <td>0.0</td>\n",
       "      <td>BB</td>\n",
       "      <td>PRT</td>\n",
       "      <td>TA/TO</td>\n",
       "      <td>0</td>\n",
       "      <td>0</td>\n",
       "      <td>0</td>\n",
       "      <td>A</td>\n",
       "      <td>0</td>\n",
       "      <td>0</td>\n",
       "      <td>Transient</td>\n",
       "      <td>0</td>\n",
       "      <td>1</td>\n",
       "      <td>4</td>\n",
       "    </tr>\n",
       "    <tr>\n",
       "      <th>4</th>\n",
       "      <td>6090</td>\n",
       "      <td>1</td>\n",
       "      <td>172.0</td>\n",
       "      <td>2017</td>\n",
       "      <td>January</td>\n",
       "      <td>1</td>\n",
       "      <td>1</td>\n",
       "      <td>2</td>\n",
       "      <td>5</td>\n",
       "      <td>2.0</td>\n",
       "      <td>0.0</td>\n",
       "      <td>0.0</td>\n",
       "      <td>BB</td>\n",
       "      <td>BEL</td>\n",
       "      <td>TA/TO</td>\n",
       "      <td>0</td>\n",
       "      <td>0</td>\n",
       "      <td>0</td>\n",
       "      <td>A</td>\n",
       "      <td>0</td>\n",
       "      <td>0</td>\n",
       "      <td>Transient</td>\n",
       "      <td>0</td>\n",
       "      <td>0</td>\n",
       "      <td>7</td>\n",
       "    </tr>\n",
       "  </tbody>\n",
       "</table>\n",
       "</div>"
      ],
      "text/plain": [
       "     id  is_canceled  lead_time  arrival_date_year arrival_date_month  \\\n",
       "0  6086            1       74.0               2017            January   \n",
       "1  6087            1       62.0               2017            January   \n",
       "2  6088            1       62.0               2017            January   \n",
       "3  6089            1       71.0               2017            January   \n",
       "4  6090            1      172.0               2017            January   \n",
       "\n",
       "   arrival_date_week_number  arrival_date_day_of_month  \\\n",
       "0                         1                          1   \n",
       "1                         1                          1   \n",
       "2                         1                          1   \n",
       "3                         1                          1   \n",
       "4                         1                          1   \n",
       "\n",
       "   stays_in_weekend_nights  stays_in_week_nights  adults  children  babies  \\\n",
       "0                        1                     0     2.0       0.0     0.0   \n",
       "1                        2                     2     2.0       0.0     0.0   \n",
       "2                        2                     2     2.0       0.0     0.0   \n",
       "3                        2                     2     1.0       0.0     0.0   \n",
       "4                        2                     5     2.0       0.0     0.0   \n",
       "\n",
       "        meal country distribution_channel  is_repeated_guest  \\\n",
       "0  BB            PRT                TA/TO                  0   \n",
       "1  BB            AUT                TA/TO                  0   \n",
       "2  BB            AUT                TA/TO                  0   \n",
       "3  BB            PRT                TA/TO                  0   \n",
       "4  BB            BEL                TA/TO                  0   \n",
       "\n",
       "   previous_cancellations  previous_bookings_not_canceled reserved_room_type  \\\n",
       "0                       0                               0   A                  \n",
       "1                       0                               0   A                  \n",
       "2                       0                               0   A                  \n",
       "3                       0                               0   A                  \n",
       "4                       0                               0   A                  \n",
       "\n",
       "   booking_changes  days_in_waiting_list customer_type  \\\n",
       "0                0                     0     Transient   \n",
       "1                0                     0     Transient   \n",
       "2                0                     0     Transient   \n",
       "3                0                     0     Transient   \n",
       "4                0                     0     Transient   \n",
       "\n",
       "   required_car_parking_spaces  total_of_special_requests  total_nights  \n",
       "0                            0                          0             1  \n",
       "1                            0                          1             4  \n",
       "2                            0                          1             4  \n",
       "3                            0                          1             4  \n",
       "4                            0                          0             7  "
      ]
     },
     "metadata": {},
     "output_type": "display_data"
    },
    {
     "name": "stdout",
     "output_type": "stream",
     "text": [
      "<class 'pandas.core.frame.DataFrame'>\n",
      "RangeIndex: 32412 entries, 0 to 32411\n",
      "Data columns (total 25 columns):\n",
      " #   Column                          Non-Null Count  Dtype  \n",
      "---  ------                          --------------  -----  \n",
      " 0   id                              32412 non-null  int64  \n",
      " 1   is_canceled                     32412 non-null  int64  \n",
      " 2   lead_time                       32412 non-null  float64\n",
      " 3   arrival_date_year               32412 non-null  int64  \n",
      " 4   arrival_date_month              32412 non-null  object \n",
      " 5   arrival_date_week_number        32412 non-null  int64  \n",
      " 6   arrival_date_day_of_month       32412 non-null  int64  \n",
      " 7   stays_in_weekend_nights         32412 non-null  int64  \n",
      " 8   stays_in_week_nights            32412 non-null  int64  \n",
      " 9   adults                          32412 non-null  float64\n",
      " 10  children                        32412 non-null  float64\n",
      " 11  babies                          32412 non-null  float64\n",
      " 12  meal                            32412 non-null  object \n",
      " 13  country                         32412 non-null  object \n",
      " 14  distribution_channel            32412 non-null  object \n",
      " 15  is_repeated_guest               32412 non-null  int64  \n",
      " 16  previous_cancellations          32412 non-null  int64  \n",
      " 17  previous_bookings_not_canceled  32412 non-null  int64  \n",
      " 18  reserved_room_type              32412 non-null  object \n",
      " 19  booking_changes                 32412 non-null  int64  \n",
      " 20  days_in_waiting_list            32412 non-null  int64  \n",
      " 21  customer_type                   32412 non-null  object \n",
      " 22  required_car_parking_spaces     32412 non-null  int64  \n",
      " 23  total_of_special_requests       32412 non-null  int64  \n",
      " 24  total_nights                    32412 non-null  int64  \n",
      "dtypes: float64(4), int64(15), object(6)\n",
      "memory usage: 6.2+ MB\n"
     ]
    }
   ],
   "source": [
    "display (df_test.head(5))\n",
    "df_test.info()"
   ]
  },
  {
   "cell_type": "markdown",
   "metadata": {},
   "source": [
    "#### Поиск пропусков в данных"
   ]
  },
  {
   "cell_type": "code",
   "execution_count": 7,
   "metadata": {
    "scrolled": true
   },
   "outputs": [
    {
     "name": "stdout",
     "output_type": "stream",
     "text": [
      "id                                0\n",
      "is_canceled                       0\n",
      "lead_time                         0\n",
      "arrival_date_year                 0\n",
      "arrival_date_month                0\n",
      "arrival_date_week_number          0\n",
      "arrival_date_day_of_month         0\n",
      "stays_in_weekend_nights           0\n",
      "stays_in_week_nights              0\n",
      "adults                            0\n",
      "children                          0\n",
      "babies                            0\n",
      "meal                              0\n",
      "country                           0\n",
      "distribution_channel              0\n",
      "is_repeated_guest                 0\n",
      "previous_cancellations            0\n",
      "previous_bookings_not_canceled    0\n",
      "reserved_room_type                0\n",
      "booking_changes                   0\n",
      "days_in_waiting_list              0\n",
      "customer_type                     0\n",
      "required_car_parking_spaces       0\n",
      "total_of_special_requests         0\n",
      "total_nights                      0\n",
      "dtype: int64\n"
     ]
    }
   ],
   "source": [
    "print (df_train.isna().sum())"
   ]
  },
  {
   "cell_type": "code",
   "execution_count": 8,
   "metadata": {},
   "outputs": [
    {
     "name": "stdout",
     "output_type": "stream",
     "text": [
      "id                                0\n",
      "is_canceled                       0\n",
      "lead_time                         0\n",
      "arrival_date_year                 0\n",
      "arrival_date_month                0\n",
      "arrival_date_week_number          0\n",
      "arrival_date_day_of_month         0\n",
      "stays_in_weekend_nights           0\n",
      "stays_in_week_nights              0\n",
      "adults                            0\n",
      "children                          0\n",
      "babies                            0\n",
      "meal                              0\n",
      "country                           0\n",
      "distribution_channel              0\n",
      "is_repeated_guest                 0\n",
      "previous_cancellations            0\n",
      "previous_bookings_not_canceled    0\n",
      "reserved_room_type                0\n",
      "booking_changes                   0\n",
      "days_in_waiting_list              0\n",
      "customer_type                     0\n",
      "required_car_parking_spaces       0\n",
      "total_of_special_requests         0\n",
      "total_nights                      0\n",
      "dtype: int64\n"
     ]
    }
   ],
   "source": [
    "print (df_test.isna().sum())"
   ]
  },
  {
   "cell_type": "markdown",
   "metadata": {},
   "source": [
    "#### Поиск явных дубликатов в данных"
   ]
  },
  {
   "cell_type": "code",
   "execution_count": 9,
   "metadata": {},
   "outputs": [
    {
     "name": "stdout",
     "output_type": "stream",
     "text": [
      "0\n"
     ]
    }
   ],
   "source": [
    "print (df_train.duplicated().sum())"
   ]
  },
  {
   "cell_type": "code",
   "execution_count": 10,
   "metadata": {},
   "outputs": [
    {
     "name": "stdout",
     "output_type": "stream",
     "text": [
      "0\n"
     ]
    }
   ],
   "source": [
    "print (df_test.duplicated().sum())"
   ]
  },
  {
   "cell_type": "markdown",
   "metadata": {},
   "source": [
    "#### Поиск неявных дубликатов в данных"
   ]
  },
  {
   "cell_type": "markdown",
   "metadata": {},
   "source": [
    "**Удаляю лишние пробелы в столбце 'reserved_room_type'**"
   ]
  },
  {
   "cell_type": "code",
   "execution_count": 11,
   "metadata": {},
   "outputs": [
    {
     "name": "stdout",
     "output_type": "stream",
     "text": [
      "['A' 'C' 'D' 'E' 'G' 'F' 'B']\n"
     ]
    }
   ],
   "source": [
    "#print (df_train['reserved_room_type'].unique())\n",
    "df_train['reserved_room_type'] = df_train['reserved_room_type'].str.strip()\n",
    "print (df_train['reserved_room_type'].unique())"
   ]
  },
  {
   "cell_type": "code",
   "execution_count": 12,
   "metadata": {},
   "outputs": [
    {
     "name": "stdout",
     "output_type": "stream",
     "text": [
      "['A' 'E' 'G' 'D' 'F' 'C' 'B']\n"
     ]
    }
   ],
   "source": [
    "df_test['reserved_room_type'] = df_test['reserved_room_type'].str.strip()\n",
    "print (df_test['reserved_room_type'].unique())"
   ]
  },
  {
   "cell_type": "markdown",
   "metadata": {},
   "source": [
    "**Ищу неявные дубликаты в столбце 'customer_type'**"
   ]
  },
  {
   "cell_type": "code",
   "execution_count": 13,
   "metadata": {},
   "outputs": [
    {
     "name": "stdout",
     "output_type": "stream",
     "text": [
      "['Transient' 'Contract' 'Transient-Party' 'Group']\n"
     ]
    }
   ],
   "source": [
    "print (df_train['customer_type'].unique())"
   ]
  },
  {
   "cell_type": "markdown",
   "metadata": {},
   "source": [
    "**Удаляю лишние пробелы в столбце 'meal'**"
   ]
  },
  {
   "cell_type": "code",
   "execution_count": 14,
   "metadata": {},
   "outputs": [
    {
     "name": "stdout",
     "output_type": "stream",
     "text": [
      "['BB' 'FB' 'HB' 'SC']\n"
     ]
    }
   ],
   "source": [
    "#print (df_train['meal'].unique())\n",
    "df_train['meal'] = df_train['meal'].str.strip()\n",
    "print (df_train['meal'].unique())"
   ]
  },
  {
   "cell_type": "code",
   "execution_count": 15,
   "metadata": {},
   "outputs": [
    {
     "name": "stdout",
     "output_type": "stream",
     "text": [
      "['BB' 'HB' 'SC' 'FB']\n"
     ]
    }
   ],
   "source": [
    "df_test['meal'] = df_test['meal'].str.strip()\n",
    "print (df_test['meal'].unique())"
   ]
  },
  {
   "cell_type": "markdown",
   "metadata": {},
   "source": [
    "### Шаг 2. Предобработка и исследовательский анализ данных"
   ]
  },
  {
   "cell_type": "markdown",
   "metadata": {},
   "source": [
    "#### Гистограммы столбцов"
   ]
  },
  {
   "cell_type": "code",
   "execution_count": 16,
   "metadata": {},
   "outputs": [
    {
     "data": {
      "image/png": "[encoded data removed]",
      "text/plain": [
       "<Figure size 1800x2160 with 20 Axes>"
      ]
     },
     "metadata": {
      "needs_background": "light"
     },
     "output_type": "display_data"
    }
   ],
   "source": [
    "df_train.drop(['id'], axis=1).hist(figsize=(25,30))\n",
    "None"
   ]
  },
  {
   "cell_type": "markdown",
   "metadata": {},
   "source": [
    "####  Столбец 'lead_time' - количество дней между датой бронирования и датой прибытия"
   ]
  },
  {
   "cell_type": "markdown",
   "metadata": {},
   "source": [
    "Изучаю подробнее график столбца lead_time, меня заинтересовал выброс около нуля."
   ]
  },
  {
   "cell_type": "code",
   "execution_count": 17,
   "metadata": {
    "scrolled": true
   },
   "outputs": [
    {
     "data": {
      "text/plain": [
       "<AxesSubplot:>"
      ]
     },
     "execution_count": 17,
     "metadata": {},
     "output_type": "execute_result"
    },
    {
     "data": {
      "image/png": "[encoded data removed]",
      "text/plain": [
       "<Figure size 432x288 with 1 Axes>"
      ]
     },
     "metadata": {
      "needs_background": "light"
     },
     "output_type": "display_data"
    }
   ],
   "source": [
    "df_train.query('lead_time < 5')['lead_time'].hist()"
   ]
  },
  {
   "cell_type": "markdown",
   "metadata": {},
   "source": [
    "Судя по графику, около 3500 постояльцев не бронировали номер заранее, а заказывали его прям в день заезда."
   ]
  },
  {
   "cell_type": "markdown",
   "metadata": {},
   "source": [
    "#### Графики столбцов 'customer_type', 'meal', 'reserved_room_type', 'arrival_date_month'"
   ]
  },
  {
   "cell_type": "code",
   "execution_count": 18,
   "metadata": {},
   "outputs": [
    {
     "data": {
      "text/plain": [
       "<AxesSubplot:>"
      ]
     },
     "execution_count": 18,
     "metadata": {},
     "output_type": "execute_result"
    },
    {
     "data": {
      "image/png": "[encoded data removed]",
      "text/plain": [
       "<Figure size 432x288 with 1 Axes>"
      ]
     },
     "metadata": {
      "needs_background": "light"
     },
     "output_type": "display_data"
    }
   ],
   "source": [
    "df_train['customer_type'].hist()"
   ]
  },
  {
   "cell_type": "code",
   "execution_count": 19,
   "metadata": {},
   "outputs": [
    {
     "data": {
      "text/plain": [
       "<AxesSubplot:>"
      ]
     },
     "execution_count": 19,
     "metadata": {},
     "output_type": "execute_result"
    },
    {
     "data": {
      "image/png": "[encoded data removed]",
      "text/plain": [
       "<Figure size 432x288 with 1 Axes>"
      ]
     },
     "metadata": {
      "needs_background": "light"
     },
     "output_type": "display_data"
    }
   ],
   "source": [
    "df_train['meal'].hist()"
   ]
  },
  {
   "cell_type": "code",
   "execution_count": 20,
   "metadata": {
    "scrolled": true
   },
   "outputs": [
    {
     "name": "stdout",
     "output_type": "stream",
     "text": [
      "['A' 'C' 'D' 'E' 'G' 'F' 'B']\n"
     ]
    },
    {
     "data": {
      "image/png": "[encoded data removed]",
      "text/plain": [
       "<Figure size 432x288 with 1 Axes>"
      ]
     },
     "metadata": {
      "needs_background": "light"
     },
     "output_type": "display_data"
    }
   ],
   "source": [
    "df_train['reserved_room_type'].hist()\n",
    "print (df_train['reserved_room_type'].unique())"
   ]
  },
  {
   "cell_type": "code",
   "execution_count": 21,
   "metadata": {},
   "outputs": [
    {
     "name": "stdout",
     "output_type": "stream",
     "text": [
      "['July' 'August' 'September' 'October' 'November' 'December']\n"
     ]
    },
    {
     "data": {
      "image/png": "[encoded data removed]",
      "text/plain": [
       "<Figure size 1080x360 with 1 Axes>"
      ]
     },
     "metadata": {
      "needs_background": "light"
     },
     "output_type": "display_data"
    }
   ],
   "source": [
    "df_train.query('arrival_date_year==2015')['arrival_date_month'].hist(figsize=(15,5))\n",
    "print (df_train.query('arrival_date_year==2015')['arrival_date_month'].unique())"
   ]
  },
  {
   "cell_type": "code",
   "execution_count": 22,
   "metadata": {},
   "outputs": [
    {
     "name": "stdout",
     "output_type": "stream",
     "text": [
      "['January' 'February' 'March' 'April' 'May' 'June' 'July' 'August'\n",
      " 'September' 'October' 'November' 'December']\n"
     ]
    },
    {
     "data": {
      "image/png": "[encoded data removed]",
      "text/plain": [
       "<Figure size 1080x360 with 1 Axes>"
      ]
     },
     "metadata": {
      "needs_background": "light"
     },
     "output_type": "display_data"
    }
   ],
   "source": [
    "df_train.query('arrival_date_year==2016')['arrival_date_month'].hist(figsize=(15,5))\n",
    "print (df_train.query('arrival_date_year==2016')['arrival_date_month'].unique())"
   ]
  },
  {
   "cell_type": "markdown",
   "metadata": {},
   "source": [
    "У нас есть данные начиная с июля 2015 года и за весь 2016 год."
   ]
  },
  {
   "cell_type": "markdown",
   "metadata": {},
   "source": [
    "#### Столбец 'adults' - количество взрослых"
   ]
  },
  {
   "cell_type": "code",
   "execution_count": 23,
   "metadata": {},
   "outputs": [
    {
     "data": {
      "text/plain": [
       "166"
      ]
     },
     "execution_count": 23,
     "metadata": {},
     "output_type": "execute_result"
    }
   ],
   "source": [
    "df_train.query('adults == 0')['adults'].count()"
   ]
  },
  {
   "cell_type": "code",
   "execution_count": 24,
   "metadata": {},
   "outputs": [
    {
     "data": {
      "text/plain": [
       "17540    3.0\n",
       "17598    2.0\n",
       "17982    2.0\n",
       "21556    2.0\n",
       "22516    3.0\n",
       "        ... \n",
       "64751    3.0\n",
       "64882    2.0\n",
       "64892    2.0\n",
       "64903    2.0\n",
       "64980    0.0\n",
       "Name: children, Length: 166, dtype: float64"
      ]
     },
     "metadata": {},
     "output_type": "display_data"
    },
    {
     "data": {
      "text/plain": [
       "15"
      ]
     },
     "execution_count": 24,
     "metadata": {},
     "output_type": "execute_result"
    }
   ],
   "source": [
    "display (df_train.query('adults == 0')['children'])\n",
    "df_train.query('adults == 0 & children == 0')['adults'].count()"
   ]
  },
  {
   "cell_type": "markdown",
   "metadata": {},
   "source": [
    "Меня смутило, что в части номеров проживало 0 взрослых. Я предположила, что эти номера родители снимали отдельно для своих детей. Эта версия подтвердилась. В большинстве случаев, в номерах, в которых было 0 взрослых, проживали дети.\\\n",
    "\\\n",
    "Все равно остались бронирования, в которых было 0 взрослых и 0 детей. Видимо, это ошибка. Поскольку, таких бронирований всего 15, то я их оставляю без изменения, т.к. в других столбцах может содержаться важная информация."
   ]
  },
  {
   "cell_type": "markdown",
   "metadata": {},
   "source": [
    "#### Предварительный вывод по данным"
   ]
  },
  {
   "cell_type": "markdown",
   "metadata": {},
   "source": [
    "is_canceled— отмена заказа - происходит больше, чем в половине случаев;\\\n",
    "lead_time— количество дней между датой бронирования и датой прибытия - большая часть бронирований происходит в промежутке от 0 до 30 дней до даты заезда;\\\n",
    "arrival_date_year— год заезда - информация в данных есть за 2015 и 2016 года;\\\n",
    "arrival_date_week_number— неделя заезда - наиболее популяной неделей для заезда являеся 40 неделя. Это, ориентировочно, начало октября;\\\n",
    "arrival_date_day_of_month— день заезда - дни заезда распределены достаточно равномерно. Но наиболее популярным для заезда являются 15-20 и 30 дни месяца;\\\n",
    "stays_in_weekend_nights— количество ночей в выходные дни - большинство гостей не остаются на выходные;\\\n",
    "stays_in_week_nights— количество ночей в будние дни - наибольшее количество бронирований приходится на 2й день недели. Вероятно, это вторник;\\\n",
    "\\\n",
    "adults — количество взрослых постояльцев - в основном бронируют двое постояльцев. Данный столбец я изучала подробнее выше. Меня смутило, что в части номеров проживало 0 взрослых. Я предположила, что эти номера родители снимали отдельно для своих детей. Эта версия подтвердилась. В большинстве случаев, в номерах, в которых было 0 взрослых, проживали дети.\\\n",
    "Все равно остались бронирования, в которых было 0 взрослых и 0 детей. Видимо, это ошибка. Поскольку, таких бронирований всего 15, то я их оставляю без изменения, т.к. в других столбцах может содержаться важная информация.\\\n",
    "\\\n",
    "total_nights— общее количество ночей - колеблется в промежутся от 1 до 10. Большинство постояльцев останавливаются на срок от двух до четрых ночей;\\\n",
    "meal— опции заказа - большинство заказов - это номера с завтраком;\\\n",
    "\\\n",
    "большинство значений остальных столбцов нулевые."
   ]
  },
  {
   "cell_type": "markdown",
   "metadata": {},
   "source": [
    "#### Создание столбца с номерами месяца заезда в номер"
   ]
  },
  {
   "cell_type": "markdown",
   "metadata": {},
   "source": [
    "**Функция для создания столбца с номером месяца заезда в гостиничный номер**"
   ]
  },
  {
   "cell_type": "code",
   "execution_count": 25,
   "metadata": {},
   "outputs": [
    {
     "name": "stdout",
     "output_type": "stream",
     "text": [
      "       arrival_date_month_number arrival_date_month\n",
      "0                              7               July\n",
      "1                              7               July\n",
      "2                              7               July\n",
      "3                              7               July\n",
      "4                              7               July\n",
      "...                          ...                ...\n",
      "65224                         12           December\n",
      "65225                         12           December\n",
      "65226                         12           December\n",
      "65227                         12           December\n",
      "65228                         12           December\n",
      "\n",
      "[65229 rows x 2 columns]\n",
      "       arrival_date_month_number arrival_date_month\n",
      "0                              1            January\n",
      "1                              1            January\n",
      "2                              1            January\n",
      "3                              1            January\n",
      "4                              1            January\n",
      "...                          ...                ...\n",
      "32407                          8             August\n",
      "32408                          8             August\n",
      "32409                          8             August\n",
      "32410                          8             August\n",
      "32411                          8             August\n",
      "\n",
      "[32412 rows x 2 columns]\n"
     ]
    }
   ],
   "source": [
    "def month_number (row):\n",
    "    arrival_date_month = row ['arrival_date_month']\n",
    "    if arrival_date_month == 'December':\n",
    "        return 12\n",
    "    elif arrival_date_month == 'January':\n",
    "        return 1\n",
    "    elif arrival_date_month == 'February':\n",
    "        return 2\n",
    "    elif arrival_date_month == 'March':\n",
    "        return 3\n",
    "    elif arrival_date_month == 'April':\n",
    "        return 4\n",
    "    elif arrival_date_month == 'May':\n",
    "        return 5\n",
    "    elif arrival_date_month == 'June':\n",
    "        return 6\n",
    "    elif arrival_date_month == 'July':\n",
    "        return 7\n",
    "    elif arrival_date_month == 'August':\n",
    "        return 8\n",
    "    elif arrival_date_month == 'September':\n",
    "        return 9\n",
    "    elif arrival_date_month == 'October':\n",
    "        return 10\n",
    "    elif arrival_date_month == 'November':\n",
    "        return 11\n",
    "\n",
    "df_train['arrival_date_month_number'] = df_train.apply(month_number, axis=1)\n",
    "print (df_train[['arrival_date_month_number', 'arrival_date_month']])\n",
    "\n",
    "df_test['arrival_date_month_number'] = df_test.apply(month_number, axis=1)\n",
    "print (df_test[['arrival_date_month_number', 'arrival_date_month']])"
   ]
  },
  {
   "cell_type": "markdown",
   "metadata": {},
   "source": [
    "### Шаг 3. Формулировка ML-задачи на основе бизнес-задачи"
   ]
  },
  {
   "cell_type": "markdown",
   "metadata": {},
   "source": [
    "Рассчитываю прибыль отеля за 2016 год без внедрения депозитов"
   ]
  },
  {
   "cell_type": "markdown",
   "metadata": {},
   "source": [
    "#### Создание столбца с рассчетом стоимости номера за сутки с учетом сезонного коэффициента"
   ]
  },
  {
   "cell_type": "markdown",
   "metadata": {},
   "source": [
    "**Записываю стоимость номеров отеля**"
   ]
  },
  {
   "cell_type": "code",
   "execution_count": 26,
   "metadata": {},
   "outputs": [],
   "source": [
    "A=1000\n",
    "B=800\n",
    "C=600\n",
    "D=550\n",
    "E=500\n",
    "F=450\n",
    "G=350"
   ]
  },
  {
   "cell_type": "markdown",
   "metadata": {},
   "source": [
    "**Функция для рассчета стоимости номера за сутки с учетом сезонного коэффициента**"
   ]
  },
  {
   "cell_type": "markdown",
   "metadata": {},
   "source": [
    "В столбец 'room_value_season' записываю стоимость номера за сутки с учетом сезонного коэффициента"
   ]
  },
  {
   "cell_type": "code",
   "execution_count": 27,
   "metadata": {},
   "outputs": [
    {
     "name": "stdout",
     "output_type": "stream",
     "text": [
      "       room_value_season reserved_room_type  arrival_date_month_number\n",
      "0                 1400.0                  A                          7\n",
      "1                 1400.0                  A                          7\n",
      "2                  840.0                  C                          7\n",
      "3                  840.0                  C                          7\n",
      "4                 1400.0                  A                          7\n",
      "...                  ...                ...                        ...\n",
      "65224              550.0                  D                         12\n",
      "65225              550.0                  D                         12\n",
      "65226              550.0                  D                         12\n",
      "65227             1000.0                  A                         12\n",
      "65228             1000.0                  A                         12\n",
      "\n",
      "[65229 rows x 3 columns]\n",
      "       room_value_season reserved_room_type  arrival_date_month_number\n",
      "0                 1000.0                  A                          1\n",
      "1                 1000.0                  A                          1\n",
      "2                 1000.0                  A                          1\n",
      "3                 1000.0                  A                          1\n",
      "4                 1000.0                  A                          1\n",
      "...                  ...                ...                        ...\n",
      "32407             1400.0                  A                          8\n",
      "32408             1400.0                  A                          8\n",
      "32409             1400.0                  A                          8\n",
      "32410              770.0                  D                          8\n",
      "32411             1400.0                  A                          8\n",
      "\n",
      "[32412 rows x 3 columns]\n"
     ]
    }
   ],
   "source": [
    "def room_value (row):\n",
    "    value_season = row ['arrival_date_month_number']\n",
    "    type_room = row ['reserved_room_type']\n",
    "    spring_autumn = [3, 4, 5, 9, 10, 11]\n",
    "    summer = [6, 7, 8]\n",
    "    winter = [12, 1, 2]\n",
    "    if type_room == 'A':\n",
    "        if value_season in spring_autumn:\n",
    "            return (A+A/100*20)\n",
    "        elif value_season in summer:\n",
    "            return (A+A/100*40)\n",
    "        elif value_season in winter:\n",
    "            return A\n",
    "    if type_room == 'B':\n",
    "        if value_season in spring_autumn:\n",
    "            return (B+B/100*20)\n",
    "        elif value_season in summer:\n",
    "            return (B+B/100*40)\n",
    "        elif value_season in winter:\n",
    "            return B\n",
    "    if type_room == 'C':\n",
    "        if value_season in spring_autumn:\n",
    "            return (C+C/100*20)\n",
    "        elif value_season in summer:\n",
    "            return (C+C/100*40)\n",
    "        elif value_season in winter:\n",
    "            return C\n",
    "    if type_room == 'D':\n",
    "        if value_season in spring_autumn:\n",
    "            return (D+D/100*20)\n",
    "        elif value_season in summer:\n",
    "            return (D+D/100*40)\n",
    "        elif value_season in winter:\n",
    "            return D\n",
    "    if type_room == 'E':\n",
    "        if value_season in spring_autumn:\n",
    "            return (E+E/100*20)\n",
    "        elif value_season in summer:\n",
    "            return (E+E/100*40)\n",
    "        elif value_season in winter:\n",
    "            return E\n",
    "    if type_room == 'F':\n",
    "        if value_season in spring_autumn:\n",
    "            return (F+F/100*20)\n",
    "        elif value_season in summer:\n",
    "            return (F+F/100*40)\n",
    "        elif value_season in winter:\n",
    "            return F\n",
    "    if type_room == 'G':\n",
    "        if value_season in spring_autumn:\n",
    "            return (G+G/100*20)\n",
    "        elif value_season in summer:\n",
    "            return (G+G/100*40)\n",
    "        elif value_season in winter:\n",
    "            return G\n",
    "\n",
    "df_train['room_value_season'] = df_train.apply(room_value, axis=1)\n",
    "print (df_train[['room_value_season', 'reserved_room_type', 'arrival_date_month_number']])\n",
    "\n",
    "df_test['room_value_season'] = df_test.apply(room_value, axis=1)\n",
    "print (df_test[['room_value_season', 'reserved_room_type', 'arrival_date_month_number']])"
   ]
  },
  {
   "cell_type": "markdown",
   "metadata": {},
   "source": [
    "#### Расчет прибыли отеля"
   ]
  },
  {
   "cell_type": "markdown",
   "metadata": {},
   "source": [
    "##### Стоимость разового обслуживания номеров"
   ]
  },
  {
   "cell_type": "code",
   "execution_count": 28,
   "metadata": {},
   "outputs": [],
   "source": [
    "SERVICE_A = 400\n",
    "SERVICE_BC = 350\n",
    "SERVICE_DEFG = 150"
   ]
  },
  {
   "cell_type": "markdown",
   "metadata": {},
   "source": [
    "##### Функция для записи стоимости разового обслуживания номера в зависимости от его категории"
   ]
  },
  {
   "cell_type": "code",
   "execution_count": 29,
   "metadata": {},
   "outputs": [
    {
     "name": "stdout",
     "output_type": "stream",
     "text": [
      "       service_room_one_day reserved_room_type\n",
      "0                       400                  A\n",
      "1                       400                  A\n",
      "2                       350                  C\n",
      "3                       350                  C\n",
      "4                       400                  A\n",
      "...                     ...                ...\n",
      "65224                   150                  D\n",
      "65225                   150                  D\n",
      "65226                   150                  D\n",
      "65227                   400                  A\n",
      "65228                   400                  A\n",
      "\n",
      "[65229 rows x 2 columns]\n",
      "       service_room_one_day reserved_room_type\n",
      "0                       400                  A\n",
      "1                       400                  A\n",
      "2                       400                  A\n",
      "3                       400                  A\n",
      "4                       400                  A\n",
      "...                     ...                ...\n",
      "32407                   400                  A\n",
      "32408                   400                  A\n",
      "32409                   400                  A\n",
      "32410                   150                  D\n",
      "32411                   400                  A\n",
      "\n",
      "[32412 rows x 2 columns]\n"
     ]
    }
   ],
   "source": [
    "def service_room_one_day (row):\n",
    "    type_room = row ['reserved_room_type']\n",
    "    if type_room == 'A':\n",
    "        return SERVICE_A\n",
    "    elif type_room == 'B':\n",
    "        return SERVICE_BC\n",
    "    elif type_room == 'C':\n",
    "        return SERVICE_BC\n",
    "    elif type_room == 'D':\n",
    "        return SERVICE_DEFG\n",
    "    elif type_room == 'E':\n",
    "        return SERVICE_DEFG\n",
    "    elif type_room == 'F':\n",
    "        return SERVICE_DEFG\n",
    "    elif type_room == 'G':\n",
    "        return SERVICE_DEFG\n",
    "\n",
    "df_train['service_room_one_day'] = df_train.apply(service_room_one_day, axis=1)\n",
    "print (df_train[['service_room_one_day', 'reserved_room_type']])\n",
    "\n",
    "df_test['service_room_one_day'] = df_test.apply(service_room_one_day, axis=1)\n",
    "print (df_test[['service_room_one_day', 'reserved_room_type']])"
   ]
  },
  {
   "cell_type": "markdown",
   "metadata": {},
   "source": [
    "##### Функция для записи стоимости обслуживания номера при длительном проживании в номере"
   ]
  },
  {
   "cell_type": "markdown",
   "metadata": {},
   "source": [
    "В условиях задачи указано, что при длительном проживании уборка проводится каждые 2 дня.\\\n",
    "Я предполагаю, что под длительным проживанием имеется ввиду проживание дольше 3х ночей.\\\n",
    "\\\n",
    "Не очень понимаю, что означает фраза, что \"уборка проводится каждые 2 дня\". Если это означает, что уборка производится через день, то количество проведенных в номере ночей необходимо просто делить на 2 и округлять.\\\n",
    "Если это означает, что уборка проводится через 2 дня на 3й день, то я делю количество ночей на 2, округляю и отнимаю 1 (я считаю таким способом).\\\n",
    "\\\n",
    "Не включаю в этот столбец стоимость первоначальной уборки номера при въезде."
   ]
  },
  {
   "cell_type": "code",
   "execution_count": 30,
   "metadata": {},
   "outputs": [
    {
     "name": "stdout",
     "output_type": "stream",
     "text": [
      "       service_room_all_days reserved_room_type  total_nights\n",
      "0                        0.0                  A             1\n",
      "1                        0.0                  A             2\n",
      "2                        0.0                  C             2\n",
      "3                        0.0                  C             2\n",
      "4                        0.0                  A             3\n",
      "...                      ...                ...           ...\n",
      "65224                  300.0                  D             6\n",
      "65225                  150.0                  D             5\n",
      "65226                  300.0                  D             6\n",
      "65227                 1200.0                  A             7\n",
      "65228                 1200.0                  A             7\n",
      "\n",
      "[65229 rows x 3 columns]\n",
      "       service_room_all_days reserved_room_type  total_nights\n",
      "0                        0.0                  A             1\n",
      "1                      400.0                  A             4\n",
      "2                      400.0                  A             4\n",
      "3                      400.0                  A             4\n",
      "4                     1200.0                  A             7\n",
      "...                      ...                ...           ...\n",
      "32407                  800.0                  A             6\n",
      "32408                 1200.0                  A             7\n",
      "32409                 1200.0                  A             7\n",
      "32410                  450.0                  D             7\n",
      "32411                 1200.0                  A             7\n",
      "\n",
      "[32412 rows x 3 columns]\n"
     ]
    }
   ],
   "source": [
    "def service_room_all_days (row):\n",
    "    type_room = row ['reserved_room_type']\n",
    "    total_nights = row ['total_nights']\n",
    "    if type_room == 'A':\n",
    "        if total_nights > 3:\n",
    "            return (round(total_nights/2, 0) - 1)*SERVICE_A\n",
    "        elif total_nights <= 3:\n",
    "            return 0\n",
    "    elif type_room == 'B':\n",
    "        if total_nights > 3:\n",
    "            return (round(total_nights/2, 0) - 1)*SERVICE_BC\n",
    "        elif total_nights <= 3:\n",
    "            return 0\n",
    "    elif type_room == 'C':\n",
    "        if total_nights > 3:\n",
    "            return (round(total_nights/2, 0) - 1)*SERVICE_BC\n",
    "        elif total_nights <= 3:\n",
    "            return 0\n",
    "    elif type_room == 'D':\n",
    "        if total_nights > 3:\n",
    "            return (round(total_nights/2, 0) - 1)*SERVICE_DEFG\n",
    "        elif total_nights <= 3:\n",
    "            return 0\n",
    "    elif type_room == 'E':\n",
    "        if total_nights > 3:\n",
    "            return (round(total_nights/2, 0) - 1)*SERVICE_DEFG\n",
    "        elif total_nights <= 3:\n",
    "            return 0\n",
    "    elif type_room == 'F':\n",
    "        if total_nights > 3:\n",
    "            return (round(total_nights/2, 0) - 1)*SERVICE_DEFG\n",
    "        elif total_nights <= 3:\n",
    "            return 0\n",
    "    elif type_room == 'G':\n",
    "        if total_nights > 3:\n",
    "            return (round(total_nights/2, 0) - 1)*SERVICE_DEFG\n",
    "        elif total_nights <= 3:\n",
    "            return 0\n",
    "\n",
    "df_train['service_room_all_days'] = df_train.apply(service_room_all_days, axis=1)\n",
    "print (df_train[['service_room_all_days', 'reserved_room_type', 'total_nights']])\n",
    "\n",
    "df_test['service_room_all_days'] = df_test.apply(service_room_all_days, axis=1)\n",
    "print (df_test[['service_room_all_days', 'reserved_room_type', 'total_nights']])"
   ]
  },
  {
   "cell_type": "markdown",
   "metadata": {},
   "source": [
    "##### Прибыль от номеров, бронь на которые не была отменена"
   ]
  },
  {
   "cell_type": "markdown",
   "metadata": {},
   "source": [
    "Считаю по такой формуле:\\\n",
    "Стоимость номера с учетом категории и коэффициента * количество дней - разовое обслуживание номера - уборка (раз в 2 дня)"
   ]
  },
  {
   "cell_type": "code",
   "execution_count": 31,
   "metadata": {},
   "outputs": [
    {
     "name": "stdout",
     "output_type": "stream",
     "text": [
      "       room_value_total  room_value_season  total_nights\n",
      "0                1400.0             1400.0             1\n",
      "1                2800.0             1400.0             2\n",
      "2                1680.0              840.0             2\n",
      "3                1680.0              840.0             2\n",
      "4                4200.0             1400.0             3\n",
      "...                 ...                ...           ...\n",
      "65224            3300.0              550.0             6\n",
      "65225            2750.0              550.0             5\n",
      "65226            3300.0              550.0             6\n",
      "65227            7000.0             1000.0             7\n",
      "65228            7000.0             1000.0             7\n",
      "\n",
      "[65229 rows x 3 columns]\n",
      "       room_value_total  room_value_season  total_nights\n",
      "0                1000.0             1000.0             1\n",
      "1                4000.0             1000.0             4\n",
      "2                4000.0             1000.0             4\n",
      "3                4000.0             1000.0             4\n",
      "4                7000.0             1000.0             7\n",
      "...                 ...                ...           ...\n",
      "32407            8400.0             1400.0             6\n",
      "32408            9800.0             1400.0             7\n",
      "32409            9800.0             1400.0             7\n",
      "32410            5390.0              770.0             7\n",
      "32411            9800.0             1400.0             7\n",
      "\n",
      "[32412 rows x 3 columns]\n"
     ]
    }
   ],
   "source": [
    "df_train['room_value_total'] = df_train['room_value_season'] * df_train['total_nights']\n",
    "print (df_train[['room_value_total', 'room_value_season', 'total_nights']])\n",
    "\n",
    "df_test['room_value_total'] = df_test['room_value_season'] * df_test['total_nights']\n",
    "print (df_test[['room_value_total', 'room_value_season', 'total_nights']])"
   ]
  },
  {
   "cell_type": "code",
   "execution_count": 32,
   "metadata": {},
   "outputs": [
    {
     "name": "stdout",
     "output_type": "stream",
     "text": [
      "       room_profit  room_value_total  service_room_one_day  \\\n",
      "0           1000.0            1400.0                   400   \n",
      "1           2400.0            2800.0                   400   \n",
      "2           1330.0            1680.0                   350   \n",
      "3           1330.0            1680.0                   350   \n",
      "4           3800.0            4200.0                   400   \n",
      "...            ...               ...                   ...   \n",
      "65224       2850.0            3300.0                   150   \n",
      "65225       2450.0            2750.0                   150   \n",
      "65226       2850.0            3300.0                   150   \n",
      "65227       5400.0            7000.0                   400   \n",
      "65228       5400.0            7000.0                   400   \n",
      "\n",
      "       service_room_all_days  \n",
      "0                        0.0  \n",
      "1                        0.0  \n",
      "2                        0.0  \n",
      "3                        0.0  \n",
      "4                        0.0  \n",
      "...                      ...  \n",
      "65224                  300.0  \n",
      "65225                  150.0  \n",
      "65226                  300.0  \n",
      "65227                 1200.0  \n",
      "65228                 1200.0  \n",
      "\n",
      "[65229 rows x 4 columns]\n",
      "Прибыль от номеров, бронь на которые не была отменена в 2015 году, составляет: 31821730.0 рублей\n",
      "Прибыль от номеров, бронь на которые не была отменена в 2016 году, составляет: 80053540.0 рублей\n"
     ]
    }
   ],
   "source": [
    "df_train['room_profit'] = df_train['room_value_total'] - df_train['service_room_one_day'] - df_train['service_room_all_days']\n",
    "print (df_train[['room_profit', 'room_value_total', 'service_room_one_day', 'service_room_all_days']])\n",
    "print ('Прибыль от номеров, бронь на которые не была отменена в 2015 году, составляет:', \\\n",
    "       df_train.query('is_canceled==0 & arrival_date_year == 2015')['room_profit'].sum(), 'рублей')\n",
    "print ('Прибыль от номеров, бронь на которые не была отменена в 2016 году, составляет:', \\\n",
    "       df_train.query('is_canceled==0 & arrival_date_year == 2016')['room_profit'].sum(), 'рублей')\n",
    "\n",
    "df_test['room_profit'] = df_test['room_value_total'] - df_test['service_room_one_day'] - df_test['service_room_all_days']"
   ]
  },
  {
   "cell_type": "markdown",
   "metadata": {},
   "source": [
    "##### Убыток от номеров, бронь на которые была отменена"
   ]
  },
  {
   "cell_type": "code",
   "execution_count": 33,
   "metadata": {},
   "outputs": [
    {
     "name": "stdout",
     "output_type": "stream",
     "text": [
      "Убыток от номеров, бронь на которые была отменена в 2015 году, составляет: 2760750 рублей\n",
      "Убыток от номеров, бронь на которые была отменена в 2016 году, составляет: 5837150 рублей\n"
     ]
    }
   ],
   "source": [
    "print ('Убыток от номеров, бронь на которые была отменена в 2015 году, составляет:', \\\n",
    "       df_train.query('is_canceled==1 & arrival_date_year == 2015')['service_room_one_day'].sum(), 'рублей')\n",
    "print ('Убыток от номеров, бронь на которые была отменена в 2016 году, составляет:', \\\n",
    "       df_train.query('is_canceled==1 & arrival_date_year == 2016')['service_room_one_day'].sum(), 'рублей')"
   ]
  },
  {
   "cell_type": "markdown",
   "metadata": {},
   "source": [
    "**Вывод:\\\n",
    "Прибыль от номеров, бронь на которые не была отменена в 2015 году, составила около 31,8 млн. рублей\\\n",
    "Прибыль от номеров, бронь на которые не была отменена в 2016 году, составила около 80,0 млн. рублей\\\n",
    "\\\n",
    "Убыток от номеров, бронь на которые была отменена в 2015 году, составил около 2,7 млн. рублей\\\n",
    "Убыток от номеров, бронь на которые была отменена в 2016 году, составил около 5,8 млн. рублей**"
   ]
  },
  {
   "cell_type": "markdown",
   "metadata": {},
   "source": [
    "### Шаг 4. Разработка модели ML"
   ]
  },
  {
   "cell_type": "markdown",
   "metadata": {},
   "source": [
    "#### Подготовка данных для исследования моделей"
   ]
  },
  {
   "cell_type": "markdown",
   "metadata": {},
   "source": [
    "##### Исследование дисбаланса классов"
   ]
  },
  {
   "cell_type": "code",
   "execution_count": 34,
   "metadata": {},
   "outputs": [
    {
     "name": "stdout",
     "output_type": "stream",
     "text": [
      "0    0.631391\n",
      "1    0.368609\n",
      "Name: is_canceled, dtype: float64\n"
     ]
    },
    {
     "data": {
      "image/png": "[encoded data removed]",
      "text/plain": [
       "<Figure size 432x288 with 1 Axes>"
      ]
     },
     "metadata": {
      "needs_background": "light"
     },
     "output_type": "display_data"
    }
   ],
   "source": [
    "class_frequency = df_train['is_canceled'].value_counts(normalize=True)\n",
    "print(class_frequency)\n",
    "class_frequency.plot(kind='bar')\n",
    "None"
   ]
  },
  {
   "cell_type": "markdown",
   "metadata": {},
   "source": [
    "В целевом столбце выявлен дисбаланс классов. Нулей примерно вдвое больше, чем единиц."
   ]
  },
  {
   "cell_type": "markdown",
   "metadata": {},
   "source": [
    "##### Кодирую данные столбцов методом OHE"
   ]
  },
  {
   "cell_type": "markdown",
   "metadata": {},
   "source": [
    "После кодировки данных я обнаружила, что у датафреймов тест и трейн разный размер. Ниже я ищу значения, которых нет в тесте."
   ]
  },
  {
   "cell_type": "code",
   "execution_count": 35,
   "metadata": {},
   "outputs": [
    {
     "name": "stdout",
     "output_type": "stream",
     "text": [
      "['BWA', 'SMR', 'CYM', 'GGY', 'ARM', 'OMN', 'BDI', 'PLW', 'MWI', 'KNA', 'HND', 'GEO', 'ZMB', 'KHM', 'NIC', 'VGB', 'MKD', 'TMP', 'GLP', 'MMR', 'BFA', 'MLI', 'NAM', 'BOL', 'BRB', 'DMA', 'PYF', 'UGA', 'GUY', 'LCA', 'RWA']\n"
     ]
    }
   ],
   "source": [
    "df_train_unique = df_train['country'].unique() \n",
    "df_test_unique = df_test['country'].unique()\n",
    "df_dif = []\n",
    "for i in df_train_unique:\n",
    "    if i not in df_test_unique:\n",
    "        df_dif.append(i)\n",
    "print (df_dif)"
   ]
  },
  {
   "cell_type": "code",
   "execution_count": 36,
   "metadata": {},
   "outputs": [
    {
     "name": "stdout",
     "output_type": "stream",
     "text": [
      "[2015 2016]\n",
      "[2017]\n"
     ]
    }
   ],
   "source": [
    "print (df_train['arrival_date_year'].unique())\n",
    "print (df_test['arrival_date_year'].unique())"
   ]
  },
  {
   "cell_type": "code",
   "execution_count": 37,
   "metadata": {},
   "outputs": [],
   "source": [
    "df_test[['September', 'October', 'November', 'December']] = 0, 0, 0, 0\n",
    "df_test[['BWA', 'SMR', 'CYM', 'GGY', 'ARM', 'OMN', 'BDI',\\\n",
    "          'PLW', 'MWI', 'KNA', 'HND', 'GEO', 'ZMB', 'KHM',\\\n",
    "          'NIC', 'VGB', 'MKD', 'TMP', 'GLP', 'MMR', 'BFA',\\\n",
    "          'MLI', 'NAM', 'BOL', 'BRB', 'DMA', 'PYF', 'UGA',\\\n",
    "          'GUY', 'LCA', 'RWA']] = 0, 0, 0, 0, 0, 0, 0, 0, 0, 0, 0, 0, 0, 0, 0, 0, 0, 0, 0, 0, 0, 0, 0, 0, 0, 0, 0, 0, 0, 0, 0\n",
    "df_test[['2015', '2016']] = 0, 0"
   ]
  },
  {
   "cell_type": "code",
   "execution_count": 38,
   "metadata": {},
   "outputs": [
    {
     "name": "stdout",
     "output_type": "stream",
     "text": [
      "   id  is_canceled  lead_time arrival_date_month  stays_in_weekend_nights  \\\n",
      "0   0            0        7.0               July                        0   \n",
      "1   1            0       14.0               July                        0   \n",
      "2   2            0        0.0               July                        0   \n",
      "3   3            0        9.0               July                        0   \n",
      "4   4            1       85.0               July                        0   \n",
      "\n",
      "   stays_in_week_nights  is_repeated_guest  previous_cancellations  \\\n",
      "0                     1                  0                       0   \n",
      "1                     2                  0                       0   \n",
      "2                     2                  0                       0   \n",
      "3                     2                  0                       0   \n",
      "4                     3                  0                       0   \n",
      "\n",
      "   previous_bookings_not_canceled  booking_changes  days_in_waiting_list  \\\n",
      "0                               0                0                     0   \n",
      "1                               0                0                     0   \n",
      "2                               0                0                     0   \n",
      "3                               0                0                     0   \n",
      "4                               0                0                     0   \n",
      "\n",
      "   required_car_parking_spaces  total_nights  room_value_season  \\\n",
      "0                            0             1             1400.0   \n",
      "1                            0             2             1400.0   \n",
      "2                            0             2              840.0   \n",
      "3                            0             2              840.0   \n",
      "4                            0             3             1400.0   \n",
      "\n",
      "   service_room_one_day  service_room_all_days  room_value_total  room_profit  \\\n",
      "0                   400                    0.0            1400.0       1000.0   \n",
      "1                   400                    0.0            2800.0       2400.0   \n",
      "2                   350                    0.0            1680.0       1330.0   \n",
      "3                   350                    0.0            1680.0       1330.0   \n",
      "4                   400                    0.0            4200.0       3800.0   \n",
      "\n",
      "   arrival_date_year_2016  arrival_date_month_number_2  \\\n",
      "0                       0                            0   \n",
      "1                       0                            0   \n",
      "2                       0                            0   \n",
      "3                       0                            0   \n",
      "4                       0                            0   \n",
      "\n",
      "   arrival_date_month_number_3  arrival_date_month_number_4  \\\n",
      "0                            0                            0   \n",
      "1                            0                            0   \n",
      "2                            0                            0   \n",
      "3                            0                            0   \n",
      "4                            0                            0   \n",
      "\n",
      "   arrival_date_month_number_5  arrival_date_month_number_6  \\\n",
      "0                            0                            0   \n",
      "1                            0                            0   \n",
      "2                            0                            0   \n",
      "3                            0                            0   \n",
      "4                            0                            0   \n",
      "\n",
      "   arrival_date_month_number_7  arrival_date_month_number_8  \\\n",
      "0                            1                            0   \n",
      "1                            1                            0   \n",
      "2                            1                            0   \n",
      "3                            1                            0   \n",
      "4                            1                            0   \n",
      "\n",
      "   arrival_date_month_number_9  arrival_date_month_number_10  \\\n",
      "0                            0                             0   \n",
      "1                            0                             0   \n",
      "2                            0                             0   \n",
      "3                            0                             0   \n",
      "4                            0                             0   \n",
      "\n",
      "   arrival_date_month_number_11  arrival_date_month_number_12  \\\n",
      "0                             0                             0   \n",
      "1                             0                             0   \n",
      "2                             0                             0   \n",
      "3                             0                             0   \n",
      "4                             0                             0   \n",
      "\n",
      "   arrival_date_week_number_2  arrival_date_week_number_3  \\\n",
      "0                           0                           0   \n",
      "1                           0                           0   \n",
      "2                           0                           0   \n",
      "3                           0                           0   \n",
      "4                           0                           0   \n",
      "\n",
      "   arrival_date_week_number_4  arrival_date_week_number_5  \\\n",
      "0                           0                           0   \n",
      "1                           0                           0   \n",
      "2                           0                           0   \n",
      "3                           0                           0   \n",
      "4                           0                           0   \n",
      "\n",
      "   arrival_date_week_number_6  arrival_date_week_number_7  \\\n",
      "0                           0                           0   \n",
      "1                           0                           0   \n",
      "2                           0                           0   \n",
      "3                           0                           0   \n",
      "4                           0                           0   \n",
      "\n",
      "   arrival_date_week_number_8  arrival_date_week_number_9  \\\n",
      "0                           0                           0   \n",
      "1                           0                           0   \n",
      "2                           0                           0   \n",
      "3                           0                           0   \n",
      "4                           0                           0   \n",
      "\n",
      "   arrival_date_week_number_10  arrival_date_week_number_11  \\\n",
      "0                            0                            0   \n",
      "1                            0                            0   \n",
      "2                            0                            0   \n",
      "3                            0                            0   \n",
      "4                            0                            0   \n",
      "\n",
      "   arrival_date_week_number_12  arrival_date_week_number_13  \\\n",
      "0                            0                            0   \n",
      "1                            0                            0   \n",
      "2                            0                            0   \n",
      "3                            0                            0   \n",
      "4                            0                            0   \n",
      "\n",
      "   arrival_date_week_number_14  arrival_date_week_number_15  \\\n",
      "0                            0                            0   \n",
      "1                            0                            0   \n",
      "2                            0                            0   \n",
      "3                            0                            0   \n",
      "4                            0                            0   \n",
      "\n",
      "   arrival_date_week_number_16  arrival_date_week_number_17  \\\n",
      "0                            0                            0   \n",
      "1                            0                            0   \n",
      "2                            0                            0   \n",
      "3                            0                            0   \n",
      "4                            0                            0   \n",
      "\n",
      "   arrival_date_week_number_18  arrival_date_week_number_19  \\\n",
      "0                            0                            0   \n",
      "1                            0                            0   \n",
      "2                            0                            0   \n",
      "3                            0                            0   \n",
      "4                            0                            0   \n",
      "\n",
      "   arrival_date_week_number_20  arrival_date_week_number_21  \\\n",
      "0                            0                            0   \n",
      "1                            0                            0   \n",
      "2                            0                            0   \n",
      "3                            0                            0   \n",
      "4                            0                            0   \n",
      "\n",
      "   arrival_date_week_number_22  arrival_date_week_number_23  \\\n",
      "0                            0                            0   \n",
      "1                            0                            0   \n",
      "2                            0                            0   \n",
      "3                            0                            0   \n",
      "4                            0                            0   \n",
      "\n",
      "   arrival_date_week_number_24  arrival_date_week_number_25  \\\n",
      "0                            0                            0   \n",
      "1                            0                            0   \n",
      "2                            0                            0   \n",
      "3                            0                            0   \n",
      "4                            0                            0   \n",
      "\n",
      "   arrival_date_week_number_26  arrival_date_week_number_27  \\\n",
      "0                            0                            1   \n",
      "1                            0                            1   \n",
      "2                            0                            1   \n",
      "3                            0                            1   \n",
      "4                            0                            1   \n",
      "\n",
      "   arrival_date_week_number_28  arrival_date_week_number_29  \\\n",
      "0                            0                            0   \n",
      "1                            0                            0   \n",
      "2                            0                            0   \n",
      "3                            0                            0   \n",
      "4                            0                            0   \n",
      "\n",
      "   arrival_date_week_number_30  arrival_date_week_number_31  \\\n",
      "0                            0                            0   \n",
      "1                            0                            0   \n",
      "2                            0                            0   \n",
      "3                            0                            0   \n",
      "4                            0                            0   \n",
      "\n",
      "   arrival_date_week_number_32  arrival_date_week_number_33  \\\n",
      "0                            0                            0   \n",
      "1                            0                            0   \n",
      "2                            0                            0   \n",
      "3                            0                            0   \n",
      "4                            0                            0   \n",
      "\n",
      "   arrival_date_week_number_34  arrival_date_week_number_35  \\\n",
      "0                            0                            0   \n",
      "1                            0                            0   \n",
      "2                            0                            0   \n",
      "3                            0                            0   \n",
      "4                            0                            0   \n",
      "\n",
      "   arrival_date_week_number_36  arrival_date_week_number_37  \\\n",
      "0                            0                            0   \n",
      "1                            0                            0   \n",
      "2                            0                            0   \n",
      "3                            0                            0   \n",
      "4                            0                            0   \n",
      "\n",
      "   arrival_date_week_number_38  arrival_date_week_number_39  \\\n",
      "0                            0                            0   \n",
      "1                            0                            0   \n",
      "2                            0                            0   \n",
      "3                            0                            0   \n",
      "4                            0                            0   \n",
      "\n",
      "   arrival_date_week_number_40  arrival_date_week_number_41  \\\n",
      "0                            0                            0   \n",
      "1                            0                            0   \n",
      "2                            0                            0   \n",
      "3                            0                            0   \n",
      "4                            0                            0   \n",
      "\n",
      "   arrival_date_week_number_42  arrival_date_week_number_43  \\\n",
      "0                            0                            0   \n",
      "1                            0                            0   \n",
      "2                            0                            0   \n",
      "3                            0                            0   \n",
      "4                            0                            0   \n",
      "\n",
      "   arrival_date_week_number_44  arrival_date_week_number_45  \\\n",
      "0                            0                            0   \n",
      "1                            0                            0   \n",
      "2                            0                            0   \n",
      "3                            0                            0   \n",
      "4                            0                            0   \n",
      "\n",
      "   arrival_date_week_number_46  arrival_date_week_number_47  \\\n",
      "0                            0                            0   \n",
      "1                            0                            0   \n",
      "2                            0                            0   \n",
      "3                            0                            0   \n",
      "4                            0                            0   \n",
      "\n",
      "   arrival_date_week_number_48  arrival_date_week_number_49  \\\n",
      "0                            0                            0   \n",
      "1                            0                            0   \n",
      "2                            0                            0   \n",
      "3                            0                            0   \n",
      "4                            0                            0   \n",
      "\n",
      "   arrival_date_week_number_50  arrival_date_week_number_51  \\\n",
      "0                            0                            0   \n",
      "1                            0                            0   \n",
      "2                            0                            0   \n",
      "3                            0                            0   \n",
      "4                            0                            0   \n",
      "\n",
      "   arrival_date_week_number_52  arrival_date_week_number_53  \\\n",
      "0                            0                            0   \n",
      "1                            0                            0   \n",
      "2                            0                            0   \n",
      "3                            0                            0   \n",
      "4                            0                            0   \n",
      "\n",
      "   arrival_date_day_of_month_2  arrival_date_day_of_month_3  \\\n",
      "0                            0                            0   \n",
      "1                            0                            0   \n",
      "2                            0                            0   \n",
      "3                            0                            0   \n",
      "4                            0                            0   \n",
      "\n",
      "   arrival_date_day_of_month_4  arrival_date_day_of_month_5  \\\n",
      "0                            0                            0   \n",
      "1                            0                            0   \n",
      "2                            0                            0   \n",
      "3                            0                            0   \n",
      "4                            0                            0   \n",
      "\n",
      "   arrival_date_day_of_month_6  arrival_date_day_of_month_7  \\\n",
      "0                            0                            0   \n",
      "1                            0                            0   \n",
      "2                            0                            0   \n",
      "3                            0                            0   \n",
      "4                            0                            0   \n",
      "\n",
      "   arrival_date_day_of_month_8  arrival_date_day_of_month_9  \\\n",
      "0                            0                            0   \n",
      "1                            0                            0   \n",
      "2                            0                            0   \n",
      "3                            0                            0   \n",
      "4                            0                            0   \n",
      "\n",
      "   arrival_date_day_of_month_10  arrival_date_day_of_month_11  \\\n",
      "0                             0                             0   \n",
      "1                             0                             0   \n",
      "2                             0                             0   \n",
      "3                             0                             0   \n",
      "4                             0                             0   \n",
      "\n",
      "   arrival_date_day_of_month_12  arrival_date_day_of_month_13  \\\n",
      "0                             0                             0   \n",
      "1                             0                             0   \n",
      "2                             0                             0   \n",
      "3                             0                             0   \n",
      "4                             0                             0   \n",
      "\n",
      "   arrival_date_day_of_month_14  arrival_date_day_of_month_15  \\\n",
      "0                             0                             0   \n",
      "1                             0                             0   \n",
      "2                             0                             0   \n",
      "3                             0                             0   \n",
      "4                             0                             0   \n",
      "\n",
      "   arrival_date_day_of_month_16  arrival_date_day_of_month_17  \\\n",
      "0                             0                             0   \n",
      "1                             0                             0   \n",
      "2                             0                             0   \n",
      "3                             0                             0   \n",
      "4                             0                             0   \n",
      "\n",
      "   arrival_date_day_of_month_18  arrival_date_day_of_month_19  \\\n",
      "0                             0                             0   \n",
      "1                             0                             0   \n",
      "2                             0                             0   \n",
      "3                             0                             0   \n",
      "4                             0                             0   \n",
      "\n",
      "   arrival_date_day_of_month_20  arrival_date_day_of_month_21  \\\n",
      "0                             0                             0   \n",
      "1                             0                             0   \n",
      "2                             0                             0   \n",
      "3                             0                             0   \n",
      "4                             0                             0   \n",
      "\n",
      "   arrival_date_day_of_month_22  arrival_date_day_of_month_23  \\\n",
      "0                             0                             0   \n",
      "1                             0                             0   \n",
      "2                             0                             0   \n",
      "3                             0                             0   \n",
      "4                             0                             0   \n",
      "\n",
      "   arrival_date_day_of_month_24  arrival_date_day_of_month_25  \\\n",
      "0                             0                             0   \n",
      "1                             0                             0   \n",
      "2                             0                             0   \n",
      "3                             0                             0   \n",
      "4                             0                             0   \n",
      "\n",
      "   arrival_date_day_of_month_26  arrival_date_day_of_month_27  \\\n",
      "0                             0                             0   \n",
      "1                             0                             0   \n",
      "2                             0                             0   \n",
      "3                             0                             0   \n",
      "4                             0                             0   \n",
      "\n",
      "   arrival_date_day_of_month_28  arrival_date_day_of_month_29  \\\n",
      "0                             0                             0   \n",
      "1                             0                             0   \n",
      "2                             0                             0   \n",
      "3                             0                             0   \n",
      "4                             0                             0   \n",
      "\n",
      "   arrival_date_day_of_month_30  arrival_date_day_of_month_31  \\\n",
      "0                             0                             0   \n",
      "1                             0                             0   \n",
      "2                             0                             0   \n",
      "3                             0                             0   \n",
      "4                             0                             0   \n",
      "\n",
      "   reserved_room_type_B  reserved_room_type_C  reserved_room_type_D  \\\n",
      "0                     0                     0                     0   \n",
      "1                     0                     0                     0   \n",
      "2                     0                     1                     0   \n",
      "3                     0                     1                     0   \n",
      "4                     0                     0                     0   \n",
      "\n",
      "   reserved_room_type_E  reserved_room_type_F  reserved_room_type_G  \\\n",
      "0                     0                     0                     0   \n",
      "1                     0                     0                     0   \n",
      "2                     0                     0                     0   \n",
      "3                     0                     0                     0   \n",
      "4                     0                     0                     0   \n",
      "\n",
      "   total_of_special_requests_1  total_of_special_requests_2  \\\n",
      "0                            0                            0   \n",
      "1                            1                            0   \n",
      "2                            0                            0   \n",
      "3                            1                            0   \n",
      "4                            1                            0   \n",
      "\n",
      "   total_of_special_requests_3  total_of_special_requests_4  \\\n",
      "0                            0                            0   \n",
      "1                            0                            0   \n",
      "2                            0                            0   \n",
      "3                            0                            0   \n",
      "4                            0                            0   \n",
      "\n",
      "   total_of_special_requests_5  adults_1.0  adults_2.0  adults_3.0  \\\n",
      "0                            0           1           0           0   \n",
      "1                            0           0           1           0   \n",
      "2                            0           0           1           0   \n",
      "3                            0           0           1           0   \n",
      "4                            0           0           1           0   \n",
      "\n",
      "   adults_4.0  children_1.0  children_2.0  children_3.0  babies_1.0  \\\n",
      "0           0             0             0             0           0   \n",
      "1           0             0             0             0           0   \n",
      "2           0             0             0             0           0   \n",
      "3           0             0             0             0           0   \n",
      "4           0             0             0             0           0   \n",
      "\n",
      "   babies_2.0  babies_9.0  babies_10.0  meal_FB  meal_HB  meal_SC  \\\n",
      "0           0           0            0        0        0        0   \n",
      "1           0           0            0        0        0        0   \n",
      "2           0           0            0        0        0        0   \n",
      "3           0           0            0        1        0        0   \n",
      "4           0           0            0        0        0        0   \n",
      "\n",
      "   country_AGO  country_ALB  country_AND  country_ARE  country_ARG  \\\n",
      "0            0            0            0            0            0   \n",
      "1            0            0            0            0            0   \n",
      "2            0            0            0            0            0   \n",
      "3            0            0            0            0            0   \n",
      "4            0            0            0            0            0   \n",
      "\n",
      "   country_ARM  country_ATA  country_AUS  country_AUT  country_AZE  \\\n",
      "0            0            0            0            0            0   \n",
      "1            0            0            0            0            0   \n",
      "2            0            0            0            0            0   \n",
      "3            0            0            0            0            0   \n",
      "4            0            0            0            0            0   \n",
      "\n",
      "   country_BDI  country_BEL  country_BEN  country_BFA  country_BGD  \\\n",
      "0            0            0            0            0            0   \n",
      "1            0            0            0            0            0   \n",
      "2            0            0            0            0            0   \n",
      "3            0            0            0            0            0   \n",
      "4            0            0            0            0            0   \n",
      "\n",
      "   country_BGR  country_BHR  country_BIH  country_BLR  country_BOL  \\\n",
      "0            0            0            0            0            0   \n",
      "1            0            0            0            0            0   \n",
      "2            0            0            0            0            0   \n",
      "3            0            0            0            0            0   \n",
      "4            0            0            0            0            0   \n",
      "\n",
      "   country_BRA  country_BRB  country_BWA  country_CHE  country_CHL  \\\n",
      "0            0            0            0            0            0   \n",
      "1            0            0            0            0            0   \n",
      "2            0            0            0            0            0   \n",
      "3            0            0            0            0            0   \n",
      "4            0            0            0            0            0   \n",
      "\n",
      "   country_CHN  country_CIV  country_CMR  country_CN  country_COL  \\\n",
      "0            0            0            0           0            0   \n",
      "1            0            0            0           0            0   \n",
      "2            0            0            0           0            0   \n",
      "3            0            0            0           0            0   \n",
      "4            0            0            0           0            0   \n",
      "\n",
      "   country_CPV  country_CRI  country_CUB  country_CYM  country_CYP  \\\n",
      "0            0            0            0            0            0   \n",
      "1            0            0            0            0            0   \n",
      "2            0            0            0            0            0   \n",
      "3            0            0            0            0            0   \n",
      "4            0            0            0            0            0   \n",
      "\n",
      "   country_CZE  country_DEU  country_DMA  country_DNK  country_DOM  \\\n",
      "0            0            0            0            0            0   \n",
      "1            0            0            0            0            0   \n",
      "2            0            0            0            0            0   \n",
      "3            0            0            0            0            0   \n",
      "4            0            0            0            0            0   \n",
      "\n",
      "   country_DZA  country_ECU  country_EGY  country_ESP  country_EST  \\\n",
      "0            0            0            0            0            0   \n",
      "1            0            0            0            0            0   \n",
      "2            0            0            0            0            0   \n",
      "3            0            0            0            0            0   \n",
      "4            0            0            0            0            0   \n",
      "\n",
      "   country_ETH  country_FIN  country_FRA  country_GAB  country_GBR  \\\n",
      "0            0            0            0            0            1   \n",
      "1            0            0            0            0            1   \n",
      "2            0            0            0            0            0   \n",
      "3            0            0            0            0            0   \n",
      "4            0            0            0            0            0   \n",
      "\n",
      "   country_GEO  country_GGY  country_GIB  country_GLP  country_GNB  \\\n",
      "0            0            0            0            0            0   \n",
      "1            0            0            0            0            0   \n",
      "2            0            0            0            0            0   \n",
      "3            0            0            0            0            0   \n",
      "4            0            0            0            0            0   \n",
      "\n",
      "   country_GRC  country_GUY  country_HKG  country_HND  country_HRV  \\\n",
      "0            0            0            0            0            0   \n",
      "1            0            0            0            0            0   \n",
      "2            0            0            0            0            0   \n",
      "3            0            0            0            0            0   \n",
      "4            0            0            0            0            0   \n",
      "\n",
      "   country_HUN  country_IDN  country_IMN  country_IND  country_IRL  \\\n",
      "0            0            0            0            0            0   \n",
      "1            0            0            0            0            0   \n",
      "2            0            0            0            0            0   \n",
      "3            0            0            0            0            0   \n",
      "4            0            0            0            0            0   \n",
      "\n",
      "   country_IRN  country_IRQ  country_ISL  country_ISR  country_ITA  \\\n",
      "0            0            0            0            0            0   \n",
      "1            0            0            0            0            0   \n",
      "2            0            0            0            0            0   \n",
      "3            0            0            0            0            0   \n",
      "4            0            0            0            0            0   \n",
      "\n",
      "   country_JAM  country_JEY  country_JOR  country_JPN  country_KAZ  \\\n",
      "0            0            0            0            0            0   \n",
      "1            0            0            0            0            0   \n",
      "2            0            0            0            0            0   \n",
      "3            0            0            0            0            0   \n",
      "4            0            0            0            0            0   \n",
      "\n",
      "   country_KEN  country_KHM  country_KNA  country_KOR  country_KWT  \\\n",
      "0            0            0            0            0            0   \n",
      "1            0            0            0            0            0   \n",
      "2            0            0            0            0            0   \n",
      "3            0            0            0            0            0   \n",
      "4            0            0            0            0            0   \n",
      "\n",
      "   country_LBN  country_LBY  country_LCA  country_LIE  country_LKA  \\\n",
      "0            0            0            0            0            0   \n",
      "1            0            0            0            0            0   \n",
      "2            0            0            0            0            0   \n",
      "3            0            0            0            0            0   \n",
      "4            0            0            0            0            0   \n",
      "\n",
      "   country_LTU  country_LUX  country_LVA  country_MAC  country_MAR  \\\n",
      "0            0            0            0            0            0   \n",
      "1            0            0            0            0            0   \n",
      "2            0            0            0            0            0   \n",
      "3            0            0            0            0            0   \n",
      "4            0            0            0            0            0   \n",
      "\n",
      "   country_MCO  country_MDV  country_MEX  country_MKD  country_MLI  \\\n",
      "0            0            0            0            0            0   \n",
      "1            0            0            0            0            0   \n",
      "2            0            0            0            0            0   \n",
      "3            0            0            0            0            0   \n",
      "4            0            0            0            0            0   \n",
      "\n",
      "   country_MLT  country_MMR  country_MNE  country_MOZ  country_MUS  \\\n",
      "0            0            0            0            0            0   \n",
      "1            0            0            0            0            0   \n",
      "2            0            0            0            0            0   \n",
      "3            0            0            0            0            0   \n",
      "4            0            0            0            0            0   \n",
      "\n",
      "   country_MWI  country_MYS  country_NAM  country_NGA  country_NIC  \\\n",
      "0            0            0            0            0            0   \n",
      "1            0            0            0            0            0   \n",
      "2            0            0            0            0            0   \n",
      "3            0            0            0            0            0   \n",
      "4            0            0            0            0            0   \n",
      "\n",
      "   country_NLD  country_NOR  country_NZL  country_OMN  country_PAK  \\\n",
      "0            0            0            0            0            0   \n",
      "1            0            0            0            0            0   \n",
      "2            0            0            0            0            0   \n",
      "3            0            0            0            0            0   \n",
      "4            0            0            0            0            0   \n",
      "\n",
      "   country_PAN  country_PER  country_PHL  country_PLW  country_POL  \\\n",
      "0            0            0            0            0            0   \n",
      "1            0            0            0            0            0   \n",
      "2            0            0            0            0            0   \n",
      "3            0            0            0            0            0   \n",
      "4            0            0            0            0            0   \n",
      "\n",
      "   country_PRI  country_PRT  country_PRY  country_PYF  country_QAT  \\\n",
      "0            0            0            0            0            0   \n",
      "1            0            0            0            0            0   \n",
      "2            0            1            0            0            0   \n",
      "3            0            1            0            0            0   \n",
      "4            0            1            0            0            0   \n",
      "\n",
      "   country_ROU  country_RUS  country_RWA  country_SAU  country_SEN  \\\n",
      "0            0            0            0            0            0   \n",
      "1            0            0            0            0            0   \n",
      "2            0            0            0            0            0   \n",
      "3            0            0            0            0            0   \n",
      "4            0            0            0            0            0   \n",
      "\n",
      "   country_SGP  country_SLV  country_SMR  country_SRB  country_STP  \\\n",
      "0            0            0            0            0            0   \n",
      "1            0            0            0            0            0   \n",
      "2            0            0            0            0            0   \n",
      "3            0            0            0            0            0   \n",
      "4            0            0            0            0            0   \n",
      "\n",
      "   country_SUR  country_SVK  country_SVN  country_SWE  country_SYC  \\\n",
      "0            0            0            0            0            0   \n",
      "1            0            0            0            0            0   \n",
      "2            0            0            0            0            0   \n",
      "3            0            0            0            0            0   \n",
      "4            0            0            0            0            0   \n",
      "\n",
      "   country_SYR  country_THA  country_TJK  country_TMP  country_TUN  \\\n",
      "0            0            0            0            0            0   \n",
      "1            0            0            0            0            0   \n",
      "2            0            0            0            0            0   \n",
      "3            0            0            0            0            0   \n",
      "4            0            0            0            0            0   \n",
      "\n",
      "   country_TUR  country_TWN  country_TZA  country_UGA  country_UKR  \\\n",
      "0            0            0            0            0            0   \n",
      "1            0            0            0            0            0   \n",
      "2            0            0            0            0            0   \n",
      "3            0            0            0            0            0   \n",
      "4            0            0            0            0            0   \n",
      "\n",
      "   country_URY  country_USA  country_UZB  country_VEN  country_VGB  \\\n",
      "0            0            0            0            0            0   \n",
      "1            0            0            0            0            0   \n",
      "2            0            0            0            0            0   \n",
      "3            0            0            0            0            0   \n",
      "4            0            0            0            0            0   \n",
      "\n",
      "   country_VNM  country_ZAF  country_ZMB  country_ZWE  \\\n",
      "0            0            0            0            0   \n",
      "1            0            0            0            0   \n",
      "2            0            0            0            0   \n",
      "3            0            0            0            0   \n",
      "4            0            0            0            0   \n",
      "\n",
      "   distribution_channel_Direct  distribution_channel_GDS  \\\n",
      "0                            1                         0   \n",
      "1                            0                         0   \n",
      "2                            1                         0   \n",
      "3                            1                         0   \n",
      "4                            0                         0   \n",
      "\n",
      "   distribution_channel_TA/TO  customer_type_Group  customer_type_Transient  \\\n",
      "0                           0                    0                        1   \n",
      "1                           1                    0                        1   \n",
      "2                           0                    0                        1   \n",
      "3                           0                    0                        1   \n",
      "4                           1                    0                        1   \n",
      "\n",
      "   customer_type_Transient-Party  \n",
      "0                              0  \n",
      "1                              0  \n",
      "2                              0  \n",
      "3                              0  \n",
      "4                              0  \n"
     ]
    }
   ],
   "source": [
    "df_train_ohe =  pd.get_dummies(df_train, \\\n",
    "                               columns=['arrival_date_year', 'arrival_date_month_number',\\\n",
    "                                       'arrival_date_week_number', 'arrival_date_day_of_month',\\\n",
    "                                        'reserved_room_type','total_of_special_requests',\\\n",
    "                                       'adults', 'children', 'babies', 'meal', 'country',\\\n",
    "                                       'distribution_channel', 'customer_type'], drop_first=True)\n",
    "print (df_train_ohe.head(5))\n",
    "df_test_ohe =  pd.get_dummies(df_test, \\\n",
    "                               columns=['arrival_date_year', 'arrival_date_month_number',\\\n",
    "                                       'arrival_date_week_number', 'arrival_date_day_of_month',\\\n",
    "                                        'reserved_room_type','total_of_special_requests',\\\n",
    "                                       'adults', 'children', 'babies', 'meal', 'country',\\\n",
    "                                       'distribution_channel', 'customer_type'], drop_first=True)"
   ]
  },
  {
   "cell_type": "code",
   "execution_count": 39,
   "metadata": {},
   "outputs": [
    {
     "name": "stdout",
     "output_type": "stream",
     "text": [
      "(65229, 297)\n",
      "(32412, 297)\n"
     ]
    }
   ],
   "source": [
    "print (df_train_ohe.shape)\n",
    "print (df_test_ohe.shape)"
   ]
  },
  {
   "cell_type": "markdown",
   "metadata": {},
   "source": [
    "##### Разбиваю данные df_train на train и valid в соотношении 80-20%"
   ]
  },
  {
   "cell_type": "code",
   "execution_count": 40,
   "metadata": {},
   "outputs": [],
   "source": [
    "df_train, df_valid = train_test_split(df_train_ohe, test_size=0.2, random_state=12345)\n",
    "\n",
    "features_train = df_train.drop(['is_canceled', 'id', 'arrival_date_month'], axis=1)\n",
    "target_train = df_train['is_canceled']\n",
    "\n",
    "features_valid = df_valid.drop(['is_canceled', 'id', 'arrival_date_month'], axis=1)\n",
    "target_valid = df_valid['is_canceled']\n",
    "\n",
    "features_test = df_test_ohe.drop(['is_canceled', 'id', 'arrival_date_month'], axis=1)\n",
    "target_test = df_test_ohe['is_canceled']"
   ]
  },
  {
   "cell_type": "markdown",
   "metadata": {},
   "source": [
    "##### Масштабирование признаков столбцов"
   ]
  },
  {
   "cell_type": "code",
   "execution_count": 41,
   "metadata": {},
   "outputs": [
    {
     "name": "stdout",
     "output_type": "stream",
     "text": [
      "(52183, 294)\n"
     ]
    },
    {
     "data": {
      "text/html": [
       "<div>\n",
       "<style scoped>\n",
       "    .dataframe tbody tr th:only-of-type {\n",
       "        vertical-align: middle;\n",
       "    }\n",
       "\n",
       "    .dataframe tbody tr th {\n",
       "        vertical-align: top;\n",
       "    }\n",
       "\n",
       "    .dataframe thead th {\n",
       "        text-align: right;\n",
       "    }\n",
       "</style>\n",
       "<table border=\"1\" class=\"dataframe\">\n",
       "  <thead>\n",
       "    <tr style=\"text-align: right;\">\n",
       "      <th></th>\n",
       "      <th>lead_time</th>\n",
       "      <th>stays_in_weekend_nights</th>\n",
       "      <th>stays_in_week_nights</th>\n",
       "      <th>is_repeated_guest</th>\n",
       "      <th>previous_cancellations</th>\n",
       "      <th>previous_bookings_not_canceled</th>\n",
       "      <th>booking_changes</th>\n",
       "      <th>days_in_waiting_list</th>\n",
       "      <th>required_car_parking_spaces</th>\n",
       "      <th>total_nights</th>\n",
       "      <th>room_value_season</th>\n",
       "      <th>service_room_one_day</th>\n",
       "      <th>service_room_all_days</th>\n",
       "      <th>room_value_total</th>\n",
       "      <th>room_profit</th>\n",
       "      <th>arrival_date_year_2016</th>\n",
       "      <th>arrival_date_month_number_2</th>\n",
       "      <th>arrival_date_month_number_3</th>\n",
       "      <th>arrival_date_month_number_4</th>\n",
       "      <th>arrival_date_month_number_5</th>\n",
       "      <th>arrival_date_month_number_6</th>\n",
       "      <th>arrival_date_month_number_7</th>\n",
       "      <th>arrival_date_month_number_8</th>\n",
       "      <th>arrival_date_month_number_9</th>\n",
       "      <th>arrival_date_month_number_10</th>\n",
       "      <th>arrival_date_month_number_11</th>\n",
       "      <th>arrival_date_month_number_12</th>\n",
       "      <th>arrival_date_week_number_2</th>\n",
       "      <th>arrival_date_week_number_3</th>\n",
       "      <th>arrival_date_week_number_4</th>\n",
       "      <th>arrival_date_week_number_5</th>\n",
       "      <th>arrival_date_week_number_6</th>\n",
       "      <th>arrival_date_week_number_7</th>\n",
       "      <th>arrival_date_week_number_8</th>\n",
       "      <th>arrival_date_week_number_9</th>\n",
       "      <th>arrival_date_week_number_10</th>\n",
       "      <th>arrival_date_week_number_11</th>\n",
       "      <th>arrival_date_week_number_12</th>\n",
       "      <th>arrival_date_week_number_13</th>\n",
       "      <th>arrival_date_week_number_14</th>\n",
       "      <th>arrival_date_week_number_15</th>\n",
       "      <th>arrival_date_week_number_16</th>\n",
       "      <th>arrival_date_week_number_17</th>\n",
       "      <th>arrival_date_week_number_18</th>\n",
       "      <th>arrival_date_week_number_19</th>\n",
       "      <th>arrival_date_week_number_20</th>\n",
       "      <th>arrival_date_week_number_21</th>\n",
       "      <th>arrival_date_week_number_22</th>\n",
       "      <th>arrival_date_week_number_23</th>\n",
       "      <th>arrival_date_week_number_24</th>\n",
       "      <th>arrival_date_week_number_25</th>\n",
       "      <th>arrival_date_week_number_26</th>\n",
       "      <th>arrival_date_week_number_27</th>\n",
       "      <th>arrival_date_week_number_28</th>\n",
       "      <th>arrival_date_week_number_29</th>\n",
       "      <th>arrival_date_week_number_30</th>\n",
       "      <th>arrival_date_week_number_31</th>\n",
       "      <th>arrival_date_week_number_32</th>\n",
       "      <th>arrival_date_week_number_33</th>\n",
       "      <th>arrival_date_week_number_34</th>\n",
       "      <th>arrival_date_week_number_35</th>\n",
       "      <th>arrival_date_week_number_36</th>\n",
       "      <th>arrival_date_week_number_37</th>\n",
       "      <th>arrival_date_week_number_38</th>\n",
       "      <th>arrival_date_week_number_39</th>\n",
       "      <th>arrival_date_week_number_40</th>\n",
       "      <th>arrival_date_week_number_41</th>\n",
       "      <th>arrival_date_week_number_42</th>\n",
       "      <th>arrival_date_week_number_43</th>\n",
       "      <th>arrival_date_week_number_44</th>\n",
       "      <th>arrival_date_week_number_45</th>\n",
       "      <th>arrival_date_week_number_46</th>\n",
       "      <th>arrival_date_week_number_47</th>\n",
       "      <th>arrival_date_week_number_48</th>\n",
       "      <th>arrival_date_week_number_49</th>\n",
       "      <th>arrival_date_week_number_50</th>\n",
       "      <th>arrival_date_week_number_51</th>\n",
       "      <th>arrival_date_week_number_52</th>\n",
       "      <th>arrival_date_week_number_53</th>\n",
       "      <th>arrival_date_day_of_month_2</th>\n",
       "      <th>arrival_date_day_of_month_3</th>\n",
       "      <th>arrival_date_day_of_month_4</th>\n",
       "      <th>arrival_date_day_of_month_5</th>\n",
       "      <th>arrival_date_day_of_month_6</th>\n",
       "      <th>arrival_date_day_of_month_7</th>\n",
       "      <th>arrival_date_day_of_month_8</th>\n",
       "      <th>arrival_date_day_of_month_9</th>\n",
       "      <th>arrival_date_day_of_month_10</th>\n",
       "      <th>arrival_date_day_of_month_11</th>\n",
       "      <th>arrival_date_day_of_month_12</th>\n",
       "      <th>arrival_date_day_of_month_13</th>\n",
       "      <th>arrival_date_day_of_month_14</th>\n",
       "      <th>arrival_date_day_of_month_15</th>\n",
       "      <th>arrival_date_day_of_month_16</th>\n",
       "      <th>arrival_date_day_of_month_17</th>\n",
       "      <th>arrival_date_day_of_month_18</th>\n",
       "      <th>arrival_date_day_of_month_19</th>\n",
       "      <th>arrival_date_day_of_month_20</th>\n",
       "      <th>arrival_date_day_of_month_21</th>\n",
       "      <th>arrival_date_day_of_month_22</th>\n",
       "      <th>arrival_date_day_of_month_23</th>\n",
       "      <th>arrival_date_day_of_month_24</th>\n",
       "      <th>arrival_date_day_of_month_25</th>\n",
       "      <th>arrival_date_day_of_month_26</th>\n",
       "      <th>arrival_date_day_of_month_27</th>\n",
       "      <th>arrival_date_day_of_month_28</th>\n",
       "      <th>arrival_date_day_of_month_29</th>\n",
       "      <th>arrival_date_day_of_month_30</th>\n",
       "      <th>arrival_date_day_of_month_31</th>\n",
       "      <th>reserved_room_type_B</th>\n",
       "      <th>reserved_room_type_C</th>\n",
       "      <th>reserved_room_type_D</th>\n",
       "      <th>reserved_room_type_E</th>\n",
       "      <th>reserved_room_type_F</th>\n",
       "      <th>reserved_room_type_G</th>\n",
       "      <th>total_of_special_requests_1</th>\n",
       "      <th>total_of_special_requests_2</th>\n",
       "      <th>total_of_special_requests_3</th>\n",
       "      <th>total_of_special_requests_4</th>\n",
       "      <th>total_of_special_requests_5</th>\n",
       "      <th>adults_1.0</th>\n",
       "      <th>adults_2.0</th>\n",
       "      <th>adults_3.0</th>\n",
       "      <th>adults_4.0</th>\n",
       "      <th>children_1.0</th>\n",
       "      <th>children_2.0</th>\n",
       "      <th>children_3.0</th>\n",
       "      <th>babies_1.0</th>\n",
       "      <th>babies_2.0</th>\n",
       "      <th>babies_9.0</th>\n",
       "      <th>babies_10.0</th>\n",
       "      <th>meal_FB</th>\n",
       "      <th>meal_HB</th>\n",
       "      <th>meal_SC</th>\n",
       "      <th>country_AGO</th>\n",
       "      <th>country_ALB</th>\n",
       "      <th>country_AND</th>\n",
       "      <th>country_ARE</th>\n",
       "      <th>country_ARG</th>\n",
       "      <th>country_ARM</th>\n",
       "      <th>country_ATA</th>\n",
       "      <th>country_AUS</th>\n",
       "      <th>country_AUT</th>\n",
       "      <th>country_AZE</th>\n",
       "      <th>country_BDI</th>\n",
       "      <th>country_BEL</th>\n",
       "      <th>country_BEN</th>\n",
       "      <th>country_BFA</th>\n",
       "      <th>country_BGD</th>\n",
       "      <th>country_BGR</th>\n",
       "      <th>country_BHR</th>\n",
       "      <th>country_BIH</th>\n",
       "      <th>country_BLR</th>\n",
       "      <th>country_BOL</th>\n",
       "      <th>country_BRA</th>\n",
       "      <th>country_BRB</th>\n",
       "      <th>country_BWA</th>\n",
       "      <th>country_CHE</th>\n",
       "      <th>country_CHL</th>\n",
       "      <th>country_CHN</th>\n",
       "      <th>country_CIV</th>\n",
       "      <th>country_CMR</th>\n",
       "      <th>country_CN</th>\n",
       "      <th>country_COL</th>\n",
       "      <th>country_CPV</th>\n",
       "      <th>country_CRI</th>\n",
       "      <th>country_CUB</th>\n",
       "      <th>country_CYM</th>\n",
       "      <th>country_CYP</th>\n",
       "      <th>country_CZE</th>\n",
       "      <th>country_DEU</th>\n",
       "      <th>country_DMA</th>\n",
       "      <th>country_DNK</th>\n",
       "      <th>country_DOM</th>\n",
       "      <th>country_DZA</th>\n",
       "      <th>country_ECU</th>\n",
       "      <th>country_EGY</th>\n",
       "      <th>country_ESP</th>\n",
       "      <th>country_EST</th>\n",
       "      <th>country_ETH</th>\n",
       "      <th>country_FIN</th>\n",
       "      <th>country_FRA</th>\n",
       "      <th>country_GAB</th>\n",
       "      <th>country_GBR</th>\n",
       "      <th>country_GEO</th>\n",
       "      <th>country_GGY</th>\n",
       "      <th>country_GIB</th>\n",
       "      <th>country_GLP</th>\n",
       "      <th>country_GNB</th>\n",
       "      <th>country_GRC</th>\n",
       "      <th>country_GUY</th>\n",
       "      <th>country_HKG</th>\n",
       "      <th>country_HND</th>\n",
       "      <th>country_HRV</th>\n",
       "      <th>country_HUN</th>\n",
       "      <th>country_IDN</th>\n",
       "      <th>country_IMN</th>\n",
       "      <th>country_IND</th>\n",
       "      <th>country_IRL</th>\n",
       "      <th>country_IRN</th>\n",
       "      <th>country_IRQ</th>\n",
       "      <th>country_ISL</th>\n",
       "      <th>country_ISR</th>\n",
       "      <th>country_ITA</th>\n",
       "      <th>country_JAM</th>\n",
       "      <th>country_JEY</th>\n",
       "      <th>country_JOR</th>\n",
       "      <th>country_JPN</th>\n",
       "      <th>country_KAZ</th>\n",
       "      <th>country_KEN</th>\n",
       "      <th>country_KHM</th>\n",
       "      <th>country_KNA</th>\n",
       "      <th>country_KOR</th>\n",
       "      <th>country_KWT</th>\n",
       "      <th>country_LBN</th>\n",
       "      <th>country_LBY</th>\n",
       "      <th>country_LCA</th>\n",
       "      <th>country_LIE</th>\n",
       "      <th>country_LKA</th>\n",
       "      <th>country_LTU</th>\n",
       "      <th>country_LUX</th>\n",
       "      <th>country_LVA</th>\n",
       "      <th>country_MAC</th>\n",
       "      <th>country_MAR</th>\n",
       "      <th>country_MCO</th>\n",
       "      <th>country_MDV</th>\n",
       "      <th>country_MEX</th>\n",
       "      <th>country_MKD</th>\n",
       "      <th>country_MLI</th>\n",
       "      <th>country_MLT</th>\n",
       "      <th>country_MMR</th>\n",
       "      <th>country_MNE</th>\n",
       "      <th>country_MOZ</th>\n",
       "      <th>country_MUS</th>\n",
       "      <th>country_MWI</th>\n",
       "      <th>country_MYS</th>\n",
       "      <th>country_NAM</th>\n",
       "      <th>country_NGA</th>\n",
       "      <th>country_NIC</th>\n",
       "      <th>country_NLD</th>\n",
       "      <th>country_NOR</th>\n",
       "      <th>country_NZL</th>\n",
       "      <th>country_OMN</th>\n",
       "      <th>country_PAK</th>\n",
       "      <th>country_PAN</th>\n",
       "      <th>country_PER</th>\n",
       "      <th>country_PHL</th>\n",
       "      <th>country_PLW</th>\n",
       "      <th>country_POL</th>\n",
       "      <th>country_PRI</th>\n",
       "      <th>country_PRT</th>\n",
       "      <th>country_PRY</th>\n",
       "      <th>country_PYF</th>\n",
       "      <th>country_QAT</th>\n",
       "      <th>country_ROU</th>\n",
       "      <th>country_RUS</th>\n",
       "      <th>country_RWA</th>\n",
       "      <th>country_SAU</th>\n",
       "      <th>country_SEN</th>\n",
       "      <th>country_SGP</th>\n",
       "      <th>country_SLV</th>\n",
       "      <th>country_SMR</th>\n",
       "      <th>country_SRB</th>\n",
       "      <th>country_STP</th>\n",
       "      <th>country_SUR</th>\n",
       "      <th>country_SVK</th>\n",
       "      <th>country_SVN</th>\n",
       "      <th>country_SWE</th>\n",
       "      <th>country_SYC</th>\n",
       "      <th>country_SYR</th>\n",
       "      <th>country_THA</th>\n",
       "      <th>country_TJK</th>\n",
       "      <th>country_TMP</th>\n",
       "      <th>country_TUN</th>\n",
       "      <th>country_TUR</th>\n",
       "      <th>country_TWN</th>\n",
       "      <th>country_TZA</th>\n",
       "      <th>country_UGA</th>\n",
       "      <th>country_UKR</th>\n",
       "      <th>country_URY</th>\n",
       "      <th>country_USA</th>\n",
       "      <th>country_UZB</th>\n",
       "      <th>country_VEN</th>\n",
       "      <th>country_VGB</th>\n",
       "      <th>country_VNM</th>\n",
       "      <th>country_ZAF</th>\n",
       "      <th>country_ZMB</th>\n",
       "      <th>country_ZWE</th>\n",
       "      <th>distribution_channel_Direct</th>\n",
       "      <th>distribution_channel_GDS</th>\n",
       "      <th>distribution_channel_TA/TO</th>\n",
       "      <th>customer_type_Group</th>\n",
       "      <th>customer_type_Transient</th>\n",
       "      <th>customer_type_Transient-Party</th>\n",
       "    </tr>\n",
       "  </thead>\n",
       "  <tbody>\n",
       "    <tr>\n",
       "      <th>4472</th>\n",
       "      <td>1.823312</td>\n",
       "      <td>1.376652</td>\n",
       "      <td>2.053099</td>\n",
       "      <td>0</td>\n",
       "      <td>0</td>\n",
       "      <td>0</td>\n",
       "      <td>0</td>\n",
       "      <td>-0.183664</td>\n",
       "      <td>0</td>\n",
       "      <td>2.277585</td>\n",
       "      <td>-1.473492</td>\n",
       "      <td>-1.935697</td>\n",
       "      <td>1.016303</td>\n",
       "      <td>0.821535</td>\n",
       "      <td>0.893249</td>\n",
       "      <td>1</td>\n",
       "      <td>0</td>\n",
       "      <td>0</td>\n",
       "      <td>0</td>\n",
       "      <td>0</td>\n",
       "      <td>0</td>\n",
       "      <td>1</td>\n",
       "      <td>0</td>\n",
       "      <td>0</td>\n",
       "      <td>0</td>\n",
       "      <td>0</td>\n",
       "      <td>0</td>\n",
       "      <td>0</td>\n",
       "      <td>0</td>\n",
       "      <td>0</td>\n",
       "      <td>0</td>\n",
       "      <td>0</td>\n",
       "      <td>0</td>\n",
       "      <td>0</td>\n",
       "      <td>0</td>\n",
       "      <td>0</td>\n",
       "      <td>0</td>\n",
       "      <td>0</td>\n",
       "      <td>0</td>\n",
       "      <td>0</td>\n",
       "      <td>0</td>\n",
       "      <td>0</td>\n",
       "      <td>0</td>\n",
       "      <td>0</td>\n",
       "      <td>0</td>\n",
       "      <td>0</td>\n",
       "      <td>0</td>\n",
       "      <td>0</td>\n",
       "      <td>0</td>\n",
       "      <td>0</td>\n",
       "      <td>0</td>\n",
       "      <td>0</td>\n",
       "      <td>0</td>\n",
       "      <td>1</td>\n",
       "      <td>0</td>\n",
       "      <td>0</td>\n",
       "      <td>0</td>\n",
       "      <td>0</td>\n",
       "      <td>0</td>\n",
       "      <td>0</td>\n",
       "      <td>0</td>\n",
       "      <td>0</td>\n",
       "      <td>0</td>\n",
       "      <td>0</td>\n",
       "      <td>0</td>\n",
       "      <td>0</td>\n",
       "      <td>0</td>\n",
       "      <td>0</td>\n",
       "      <td>0</td>\n",
       "      <td>0</td>\n",
       "      <td>0</td>\n",
       "      <td>0</td>\n",
       "      <td>0</td>\n",
       "      <td>0</td>\n",
       "      <td>0</td>\n",
       "      <td>0</td>\n",
       "      <td>0</td>\n",
       "      <td>0</td>\n",
       "      <td>0</td>\n",
       "      <td>0</td>\n",
       "      <td>0</td>\n",
       "      <td>0</td>\n",
       "      <td>1</td>\n",
       "      <td>0</td>\n",
       "      <td>0</td>\n",
       "      <td>0</td>\n",
       "      <td>0</td>\n",
       "      <td>0</td>\n",
       "      <td>0</td>\n",
       "      <td>0</td>\n",
       "      <td>0</td>\n",
       "      <td>0</td>\n",
       "      <td>0</td>\n",
       "      <td>0</td>\n",
       "      <td>0</td>\n",
       "      <td>0</td>\n",
       "      <td>0</td>\n",
       "      <td>0</td>\n",
       "      <td>0</td>\n",
       "      <td>0</td>\n",
       "      <td>0</td>\n",
       "      <td>0</td>\n",
       "      <td>0</td>\n",
       "      <td>0</td>\n",
       "      <td>0</td>\n",
       "      <td>0</td>\n",
       "      <td>0</td>\n",
       "      <td>0</td>\n",
       "      <td>0</td>\n",
       "      <td>0</td>\n",
       "      <td>0</td>\n",
       "      <td>0</td>\n",
       "      <td>1</td>\n",
       "      <td>0</td>\n",
       "      <td>0</td>\n",
       "      <td>0</td>\n",
       "      <td>0</td>\n",
       "      <td>1</td>\n",
       "      <td>0</td>\n",
       "      <td>0</td>\n",
       "      <td>0</td>\n",
       "      <td>1</td>\n",
       "      <td>0</td>\n",
       "      <td>0</td>\n",
       "      <td>0</td>\n",
       "      <td>0</td>\n",
       "      <td>0</td>\n",
       "      <td>0</td>\n",
       "      <td>0</td>\n",
       "      <td>0</td>\n",
       "      <td>0</td>\n",
       "      <td>0</td>\n",
       "      <td>1</td>\n",
       "      <td>0</td>\n",
       "      <td>0</td>\n",
       "      <td>0</td>\n",
       "      <td>0</td>\n",
       "      <td>0</td>\n",
       "      <td>0</td>\n",
       "      <td>0</td>\n",
       "      <td>0</td>\n",
       "      <td>0</td>\n",
       "      <td>0</td>\n",
       "      <td>0</td>\n",
       "      <td>0</td>\n",
       "      <td>0</td>\n",
       "      <td>0</td>\n",
       "      <td>0</td>\n",
       "      <td>0</td>\n",
       "      <td>0</td>\n",
       "      <td>0</td>\n",
       "      <td>0</td>\n",
       "      <td>0</td>\n",
       "      <td>0</td>\n",
       "      <td>0</td>\n",
       "      <td>0</td>\n",
       "      <td>0</td>\n",
       "      <td>0</td>\n",
       "      <td>0</td>\n",
       "      <td>0</td>\n",
       "      <td>0</td>\n",
       "      <td>0</td>\n",
       "      <td>0</td>\n",
       "      <td>0</td>\n",
       "      <td>0</td>\n",
       "      <td>0</td>\n",
       "      <td>0</td>\n",
       "      <td>0</td>\n",
       "      <td>0</td>\n",
       "      <td>0</td>\n",
       "      <td>0</td>\n",
       "      <td>0</td>\n",
       "      <td>0</td>\n",
       "      <td>0</td>\n",
       "      <td>0</td>\n",
       "      <td>0</td>\n",
       "      <td>0</td>\n",
       "      <td>0</td>\n",
       "      <td>0</td>\n",
       "      <td>0</td>\n",
       "      <td>0</td>\n",
       "      <td>0</td>\n",
       "      <td>0</td>\n",
       "      <td>1</td>\n",
       "      <td>0</td>\n",
       "      <td>0</td>\n",
       "      <td>0</td>\n",
       "      <td>0</td>\n",
       "      <td>0</td>\n",
       "      <td>0</td>\n",
       "      <td>0</td>\n",
       "      <td>0</td>\n",
       "      <td>0</td>\n",
       "      <td>0</td>\n",
       "      <td>0</td>\n",
       "      <td>0</td>\n",
       "      <td>0</td>\n",
       "      <td>0</td>\n",
       "      <td>0</td>\n",
       "      <td>0</td>\n",
       "      <td>0</td>\n",
       "      <td>0</td>\n",
       "      <td>0</td>\n",
       "      <td>0</td>\n",
       "      <td>0</td>\n",
       "      <td>0</td>\n",
       "      <td>0</td>\n",
       "      <td>0</td>\n",
       "      <td>0</td>\n",
       "      <td>0</td>\n",
       "      <td>0</td>\n",
       "      <td>0</td>\n",
       "      <td>0</td>\n",
       "      <td>0</td>\n",
       "      <td>0</td>\n",
       "      <td>0</td>\n",
       "      <td>0</td>\n",
       "      <td>0</td>\n",
       "      <td>0</td>\n",
       "      <td>0</td>\n",
       "      <td>0</td>\n",
       "      <td>0</td>\n",
       "      <td>0</td>\n",
       "      <td>0</td>\n",
       "      <td>0</td>\n",
       "      <td>0</td>\n",
       "      <td>0</td>\n",
       "      <td>0</td>\n",
       "      <td>0</td>\n",
       "      <td>0</td>\n",
       "      <td>0</td>\n",
       "      <td>0</td>\n",
       "      <td>0</td>\n",
       "      <td>0</td>\n",
       "      <td>0</td>\n",
       "      <td>0</td>\n",
       "      <td>0</td>\n",
       "      <td>0</td>\n",
       "      <td>0</td>\n",
       "      <td>0</td>\n",
       "      <td>0</td>\n",
       "      <td>0</td>\n",
       "      <td>0</td>\n",
       "      <td>0</td>\n",
       "      <td>0</td>\n",
       "      <td>0</td>\n",
       "      <td>0</td>\n",
       "      <td>0</td>\n",
       "      <td>0</td>\n",
       "      <td>0</td>\n",
       "      <td>0</td>\n",
       "      <td>0</td>\n",
       "      <td>0</td>\n",
       "      <td>0</td>\n",
       "      <td>0</td>\n",
       "      <td>0</td>\n",
       "      <td>0</td>\n",
       "      <td>0</td>\n",
       "      <td>0</td>\n",
       "      <td>0</td>\n",
       "      <td>0</td>\n",
       "      <td>0</td>\n",
       "      <td>0</td>\n",
       "      <td>0</td>\n",
       "      <td>0</td>\n",
       "      <td>0</td>\n",
       "      <td>0</td>\n",
       "      <td>0</td>\n",
       "      <td>0</td>\n",
       "      <td>0</td>\n",
       "      <td>0</td>\n",
       "      <td>0</td>\n",
       "      <td>0</td>\n",
       "      <td>0</td>\n",
       "      <td>0</td>\n",
       "      <td>0</td>\n",
       "      <td>0</td>\n",
       "      <td>0</td>\n",
       "      <td>0</td>\n",
       "      <td>0</td>\n",
       "      <td>0</td>\n",
       "      <td>0</td>\n",
       "      <td>0</td>\n",
       "      <td>0</td>\n",
       "      <td>0</td>\n",
       "      <td>0</td>\n",
       "      <td>0</td>\n",
       "      <td>0</td>\n",
       "      <td>0</td>\n",
       "      <td>0</td>\n",
       "      <td>1</td>\n",
       "      <td>0</td>\n",
       "      <td>0</td>\n",
       "      <td>0</td>\n",
       "    </tr>\n",
       "    <tr>\n",
       "      <th>29110</th>\n",
       "      <td>0.950748</td>\n",
       "      <td>-0.968614</td>\n",
       "      <td>-0.162090</td>\n",
       "      <td>0</td>\n",
       "      <td>0</td>\n",
       "      <td>0</td>\n",
       "      <td>0</td>\n",
       "      <td>1.961619</td>\n",
       "      <td>0</td>\n",
       "      <td>-0.602177</td>\n",
       "      <td>1.157710</td>\n",
       "      <td>0.524876</td>\n",
       "      <td>-0.533867</td>\n",
       "      <td>-0.234032</td>\n",
       "      <td>-0.211644</td>\n",
       "      <td>1</td>\n",
       "      <td>0</td>\n",
       "      <td>0</td>\n",
       "      <td>0</td>\n",
       "      <td>0</td>\n",
       "      <td>1</td>\n",
       "      <td>0</td>\n",
       "      <td>0</td>\n",
       "      <td>0</td>\n",
       "      <td>0</td>\n",
       "      <td>0</td>\n",
       "      <td>0</td>\n",
       "      <td>0</td>\n",
       "      <td>0</td>\n",
       "      <td>0</td>\n",
       "      <td>0</td>\n",
       "      <td>0</td>\n",
       "      <td>0</td>\n",
       "      <td>0</td>\n",
       "      <td>0</td>\n",
       "      <td>0</td>\n",
       "      <td>0</td>\n",
       "      <td>0</td>\n",
       "      <td>0</td>\n",
       "      <td>0</td>\n",
       "      <td>0</td>\n",
       "      <td>0</td>\n",
       "      <td>0</td>\n",
       "      <td>0</td>\n",
       "      <td>0</td>\n",
       "      <td>0</td>\n",
       "      <td>0</td>\n",
       "      <td>0</td>\n",
       "      <td>0</td>\n",
       "      <td>0</td>\n",
       "      <td>1</td>\n",
       "      <td>0</td>\n",
       "      <td>0</td>\n",
       "      <td>0</td>\n",
       "      <td>0</td>\n",
       "      <td>0</td>\n",
       "      <td>0</td>\n",
       "      <td>0</td>\n",
       "      <td>0</td>\n",
       "      <td>0</td>\n",
       "      <td>0</td>\n",
       "      <td>0</td>\n",
       "      <td>0</td>\n",
       "      <td>0</td>\n",
       "      <td>0</td>\n",
       "      <td>0</td>\n",
       "      <td>0</td>\n",
       "      <td>0</td>\n",
       "      <td>0</td>\n",
       "      <td>0</td>\n",
       "      <td>0</td>\n",
       "      <td>0</td>\n",
       "      <td>0</td>\n",
       "      <td>0</td>\n",
       "      <td>0</td>\n",
       "      <td>0</td>\n",
       "      <td>0</td>\n",
       "      <td>0</td>\n",
       "      <td>0</td>\n",
       "      <td>0</td>\n",
       "      <td>0</td>\n",
       "      <td>0</td>\n",
       "      <td>0</td>\n",
       "      <td>0</td>\n",
       "      <td>0</td>\n",
       "      <td>0</td>\n",
       "      <td>0</td>\n",
       "      <td>0</td>\n",
       "      <td>0</td>\n",
       "      <td>0</td>\n",
       "      <td>0</td>\n",
       "      <td>0</td>\n",
       "      <td>1</td>\n",
       "      <td>0</td>\n",
       "      <td>0</td>\n",
       "      <td>0</td>\n",
       "      <td>0</td>\n",
       "      <td>0</td>\n",
       "      <td>0</td>\n",
       "      <td>0</td>\n",
       "      <td>0</td>\n",
       "      <td>0</td>\n",
       "      <td>0</td>\n",
       "      <td>0</td>\n",
       "      <td>0</td>\n",
       "      <td>0</td>\n",
       "      <td>0</td>\n",
       "      <td>0</td>\n",
       "      <td>0</td>\n",
       "      <td>0</td>\n",
       "      <td>0</td>\n",
       "      <td>0</td>\n",
       "      <td>0</td>\n",
       "      <td>0</td>\n",
       "      <td>0</td>\n",
       "      <td>0</td>\n",
       "      <td>0</td>\n",
       "      <td>0</td>\n",
       "      <td>0</td>\n",
       "      <td>0</td>\n",
       "      <td>1</td>\n",
       "      <td>0</td>\n",
       "      <td>0</td>\n",
       "      <td>0</td>\n",
       "      <td>0</td>\n",
       "      <td>0</td>\n",
       "      <td>0</td>\n",
       "      <td>0</td>\n",
       "      <td>0</td>\n",
       "      <td>0</td>\n",
       "      <td>0</td>\n",
       "      <td>0</td>\n",
       "      <td>0</td>\n",
       "      <td>0</td>\n",
       "      <td>0</td>\n",
       "      <td>0</td>\n",
       "      <td>0</td>\n",
       "      <td>0</td>\n",
       "      <td>0</td>\n",
       "      <td>0</td>\n",
       "      <td>0</td>\n",
       "      <td>0</td>\n",
       "      <td>0</td>\n",
       "      <td>0</td>\n",
       "      <td>0</td>\n",
       "      <td>0</td>\n",
       "      <td>0</td>\n",
       "      <td>0</td>\n",
       "      <td>0</td>\n",
       "      <td>0</td>\n",
       "      <td>0</td>\n",
       "      <td>0</td>\n",
       "      <td>0</td>\n",
       "      <td>0</td>\n",
       "      <td>0</td>\n",
       "      <td>0</td>\n",
       "      <td>0</td>\n",
       "      <td>0</td>\n",
       "      <td>0</td>\n",
       "      <td>0</td>\n",
       "      <td>0</td>\n",
       "      <td>0</td>\n",
       "      <td>0</td>\n",
       "      <td>0</td>\n",
       "      <td>0</td>\n",
       "      <td>0</td>\n",
       "      <td>0</td>\n",
       "      <td>0</td>\n",
       "      <td>0</td>\n",
       "      <td>0</td>\n",
       "      <td>0</td>\n",
       "      <td>0</td>\n",
       "      <td>0</td>\n",
       "      <td>0</td>\n",
       "      <td>0</td>\n",
       "      <td>0</td>\n",
       "      <td>0</td>\n",
       "      <td>0</td>\n",
       "      <td>0</td>\n",
       "      <td>0</td>\n",
       "      <td>0</td>\n",
       "      <td>0</td>\n",
       "      <td>0</td>\n",
       "      <td>0</td>\n",
       "      <td>0</td>\n",
       "      <td>0</td>\n",
       "      <td>0</td>\n",
       "      <td>0</td>\n",
       "      <td>0</td>\n",
       "      <td>0</td>\n",
       "      <td>0</td>\n",
       "      <td>0</td>\n",
       "      <td>0</td>\n",
       "      <td>0</td>\n",
       "      <td>0</td>\n",
       "      <td>0</td>\n",
       "      <td>0</td>\n",
       "      <td>0</td>\n",
       "      <td>0</td>\n",
       "      <td>0</td>\n",
       "      <td>0</td>\n",
       "      <td>0</td>\n",
       "      <td>0</td>\n",
       "      <td>0</td>\n",
       "      <td>0</td>\n",
       "      <td>0</td>\n",
       "      <td>0</td>\n",
       "      <td>0</td>\n",
       "      <td>0</td>\n",
       "      <td>0</td>\n",
       "      <td>0</td>\n",
       "      <td>0</td>\n",
       "      <td>0</td>\n",
       "      <td>0</td>\n",
       "      <td>0</td>\n",
       "      <td>0</td>\n",
       "      <td>0</td>\n",
       "      <td>0</td>\n",
       "      <td>0</td>\n",
       "      <td>0</td>\n",
       "      <td>0</td>\n",
       "      <td>0</td>\n",
       "      <td>0</td>\n",
       "      <td>0</td>\n",
       "      <td>0</td>\n",
       "      <td>0</td>\n",
       "      <td>0</td>\n",
       "      <td>0</td>\n",
       "      <td>0</td>\n",
       "      <td>0</td>\n",
       "      <td>0</td>\n",
       "      <td>0</td>\n",
       "      <td>0</td>\n",
       "      <td>0</td>\n",
       "      <td>0</td>\n",
       "      <td>0</td>\n",
       "      <td>0</td>\n",
       "      <td>0</td>\n",
       "      <td>0</td>\n",
       "      <td>0</td>\n",
       "      <td>0</td>\n",
       "      <td>0</td>\n",
       "      <td>0</td>\n",
       "      <td>0</td>\n",
       "      <td>0</td>\n",
       "      <td>0</td>\n",
       "      <td>0</td>\n",
       "      <td>0</td>\n",
       "      <td>0</td>\n",
       "      <td>0</td>\n",
       "      <td>1</td>\n",
       "      <td>0</td>\n",
       "      <td>0</td>\n",
       "      <td>0</td>\n",
       "      <td>0</td>\n",
       "      <td>0</td>\n",
       "      <td>0</td>\n",
       "      <td>0</td>\n",
       "      <td>0</td>\n",
       "      <td>0</td>\n",
       "      <td>0</td>\n",
       "      <td>0</td>\n",
       "      <td>0</td>\n",
       "      <td>0</td>\n",
       "      <td>0</td>\n",
       "      <td>0</td>\n",
       "      <td>0</td>\n",
       "      <td>0</td>\n",
       "      <td>0</td>\n",
       "      <td>0</td>\n",
       "      <td>0</td>\n",
       "      <td>0</td>\n",
       "      <td>0</td>\n",
       "      <td>0</td>\n",
       "      <td>0</td>\n",
       "      <td>0</td>\n",
       "      <td>0</td>\n",
       "      <td>0</td>\n",
       "      <td>0</td>\n",
       "      <td>0</td>\n",
       "      <td>0</td>\n",
       "      <td>0</td>\n",
       "      <td>0</td>\n",
       "      <td>0</td>\n",
       "      <td>0</td>\n",
       "      <td>0</td>\n",
       "      <td>0</td>\n",
       "      <td>0</td>\n",
       "      <td>0</td>\n",
       "      <td>0</td>\n",
       "      <td>1</td>\n",
       "      <td>0</td>\n",
       "      <td>1</td>\n",
       "      <td>0</td>\n",
       "    </tr>\n",
       "    <tr>\n",
       "      <th>35951</th>\n",
       "      <td>-0.648952</td>\n",
       "      <td>1.376652</td>\n",
       "      <td>-0.900486</td>\n",
       "      <td>0</td>\n",
       "      <td>0</td>\n",
       "      <td>0</td>\n",
       "      <td>0</td>\n",
       "      <td>-0.183664</td>\n",
       "      <td>0</td>\n",
       "      <td>-0.026224</td>\n",
       "      <td>0.405938</td>\n",
       "      <td>0.524876</td>\n",
       "      <td>-0.533867</td>\n",
       "      <td>0.168089</td>\n",
       "      <td>0.253574</td>\n",
       "      <td>1</td>\n",
       "      <td>0</td>\n",
       "      <td>0</td>\n",
       "      <td>0</td>\n",
       "      <td>0</td>\n",
       "      <td>0</td>\n",
       "      <td>0</td>\n",
       "      <td>0</td>\n",
       "      <td>0</td>\n",
       "      <td>0</td>\n",
       "      <td>1</td>\n",
       "      <td>0</td>\n",
       "      <td>0</td>\n",
       "      <td>0</td>\n",
       "      <td>0</td>\n",
       "      <td>0</td>\n",
       "      <td>0</td>\n",
       "      <td>0</td>\n",
       "      <td>0</td>\n",
       "      <td>0</td>\n",
       "      <td>0</td>\n",
       "      <td>0</td>\n",
       "      <td>0</td>\n",
       "      <td>0</td>\n",
       "      <td>0</td>\n",
       "      <td>0</td>\n",
       "      <td>0</td>\n",
       "      <td>0</td>\n",
       "      <td>0</td>\n",
       "      <td>0</td>\n",
       "      <td>0</td>\n",
       "      <td>0</td>\n",
       "      <td>0</td>\n",
       "      <td>0</td>\n",
       "      <td>0</td>\n",
       "      <td>0</td>\n",
       "      <td>0</td>\n",
       "      <td>0</td>\n",
       "      <td>0</td>\n",
       "      <td>0</td>\n",
       "      <td>0</td>\n",
       "      <td>0</td>\n",
       "      <td>0</td>\n",
       "      <td>0</td>\n",
       "      <td>0</td>\n",
       "      <td>0</td>\n",
       "      <td>0</td>\n",
       "      <td>0</td>\n",
       "      <td>0</td>\n",
       "      <td>0</td>\n",
       "      <td>0</td>\n",
       "      <td>0</td>\n",
       "      <td>0</td>\n",
       "      <td>0</td>\n",
       "      <td>0</td>\n",
       "      <td>0</td>\n",
       "      <td>0</td>\n",
       "      <td>0</td>\n",
       "      <td>0</td>\n",
       "      <td>1</td>\n",
       "      <td>0</td>\n",
       "      <td>0</td>\n",
       "      <td>0</td>\n",
       "      <td>0</td>\n",
       "      <td>0</td>\n",
       "      <td>0</td>\n",
       "      <td>0</td>\n",
       "      <td>0</td>\n",
       "      <td>0</td>\n",
       "      <td>0</td>\n",
       "      <td>0</td>\n",
       "      <td>0</td>\n",
       "      <td>0</td>\n",
       "      <td>0</td>\n",
       "      <td>0</td>\n",
       "      <td>0</td>\n",
       "      <td>0</td>\n",
       "      <td>0</td>\n",
       "      <td>0</td>\n",
       "      <td>0</td>\n",
       "      <td>0</td>\n",
       "      <td>0</td>\n",
       "      <td>0</td>\n",
       "      <td>0</td>\n",
       "      <td>0</td>\n",
       "      <td>0</td>\n",
       "      <td>0</td>\n",
       "      <td>0</td>\n",
       "      <td>0</td>\n",
       "      <td>1</td>\n",
       "      <td>0</td>\n",
       "      <td>0</td>\n",
       "      <td>0</td>\n",
       "      <td>0</td>\n",
       "      <td>0</td>\n",
       "      <td>0</td>\n",
       "      <td>0</td>\n",
       "      <td>0</td>\n",
       "      <td>0</td>\n",
       "      <td>0</td>\n",
       "      <td>0</td>\n",
       "      <td>0</td>\n",
       "      <td>0</td>\n",
       "      <td>0</td>\n",
       "      <td>0</td>\n",
       "      <td>0</td>\n",
       "      <td>1</td>\n",
       "      <td>0</td>\n",
       "      <td>0</td>\n",
       "      <td>0</td>\n",
       "      <td>0</td>\n",
       "      <td>0</td>\n",
       "      <td>0</td>\n",
       "      <td>0</td>\n",
       "      <td>0</td>\n",
       "      <td>0</td>\n",
       "      <td>0</td>\n",
       "      <td>0</td>\n",
       "      <td>0</td>\n",
       "      <td>0</td>\n",
       "      <td>0</td>\n",
       "      <td>0</td>\n",
       "      <td>0</td>\n",
       "      <td>0</td>\n",
       "      <td>0</td>\n",
       "      <td>0</td>\n",
       "      <td>0</td>\n",
       "      <td>0</td>\n",
       "      <td>0</td>\n",
       "      <td>0</td>\n",
       "      <td>0</td>\n",
       "      <td>0</td>\n",
       "      <td>0</td>\n",
       "      <td>0</td>\n",
       "      <td>0</td>\n",
       "      <td>0</td>\n",
       "      <td>0</td>\n",
       "      <td>0</td>\n",
       "      <td>0</td>\n",
       "      <td>0</td>\n",
       "      <td>0</td>\n",
       "      <td>0</td>\n",
       "      <td>0</td>\n",
       "      <td>0</td>\n",
       "      <td>0</td>\n",
       "      <td>0</td>\n",
       "      <td>0</td>\n",
       "      <td>0</td>\n",
       "      <td>0</td>\n",
       "      <td>0</td>\n",
       "      <td>0</td>\n",
       "      <td>0</td>\n",
       "      <td>0</td>\n",
       "      <td>0</td>\n",
       "      <td>0</td>\n",
       "      <td>0</td>\n",
       "      <td>0</td>\n",
       "      <td>0</td>\n",
       "      <td>0</td>\n",
       "      <td>0</td>\n",
       "      <td>0</td>\n",
       "      <td>0</td>\n",
       "      <td>0</td>\n",
       "      <td>0</td>\n",
       "      <td>0</td>\n",
       "      <td>0</td>\n",
       "      <td>0</td>\n",
       "      <td>0</td>\n",
       "      <td>0</td>\n",
       "      <td>0</td>\n",
       "      <td>0</td>\n",
       "      <td>0</td>\n",
       "      <td>0</td>\n",
       "      <td>0</td>\n",
       "      <td>0</td>\n",
       "      <td>0</td>\n",
       "      <td>0</td>\n",
       "      <td>0</td>\n",
       "      <td>0</td>\n",
       "      <td>0</td>\n",
       "      <td>0</td>\n",
       "      <td>0</td>\n",
       "      <td>0</td>\n",
       "      <td>0</td>\n",
       "      <td>0</td>\n",
       "      <td>0</td>\n",
       "      <td>0</td>\n",
       "      <td>0</td>\n",
       "      <td>0</td>\n",
       "      <td>0</td>\n",
       "      <td>0</td>\n",
       "      <td>0</td>\n",
       "      <td>0</td>\n",
       "      <td>0</td>\n",
       "      <td>0</td>\n",
       "      <td>0</td>\n",
       "      <td>0</td>\n",
       "      <td>0</td>\n",
       "      <td>0</td>\n",
       "      <td>0</td>\n",
       "      <td>0</td>\n",
       "      <td>0</td>\n",
       "      <td>0</td>\n",
       "      <td>0</td>\n",
       "      <td>0</td>\n",
       "      <td>0</td>\n",
       "      <td>0</td>\n",
       "      <td>0</td>\n",
       "      <td>0</td>\n",
       "      <td>0</td>\n",
       "      <td>0</td>\n",
       "      <td>0</td>\n",
       "      <td>0</td>\n",
       "      <td>0</td>\n",
       "      <td>0</td>\n",
       "      <td>0</td>\n",
       "      <td>0</td>\n",
       "      <td>0</td>\n",
       "      <td>0</td>\n",
       "      <td>0</td>\n",
       "      <td>0</td>\n",
       "      <td>0</td>\n",
       "      <td>0</td>\n",
       "      <td>0</td>\n",
       "      <td>0</td>\n",
       "      <td>0</td>\n",
       "      <td>0</td>\n",
       "      <td>0</td>\n",
       "      <td>0</td>\n",
       "      <td>0</td>\n",
       "      <td>0</td>\n",
       "      <td>0</td>\n",
       "      <td>0</td>\n",
       "      <td>0</td>\n",
       "      <td>0</td>\n",
       "      <td>1</td>\n",
       "      <td>0</td>\n",
       "      <td>0</td>\n",
       "      <td>0</td>\n",
       "      <td>0</td>\n",
       "      <td>0</td>\n",
       "      <td>0</td>\n",
       "      <td>0</td>\n",
       "      <td>0</td>\n",
       "      <td>0</td>\n",
       "      <td>0</td>\n",
       "      <td>0</td>\n",
       "      <td>0</td>\n",
       "      <td>0</td>\n",
       "      <td>0</td>\n",
       "      <td>0</td>\n",
       "      <td>0</td>\n",
       "      <td>0</td>\n",
       "      <td>0</td>\n",
       "      <td>0</td>\n",
       "      <td>0</td>\n",
       "      <td>0</td>\n",
       "      <td>0</td>\n",
       "      <td>0</td>\n",
       "      <td>0</td>\n",
       "      <td>0</td>\n",
       "      <td>0</td>\n",
       "      <td>0</td>\n",
       "      <td>0</td>\n",
       "      <td>0</td>\n",
       "      <td>0</td>\n",
       "      <td>0</td>\n",
       "      <td>0</td>\n",
       "      <td>0</td>\n",
       "      <td>0</td>\n",
       "      <td>0</td>\n",
       "      <td>0</td>\n",
       "      <td>0</td>\n",
       "      <td>0</td>\n",
       "      <td>0</td>\n",
       "      <td>1</td>\n",
       "      <td>0</td>\n",
       "      <td>0</td>\n",
       "      <td>1</td>\n",
       "    </tr>\n",
       "    <tr>\n",
       "      <th>44496</th>\n",
       "      <td>0.846871</td>\n",
       "      <td>-0.968614</td>\n",
       "      <td>0.576306</td>\n",
       "      <td>0</td>\n",
       "      <td>1</td>\n",
       "      <td>0</td>\n",
       "      <td>0</td>\n",
       "      <td>2.346670</td>\n",
       "      <td>0</td>\n",
       "      <td>-0.026224</td>\n",
       "      <td>0.405938</td>\n",
       "      <td>0.524876</td>\n",
       "      <td>-0.533867</td>\n",
       "      <td>0.168089</td>\n",
       "      <td>0.253574</td>\n",
       "      <td>1</td>\n",
       "      <td>0</td>\n",
       "      <td>0</td>\n",
       "      <td>1</td>\n",
       "      <td>0</td>\n",
       "      <td>0</td>\n",
       "      <td>0</td>\n",
       "      <td>0</td>\n",
       "      <td>0</td>\n",
       "      <td>0</td>\n",
       "      <td>0</td>\n",
       "      <td>0</td>\n",
       "      <td>0</td>\n",
       "      <td>0</td>\n",
       "      <td>0</td>\n",
       "      <td>0</td>\n",
       "      <td>0</td>\n",
       "      <td>0</td>\n",
       "      <td>0</td>\n",
       "      <td>0</td>\n",
       "      <td>0</td>\n",
       "      <td>0</td>\n",
       "      <td>0</td>\n",
       "      <td>0</td>\n",
       "      <td>0</td>\n",
       "      <td>0</td>\n",
       "      <td>0</td>\n",
       "      <td>0</td>\n",
       "      <td>1</td>\n",
       "      <td>0</td>\n",
       "      <td>0</td>\n",
       "      <td>0</td>\n",
       "      <td>0</td>\n",
       "      <td>0</td>\n",
       "      <td>0</td>\n",
       "      <td>0</td>\n",
       "      <td>0</td>\n",
       "      <td>0</td>\n",
       "      <td>0</td>\n",
       "      <td>0</td>\n",
       "      <td>0</td>\n",
       "      <td>0</td>\n",
       "      <td>0</td>\n",
       "      <td>0</td>\n",
       "      <td>0</td>\n",
       "      <td>0</td>\n",
       "      <td>0</td>\n",
       "      <td>0</td>\n",
       "      <td>0</td>\n",
       "      <td>0</td>\n",
       "      <td>0</td>\n",
       "      <td>0</td>\n",
       "      <td>0</td>\n",
       "      <td>0</td>\n",
       "      <td>0</td>\n",
       "      <td>0</td>\n",
       "      <td>0</td>\n",
       "      <td>0</td>\n",
       "      <td>0</td>\n",
       "      <td>0</td>\n",
       "      <td>0</td>\n",
       "      <td>0</td>\n",
       "      <td>0</td>\n",
       "      <td>0</td>\n",
       "      <td>0</td>\n",
       "      <td>0</td>\n",
       "      <td>0</td>\n",
       "      <td>0</td>\n",
       "      <td>0</td>\n",
       "      <td>0</td>\n",
       "      <td>0</td>\n",
       "      <td>0</td>\n",
       "      <td>0</td>\n",
       "      <td>0</td>\n",
       "      <td>0</td>\n",
       "      <td>0</td>\n",
       "      <td>0</td>\n",
       "      <td>0</td>\n",
       "      <td>0</td>\n",
       "      <td>0</td>\n",
       "      <td>0</td>\n",
       "      <td>0</td>\n",
       "      <td>0</td>\n",
       "      <td>0</td>\n",
       "      <td>0</td>\n",
       "      <td>0</td>\n",
       "      <td>0</td>\n",
       "      <td>0</td>\n",
       "      <td>0</td>\n",
       "      <td>0</td>\n",
       "      <td>1</td>\n",
       "      <td>0</td>\n",
       "      <td>0</td>\n",
       "      <td>0</td>\n",
       "      <td>0</td>\n",
       "      <td>0</td>\n",
       "      <td>0</td>\n",
       "      <td>0</td>\n",
       "      <td>0</td>\n",
       "      <td>0</td>\n",
       "      <td>0</td>\n",
       "      <td>0</td>\n",
       "      <td>0</td>\n",
       "      <td>0</td>\n",
       "      <td>0</td>\n",
       "      <td>0</td>\n",
       "      <td>1</td>\n",
       "      <td>0</td>\n",
       "      <td>0</td>\n",
       "      <td>0</td>\n",
       "      <td>0</td>\n",
       "      <td>0</td>\n",
       "      <td>0</td>\n",
       "      <td>0</td>\n",
       "      <td>0</td>\n",
       "      <td>0</td>\n",
       "      <td>0</td>\n",
       "      <td>0</td>\n",
       "      <td>0</td>\n",
       "      <td>0</td>\n",
       "      <td>0</td>\n",
       "      <td>0</td>\n",
       "      <td>0</td>\n",
       "      <td>0</td>\n",
       "      <td>0</td>\n",
       "      <td>0</td>\n",
       "      <td>0</td>\n",
       "      <td>0</td>\n",
       "      <td>0</td>\n",
       "      <td>0</td>\n",
       "      <td>0</td>\n",
       "      <td>0</td>\n",
       "      <td>0</td>\n",
       "      <td>0</td>\n",
       "      <td>0</td>\n",
       "      <td>0</td>\n",
       "      <td>0</td>\n",
       "      <td>0</td>\n",
       "      <td>0</td>\n",
       "      <td>0</td>\n",
       "      <td>0</td>\n",
       "      <td>0</td>\n",
       "      <td>0</td>\n",
       "      <td>0</td>\n",
       "      <td>0</td>\n",
       "      <td>0</td>\n",
       "      <td>0</td>\n",
       "      <td>0</td>\n",
       "      <td>0</td>\n",
       "      <td>0</td>\n",
       "      <td>0</td>\n",
       "      <td>0</td>\n",
       "      <td>0</td>\n",
       "      <td>0</td>\n",
       "      <td>0</td>\n",
       "      <td>0</td>\n",
       "      <td>0</td>\n",
       "      <td>0</td>\n",
       "      <td>0</td>\n",
       "      <td>0</td>\n",
       "      <td>0</td>\n",
       "      <td>0</td>\n",
       "      <td>0</td>\n",
       "      <td>0</td>\n",
       "      <td>0</td>\n",
       "      <td>0</td>\n",
       "      <td>0</td>\n",
       "      <td>0</td>\n",
       "      <td>0</td>\n",
       "      <td>0</td>\n",
       "      <td>0</td>\n",
       "      <td>0</td>\n",
       "      <td>0</td>\n",
       "      <td>0</td>\n",
       "      <td>0</td>\n",
       "      <td>0</td>\n",
       "      <td>0</td>\n",
       "      <td>0</td>\n",
       "      <td>0</td>\n",
       "      <td>0</td>\n",
       "      <td>0</td>\n",
       "      <td>0</td>\n",
       "      <td>0</td>\n",
       "      <td>0</td>\n",
       "      <td>0</td>\n",
       "      <td>0</td>\n",
       "      <td>0</td>\n",
       "      <td>0</td>\n",
       "      <td>0</td>\n",
       "      <td>0</td>\n",
       "      <td>0</td>\n",
       "      <td>0</td>\n",
       "      <td>0</td>\n",
       "      <td>0</td>\n",
       "      <td>0</td>\n",
       "      <td>0</td>\n",
       "      <td>0</td>\n",
       "      <td>0</td>\n",
       "      <td>0</td>\n",
       "      <td>0</td>\n",
       "      <td>0</td>\n",
       "      <td>0</td>\n",
       "      <td>0</td>\n",
       "      <td>0</td>\n",
       "      <td>0</td>\n",
       "      <td>0</td>\n",
       "      <td>0</td>\n",
       "      <td>0</td>\n",
       "      <td>0</td>\n",
       "      <td>0</td>\n",
       "      <td>0</td>\n",
       "      <td>0</td>\n",
       "      <td>0</td>\n",
       "      <td>0</td>\n",
       "      <td>0</td>\n",
       "      <td>0</td>\n",
       "      <td>0</td>\n",
       "      <td>0</td>\n",
       "      <td>0</td>\n",
       "      <td>0</td>\n",
       "      <td>0</td>\n",
       "      <td>0</td>\n",
       "      <td>0</td>\n",
       "      <td>0</td>\n",
       "      <td>0</td>\n",
       "      <td>0</td>\n",
       "      <td>0</td>\n",
       "      <td>0</td>\n",
       "      <td>0</td>\n",
       "      <td>0</td>\n",
       "      <td>0</td>\n",
       "      <td>0</td>\n",
       "      <td>0</td>\n",
       "      <td>0</td>\n",
       "      <td>0</td>\n",
       "      <td>1</td>\n",
       "      <td>0</td>\n",
       "      <td>0</td>\n",
       "      <td>0</td>\n",
       "      <td>0</td>\n",
       "      <td>0</td>\n",
       "      <td>0</td>\n",
       "      <td>0</td>\n",
       "      <td>0</td>\n",
       "      <td>0</td>\n",
       "      <td>0</td>\n",
       "      <td>0</td>\n",
       "      <td>0</td>\n",
       "      <td>0</td>\n",
       "      <td>0</td>\n",
       "      <td>0</td>\n",
       "      <td>0</td>\n",
       "      <td>0</td>\n",
       "      <td>0</td>\n",
       "      <td>0</td>\n",
       "      <td>0</td>\n",
       "      <td>0</td>\n",
       "      <td>0</td>\n",
       "      <td>0</td>\n",
       "      <td>0</td>\n",
       "      <td>0</td>\n",
       "      <td>0</td>\n",
       "      <td>0</td>\n",
       "      <td>0</td>\n",
       "      <td>0</td>\n",
       "      <td>0</td>\n",
       "      <td>0</td>\n",
       "      <td>0</td>\n",
       "      <td>0</td>\n",
       "      <td>0</td>\n",
       "      <td>0</td>\n",
       "      <td>0</td>\n",
       "      <td>0</td>\n",
       "      <td>0</td>\n",
       "      <td>0</td>\n",
       "      <td>1</td>\n",
       "      <td>0</td>\n",
       "      <td>1</td>\n",
       "      <td>0</td>\n",
       "    </tr>\n",
       "    <tr>\n",
       "      <th>24216</th>\n",
       "      <td>-0.981358</td>\n",
       "      <td>-0.968614</td>\n",
       "      <td>-0.900486</td>\n",
       "      <td>0</td>\n",
       "      <td>0</td>\n",
       "      <td>0</td>\n",
       "      <td>1</td>\n",
       "      <td>-0.183664</td>\n",
       "      <td>0</td>\n",
       "      <td>-1.178129</td>\n",
       "      <td>0.405938</td>\n",
       "      <td>0.524876</td>\n",
       "      <td>-0.533867</td>\n",
       "      <td>-1.038274</td>\n",
       "      <td>-1.142080</td>\n",
       "      <td>1</td>\n",
       "      <td>0</td>\n",
       "      <td>1</td>\n",
       "      <td>0</td>\n",
       "      <td>0</td>\n",
       "      <td>0</td>\n",
       "      <td>0</td>\n",
       "      <td>0</td>\n",
       "      <td>0</td>\n",
       "      <td>0</td>\n",
       "      <td>0</td>\n",
       "      <td>0</td>\n",
       "      <td>0</td>\n",
       "      <td>0</td>\n",
       "      <td>0</td>\n",
       "      <td>0</td>\n",
       "      <td>0</td>\n",
       "      <td>0</td>\n",
       "      <td>0</td>\n",
       "      <td>0</td>\n",
       "      <td>0</td>\n",
       "      <td>1</td>\n",
       "      <td>0</td>\n",
       "      <td>0</td>\n",
       "      <td>0</td>\n",
       "      <td>0</td>\n",
       "      <td>0</td>\n",
       "      <td>0</td>\n",
       "      <td>0</td>\n",
       "      <td>0</td>\n",
       "      <td>0</td>\n",
       "      <td>0</td>\n",
       "      <td>0</td>\n",
       "      <td>0</td>\n",
       "      <td>0</td>\n",
       "      <td>0</td>\n",
       "      <td>0</td>\n",
       "      <td>0</td>\n",
       "      <td>0</td>\n",
       "      <td>0</td>\n",
       "      <td>0</td>\n",
       "      <td>0</td>\n",
       "      <td>0</td>\n",
       "      <td>0</td>\n",
       "      <td>0</td>\n",
       "      <td>0</td>\n",
       "      <td>0</td>\n",
       "      <td>0</td>\n",
       "      <td>0</td>\n",
       "      <td>0</td>\n",
       "      <td>0</td>\n",
       "      <td>0</td>\n",
       "      <td>0</td>\n",
       "      <td>0</td>\n",
       "      <td>0</td>\n",
       "      <td>0</td>\n",
       "      <td>0</td>\n",
       "      <td>0</td>\n",
       "      <td>0</td>\n",
       "      <td>0</td>\n",
       "      <td>0</td>\n",
       "      <td>0</td>\n",
       "      <td>0</td>\n",
       "      <td>0</td>\n",
       "      <td>0</td>\n",
       "      <td>0</td>\n",
       "      <td>0</td>\n",
       "      <td>0</td>\n",
       "      <td>0</td>\n",
       "      <td>0</td>\n",
       "      <td>0</td>\n",
       "      <td>1</td>\n",
       "      <td>0</td>\n",
       "      <td>0</td>\n",
       "      <td>0</td>\n",
       "      <td>0</td>\n",
       "      <td>0</td>\n",
       "      <td>0</td>\n",
       "      <td>0</td>\n",
       "      <td>0</td>\n",
       "      <td>0</td>\n",
       "      <td>0</td>\n",
       "      <td>0</td>\n",
       "      <td>0</td>\n",
       "      <td>0</td>\n",
       "      <td>0</td>\n",
       "      <td>0</td>\n",
       "      <td>0</td>\n",
       "      <td>0</td>\n",
       "      <td>0</td>\n",
       "      <td>0</td>\n",
       "      <td>0</td>\n",
       "      <td>0</td>\n",
       "      <td>0</td>\n",
       "      <td>0</td>\n",
       "      <td>0</td>\n",
       "      <td>0</td>\n",
       "      <td>0</td>\n",
       "      <td>0</td>\n",
       "      <td>0</td>\n",
       "      <td>1</td>\n",
       "      <td>0</td>\n",
       "      <td>0</td>\n",
       "      <td>0</td>\n",
       "      <td>0</td>\n",
       "      <td>0</td>\n",
       "      <td>1</td>\n",
       "      <td>0</td>\n",
       "      <td>0</td>\n",
       "      <td>0</td>\n",
       "      <td>0</td>\n",
       "      <td>0</td>\n",
       "      <td>0</td>\n",
       "      <td>0</td>\n",
       "      <td>0</td>\n",
       "      <td>0</td>\n",
       "      <td>0</td>\n",
       "      <td>0</td>\n",
       "      <td>0</td>\n",
       "      <td>0</td>\n",
       "      <td>0</td>\n",
       "      <td>0</td>\n",
       "      <td>0</td>\n",
       "      <td>0</td>\n",
       "      <td>0</td>\n",
       "      <td>0</td>\n",
       "      <td>0</td>\n",
       "      <td>0</td>\n",
       "      <td>0</td>\n",
       "      <td>0</td>\n",
       "      <td>0</td>\n",
       "      <td>0</td>\n",
       "      <td>0</td>\n",
       "      <td>0</td>\n",
       "      <td>0</td>\n",
       "      <td>0</td>\n",
       "      <td>0</td>\n",
       "      <td>0</td>\n",
       "      <td>0</td>\n",
       "      <td>0</td>\n",
       "      <td>0</td>\n",
       "      <td>0</td>\n",
       "      <td>0</td>\n",
       "      <td>0</td>\n",
       "      <td>0</td>\n",
       "      <td>0</td>\n",
       "      <td>0</td>\n",
       "      <td>0</td>\n",
       "      <td>0</td>\n",
       "      <td>0</td>\n",
       "      <td>0</td>\n",
       "      <td>0</td>\n",
       "      <td>0</td>\n",
       "      <td>0</td>\n",
       "      <td>0</td>\n",
       "      <td>0</td>\n",
       "      <td>0</td>\n",
       "      <td>0</td>\n",
       "      <td>0</td>\n",
       "      <td>0</td>\n",
       "      <td>0</td>\n",
       "      <td>0</td>\n",
       "      <td>0</td>\n",
       "      <td>0</td>\n",
       "      <td>0</td>\n",
       "      <td>0</td>\n",
       "      <td>0</td>\n",
       "      <td>0</td>\n",
       "      <td>0</td>\n",
       "      <td>0</td>\n",
       "      <td>0</td>\n",
       "      <td>0</td>\n",
       "      <td>0</td>\n",
       "      <td>0</td>\n",
       "      <td>0</td>\n",
       "      <td>0</td>\n",
       "      <td>0</td>\n",
       "      <td>0</td>\n",
       "      <td>0</td>\n",
       "      <td>0</td>\n",
       "      <td>0</td>\n",
       "      <td>0</td>\n",
       "      <td>0</td>\n",
       "      <td>0</td>\n",
       "      <td>0</td>\n",
       "      <td>0</td>\n",
       "      <td>0</td>\n",
       "      <td>0</td>\n",
       "      <td>0</td>\n",
       "      <td>0</td>\n",
       "      <td>0</td>\n",
       "      <td>0</td>\n",
       "      <td>0</td>\n",
       "      <td>0</td>\n",
       "      <td>0</td>\n",
       "      <td>0</td>\n",
       "      <td>0</td>\n",
       "      <td>0</td>\n",
       "      <td>0</td>\n",
       "      <td>0</td>\n",
       "      <td>0</td>\n",
       "      <td>0</td>\n",
       "      <td>0</td>\n",
       "      <td>0</td>\n",
       "      <td>0</td>\n",
       "      <td>0</td>\n",
       "      <td>0</td>\n",
       "      <td>0</td>\n",
       "      <td>0</td>\n",
       "      <td>0</td>\n",
       "      <td>0</td>\n",
       "      <td>0</td>\n",
       "      <td>0</td>\n",
       "      <td>0</td>\n",
       "      <td>0</td>\n",
       "      <td>0</td>\n",
       "      <td>0</td>\n",
       "      <td>0</td>\n",
       "      <td>0</td>\n",
       "      <td>0</td>\n",
       "      <td>0</td>\n",
       "      <td>0</td>\n",
       "      <td>0</td>\n",
       "      <td>0</td>\n",
       "      <td>0</td>\n",
       "      <td>0</td>\n",
       "      <td>0</td>\n",
       "      <td>0</td>\n",
       "      <td>0</td>\n",
       "      <td>0</td>\n",
       "      <td>0</td>\n",
       "      <td>0</td>\n",
       "      <td>0</td>\n",
       "      <td>0</td>\n",
       "      <td>0</td>\n",
       "      <td>1</td>\n",
       "      <td>0</td>\n",
       "      <td>0</td>\n",
       "      <td>0</td>\n",
       "      <td>0</td>\n",
       "      <td>0</td>\n",
       "      <td>0</td>\n",
       "      <td>0</td>\n",
       "      <td>0</td>\n",
       "      <td>0</td>\n",
       "      <td>0</td>\n",
       "      <td>0</td>\n",
       "      <td>0</td>\n",
       "      <td>0</td>\n",
       "      <td>0</td>\n",
       "      <td>0</td>\n",
       "      <td>0</td>\n",
       "      <td>0</td>\n",
       "      <td>0</td>\n",
       "      <td>0</td>\n",
       "      <td>0</td>\n",
       "      <td>0</td>\n",
       "      <td>0</td>\n",
       "      <td>0</td>\n",
       "      <td>0</td>\n",
       "      <td>0</td>\n",
       "      <td>0</td>\n",
       "      <td>0</td>\n",
       "      <td>0</td>\n",
       "      <td>0</td>\n",
       "      <td>0</td>\n",
       "      <td>0</td>\n",
       "      <td>0</td>\n",
       "      <td>0</td>\n",
       "      <td>0</td>\n",
       "      <td>0</td>\n",
       "      <td>0</td>\n",
       "      <td>0</td>\n",
       "      <td>0</td>\n",
       "      <td>0</td>\n",
       "      <td>0</td>\n",
       "      <td>0</td>\n",
       "      <td>0</td>\n",
       "      <td>1</td>\n",
       "    </tr>\n",
       "  </tbody>\n",
       "</table>\n",
       "</div>"
      ],
      "text/plain": [
       "       lead_time  stays_in_weekend_nights  stays_in_week_nights  \\\n",
       "4472    1.823312                 1.376652              2.053099   \n",
       "29110   0.950748                -0.968614             -0.162090   \n",
       "35951  -0.648952                 1.376652             -0.900486   \n",
       "44496   0.846871                -0.968614              0.576306   \n",
       "24216  -0.981358                -0.968614             -0.900486   \n",
       "\n",
       "       is_repeated_guest  previous_cancellations  \\\n",
       "4472                   0                       0   \n",
       "29110                  0                       0   \n",
       "35951                  0                       0   \n",
       "44496                  0                       1   \n",
       "24216                  0                       0   \n",
       "\n",
       "       previous_bookings_not_canceled  booking_changes  days_in_waiting_list  \\\n",
       "4472                                0                0             -0.183664   \n",
       "29110                               0                0              1.961619   \n",
       "35951                               0                0             -0.183664   \n",
       "44496                               0                0              2.346670   \n",
       "24216                               0                1             -0.183664   \n",
       "\n",
       "       required_car_parking_spaces  total_nights  room_value_season  \\\n",
       "4472                             0      2.277585          -1.473492   \n",
       "29110                            0     -0.602177           1.157710   \n",
       "35951                            0     -0.026224           0.405938   \n",
       "44496                            0     -0.026224           0.405938   \n",
       "24216                            0     -1.178129           0.405938   \n",
       "\n",
       "       service_room_one_day  service_room_all_days  room_value_total  \\\n",
       "4472              -1.935697               1.016303          0.821535   \n",
       "29110              0.524876              -0.533867         -0.234032   \n",
       "35951              0.524876              -0.533867          0.168089   \n",
       "44496              0.524876              -0.533867          0.168089   \n",
       "24216              0.524876              -0.533867         -1.038274   \n",
       "\n",
       "       room_profit  arrival_date_year_2016  arrival_date_month_number_2  \\\n",
       "4472      0.893249                       1                            0   \n",
       "29110    -0.211644                       1                            0   \n",
       "35951     0.253574                       1                            0   \n",
       "44496     0.253574                       1                            0   \n",
       "24216    -1.142080                       1                            0   \n",
       "\n",
       "       arrival_date_month_number_3  arrival_date_month_number_4  \\\n",
       "4472                             0                            0   \n",
       "29110                            0                            0   \n",
       "35951                            0                            0   \n",
       "44496                            0                            1   \n",
       "24216                            1                            0   \n",
       "\n",
       "       arrival_date_month_number_5  arrival_date_month_number_6  \\\n",
       "4472                             0                            0   \n",
       "29110                            0                            1   \n",
       "35951                            0                            0   \n",
       "44496                            0                            0   \n",
       "24216                            0                            0   \n",
       "\n",
       "       arrival_date_month_number_7  arrival_date_month_number_8  \\\n",
       "4472                             1                            0   \n",
       "29110                            0                            0   \n",
       "35951                            0                            0   \n",
       "44496                            0                            0   \n",
       "24216                            0                            0   \n",
       "\n",
       "       arrival_date_month_number_9  arrival_date_month_number_10  \\\n",
       "4472                             0                             0   \n",
       "29110                            0                             0   \n",
       "35951                            0                             0   \n",
       "44496                            0                             0   \n",
       "24216                            0                             0   \n",
       "\n",
       "       arrival_date_month_number_11  arrival_date_month_number_12  \\\n",
       "4472                              0                             0   \n",
       "29110                             0                             0   \n",
       "35951                             1                             0   \n",
       "44496                             0                             0   \n",
       "24216                             0                             0   \n",
       "\n",
       "       arrival_date_week_number_2  arrival_date_week_number_3  \\\n",
       "4472                            0                           0   \n",
       "29110                           0                           0   \n",
       "35951                           0                           0   \n",
       "44496                           0                           0   \n",
       "24216                           0                           0   \n",
       "\n",
       "       arrival_date_week_number_4  arrival_date_week_number_5  \\\n",
       "4472                            0                           0   \n",
       "29110                           0                           0   \n",
       "35951                           0                           0   \n",
       "44496                           0                           0   \n",
       "24216                           0                           0   \n",
       "\n",
       "       arrival_date_week_number_6  arrival_date_week_number_7  \\\n",
       "4472                            0                           0   \n",
       "29110                           0                           0   \n",
       "35951                           0                           0   \n",
       "44496                           0                           0   \n",
       "24216                           0                           0   \n",
       "\n",
       "       arrival_date_week_number_8  arrival_date_week_number_9  \\\n",
       "4472                            0                           0   \n",
       "29110                           0                           0   \n",
       "35951                           0                           0   \n",
       "44496                           0                           0   \n",
       "24216                           0                           0   \n",
       "\n",
       "       arrival_date_week_number_10  arrival_date_week_number_11  \\\n",
       "4472                             0                            0   \n",
       "29110                            0                            0   \n",
       "35951                            0                            0   \n",
       "44496                            0                            0   \n",
       "24216                            0                            1   \n",
       "\n",
       "       arrival_date_week_number_12  arrival_date_week_number_13  \\\n",
       "4472                             0                            0   \n",
       "29110                            0                            0   \n",
       "35951                            0                            0   \n",
       "44496                            0                            0   \n",
       "24216                            0                            0   \n",
       "\n",
       "       arrival_date_week_number_14  arrival_date_week_number_15  \\\n",
       "4472                             0                            0   \n",
       "29110                            0                            0   \n",
       "35951                            0                            0   \n",
       "44496                            0                            0   \n",
       "24216                            0                            0   \n",
       "\n",
       "       arrival_date_week_number_16  arrival_date_week_number_17  \\\n",
       "4472                             0                            0   \n",
       "29110                            0                            0   \n",
       "35951                            0                            0   \n",
       "44496                            0                            0   \n",
       "24216                            0                            0   \n",
       "\n",
       "       arrival_date_week_number_18  arrival_date_week_number_19  \\\n",
       "4472                             0                            0   \n",
       "29110                            0                            0   \n",
       "35951                            0                            0   \n",
       "44496                            1                            0   \n",
       "24216                            0                            0   \n",
       "\n",
       "       arrival_date_week_number_20  arrival_date_week_number_21  \\\n",
       "4472                             0                            0   \n",
       "29110                            0                            0   \n",
       "35951                            0                            0   \n",
       "44496                            0                            0   \n",
       "24216                            0                            0   \n",
       "\n",
       "       arrival_date_week_number_22  arrival_date_week_number_23  \\\n",
       "4472                             0                            0   \n",
       "29110                            0                            0   \n",
       "35951                            0                            0   \n",
       "44496                            0                            0   \n",
       "24216                            0                            0   \n",
       "\n",
       "       arrival_date_week_number_24  arrival_date_week_number_25  \\\n",
       "4472                             0                            0   \n",
       "29110                            0                            1   \n",
       "35951                            0                            0   \n",
       "44496                            0                            0   \n",
       "24216                            0                            0   \n",
       "\n",
       "       arrival_date_week_number_26  arrival_date_week_number_27  \\\n",
       "4472                             0                            0   \n",
       "29110                            0                            0   \n",
       "35951                            0                            0   \n",
       "44496                            0                            0   \n",
       "24216                            0                            0   \n",
       "\n",
       "       arrival_date_week_number_28  arrival_date_week_number_29  \\\n",
       "4472                             1                            0   \n",
       "29110                            0                            0   \n",
       "35951                            0                            0   \n",
       "44496                            0                            0   \n",
       "24216                            0                            0   \n",
       "\n",
       "       arrival_date_week_number_30  arrival_date_week_number_31  \\\n",
       "4472                             0                            0   \n",
       "29110                            0                            0   \n",
       "35951                            0                            0   \n",
       "44496                            0                            0   \n",
       "24216                            0                            0   \n",
       "\n",
       "       arrival_date_week_number_32  arrival_date_week_number_33  \\\n",
       "4472                             0                            0   \n",
       "29110                            0                            0   \n",
       "35951                            0                            0   \n",
       "44496                            0                            0   \n",
       "24216                            0                            0   \n",
       "\n",
       "       arrival_date_week_number_34  arrival_date_week_number_35  \\\n",
       "4472                             0                            0   \n",
       "29110                            0                            0   \n",
       "35951                            0                            0   \n",
       "44496                            0                            0   \n",
       "24216                            0                            0   \n",
       "\n",
       "       arrival_date_week_number_36  arrival_date_week_number_37  \\\n",
       "4472                             0                            0   \n",
       "29110                            0                            0   \n",
       "35951                            0                            0   \n",
       "44496                            0                            0   \n",
       "24216                            0                            0   \n",
       "\n",
       "       arrival_date_week_number_38  arrival_date_week_number_39  \\\n",
       "4472                             0                            0   \n",
       "29110                            0                            0   \n",
       "35951                            0                            0   \n",
       "44496                            0                            0   \n",
       "24216                            0                            0   \n",
       "\n",
       "       arrival_date_week_number_40  arrival_date_week_number_41  \\\n",
       "4472                             0                            0   \n",
       "29110                            0                            0   \n",
       "35951                            0                            0   \n",
       "44496                            0                            0   \n",
       "24216                            0                            0   \n",
       "\n",
       "       arrival_date_week_number_42  arrival_date_week_number_43  \\\n",
       "4472                             0                            0   \n",
       "29110                            0                            0   \n",
       "35951                            0                            0   \n",
       "44496                            0                            0   \n",
       "24216                            0                            0   \n",
       "\n",
       "       arrival_date_week_number_44  arrival_date_week_number_45  \\\n",
       "4472                             0                            0   \n",
       "29110                            0                            0   \n",
       "35951                            0                            0   \n",
       "44496                            0                            0   \n",
       "24216                            0                            0   \n",
       "\n",
       "       arrival_date_week_number_46  arrival_date_week_number_47  \\\n",
       "4472                             0                            0   \n",
       "29110                            0                            0   \n",
       "35951                            0                            0   \n",
       "44496                            0                            0   \n",
       "24216                            0                            0   \n",
       "\n",
       "       arrival_date_week_number_48  arrival_date_week_number_49  \\\n",
       "4472                             0                            0   \n",
       "29110                            0                            0   \n",
       "35951                            0                            1   \n",
       "44496                            0                            0   \n",
       "24216                            0                            0   \n",
       "\n",
       "       arrival_date_week_number_50  arrival_date_week_number_51  \\\n",
       "4472                             0                            0   \n",
       "29110                            0                            0   \n",
       "35951                            0                            0   \n",
       "44496                            0                            0   \n",
       "24216                            0                            0   \n",
       "\n",
       "       arrival_date_week_number_52  arrival_date_week_number_53  \\\n",
       "4472                             0                            0   \n",
       "29110                            0                            0   \n",
       "35951                            0                            0   \n",
       "44496                            0                            0   \n",
       "24216                            0                            0   \n",
       "\n",
       "       arrival_date_day_of_month_2  arrival_date_day_of_month_3  \\\n",
       "4472                             0                            0   \n",
       "29110                            0                            0   \n",
       "35951                            0                            0   \n",
       "44496                            0                            0   \n",
       "24216                            0                            0   \n",
       "\n",
       "       arrival_date_day_of_month_4  arrival_date_day_of_month_5  \\\n",
       "4472                             0                            1   \n",
       "29110                            0                            0   \n",
       "35951                            0                            0   \n",
       "44496                            0                            0   \n",
       "24216                            0                            0   \n",
       "\n",
       "       arrival_date_day_of_month_6  arrival_date_day_of_month_7  \\\n",
       "4472                             0                            0   \n",
       "29110                            0                            0   \n",
       "35951                            0                            0   \n",
       "44496                            0                            0   \n",
       "24216                            0                            0   \n",
       "\n",
       "       arrival_date_day_of_month_8  arrival_date_day_of_month_9  \\\n",
       "4472                             0                            0   \n",
       "29110                            0                            0   \n",
       "35951                            0                            0   \n",
       "44496                            0                            0   \n",
       "24216                            0                            1   \n",
       "\n",
       "       arrival_date_day_of_month_10  arrival_date_day_of_month_11  \\\n",
       "4472                              0                             0   \n",
       "29110                             0                             0   \n",
       "35951                             0                             0   \n",
       "44496                             0                             0   \n",
       "24216                             0                             0   \n",
       "\n",
       "       arrival_date_day_of_month_12  arrival_date_day_of_month_13  \\\n",
       "4472                              0                             0   \n",
       "29110                             0                             0   \n",
       "35951                             0                             0   \n",
       "44496                             0                             0   \n",
       "24216                             0                             0   \n",
       "\n",
       "       arrival_date_day_of_month_14  arrival_date_day_of_month_15  \\\n",
       "4472                              0                             0   \n",
       "29110                             0                             1   \n",
       "35951                             0                             0   \n",
       "44496                             0                             0   \n",
       "24216                             0                             0   \n",
       "\n",
       "       arrival_date_day_of_month_16  arrival_date_day_of_month_17  \\\n",
       "4472                              0                             0   \n",
       "29110                             0                             0   \n",
       "35951                             0                             0   \n",
       "44496                             0                             0   \n",
       "24216                             0                             0   \n",
       "\n",
       "       arrival_date_day_of_month_18  arrival_date_day_of_month_19  \\\n",
       "4472                              0                             0   \n",
       "29110                             0                             0   \n",
       "35951                             0                             0   \n",
       "44496                             0                             0   \n",
       "24216                             0                             0   \n",
       "\n",
       "       arrival_date_day_of_month_20  arrival_date_day_of_month_21  \\\n",
       "4472                              0                             0   \n",
       "29110                             0                             0   \n",
       "35951                             0                             0   \n",
       "44496                             0                             0   \n",
       "24216                             0                             0   \n",
       "\n",
       "       arrival_date_day_of_month_22  arrival_date_day_of_month_23  \\\n",
       "4472                              0                             0   \n",
       "29110                             0                             0   \n",
       "35951                             0                             0   \n",
       "44496                             0                             0   \n",
       "24216                             0                             0   \n",
       "\n",
       "       arrival_date_day_of_month_24  arrival_date_day_of_month_25  \\\n",
       "4472                              0                             0   \n",
       "29110                             0                             0   \n",
       "35951                             0                             0   \n",
       "44496                             0                             0   \n",
       "24216                             0                             0   \n",
       "\n",
       "       arrival_date_day_of_month_26  arrival_date_day_of_month_27  \\\n",
       "4472                              0                             0   \n",
       "29110                             0                             0   \n",
       "35951                             0                             1   \n",
       "44496                             0                             0   \n",
       "24216                             0                             0   \n",
       "\n",
       "       arrival_date_day_of_month_28  arrival_date_day_of_month_29  \\\n",
       "4472                              0                             0   \n",
       "29110                             0                             0   \n",
       "35951                             0                             0   \n",
       "44496                             1                             0   \n",
       "24216                             0                             0   \n",
       "\n",
       "       arrival_date_day_of_month_30  arrival_date_day_of_month_31  \\\n",
       "4472                              0                             0   \n",
       "29110                             0                             0   \n",
       "35951                             0                             0   \n",
       "44496                             0                             0   \n",
       "24216                             0                             0   \n",
       "\n",
       "       reserved_room_type_B  reserved_room_type_C  reserved_room_type_D  \\\n",
       "4472                      0                     0                     0   \n",
       "29110                     0                     0                     0   \n",
       "35951                     0                     0                     0   \n",
       "44496                     0                     0                     0   \n",
       "24216                     0                     0                     0   \n",
       "\n",
       "       reserved_room_type_E  reserved_room_type_F  reserved_room_type_G  \\\n",
       "4472                      1                     0                     0   \n",
       "29110                     0                     0                     0   \n",
       "35951                     0                     0                     0   \n",
       "44496                     0                     0                     0   \n",
       "24216                     0                     0                     0   \n",
       "\n",
       "       total_of_special_requests_1  total_of_special_requests_2  \\\n",
       "4472                             0                            0   \n",
       "29110                            0                            0   \n",
       "35951                            0                            0   \n",
       "44496                            0                            0   \n",
       "24216                            1                            0   \n",
       "\n",
       "       total_of_special_requests_3  total_of_special_requests_4  \\\n",
       "4472                             1                            0   \n",
       "29110                            0                            0   \n",
       "35951                            0                            0   \n",
       "44496                            0                            0   \n",
       "24216                            0                            0   \n",
       "\n",
       "       total_of_special_requests_5  adults_1.0  adults_2.0  adults_3.0  \\\n",
       "4472                             0           0           1           0   \n",
       "29110                            0           1           0           0   \n",
       "35951                            0           0           1           0   \n",
       "44496                            0           0           1           0   \n",
       "24216                            0           0           1           0   \n",
       "\n",
       "       adults_4.0  children_1.0  children_2.0  children_3.0  babies_1.0  \\\n",
       "4472            0             0             0             0           0   \n",
       "29110           0             0             0             0           0   \n",
       "35951           0             0             0             0           0   \n",
       "44496           0             0             0             0           0   \n",
       "24216           0             0             0             0           0   \n",
       "\n",
       "       babies_2.0  babies_9.0  babies_10.0  meal_FB  meal_HB  meal_SC  \\\n",
       "4472            0           0            0        0        1        0   \n",
       "29110           0           0            0        0        0        0   \n",
       "35951           0           0            0        0        0        0   \n",
       "44496           0           0            0        0        0        0   \n",
       "24216           0           0            0        0        0        0   \n",
       "\n",
       "       country_AGO  country_ALB  country_AND  country_ARE  country_ARG  \\\n",
       "4472             0            0            0            0            0   \n",
       "29110            0            0            0            0            0   \n",
       "35951            0            0            0            0            0   \n",
       "44496            0            0            0            0            0   \n",
       "24216            0            0            0            0            0   \n",
       "\n",
       "       country_ARM  country_ATA  country_AUS  country_AUT  country_AZE  \\\n",
       "4472             0            0            0            0            0   \n",
       "29110            0            0            0            0            0   \n",
       "35951            0            0            0            0            0   \n",
       "44496            0            0            0            0            0   \n",
       "24216            0            0            0            0            0   \n",
       "\n",
       "       country_BDI  country_BEL  country_BEN  country_BFA  country_BGD  \\\n",
       "4472             0            0            0            0            0   \n",
       "29110            0            0            0            0            0   \n",
       "35951            0            0            0            0            0   \n",
       "44496            0            0            0            0            0   \n",
       "24216            0            0            0            0            0   \n",
       "\n",
       "       country_BGR  country_BHR  country_BIH  country_BLR  country_BOL  \\\n",
       "4472             0            0            0            0            0   \n",
       "29110            0            0            0            0            0   \n",
       "35951            0            0            0            0            0   \n",
       "44496            0            0            0            0            0   \n",
       "24216            0            0            0            0            0   \n",
       "\n",
       "       country_BRA  country_BRB  country_BWA  country_CHE  country_CHL  \\\n",
       "4472             0            0            0            0            0   \n",
       "29110            0            0            0            0            0   \n",
       "35951            0            0            0            0            0   \n",
       "44496            0            0            0            0            0   \n",
       "24216            0            0            0            0            0   \n",
       "\n",
       "       country_CHN  country_CIV  country_CMR  country_CN  country_COL  \\\n",
       "4472             0            0            0           0            0   \n",
       "29110            0            0            0           0            0   \n",
       "35951            0            0            0           0            0   \n",
       "44496            0            0            0           0            0   \n",
       "24216            0            0            0           0            0   \n",
       "\n",
       "       country_CPV  country_CRI  country_CUB  country_CYM  country_CYP  \\\n",
       "4472             0            0            0            0            0   \n",
       "29110            0            0            0            0            0   \n",
       "35951            0            0            0            0            0   \n",
       "44496            0            0            0            0            0   \n",
       "24216            0            0            0            0            0   \n",
       "\n",
       "       country_CZE  country_DEU  country_DMA  country_DNK  country_DOM  \\\n",
       "4472             0            0            0            0            0   \n",
       "29110            0            0            0            0            0   \n",
       "35951            0            0            0            0            0   \n",
       "44496            0            0            0            0            0   \n",
       "24216            0            0            0            0            0   \n",
       "\n",
       "       country_DZA  country_ECU  country_EGY  country_ESP  country_EST  \\\n",
       "4472             0            0            0            0            0   \n",
       "29110            0            0            0            0            0   \n",
       "35951            0            0            0            0            0   \n",
       "44496            0            0            0            0            0   \n",
       "24216            0            0            0            0            0   \n",
       "\n",
       "       country_ETH  country_FIN  country_FRA  country_GAB  country_GBR  \\\n",
       "4472             0            0            0            0            1   \n",
       "29110            0            0            0            0            0   \n",
       "35951            0            0            0            0            0   \n",
       "44496            0            0            0            0            0   \n",
       "24216            0            0            0            0            0   \n",
       "\n",
       "       country_GEO  country_GGY  country_GIB  country_GLP  country_GNB  \\\n",
       "4472             0            0            0            0            0   \n",
       "29110            0            0            0            0            0   \n",
       "35951            0            0            0            0            0   \n",
       "44496            0            0            0            0            0   \n",
       "24216            0            0            0            0            0   \n",
       "\n",
       "       country_GRC  country_GUY  country_HKG  country_HND  country_HRV  \\\n",
       "4472             0            0            0            0            0   \n",
       "29110            0            0            0            0            0   \n",
       "35951            0            0            0            0            0   \n",
       "44496            0            0            0            0            0   \n",
       "24216            0            0            0            0            0   \n",
       "\n",
       "       country_HUN  country_IDN  country_IMN  country_IND  country_IRL  \\\n",
       "4472             0            0            0            0            0   \n",
       "29110            0            0            0            0            0   \n",
       "35951            0            0            0            0            0   \n",
       "44496            0            0            0            0            0   \n",
       "24216            0            0            0            0            0   \n",
       "\n",
       "       country_IRN  country_IRQ  country_ISL  country_ISR  country_ITA  \\\n",
       "4472             0            0            0            0            0   \n",
       "29110            0            0            0            0            0   \n",
       "35951            0            0            0            0            0   \n",
       "44496            0            0            0            0            0   \n",
       "24216            0            0            0            0            0   \n",
       "\n",
       "       country_JAM  country_JEY  country_JOR  country_JPN  country_KAZ  \\\n",
       "4472             0            0            0            0            0   \n",
       "29110            0            0            0            0            0   \n",
       "35951            0            0            0            0            0   \n",
       "44496            0            0            0            0            0   \n",
       "24216            0            0            0            0            0   \n",
       "\n",
       "       country_KEN  country_KHM  country_KNA  country_KOR  country_KWT  \\\n",
       "4472             0            0            0            0            0   \n",
       "29110            0            0            0            0            0   \n",
       "35951            0            0            0            0            0   \n",
       "44496            0            0            0            0            0   \n",
       "24216            0            0            0            0            0   \n",
       "\n",
       "       country_LBN  country_LBY  country_LCA  country_LIE  country_LKA  \\\n",
       "4472             0            0            0            0            0   \n",
       "29110            0            0            0            0            0   \n",
       "35951            0            0            0            0            0   \n",
       "44496            0            0            0            0            0   \n",
       "24216            0            0            0            0            0   \n",
       "\n",
       "       country_LTU  country_LUX  country_LVA  country_MAC  country_MAR  \\\n",
       "4472             0            0            0            0            0   \n",
       "29110            0            0            0            0            0   \n",
       "35951            0            0            0            0            0   \n",
       "44496            0            0            0            0            0   \n",
       "24216            0            0            0            0            0   \n",
       "\n",
       "       country_MCO  country_MDV  country_MEX  country_MKD  country_MLI  \\\n",
       "4472             0            0            0            0            0   \n",
       "29110            0            0            0            0            0   \n",
       "35951            0            0            0            0            0   \n",
       "44496            0            0            0            0            0   \n",
       "24216            0            0            0            0            0   \n",
       "\n",
       "       country_MLT  country_MMR  country_MNE  country_MOZ  country_MUS  \\\n",
       "4472             0            0            0            0            0   \n",
       "29110            0            0            0            0            0   \n",
       "35951            0            0            0            0            0   \n",
       "44496            0            0            0            0            0   \n",
       "24216            0            0            0            0            0   \n",
       "\n",
       "       country_MWI  country_MYS  country_NAM  country_NGA  country_NIC  \\\n",
       "4472             0            0            0            0            0   \n",
       "29110            0            0            0            0            0   \n",
       "35951            0            0            0            0            0   \n",
       "44496            0            0            0            0            0   \n",
       "24216            0            0            0            0            0   \n",
       "\n",
       "       country_NLD  country_NOR  country_NZL  country_OMN  country_PAK  \\\n",
       "4472             0            0            0            0            0   \n",
       "29110            0            0            0            0            0   \n",
       "35951            0            0            0            0            0   \n",
       "44496            0            0            0            0            0   \n",
       "24216            0            0            0            0            0   \n",
       "\n",
       "       country_PAN  country_PER  country_PHL  country_PLW  country_POL  \\\n",
       "4472             0            0            0            0            0   \n",
       "29110            0            0            0            0            0   \n",
       "35951            0            0            0            0            0   \n",
       "44496            0            0            0            0            0   \n",
       "24216            0            0            0            0            0   \n",
       "\n",
       "       country_PRI  country_PRT  country_PRY  country_PYF  country_QAT  \\\n",
       "4472             0            0            0            0            0   \n",
       "29110            0            1            0            0            0   \n",
       "35951            0            1            0            0            0   \n",
       "44496            0            1            0            0            0   \n",
       "24216            0            1            0            0            0   \n",
       "\n",
       "       country_ROU  country_RUS  country_RWA  country_SAU  country_SEN  \\\n",
       "4472             0            0            0            0            0   \n",
       "29110            0            0            0            0            0   \n",
       "35951            0            0            0            0            0   \n",
       "44496            0            0            0            0            0   \n",
       "24216            0            0            0            0            0   \n",
       "\n",
       "       country_SGP  country_SLV  country_SMR  country_SRB  country_STP  \\\n",
       "4472             0            0            0            0            0   \n",
       "29110            0            0            0            0            0   \n",
       "35951            0            0            0            0            0   \n",
       "44496            0            0            0            0            0   \n",
       "24216            0            0            0            0            0   \n",
       "\n",
       "       country_SUR  country_SVK  country_SVN  country_SWE  country_SYC  \\\n",
       "4472             0            0            0            0            0   \n",
       "29110            0            0            0            0            0   \n",
       "35951            0            0            0            0            0   \n",
       "44496            0            0            0            0            0   \n",
       "24216            0            0            0            0            0   \n",
       "\n",
       "       country_SYR  country_THA  country_TJK  country_TMP  country_TUN  \\\n",
       "4472             0            0            0            0            0   \n",
       "29110            0            0            0            0            0   \n",
       "35951            0            0            0            0            0   \n",
       "44496            0            0            0            0            0   \n",
       "24216            0            0            0            0            0   \n",
       "\n",
       "       country_TUR  country_TWN  country_TZA  country_UGA  country_UKR  \\\n",
       "4472             0            0            0            0            0   \n",
       "29110            0            0            0            0            0   \n",
       "35951            0            0            0            0            0   \n",
       "44496            0            0            0            0            0   \n",
       "24216            0            0            0            0            0   \n",
       "\n",
       "       country_URY  country_USA  country_UZB  country_VEN  country_VGB  \\\n",
       "4472             0            0            0            0            0   \n",
       "29110            0            0            0            0            0   \n",
       "35951            0            0            0            0            0   \n",
       "44496            0            0            0            0            0   \n",
       "24216            0            0            0            0            0   \n",
       "\n",
       "       country_VNM  country_ZAF  country_ZMB  country_ZWE  \\\n",
       "4472             0            0            0            0   \n",
       "29110            0            0            0            0   \n",
       "35951            0            0            0            0   \n",
       "44496            0            0            0            0   \n",
       "24216            0            0            0            0   \n",
       "\n",
       "       distribution_channel_Direct  distribution_channel_GDS  \\\n",
       "4472                             0                         0   \n",
       "29110                            0                         0   \n",
       "35951                            0                         0   \n",
       "44496                            0                         0   \n",
       "24216                            0                         0   \n",
       "\n",
       "       distribution_channel_TA/TO  customer_type_Group  \\\n",
       "4472                            1                    0   \n",
       "29110                           1                    0   \n",
       "35951                           1                    0   \n",
       "44496                           1                    0   \n",
       "24216                           0                    0   \n",
       "\n",
       "       customer_type_Transient  customer_type_Transient-Party  \n",
       "4472                         0                              0  \n",
       "29110                        1                              0  \n",
       "35951                        0                              1  \n",
       "44496                        1                              0  \n",
       "24216                        0                              1  "
      ]
     },
     "metadata": {},
     "output_type": "display_data"
    },
    {
     "data": {
      "text/html": [
       "<div>\n",
       "<style scoped>\n",
       "    .dataframe tbody tr th:only-of-type {\n",
       "        vertical-align: middle;\n",
       "    }\n",
       "\n",
       "    .dataframe tbody tr th {\n",
       "        vertical-align: top;\n",
       "    }\n",
       "\n",
       "    .dataframe thead th {\n",
       "        text-align: right;\n",
       "    }\n",
       "</style>\n",
       "<table border=\"1\" class=\"dataframe\">\n",
       "  <thead>\n",
       "    <tr style=\"text-align: right;\">\n",
       "      <th></th>\n",
       "      <th>lead_time</th>\n",
       "      <th>stays_in_weekend_nights</th>\n",
       "      <th>stays_in_week_nights</th>\n",
       "      <th>is_repeated_guest</th>\n",
       "      <th>previous_cancellations</th>\n",
       "      <th>previous_bookings_not_canceled</th>\n",
       "      <th>booking_changes</th>\n",
       "      <th>days_in_waiting_list</th>\n",
       "      <th>required_car_parking_spaces</th>\n",
       "      <th>total_nights</th>\n",
       "      <th>room_value_season</th>\n",
       "      <th>service_room_one_day</th>\n",
       "      <th>service_room_all_days</th>\n",
       "      <th>room_value_total</th>\n",
       "      <th>room_profit</th>\n",
       "      <th>September</th>\n",
       "      <th>October</th>\n",
       "      <th>November</th>\n",
       "      <th>December</th>\n",
       "      <th>BWA</th>\n",
       "      <th>SMR</th>\n",
       "      <th>CYM</th>\n",
       "      <th>GGY</th>\n",
       "      <th>ARM</th>\n",
       "      <th>OMN</th>\n",
       "      <th>BDI</th>\n",
       "      <th>PLW</th>\n",
       "      <th>MWI</th>\n",
       "      <th>KNA</th>\n",
       "      <th>HND</th>\n",
       "      <th>GEO</th>\n",
       "      <th>ZMB</th>\n",
       "      <th>KHM</th>\n",
       "      <th>NIC</th>\n",
       "      <th>VGB</th>\n",
       "      <th>MKD</th>\n",
       "      <th>TMP</th>\n",
       "      <th>GLP</th>\n",
       "      <th>MMR</th>\n",
       "      <th>BFA</th>\n",
       "      <th>MLI</th>\n",
       "      <th>NAM</th>\n",
       "      <th>BOL</th>\n",
       "      <th>BRB</th>\n",
       "      <th>DMA</th>\n",
       "      <th>PYF</th>\n",
       "      <th>UGA</th>\n",
       "      <th>GUY</th>\n",
       "      <th>LCA</th>\n",
       "      <th>RWA</th>\n",
       "      <th>2015</th>\n",
       "      <th>2016</th>\n",
       "      <th>arrival_date_month_number_2</th>\n",
       "      <th>arrival_date_month_number_3</th>\n",
       "      <th>arrival_date_month_number_4</th>\n",
       "      <th>arrival_date_month_number_5</th>\n",
       "      <th>arrival_date_month_number_6</th>\n",
       "      <th>arrival_date_month_number_7</th>\n",
       "      <th>arrival_date_month_number_8</th>\n",
       "      <th>arrival_date_week_number_2</th>\n",
       "      <th>arrival_date_week_number_3</th>\n",
       "      <th>arrival_date_week_number_4</th>\n",
       "      <th>arrival_date_week_number_5</th>\n",
       "      <th>arrival_date_week_number_6</th>\n",
       "      <th>arrival_date_week_number_7</th>\n",
       "      <th>arrival_date_week_number_8</th>\n",
       "      <th>arrival_date_week_number_9</th>\n",
       "      <th>arrival_date_week_number_10</th>\n",
       "      <th>arrival_date_week_number_11</th>\n",
       "      <th>arrival_date_week_number_12</th>\n",
       "      <th>arrival_date_week_number_13</th>\n",
       "      <th>arrival_date_week_number_14</th>\n",
       "      <th>arrival_date_week_number_15</th>\n",
       "      <th>arrival_date_week_number_16</th>\n",
       "      <th>arrival_date_week_number_17</th>\n",
       "      <th>arrival_date_week_number_18</th>\n",
       "      <th>arrival_date_week_number_19</th>\n",
       "      <th>arrival_date_week_number_20</th>\n",
       "      <th>arrival_date_week_number_21</th>\n",
       "      <th>arrival_date_week_number_22</th>\n",
       "      <th>arrival_date_week_number_23</th>\n",
       "      <th>arrival_date_week_number_24</th>\n",
       "      <th>arrival_date_week_number_25</th>\n",
       "      <th>arrival_date_week_number_26</th>\n",
       "      <th>arrival_date_week_number_27</th>\n",
       "      <th>arrival_date_week_number_28</th>\n",
       "      <th>arrival_date_week_number_29</th>\n",
       "      <th>arrival_date_week_number_30</th>\n",
       "      <th>arrival_date_week_number_31</th>\n",
       "      <th>arrival_date_week_number_32</th>\n",
       "      <th>arrival_date_week_number_33</th>\n",
       "      <th>arrival_date_week_number_34</th>\n",
       "      <th>arrival_date_week_number_35</th>\n",
       "      <th>arrival_date_day_of_month_2</th>\n",
       "      <th>arrival_date_day_of_month_3</th>\n",
       "      <th>arrival_date_day_of_month_4</th>\n",
       "      <th>arrival_date_day_of_month_5</th>\n",
       "      <th>arrival_date_day_of_month_6</th>\n",
       "      <th>arrival_date_day_of_month_7</th>\n",
       "      <th>arrival_date_day_of_month_8</th>\n",
       "      <th>arrival_date_day_of_month_9</th>\n",
       "      <th>arrival_date_day_of_month_10</th>\n",
       "      <th>arrival_date_day_of_month_11</th>\n",
       "      <th>arrival_date_day_of_month_12</th>\n",
       "      <th>arrival_date_day_of_month_13</th>\n",
       "      <th>arrival_date_day_of_month_14</th>\n",
       "      <th>arrival_date_day_of_month_15</th>\n",
       "      <th>arrival_date_day_of_month_16</th>\n",
       "      <th>arrival_date_day_of_month_17</th>\n",
       "      <th>arrival_date_day_of_month_18</th>\n",
       "      <th>arrival_date_day_of_month_19</th>\n",
       "      <th>arrival_date_day_of_month_20</th>\n",
       "      <th>arrival_date_day_of_month_21</th>\n",
       "      <th>arrival_date_day_of_month_22</th>\n",
       "      <th>arrival_date_day_of_month_23</th>\n",
       "      <th>arrival_date_day_of_month_24</th>\n",
       "      <th>arrival_date_day_of_month_25</th>\n",
       "      <th>arrival_date_day_of_month_26</th>\n",
       "      <th>arrival_date_day_of_month_27</th>\n",
       "      <th>arrival_date_day_of_month_28</th>\n",
       "      <th>arrival_date_day_of_month_29</th>\n",
       "      <th>arrival_date_day_of_month_30</th>\n",
       "      <th>arrival_date_day_of_month_31</th>\n",
       "      <th>reserved_room_type_B</th>\n",
       "      <th>reserved_room_type_C</th>\n",
       "      <th>reserved_room_type_D</th>\n",
       "      <th>reserved_room_type_E</th>\n",
       "      <th>reserved_room_type_F</th>\n",
       "      <th>reserved_room_type_G</th>\n",
       "      <th>total_of_special_requests_1</th>\n",
       "      <th>total_of_special_requests_2</th>\n",
       "      <th>total_of_special_requests_3</th>\n",
       "      <th>total_of_special_requests_4</th>\n",
       "      <th>total_of_special_requests_5</th>\n",
       "      <th>adults_1.0</th>\n",
       "      <th>adults_2.0</th>\n",
       "      <th>adults_3.0</th>\n",
       "      <th>adults_4.0</th>\n",
       "      <th>children_1.0</th>\n",
       "      <th>children_2.0</th>\n",
       "      <th>children_3.0</th>\n",
       "      <th>babies_1.0</th>\n",
       "      <th>babies_2.0</th>\n",
       "      <th>meal_FB</th>\n",
       "      <th>meal_HB</th>\n",
       "      <th>meal_SC</th>\n",
       "      <th>country_AGO</th>\n",
       "      <th>country_ALB</th>\n",
       "      <th>country_AND</th>\n",
       "      <th>country_ARE</th>\n",
       "      <th>country_ARG</th>\n",
       "      <th>country_ASM</th>\n",
       "      <th>country_ATA</th>\n",
       "      <th>country_ATF</th>\n",
       "      <th>country_AUS</th>\n",
       "      <th>country_AUT</th>\n",
       "      <th>country_AZE</th>\n",
       "      <th>country_BEL</th>\n",
       "      <th>country_BEN</th>\n",
       "      <th>country_BGD</th>\n",
       "      <th>country_BGR</th>\n",
       "      <th>country_BHR</th>\n",
       "      <th>country_BHS</th>\n",
       "      <th>country_BIH</th>\n",
       "      <th>country_BLR</th>\n",
       "      <th>country_BRA</th>\n",
       "      <th>country_CAF</th>\n",
       "      <th>country_CHE</th>\n",
       "      <th>country_CHL</th>\n",
       "      <th>country_CHN</th>\n",
       "      <th>country_CIV</th>\n",
       "      <th>country_CMR</th>\n",
       "      <th>country_CN</th>\n",
       "      <th>country_COL</th>\n",
       "      <th>country_CPV</th>\n",
       "      <th>country_CRI</th>\n",
       "      <th>country_CUB</th>\n",
       "      <th>country_CYP</th>\n",
       "      <th>country_CZE</th>\n",
       "      <th>country_DEU</th>\n",
       "      <th>country_DNK</th>\n",
       "      <th>country_DOM</th>\n",
       "      <th>country_DZA</th>\n",
       "      <th>country_ECU</th>\n",
       "      <th>country_EGY</th>\n",
       "      <th>country_ESP</th>\n",
       "      <th>country_EST</th>\n",
       "      <th>country_ETH</th>\n",
       "      <th>country_FIN</th>\n",
       "      <th>country_FJI</th>\n",
       "      <th>country_FRA</th>\n",
       "      <th>country_FRO</th>\n",
       "      <th>country_GAB</th>\n",
       "      <th>country_GBR</th>\n",
       "      <th>country_GHA</th>\n",
       "      <th>country_GIB</th>\n",
       "      <th>country_GNB</th>\n",
       "      <th>country_GRC</th>\n",
       "      <th>country_GTM</th>\n",
       "      <th>country_HKG</th>\n",
       "      <th>country_HRV</th>\n",
       "      <th>country_HUN</th>\n",
       "      <th>country_IDN</th>\n",
       "      <th>country_IMN</th>\n",
       "      <th>country_IND</th>\n",
       "      <th>country_IRL</th>\n",
       "      <th>country_IRN</th>\n",
       "      <th>country_IRQ</th>\n",
       "      <th>country_ISL</th>\n",
       "      <th>country_ISR</th>\n",
       "      <th>country_ITA</th>\n",
       "      <th>country_JAM</th>\n",
       "      <th>country_JEY</th>\n",
       "      <th>country_JOR</th>\n",
       "      <th>country_JPN</th>\n",
       "      <th>country_KAZ</th>\n",
       "      <th>country_KEN</th>\n",
       "      <th>country_KIR</th>\n",
       "      <th>country_KOR</th>\n",
       "      <th>country_KWT</th>\n",
       "      <th>country_LAO</th>\n",
       "      <th>country_LBN</th>\n",
       "      <th>country_LBY</th>\n",
       "      <th>country_LIE</th>\n",
       "      <th>country_LKA</th>\n",
       "      <th>country_LTU</th>\n",
       "      <th>country_LUX</th>\n",
       "      <th>country_LVA</th>\n",
       "      <th>country_MAC</th>\n",
       "      <th>country_MAR</th>\n",
       "      <th>country_MCO</th>\n",
       "      <th>country_MDG</th>\n",
       "      <th>country_MDV</th>\n",
       "      <th>country_MEX</th>\n",
       "      <th>country_MLT</th>\n",
       "      <th>country_MNE</th>\n",
       "      <th>country_MOZ</th>\n",
       "      <th>country_MRT</th>\n",
       "      <th>country_MUS</th>\n",
       "      <th>country_MYS</th>\n",
       "      <th>country_MYT</th>\n",
       "      <th>country_NCL</th>\n",
       "      <th>country_NGA</th>\n",
       "      <th>country_NLD</th>\n",
       "      <th>country_NOR</th>\n",
       "      <th>country_NPL</th>\n",
       "      <th>country_NZL</th>\n",
       "      <th>country_PAK</th>\n",
       "      <th>country_PAN</th>\n",
       "      <th>country_PER</th>\n",
       "      <th>country_PHL</th>\n",
       "      <th>country_POL</th>\n",
       "      <th>country_PRI</th>\n",
       "      <th>country_PRT</th>\n",
       "      <th>country_PRY</th>\n",
       "      <th>country_QAT</th>\n",
       "      <th>country_ROU</th>\n",
       "      <th>country_RUS</th>\n",
       "      <th>country_SAU</th>\n",
       "      <th>country_SDN</th>\n",
       "      <th>country_SEN</th>\n",
       "      <th>country_SGP</th>\n",
       "      <th>country_SLE</th>\n",
       "      <th>country_SLV</th>\n",
       "      <th>country_SRB</th>\n",
       "      <th>country_STP</th>\n",
       "      <th>country_SUR</th>\n",
       "      <th>country_SVK</th>\n",
       "      <th>country_SVN</th>\n",
       "      <th>country_SWE</th>\n",
       "      <th>country_SYC</th>\n",
       "      <th>country_SYR</th>\n",
       "      <th>country_TGO</th>\n",
       "      <th>country_THA</th>\n",
       "      <th>country_TJK</th>\n",
       "      <th>country_TUN</th>\n",
       "      <th>country_TUR</th>\n",
       "      <th>country_TWN</th>\n",
       "      <th>country_TZA</th>\n",
       "      <th>country_UKR</th>\n",
       "      <th>country_UMI</th>\n",
       "      <th>country_URY</th>\n",
       "      <th>country_USA</th>\n",
       "      <th>country_UZB</th>\n",
       "      <th>country_VEN</th>\n",
       "      <th>country_VNM</th>\n",
       "      <th>country_ZAF</th>\n",
       "      <th>country_ZWE</th>\n",
       "      <th>distribution_channel_Direct</th>\n",
       "      <th>distribution_channel_GDS</th>\n",
       "      <th>distribution_channel_TA/TO</th>\n",
       "      <th>customer_type_Group</th>\n",
       "      <th>customer_type_Transient</th>\n",
       "      <th>customer_type_Transient-Party</th>\n",
       "    </tr>\n",
       "  </thead>\n",
       "  <tbody>\n",
       "    <tr>\n",
       "      <th>0</th>\n",
       "      <td>-0.233446</td>\n",
       "      <td>0.204019</td>\n",
       "      <td>-1.638882</td>\n",
       "      <td>0</td>\n",
       "      <td>0</td>\n",
       "      <td>0</td>\n",
       "      <td>0</td>\n",
       "      <td>-0.183664</td>\n",
       "      <td>0</td>\n",
       "      <td>-1.178129</td>\n",
       "      <td>-0.345834</td>\n",
       "      <td>0.524876</td>\n",
       "      <td>-0.533867</td>\n",
       "      <td>-1.138805</td>\n",
       "      <td>-1.258385</td>\n",
       "      <td>0</td>\n",
       "      <td>0</td>\n",
       "      <td>0</td>\n",
       "      <td>0</td>\n",
       "      <td>0</td>\n",
       "      <td>0</td>\n",
       "      <td>0</td>\n",
       "      <td>0</td>\n",
       "      <td>0</td>\n",
       "      <td>0</td>\n",
       "      <td>0</td>\n",
       "      <td>0</td>\n",
       "      <td>0</td>\n",
       "      <td>0</td>\n",
       "      <td>0</td>\n",
       "      <td>0</td>\n",
       "      <td>0</td>\n",
       "      <td>0</td>\n",
       "      <td>0</td>\n",
       "      <td>0</td>\n",
       "      <td>0</td>\n",
       "      <td>0</td>\n",
       "      <td>0</td>\n",
       "      <td>0</td>\n",
       "      <td>0</td>\n",
       "      <td>0</td>\n",
       "      <td>0</td>\n",
       "      <td>0</td>\n",
       "      <td>0</td>\n",
       "      <td>0</td>\n",
       "      <td>0</td>\n",
       "      <td>0</td>\n",
       "      <td>0</td>\n",
       "      <td>0</td>\n",
       "      <td>0</td>\n",
       "      <td>0</td>\n",
       "      <td>0</td>\n",
       "      <td>0</td>\n",
       "      <td>0</td>\n",
       "      <td>0</td>\n",
       "      <td>0</td>\n",
       "      <td>0</td>\n",
       "      <td>0</td>\n",
       "      <td>0</td>\n",
       "      <td>0</td>\n",
       "      <td>0</td>\n",
       "      <td>0</td>\n",
       "      <td>0</td>\n",
       "      <td>0</td>\n",
       "      <td>0</td>\n",
       "      <td>0</td>\n",
       "      <td>0</td>\n",
       "      <td>0</td>\n",
       "      <td>0</td>\n",
       "      <td>0</td>\n",
       "      <td>0</td>\n",
       "      <td>0</td>\n",
       "      <td>0</td>\n",
       "      <td>0</td>\n",
       "      <td>0</td>\n",
       "      <td>0</td>\n",
       "      <td>0</td>\n",
       "      <td>0</td>\n",
       "      <td>0</td>\n",
       "      <td>0</td>\n",
       "      <td>0</td>\n",
       "      <td>0</td>\n",
       "      <td>0</td>\n",
       "      <td>0</td>\n",
       "      <td>0</td>\n",
       "      <td>0</td>\n",
       "      <td>0</td>\n",
       "      <td>0</td>\n",
       "      <td>0</td>\n",
       "      <td>0</td>\n",
       "      <td>0</td>\n",
       "      <td>0</td>\n",
       "      <td>0</td>\n",
       "      <td>0</td>\n",
       "      <td>0</td>\n",
       "      <td>0</td>\n",
       "      <td>0</td>\n",
       "      <td>0</td>\n",
       "      <td>0</td>\n",
       "      <td>0</td>\n",
       "      <td>0</td>\n",
       "      <td>0</td>\n",
       "      <td>0</td>\n",
       "      <td>0</td>\n",
       "      <td>0</td>\n",
       "      <td>0</td>\n",
       "      <td>0</td>\n",
       "      <td>0</td>\n",
       "      <td>0</td>\n",
       "      <td>0</td>\n",
       "      <td>0</td>\n",
       "      <td>0</td>\n",
       "      <td>0</td>\n",
       "      <td>0</td>\n",
       "      <td>0</td>\n",
       "      <td>0</td>\n",
       "      <td>0</td>\n",
       "      <td>0</td>\n",
       "      <td>0</td>\n",
       "      <td>0</td>\n",
       "      <td>0</td>\n",
       "      <td>0</td>\n",
       "      <td>0</td>\n",
       "      <td>0</td>\n",
       "      <td>0</td>\n",
       "      <td>0</td>\n",
       "      <td>0</td>\n",
       "      <td>0</td>\n",
       "      <td>0</td>\n",
       "      <td>0</td>\n",
       "      <td>0</td>\n",
       "      <td>0</td>\n",
       "      <td>0</td>\n",
       "      <td>0</td>\n",
       "      <td>0</td>\n",
       "      <td>1</td>\n",
       "      <td>0</td>\n",
       "      <td>0</td>\n",
       "      <td>0</td>\n",
       "      <td>0</td>\n",
       "      <td>0</td>\n",
       "      <td>0</td>\n",
       "      <td>0</td>\n",
       "      <td>0</td>\n",
       "      <td>0</td>\n",
       "      <td>0</td>\n",
       "      <td>0</td>\n",
       "      <td>0</td>\n",
       "      <td>0</td>\n",
       "      <td>0</td>\n",
       "      <td>0</td>\n",
       "      <td>0</td>\n",
       "      <td>0</td>\n",
       "      <td>0</td>\n",
       "      <td>0</td>\n",
       "      <td>0</td>\n",
       "      <td>0</td>\n",
       "      <td>0</td>\n",
       "      <td>0</td>\n",
       "      <td>0</td>\n",
       "      <td>0</td>\n",
       "      <td>0</td>\n",
       "      <td>0</td>\n",
       "      <td>0</td>\n",
       "      <td>0</td>\n",
       "      <td>0</td>\n",
       "      <td>0</td>\n",
       "      <td>0</td>\n",
       "      <td>0</td>\n",
       "      <td>0</td>\n",
       "      <td>0</td>\n",
       "      <td>0</td>\n",
       "      <td>0</td>\n",
       "      <td>0</td>\n",
       "      <td>0</td>\n",
       "      <td>0</td>\n",
       "      <td>0</td>\n",
       "      <td>0</td>\n",
       "      <td>0</td>\n",
       "      <td>0</td>\n",
       "      <td>0</td>\n",
       "      <td>0</td>\n",
       "      <td>0</td>\n",
       "      <td>0</td>\n",
       "      <td>0</td>\n",
       "      <td>0</td>\n",
       "      <td>0</td>\n",
       "      <td>0</td>\n",
       "      <td>0</td>\n",
       "      <td>0</td>\n",
       "      <td>0</td>\n",
       "      <td>0</td>\n",
       "      <td>0</td>\n",
       "      <td>0</td>\n",
       "      <td>0</td>\n",
       "      <td>0</td>\n",
       "      <td>0</td>\n",
       "      <td>0</td>\n",
       "      <td>0</td>\n",
       "      <td>0</td>\n",
       "      <td>0</td>\n",
       "      <td>0</td>\n",
       "      <td>0</td>\n",
       "      <td>0</td>\n",
       "      <td>0</td>\n",
       "      <td>0</td>\n",
       "      <td>0</td>\n",
       "      <td>0</td>\n",
       "      <td>0</td>\n",
       "      <td>0</td>\n",
       "      <td>0</td>\n",
       "      <td>0</td>\n",
       "      <td>0</td>\n",
       "      <td>0</td>\n",
       "      <td>0</td>\n",
       "      <td>0</td>\n",
       "      <td>0</td>\n",
       "      <td>0</td>\n",
       "      <td>0</td>\n",
       "      <td>0</td>\n",
       "      <td>0</td>\n",
       "      <td>0</td>\n",
       "      <td>0</td>\n",
       "      <td>0</td>\n",
       "      <td>0</td>\n",
       "      <td>0</td>\n",
       "      <td>0</td>\n",
       "      <td>0</td>\n",
       "      <td>0</td>\n",
       "      <td>0</td>\n",
       "      <td>0</td>\n",
       "      <td>0</td>\n",
       "      <td>0</td>\n",
       "      <td>0</td>\n",
       "      <td>0</td>\n",
       "      <td>0</td>\n",
       "      <td>0</td>\n",
       "      <td>0</td>\n",
       "      <td>0</td>\n",
       "      <td>0</td>\n",
       "      <td>0</td>\n",
       "      <td>0</td>\n",
       "      <td>0</td>\n",
       "      <td>0</td>\n",
       "      <td>0</td>\n",
       "      <td>0</td>\n",
       "      <td>0</td>\n",
       "      <td>0</td>\n",
       "      <td>0</td>\n",
       "      <td>0</td>\n",
       "      <td>0</td>\n",
       "      <td>0</td>\n",
       "      <td>0</td>\n",
       "      <td>1</td>\n",
       "      <td>0</td>\n",
       "      <td>0</td>\n",
       "      <td>0</td>\n",
       "      <td>0</td>\n",
       "      <td>0</td>\n",
       "      <td>0</td>\n",
       "      <td>0</td>\n",
       "      <td>0</td>\n",
       "      <td>0</td>\n",
       "      <td>0</td>\n",
       "      <td>0</td>\n",
       "      <td>0</td>\n",
       "      <td>0</td>\n",
       "      <td>0</td>\n",
       "      <td>0</td>\n",
       "      <td>0</td>\n",
       "      <td>0</td>\n",
       "      <td>0</td>\n",
       "      <td>0</td>\n",
       "      <td>0</td>\n",
       "      <td>0</td>\n",
       "      <td>0</td>\n",
       "      <td>0</td>\n",
       "      <td>0</td>\n",
       "      <td>0</td>\n",
       "      <td>0</td>\n",
       "      <td>0</td>\n",
       "      <td>0</td>\n",
       "      <td>0</td>\n",
       "      <td>0</td>\n",
       "      <td>0</td>\n",
       "      <td>0</td>\n",
       "      <td>0</td>\n",
       "      <td>0</td>\n",
       "      <td>0</td>\n",
       "      <td>0</td>\n",
       "      <td>1</td>\n",
       "      <td>0</td>\n",
       "      <td>1</td>\n",
       "      <td>0</td>\n",
       "    </tr>\n",
       "    <tr>\n",
       "      <th>1</th>\n",
       "      <td>-0.358098</td>\n",
       "      <td>1.376652</td>\n",
       "      <td>-0.162090</td>\n",
       "      <td>0</td>\n",
       "      <td>0</td>\n",
       "      <td>0</td>\n",
       "      <td>0</td>\n",
       "      <td>-0.183664</td>\n",
       "      <td>0</td>\n",
       "      <td>0.549728</td>\n",
       "      <td>-0.345834</td>\n",
       "      <td>0.524876</td>\n",
       "      <td>0.844062</td>\n",
       "      <td>0.369149</td>\n",
       "      <td>0.253574</td>\n",
       "      <td>0</td>\n",
       "      <td>0</td>\n",
       "      <td>0</td>\n",
       "      <td>0</td>\n",
       "      <td>0</td>\n",
       "      <td>0</td>\n",
       "      <td>0</td>\n",
       "      <td>0</td>\n",
       "      <td>0</td>\n",
       "      <td>0</td>\n",
       "      <td>0</td>\n",
       "      <td>0</td>\n",
       "      <td>0</td>\n",
       "      <td>0</td>\n",
       "      <td>0</td>\n",
       "      <td>0</td>\n",
       "      <td>0</td>\n",
       "      <td>0</td>\n",
       "      <td>0</td>\n",
       "      <td>0</td>\n",
       "      <td>0</td>\n",
       "      <td>0</td>\n",
       "      <td>0</td>\n",
       "      <td>0</td>\n",
       "      <td>0</td>\n",
       "      <td>0</td>\n",
       "      <td>0</td>\n",
       "      <td>0</td>\n",
       "      <td>0</td>\n",
       "      <td>0</td>\n",
       "      <td>0</td>\n",
       "      <td>0</td>\n",
       "      <td>0</td>\n",
       "      <td>0</td>\n",
       "      <td>0</td>\n",
       "      <td>0</td>\n",
       "      <td>0</td>\n",
       "      <td>0</td>\n",
       "      <td>0</td>\n",
       "      <td>0</td>\n",
       "      <td>0</td>\n",
       "      <td>0</td>\n",
       "      <td>0</td>\n",
       "      <td>0</td>\n",
       "      <td>0</td>\n",
       "      <td>0</td>\n",
       "      <td>0</td>\n",
       "      <td>0</td>\n",
       "      <td>0</td>\n",
       "      <td>0</td>\n",
       "      <td>0</td>\n",
       "      <td>0</td>\n",
       "      <td>0</td>\n",
       "      <td>0</td>\n",
       "      <td>0</td>\n",
       "      <td>0</td>\n",
       "      <td>0</td>\n",
       "      <td>0</td>\n",
       "      <td>0</td>\n",
       "      <td>0</td>\n",
       "      <td>0</td>\n",
       "      <td>0</td>\n",
       "      <td>0</td>\n",
       "      <td>0</td>\n",
       "      <td>0</td>\n",
       "      <td>0</td>\n",
       "      <td>0</td>\n",
       "      <td>0</td>\n",
       "      <td>0</td>\n",
       "      <td>0</td>\n",
       "      <td>0</td>\n",
       "      <td>0</td>\n",
       "      <td>0</td>\n",
       "      <td>0</td>\n",
       "      <td>0</td>\n",
       "      <td>0</td>\n",
       "      <td>0</td>\n",
       "      <td>0</td>\n",
       "      <td>0</td>\n",
       "      <td>0</td>\n",
       "      <td>0</td>\n",
       "      <td>0</td>\n",
       "      <td>0</td>\n",
       "      <td>0</td>\n",
       "      <td>0</td>\n",
       "      <td>0</td>\n",
       "      <td>0</td>\n",
       "      <td>0</td>\n",
       "      <td>0</td>\n",
       "      <td>0</td>\n",
       "      <td>0</td>\n",
       "      <td>0</td>\n",
       "      <td>0</td>\n",
       "      <td>0</td>\n",
       "      <td>0</td>\n",
       "      <td>0</td>\n",
       "      <td>0</td>\n",
       "      <td>0</td>\n",
       "      <td>0</td>\n",
       "      <td>0</td>\n",
       "      <td>0</td>\n",
       "      <td>0</td>\n",
       "      <td>0</td>\n",
       "      <td>0</td>\n",
       "      <td>0</td>\n",
       "      <td>0</td>\n",
       "      <td>0</td>\n",
       "      <td>0</td>\n",
       "      <td>0</td>\n",
       "      <td>0</td>\n",
       "      <td>0</td>\n",
       "      <td>0</td>\n",
       "      <td>0</td>\n",
       "      <td>0</td>\n",
       "      <td>1</td>\n",
       "      <td>0</td>\n",
       "      <td>0</td>\n",
       "      <td>0</td>\n",
       "      <td>0</td>\n",
       "      <td>0</td>\n",
       "      <td>1</td>\n",
       "      <td>0</td>\n",
       "      <td>0</td>\n",
       "      <td>0</td>\n",
       "      <td>0</td>\n",
       "      <td>0</td>\n",
       "      <td>0</td>\n",
       "      <td>0</td>\n",
       "      <td>0</td>\n",
       "      <td>0</td>\n",
       "      <td>0</td>\n",
       "      <td>0</td>\n",
       "      <td>0</td>\n",
       "      <td>0</td>\n",
       "      <td>0</td>\n",
       "      <td>0</td>\n",
       "      <td>0</td>\n",
       "      <td>0</td>\n",
       "      <td>0</td>\n",
       "      <td>0</td>\n",
       "      <td>1</td>\n",
       "      <td>0</td>\n",
       "      <td>0</td>\n",
       "      <td>0</td>\n",
       "      <td>0</td>\n",
       "      <td>0</td>\n",
       "      <td>0</td>\n",
       "      <td>0</td>\n",
       "      <td>0</td>\n",
       "      <td>0</td>\n",
       "      <td>0</td>\n",
       "      <td>0</td>\n",
       "      <td>0</td>\n",
       "      <td>0</td>\n",
       "      <td>0</td>\n",
       "      <td>0</td>\n",
       "      <td>0</td>\n",
       "      <td>0</td>\n",
       "      <td>0</td>\n",
       "      <td>0</td>\n",
       "      <td>0</td>\n",
       "      <td>0</td>\n",
       "      <td>0</td>\n",
       "      <td>0</td>\n",
       "      <td>0</td>\n",
       "      <td>0</td>\n",
       "      <td>0</td>\n",
       "      <td>0</td>\n",
       "      <td>0</td>\n",
       "      <td>0</td>\n",
       "      <td>0</td>\n",
       "      <td>0</td>\n",
       "      <td>0</td>\n",
       "      <td>0</td>\n",
       "      <td>0</td>\n",
       "      <td>0</td>\n",
       "      <td>0</td>\n",
       "      <td>0</td>\n",
       "      <td>0</td>\n",
       "      <td>0</td>\n",
       "      <td>0</td>\n",
       "      <td>0</td>\n",
       "      <td>0</td>\n",
       "      <td>0</td>\n",
       "      <td>0</td>\n",
       "      <td>0</td>\n",
       "      <td>0</td>\n",
       "      <td>0</td>\n",
       "      <td>0</td>\n",
       "      <td>0</td>\n",
       "      <td>0</td>\n",
       "      <td>0</td>\n",
       "      <td>0</td>\n",
       "      <td>0</td>\n",
       "      <td>0</td>\n",
       "      <td>0</td>\n",
       "      <td>0</td>\n",
       "      <td>0</td>\n",
       "      <td>0</td>\n",
       "      <td>0</td>\n",
       "      <td>0</td>\n",
       "      <td>0</td>\n",
       "      <td>0</td>\n",
       "      <td>0</td>\n",
       "      <td>0</td>\n",
       "      <td>0</td>\n",
       "      <td>0</td>\n",
       "      <td>0</td>\n",
       "      <td>0</td>\n",
       "      <td>0</td>\n",
       "      <td>0</td>\n",
       "      <td>0</td>\n",
       "      <td>0</td>\n",
       "      <td>0</td>\n",
       "      <td>0</td>\n",
       "      <td>0</td>\n",
       "      <td>0</td>\n",
       "      <td>0</td>\n",
       "      <td>0</td>\n",
       "      <td>0</td>\n",
       "      <td>0</td>\n",
       "      <td>0</td>\n",
       "      <td>0</td>\n",
       "      <td>0</td>\n",
       "      <td>0</td>\n",
       "      <td>0</td>\n",
       "      <td>0</td>\n",
       "      <td>0</td>\n",
       "      <td>0</td>\n",
       "      <td>0</td>\n",
       "      <td>0</td>\n",
       "      <td>0</td>\n",
       "      <td>0</td>\n",
       "      <td>0</td>\n",
       "      <td>0</td>\n",
       "      <td>0</td>\n",
       "      <td>0</td>\n",
       "      <td>0</td>\n",
       "      <td>0</td>\n",
       "      <td>0</td>\n",
       "      <td>0</td>\n",
       "      <td>0</td>\n",
       "      <td>0</td>\n",
       "      <td>0</td>\n",
       "      <td>0</td>\n",
       "      <td>0</td>\n",
       "      <td>0</td>\n",
       "      <td>0</td>\n",
       "      <td>0</td>\n",
       "      <td>0</td>\n",
       "      <td>0</td>\n",
       "      <td>0</td>\n",
       "      <td>0</td>\n",
       "      <td>0</td>\n",
       "      <td>0</td>\n",
       "      <td>0</td>\n",
       "      <td>0</td>\n",
       "      <td>0</td>\n",
       "      <td>0</td>\n",
       "      <td>0</td>\n",
       "      <td>0</td>\n",
       "      <td>0</td>\n",
       "      <td>0</td>\n",
       "      <td>0</td>\n",
       "      <td>0</td>\n",
       "      <td>0</td>\n",
       "      <td>0</td>\n",
       "      <td>0</td>\n",
       "      <td>0</td>\n",
       "      <td>0</td>\n",
       "      <td>0</td>\n",
       "      <td>0</td>\n",
       "      <td>0</td>\n",
       "      <td>0</td>\n",
       "      <td>0</td>\n",
       "      <td>1</td>\n",
       "      <td>0</td>\n",
       "      <td>1</td>\n",
       "      <td>0</td>\n",
       "    </tr>\n",
       "    <tr>\n",
       "      <th>2</th>\n",
       "      <td>-0.358098</td>\n",
       "      <td>1.376652</td>\n",
       "      <td>-0.162090</td>\n",
       "      <td>0</td>\n",
       "      <td>0</td>\n",
       "      <td>0</td>\n",
       "      <td>0</td>\n",
       "      <td>-0.183664</td>\n",
       "      <td>0</td>\n",
       "      <td>0.549728</td>\n",
       "      <td>-0.345834</td>\n",
       "      <td>0.524876</td>\n",
       "      <td>0.844062</td>\n",
       "      <td>0.369149</td>\n",
       "      <td>0.253574</td>\n",
       "      <td>0</td>\n",
       "      <td>0</td>\n",
       "      <td>0</td>\n",
       "      <td>0</td>\n",
       "      <td>0</td>\n",
       "      <td>0</td>\n",
       "      <td>0</td>\n",
       "      <td>0</td>\n",
       "      <td>0</td>\n",
       "      <td>0</td>\n",
       "      <td>0</td>\n",
       "      <td>0</td>\n",
       "      <td>0</td>\n",
       "      <td>0</td>\n",
       "      <td>0</td>\n",
       "      <td>0</td>\n",
       "      <td>0</td>\n",
       "      <td>0</td>\n",
       "      <td>0</td>\n",
       "      <td>0</td>\n",
       "      <td>0</td>\n",
       "      <td>0</td>\n",
       "      <td>0</td>\n",
       "      <td>0</td>\n",
       "      <td>0</td>\n",
       "      <td>0</td>\n",
       "      <td>0</td>\n",
       "      <td>0</td>\n",
       "      <td>0</td>\n",
       "      <td>0</td>\n",
       "      <td>0</td>\n",
       "      <td>0</td>\n",
       "      <td>0</td>\n",
       "      <td>0</td>\n",
       "      <td>0</td>\n",
       "      <td>0</td>\n",
       "      <td>0</td>\n",
       "      <td>0</td>\n",
       "      <td>0</td>\n",
       "      <td>0</td>\n",
       "      <td>0</td>\n",
       "      <td>0</td>\n",
       "      <td>0</td>\n",
       "      <td>0</td>\n",
       "      <td>0</td>\n",
       "      <td>0</td>\n",
       "      <td>0</td>\n",
       "      <td>0</td>\n",
       "      <td>0</td>\n",
       "      <td>0</td>\n",
       "      <td>0</td>\n",
       "      <td>0</td>\n",
       "      <td>0</td>\n",
       "      <td>0</td>\n",
       "      <td>0</td>\n",
       "      <td>0</td>\n",
       "      <td>0</td>\n",
       "      <td>0</td>\n",
       "      <td>0</td>\n",
       "      <td>0</td>\n",
       "      <td>0</td>\n",
       "      <td>0</td>\n",
       "      <td>0</td>\n",
       "      <td>0</td>\n",
       "      <td>0</td>\n",
       "      <td>0</td>\n",
       "      <td>0</td>\n",
       "      <td>0</td>\n",
       "      <td>0</td>\n",
       "      <td>0</td>\n",
       "      <td>0</td>\n",
       "      <td>0</td>\n",
       "      <td>0</td>\n",
       "      <td>0</td>\n",
       "      <td>0</td>\n",
       "      <td>0</td>\n",
       "      <td>0</td>\n",
       "      <td>0</td>\n",
       "      <td>0</td>\n",
       "      <td>0</td>\n",
       "      <td>0</td>\n",
       "      <td>0</td>\n",
       "      <td>0</td>\n",
       "      <td>0</td>\n",
       "      <td>0</td>\n",
       "      <td>0</td>\n",
       "      <td>0</td>\n",
       "      <td>0</td>\n",
       "      <td>0</td>\n",
       "      <td>0</td>\n",
       "      <td>0</td>\n",
       "      <td>0</td>\n",
       "      <td>0</td>\n",
       "      <td>0</td>\n",
       "      <td>0</td>\n",
       "      <td>0</td>\n",
       "      <td>0</td>\n",
       "      <td>0</td>\n",
       "      <td>0</td>\n",
       "      <td>0</td>\n",
       "      <td>0</td>\n",
       "      <td>0</td>\n",
       "      <td>0</td>\n",
       "      <td>0</td>\n",
       "      <td>0</td>\n",
       "      <td>0</td>\n",
       "      <td>0</td>\n",
       "      <td>0</td>\n",
       "      <td>0</td>\n",
       "      <td>0</td>\n",
       "      <td>0</td>\n",
       "      <td>0</td>\n",
       "      <td>0</td>\n",
       "      <td>0</td>\n",
       "      <td>1</td>\n",
       "      <td>0</td>\n",
       "      <td>0</td>\n",
       "      <td>0</td>\n",
       "      <td>0</td>\n",
       "      <td>0</td>\n",
       "      <td>1</td>\n",
       "      <td>0</td>\n",
       "      <td>0</td>\n",
       "      <td>0</td>\n",
       "      <td>0</td>\n",
       "      <td>0</td>\n",
       "      <td>0</td>\n",
       "      <td>0</td>\n",
       "      <td>0</td>\n",
       "      <td>0</td>\n",
       "      <td>0</td>\n",
       "      <td>0</td>\n",
       "      <td>0</td>\n",
       "      <td>0</td>\n",
       "      <td>0</td>\n",
       "      <td>0</td>\n",
       "      <td>0</td>\n",
       "      <td>0</td>\n",
       "      <td>0</td>\n",
       "      <td>0</td>\n",
       "      <td>1</td>\n",
       "      <td>0</td>\n",
       "      <td>0</td>\n",
       "      <td>0</td>\n",
       "      <td>0</td>\n",
       "      <td>0</td>\n",
       "      <td>0</td>\n",
       "      <td>0</td>\n",
       "      <td>0</td>\n",
       "      <td>0</td>\n",
       "      <td>0</td>\n",
       "      <td>0</td>\n",
       "      <td>0</td>\n",
       "      <td>0</td>\n",
       "      <td>0</td>\n",
       "      <td>0</td>\n",
       "      <td>0</td>\n",
       "      <td>0</td>\n",
       "      <td>0</td>\n",
       "      <td>0</td>\n",
       "      <td>0</td>\n",
       "      <td>0</td>\n",
       "      <td>0</td>\n",
       "      <td>0</td>\n",
       "      <td>0</td>\n",
       "      <td>0</td>\n",
       "      <td>0</td>\n",
       "      <td>0</td>\n",
       "      <td>0</td>\n",
       "      <td>0</td>\n",
       "      <td>0</td>\n",
       "      <td>0</td>\n",
       "      <td>0</td>\n",
       "      <td>0</td>\n",
       "      <td>0</td>\n",
       "      <td>0</td>\n",
       "      <td>0</td>\n",
       "      <td>0</td>\n",
       "      <td>0</td>\n",
       "      <td>0</td>\n",
       "      <td>0</td>\n",
       "      <td>0</td>\n",
       "      <td>0</td>\n",
       "      <td>0</td>\n",
       "      <td>0</td>\n",
       "      <td>0</td>\n",
       "      <td>0</td>\n",
       "      <td>0</td>\n",
       "      <td>0</td>\n",
       "      <td>0</td>\n",
       "      <td>0</td>\n",
       "      <td>0</td>\n",
       "      <td>0</td>\n",
       "      <td>0</td>\n",
       "      <td>0</td>\n",
       "      <td>0</td>\n",
       "      <td>0</td>\n",
       "      <td>0</td>\n",
       "      <td>0</td>\n",
       "      <td>0</td>\n",
       "      <td>0</td>\n",
       "      <td>0</td>\n",
       "      <td>0</td>\n",
       "      <td>0</td>\n",
       "      <td>0</td>\n",
       "      <td>0</td>\n",
       "      <td>0</td>\n",
       "      <td>0</td>\n",
       "      <td>0</td>\n",
       "      <td>0</td>\n",
       "      <td>0</td>\n",
       "      <td>0</td>\n",
       "      <td>0</td>\n",
       "      <td>0</td>\n",
       "      <td>0</td>\n",
       "      <td>0</td>\n",
       "      <td>0</td>\n",
       "      <td>0</td>\n",
       "      <td>0</td>\n",
       "      <td>0</td>\n",
       "      <td>0</td>\n",
       "      <td>0</td>\n",
       "      <td>0</td>\n",
       "      <td>0</td>\n",
       "      <td>0</td>\n",
       "      <td>0</td>\n",
       "      <td>0</td>\n",
       "      <td>0</td>\n",
       "      <td>0</td>\n",
       "      <td>0</td>\n",
       "      <td>0</td>\n",
       "      <td>0</td>\n",
       "      <td>0</td>\n",
       "      <td>0</td>\n",
       "      <td>0</td>\n",
       "      <td>0</td>\n",
       "      <td>0</td>\n",
       "      <td>0</td>\n",
       "      <td>0</td>\n",
       "      <td>0</td>\n",
       "      <td>0</td>\n",
       "      <td>0</td>\n",
       "      <td>0</td>\n",
       "      <td>0</td>\n",
       "      <td>0</td>\n",
       "      <td>0</td>\n",
       "      <td>0</td>\n",
       "      <td>0</td>\n",
       "      <td>0</td>\n",
       "      <td>0</td>\n",
       "      <td>0</td>\n",
       "      <td>0</td>\n",
       "      <td>0</td>\n",
       "      <td>0</td>\n",
       "      <td>0</td>\n",
       "      <td>0</td>\n",
       "      <td>0</td>\n",
       "      <td>0</td>\n",
       "      <td>0</td>\n",
       "      <td>0</td>\n",
       "      <td>0</td>\n",
       "      <td>0</td>\n",
       "      <td>0</td>\n",
       "      <td>0</td>\n",
       "      <td>0</td>\n",
       "      <td>0</td>\n",
       "      <td>0</td>\n",
       "      <td>0</td>\n",
       "      <td>0</td>\n",
       "      <td>0</td>\n",
       "      <td>0</td>\n",
       "      <td>0</td>\n",
       "      <td>0</td>\n",
       "      <td>0</td>\n",
       "      <td>0</td>\n",
       "      <td>1</td>\n",
       "      <td>0</td>\n",
       "      <td>1</td>\n",
       "      <td>0</td>\n",
       "    </tr>\n",
       "    <tr>\n",
       "      <th>3</th>\n",
       "      <td>-0.264609</td>\n",
       "      <td>1.376652</td>\n",
       "      <td>-0.162090</td>\n",
       "      <td>0</td>\n",
       "      <td>0</td>\n",
       "      <td>0</td>\n",
       "      <td>0</td>\n",
       "      <td>-0.183664</td>\n",
       "      <td>0</td>\n",
       "      <td>0.549728</td>\n",
       "      <td>-0.345834</td>\n",
       "      <td>0.524876</td>\n",
       "      <td>0.844062</td>\n",
       "      <td>0.369149</td>\n",
       "      <td>0.253574</td>\n",
       "      <td>0</td>\n",
       "      <td>0</td>\n",
       "      <td>0</td>\n",
       "      <td>0</td>\n",
       "      <td>0</td>\n",
       "      <td>0</td>\n",
       "      <td>0</td>\n",
       "      <td>0</td>\n",
       "      <td>0</td>\n",
       "      <td>0</td>\n",
       "      <td>0</td>\n",
       "      <td>0</td>\n",
       "      <td>0</td>\n",
       "      <td>0</td>\n",
       "      <td>0</td>\n",
       "      <td>0</td>\n",
       "      <td>0</td>\n",
       "      <td>0</td>\n",
       "      <td>0</td>\n",
       "      <td>0</td>\n",
       "      <td>0</td>\n",
       "      <td>0</td>\n",
       "      <td>0</td>\n",
       "      <td>0</td>\n",
       "      <td>0</td>\n",
       "      <td>0</td>\n",
       "      <td>0</td>\n",
       "      <td>0</td>\n",
       "      <td>0</td>\n",
       "      <td>0</td>\n",
       "      <td>0</td>\n",
       "      <td>0</td>\n",
       "      <td>0</td>\n",
       "      <td>0</td>\n",
       "      <td>0</td>\n",
       "      <td>0</td>\n",
       "      <td>0</td>\n",
       "      <td>0</td>\n",
       "      <td>0</td>\n",
       "      <td>0</td>\n",
       "      <td>0</td>\n",
       "      <td>0</td>\n",
       "      <td>0</td>\n",
       "      <td>0</td>\n",
       "      <td>0</td>\n",
       "      <td>0</td>\n",
       "      <td>0</td>\n",
       "      <td>0</td>\n",
       "      <td>0</td>\n",
       "      <td>0</td>\n",
       "      <td>0</td>\n",
       "      <td>0</td>\n",
       "      <td>0</td>\n",
       "      <td>0</td>\n",
       "      <td>0</td>\n",
       "      <td>0</td>\n",
       "      <td>0</td>\n",
       "      <td>0</td>\n",
       "      <td>0</td>\n",
       "      <td>0</td>\n",
       "      <td>0</td>\n",
       "      <td>0</td>\n",
       "      <td>0</td>\n",
       "      <td>0</td>\n",
       "      <td>0</td>\n",
       "      <td>0</td>\n",
       "      <td>0</td>\n",
       "      <td>0</td>\n",
       "      <td>0</td>\n",
       "      <td>0</td>\n",
       "      <td>0</td>\n",
       "      <td>0</td>\n",
       "      <td>0</td>\n",
       "      <td>0</td>\n",
       "      <td>0</td>\n",
       "      <td>0</td>\n",
       "      <td>0</td>\n",
       "      <td>0</td>\n",
       "      <td>0</td>\n",
       "      <td>0</td>\n",
       "      <td>0</td>\n",
       "      <td>0</td>\n",
       "      <td>0</td>\n",
       "      <td>0</td>\n",
       "      <td>0</td>\n",
       "      <td>0</td>\n",
       "      <td>0</td>\n",
       "      <td>0</td>\n",
       "      <td>0</td>\n",
       "      <td>0</td>\n",
       "      <td>0</td>\n",
       "      <td>0</td>\n",
       "      <td>0</td>\n",
       "      <td>0</td>\n",
       "      <td>0</td>\n",
       "      <td>0</td>\n",
       "      <td>0</td>\n",
       "      <td>0</td>\n",
       "      <td>0</td>\n",
       "      <td>0</td>\n",
       "      <td>0</td>\n",
       "      <td>0</td>\n",
       "      <td>0</td>\n",
       "      <td>0</td>\n",
       "      <td>0</td>\n",
       "      <td>0</td>\n",
       "      <td>0</td>\n",
       "      <td>0</td>\n",
       "      <td>0</td>\n",
       "      <td>0</td>\n",
       "      <td>0</td>\n",
       "      <td>0</td>\n",
       "      <td>0</td>\n",
       "      <td>0</td>\n",
       "      <td>1</td>\n",
       "      <td>0</td>\n",
       "      <td>0</td>\n",
       "      <td>0</td>\n",
       "      <td>0</td>\n",
       "      <td>1</td>\n",
       "      <td>0</td>\n",
       "      <td>0</td>\n",
       "      <td>0</td>\n",
       "      <td>0</td>\n",
       "      <td>0</td>\n",
       "      <td>0</td>\n",
       "      <td>0</td>\n",
       "      <td>0</td>\n",
       "      <td>0</td>\n",
       "      <td>0</td>\n",
       "      <td>0</td>\n",
       "      <td>0</td>\n",
       "      <td>0</td>\n",
       "      <td>0</td>\n",
       "      <td>0</td>\n",
       "      <td>0</td>\n",
       "      <td>0</td>\n",
       "      <td>0</td>\n",
       "      <td>0</td>\n",
       "      <td>0</td>\n",
       "      <td>0</td>\n",
       "      <td>0</td>\n",
       "      <td>0</td>\n",
       "      <td>0</td>\n",
       "      <td>0</td>\n",
       "      <td>0</td>\n",
       "      <td>0</td>\n",
       "      <td>0</td>\n",
       "      <td>0</td>\n",
       "      <td>0</td>\n",
       "      <td>0</td>\n",
       "      <td>0</td>\n",
       "      <td>0</td>\n",
       "      <td>0</td>\n",
       "      <td>0</td>\n",
       "      <td>0</td>\n",
       "      <td>0</td>\n",
       "      <td>0</td>\n",
       "      <td>0</td>\n",
       "      <td>0</td>\n",
       "      <td>0</td>\n",
       "      <td>0</td>\n",
       "      <td>0</td>\n",
       "      <td>0</td>\n",
       "      <td>0</td>\n",
       "      <td>0</td>\n",
       "      <td>0</td>\n",
       "      <td>0</td>\n",
       "      <td>0</td>\n",
       "      <td>0</td>\n",
       "      <td>0</td>\n",
       "      <td>0</td>\n",
       "      <td>0</td>\n",
       "      <td>0</td>\n",
       "      <td>0</td>\n",
       "      <td>0</td>\n",
       "      <td>0</td>\n",
       "      <td>0</td>\n",
       "      <td>0</td>\n",
       "      <td>0</td>\n",
       "      <td>0</td>\n",
       "      <td>0</td>\n",
       "      <td>0</td>\n",
       "      <td>0</td>\n",
       "      <td>0</td>\n",
       "      <td>0</td>\n",
       "      <td>0</td>\n",
       "      <td>0</td>\n",
       "      <td>0</td>\n",
       "      <td>0</td>\n",
       "      <td>0</td>\n",
       "      <td>0</td>\n",
       "      <td>0</td>\n",
       "      <td>0</td>\n",
       "      <td>0</td>\n",
       "      <td>0</td>\n",
       "      <td>0</td>\n",
       "      <td>0</td>\n",
       "      <td>0</td>\n",
       "      <td>0</td>\n",
       "      <td>0</td>\n",
       "      <td>0</td>\n",
       "      <td>0</td>\n",
       "      <td>0</td>\n",
       "      <td>0</td>\n",
       "      <td>0</td>\n",
       "      <td>0</td>\n",
       "      <td>0</td>\n",
       "      <td>0</td>\n",
       "      <td>0</td>\n",
       "      <td>0</td>\n",
       "      <td>0</td>\n",
       "      <td>0</td>\n",
       "      <td>0</td>\n",
       "      <td>0</td>\n",
       "      <td>0</td>\n",
       "      <td>0</td>\n",
       "      <td>0</td>\n",
       "      <td>0</td>\n",
       "      <td>0</td>\n",
       "      <td>0</td>\n",
       "      <td>0</td>\n",
       "      <td>0</td>\n",
       "      <td>0</td>\n",
       "      <td>0</td>\n",
       "      <td>0</td>\n",
       "      <td>0</td>\n",
       "      <td>0</td>\n",
       "      <td>0</td>\n",
       "      <td>0</td>\n",
       "      <td>0</td>\n",
       "      <td>0</td>\n",
       "      <td>0</td>\n",
       "      <td>0</td>\n",
       "      <td>0</td>\n",
       "      <td>0</td>\n",
       "      <td>0</td>\n",
       "      <td>0</td>\n",
       "      <td>1</td>\n",
       "      <td>0</td>\n",
       "      <td>0</td>\n",
       "      <td>0</td>\n",
       "      <td>0</td>\n",
       "      <td>0</td>\n",
       "      <td>0</td>\n",
       "      <td>0</td>\n",
       "      <td>0</td>\n",
       "      <td>0</td>\n",
       "      <td>0</td>\n",
       "      <td>0</td>\n",
       "      <td>0</td>\n",
       "      <td>0</td>\n",
       "      <td>0</td>\n",
       "      <td>0</td>\n",
       "      <td>0</td>\n",
       "      <td>0</td>\n",
       "      <td>0</td>\n",
       "      <td>0</td>\n",
       "      <td>0</td>\n",
       "      <td>0</td>\n",
       "      <td>0</td>\n",
       "      <td>0</td>\n",
       "      <td>0</td>\n",
       "      <td>0</td>\n",
       "      <td>0</td>\n",
       "      <td>0</td>\n",
       "      <td>0</td>\n",
       "      <td>0</td>\n",
       "      <td>0</td>\n",
       "      <td>0</td>\n",
       "      <td>0</td>\n",
       "      <td>0</td>\n",
       "      <td>0</td>\n",
       "      <td>0</td>\n",
       "      <td>0</td>\n",
       "      <td>1</td>\n",
       "      <td>0</td>\n",
       "      <td>1</td>\n",
       "      <td>0</td>\n",
       "    </tr>\n",
       "    <tr>\n",
       "      <th>4</th>\n",
       "      <td>0.784545</td>\n",
       "      <td>1.376652</td>\n",
       "      <td>2.053099</td>\n",
       "      <td>0</td>\n",
       "      <td>0</td>\n",
       "      <td>0</td>\n",
       "      <td>0</td>\n",
       "      <td>-0.183664</td>\n",
       "      <td>0</td>\n",
       "      <td>2.277585</td>\n",
       "      <td>-0.345834</td>\n",
       "      <td>0.524876</td>\n",
       "      <td>3.599920</td>\n",
       "      <td>1.877103</td>\n",
       "      <td>1.532924</td>\n",
       "      <td>0</td>\n",
       "      <td>0</td>\n",
       "      <td>0</td>\n",
       "      <td>0</td>\n",
       "      <td>0</td>\n",
       "      <td>0</td>\n",
       "      <td>0</td>\n",
       "      <td>0</td>\n",
       "      <td>0</td>\n",
       "      <td>0</td>\n",
       "      <td>0</td>\n",
       "      <td>0</td>\n",
       "      <td>0</td>\n",
       "      <td>0</td>\n",
       "      <td>0</td>\n",
       "      <td>0</td>\n",
       "      <td>0</td>\n",
       "      <td>0</td>\n",
       "      <td>0</td>\n",
       "      <td>0</td>\n",
       "      <td>0</td>\n",
       "      <td>0</td>\n",
       "      <td>0</td>\n",
       "      <td>0</td>\n",
       "      <td>0</td>\n",
       "      <td>0</td>\n",
       "      <td>0</td>\n",
       "      <td>0</td>\n",
       "      <td>0</td>\n",
       "      <td>0</td>\n",
       "      <td>0</td>\n",
       "      <td>0</td>\n",
       "      <td>0</td>\n",
       "      <td>0</td>\n",
       "      <td>0</td>\n",
       "      <td>0</td>\n",
       "      <td>0</td>\n",
       "      <td>0</td>\n",
       "      <td>0</td>\n",
       "      <td>0</td>\n",
       "      <td>0</td>\n",
       "      <td>0</td>\n",
       "      <td>0</td>\n",
       "      <td>0</td>\n",
       "      <td>0</td>\n",
       "      <td>0</td>\n",
       "      <td>0</td>\n",
       "      <td>0</td>\n",
       "      <td>0</td>\n",
       "      <td>0</td>\n",
       "      <td>0</td>\n",
       "      <td>0</td>\n",
       "      <td>0</td>\n",
       "      <td>0</td>\n",
       "      <td>0</td>\n",
       "      <td>0</td>\n",
       "      <td>0</td>\n",
       "      <td>0</td>\n",
       "      <td>0</td>\n",
       "      <td>0</td>\n",
       "      <td>0</td>\n",
       "      <td>0</td>\n",
       "      <td>0</td>\n",
       "      <td>0</td>\n",
       "      <td>0</td>\n",
       "      <td>0</td>\n",
       "      <td>0</td>\n",
       "      <td>0</td>\n",
       "      <td>0</td>\n",
       "      <td>0</td>\n",
       "      <td>0</td>\n",
       "      <td>0</td>\n",
       "      <td>0</td>\n",
       "      <td>0</td>\n",
       "      <td>0</td>\n",
       "      <td>0</td>\n",
       "      <td>0</td>\n",
       "      <td>0</td>\n",
       "      <td>0</td>\n",
       "      <td>0</td>\n",
       "      <td>0</td>\n",
       "      <td>0</td>\n",
       "      <td>0</td>\n",
       "      <td>0</td>\n",
       "      <td>0</td>\n",
       "      <td>0</td>\n",
       "      <td>0</td>\n",
       "      <td>0</td>\n",
       "      <td>0</td>\n",
       "      <td>0</td>\n",
       "      <td>0</td>\n",
       "      <td>0</td>\n",
       "      <td>0</td>\n",
       "      <td>0</td>\n",
       "      <td>0</td>\n",
       "      <td>0</td>\n",
       "      <td>0</td>\n",
       "      <td>0</td>\n",
       "      <td>0</td>\n",
       "      <td>0</td>\n",
       "      <td>0</td>\n",
       "      <td>0</td>\n",
       "      <td>0</td>\n",
       "      <td>0</td>\n",
       "      <td>0</td>\n",
       "      <td>0</td>\n",
       "      <td>0</td>\n",
       "      <td>0</td>\n",
       "      <td>0</td>\n",
       "      <td>0</td>\n",
       "      <td>0</td>\n",
       "      <td>0</td>\n",
       "      <td>0</td>\n",
       "      <td>0</td>\n",
       "      <td>0</td>\n",
       "      <td>0</td>\n",
       "      <td>0</td>\n",
       "      <td>0</td>\n",
       "      <td>0</td>\n",
       "      <td>0</td>\n",
       "      <td>1</td>\n",
       "      <td>0</td>\n",
       "      <td>0</td>\n",
       "      <td>0</td>\n",
       "      <td>0</td>\n",
       "      <td>0</td>\n",
       "      <td>0</td>\n",
       "      <td>0</td>\n",
       "      <td>0</td>\n",
       "      <td>0</td>\n",
       "      <td>0</td>\n",
       "      <td>0</td>\n",
       "      <td>0</td>\n",
       "      <td>0</td>\n",
       "      <td>0</td>\n",
       "      <td>0</td>\n",
       "      <td>0</td>\n",
       "      <td>0</td>\n",
       "      <td>0</td>\n",
       "      <td>0</td>\n",
       "      <td>0</td>\n",
       "      <td>0</td>\n",
       "      <td>1</td>\n",
       "      <td>0</td>\n",
       "      <td>0</td>\n",
       "      <td>0</td>\n",
       "      <td>0</td>\n",
       "      <td>0</td>\n",
       "      <td>0</td>\n",
       "      <td>0</td>\n",
       "      <td>0</td>\n",
       "      <td>0</td>\n",
       "      <td>0</td>\n",
       "      <td>0</td>\n",
       "      <td>0</td>\n",
       "      <td>0</td>\n",
       "      <td>0</td>\n",
       "      <td>0</td>\n",
       "      <td>0</td>\n",
       "      <td>0</td>\n",
       "      <td>0</td>\n",
       "      <td>0</td>\n",
       "      <td>0</td>\n",
       "      <td>0</td>\n",
       "      <td>0</td>\n",
       "      <td>0</td>\n",
       "      <td>0</td>\n",
       "      <td>0</td>\n",
       "      <td>0</td>\n",
       "      <td>0</td>\n",
       "      <td>0</td>\n",
       "      <td>0</td>\n",
       "      <td>0</td>\n",
       "      <td>0</td>\n",
       "      <td>0</td>\n",
       "      <td>0</td>\n",
       "      <td>0</td>\n",
       "      <td>0</td>\n",
       "      <td>0</td>\n",
       "      <td>0</td>\n",
       "      <td>0</td>\n",
       "      <td>0</td>\n",
       "      <td>0</td>\n",
       "      <td>0</td>\n",
       "      <td>0</td>\n",
       "      <td>0</td>\n",
       "      <td>0</td>\n",
       "      <td>0</td>\n",
       "      <td>0</td>\n",
       "      <td>0</td>\n",
       "      <td>0</td>\n",
       "      <td>0</td>\n",
       "      <td>0</td>\n",
       "      <td>0</td>\n",
       "      <td>0</td>\n",
       "      <td>0</td>\n",
       "      <td>0</td>\n",
       "      <td>0</td>\n",
       "      <td>0</td>\n",
       "      <td>0</td>\n",
       "      <td>0</td>\n",
       "      <td>0</td>\n",
       "      <td>0</td>\n",
       "      <td>0</td>\n",
       "      <td>0</td>\n",
       "      <td>0</td>\n",
       "      <td>0</td>\n",
       "      <td>0</td>\n",
       "      <td>0</td>\n",
       "      <td>0</td>\n",
       "      <td>0</td>\n",
       "      <td>0</td>\n",
       "      <td>0</td>\n",
       "      <td>0</td>\n",
       "      <td>0</td>\n",
       "      <td>0</td>\n",
       "      <td>0</td>\n",
       "      <td>0</td>\n",
       "      <td>0</td>\n",
       "      <td>0</td>\n",
       "      <td>0</td>\n",
       "      <td>0</td>\n",
       "      <td>0</td>\n",
       "      <td>0</td>\n",
       "      <td>0</td>\n",
       "      <td>0</td>\n",
       "      <td>0</td>\n",
       "      <td>0</td>\n",
       "      <td>0</td>\n",
       "      <td>0</td>\n",
       "      <td>0</td>\n",
       "      <td>0</td>\n",
       "      <td>0</td>\n",
       "      <td>0</td>\n",
       "      <td>0</td>\n",
       "      <td>0</td>\n",
       "      <td>0</td>\n",
       "      <td>0</td>\n",
       "      <td>0</td>\n",
       "      <td>0</td>\n",
       "      <td>0</td>\n",
       "      <td>0</td>\n",
       "      <td>0</td>\n",
       "      <td>0</td>\n",
       "      <td>0</td>\n",
       "      <td>0</td>\n",
       "      <td>0</td>\n",
       "      <td>0</td>\n",
       "      <td>0</td>\n",
       "      <td>0</td>\n",
       "      <td>0</td>\n",
       "      <td>0</td>\n",
       "      <td>0</td>\n",
       "      <td>0</td>\n",
       "      <td>0</td>\n",
       "      <td>0</td>\n",
       "      <td>0</td>\n",
       "      <td>0</td>\n",
       "      <td>0</td>\n",
       "      <td>0</td>\n",
       "      <td>0</td>\n",
       "      <td>0</td>\n",
       "      <td>0</td>\n",
       "      <td>0</td>\n",
       "      <td>0</td>\n",
       "      <td>0</td>\n",
       "      <td>0</td>\n",
       "      <td>0</td>\n",
       "      <td>0</td>\n",
       "      <td>0</td>\n",
       "      <td>0</td>\n",
       "      <td>0</td>\n",
       "      <td>0</td>\n",
       "      <td>0</td>\n",
       "      <td>0</td>\n",
       "      <td>1</td>\n",
       "      <td>0</td>\n",
       "      <td>1</td>\n",
       "      <td>0</td>\n",
       "    </tr>\n",
       "  </tbody>\n",
       "</table>\n",
       "</div>"
      ],
      "text/plain": [
       "   lead_time  stays_in_weekend_nights  stays_in_week_nights  \\\n",
       "0  -0.233446                 0.204019             -1.638882   \n",
       "1  -0.358098                 1.376652             -0.162090   \n",
       "2  -0.358098                 1.376652             -0.162090   \n",
       "3  -0.264609                 1.376652             -0.162090   \n",
       "4   0.784545                 1.376652              2.053099   \n",
       "\n",
       "   is_repeated_guest  previous_cancellations  previous_bookings_not_canceled  \\\n",
       "0                  0                       0                               0   \n",
       "1                  0                       0                               0   \n",
       "2                  0                       0                               0   \n",
       "3                  0                       0                               0   \n",
       "4                  0                       0                               0   \n",
       "\n",
       "   booking_changes  days_in_waiting_list  required_car_parking_spaces  \\\n",
       "0                0             -0.183664                            0   \n",
       "1                0             -0.183664                            0   \n",
       "2                0             -0.183664                            0   \n",
       "3                0             -0.183664                            0   \n",
       "4                0             -0.183664                            0   \n",
       "\n",
       "   total_nights  room_value_season  service_room_one_day  \\\n",
       "0     -1.178129          -0.345834              0.524876   \n",
       "1      0.549728          -0.345834              0.524876   \n",
       "2      0.549728          -0.345834              0.524876   \n",
       "3      0.549728          -0.345834              0.524876   \n",
       "4      2.277585          -0.345834              0.524876   \n",
       "\n",
       "   service_room_all_days  room_value_total  room_profit  September  October  \\\n",
       "0              -0.533867         -1.138805    -1.258385          0        0   \n",
       "1               0.844062          0.369149     0.253574          0        0   \n",
       "2               0.844062          0.369149     0.253574          0        0   \n",
       "3               0.844062          0.369149     0.253574          0        0   \n",
       "4               3.599920          1.877103     1.532924          0        0   \n",
       "\n",
       "   November  December  BWA  SMR  CYM  GGY  ARM  OMN  BDI  PLW  MWI  KNA  HND  \\\n",
       "0         0         0    0    0    0    0    0    0    0    0    0    0    0   \n",
       "1         0         0    0    0    0    0    0    0    0    0    0    0    0   \n",
       "2         0         0    0    0    0    0    0    0    0    0    0    0    0   \n",
       "3         0         0    0    0    0    0    0    0    0    0    0    0    0   \n",
       "4         0         0    0    0    0    0    0    0    0    0    0    0    0   \n",
       "\n",
       "   GEO  ZMB  KHM  NIC  VGB  MKD  TMP  GLP  MMR  BFA  MLI  NAM  BOL  BRB  DMA  \\\n",
       "0    0    0    0    0    0    0    0    0    0    0    0    0    0    0    0   \n",
       "1    0    0    0    0    0    0    0    0    0    0    0    0    0    0    0   \n",
       "2    0    0    0    0    0    0    0    0    0    0    0    0    0    0    0   \n",
       "3    0    0    0    0    0    0    0    0    0    0    0    0    0    0    0   \n",
       "4    0    0    0    0    0    0    0    0    0    0    0    0    0    0    0   \n",
       "\n",
       "   PYF  UGA  GUY  LCA  RWA  2015  2016  arrival_date_month_number_2  \\\n",
       "0    0    0    0    0    0     0     0                            0   \n",
       "1    0    0    0    0    0     0     0                            0   \n",
       "2    0    0    0    0    0     0     0                            0   \n",
       "3    0    0    0    0    0     0     0                            0   \n",
       "4    0    0    0    0    0     0     0                            0   \n",
       "\n",
       "   arrival_date_month_number_3  arrival_date_month_number_4  \\\n",
       "0                            0                            0   \n",
       "1                            0                            0   \n",
       "2                            0                            0   \n",
       "3                            0                            0   \n",
       "4                            0                            0   \n",
       "\n",
       "   arrival_date_month_number_5  arrival_date_month_number_6  \\\n",
       "0                            0                            0   \n",
       "1                            0                            0   \n",
       "2                            0                            0   \n",
       "3                            0                            0   \n",
       "4                            0                            0   \n",
       "\n",
       "   arrival_date_month_number_7  arrival_date_month_number_8  \\\n",
       "0                            0                            0   \n",
       "1                            0                            0   \n",
       "2                            0                            0   \n",
       "3                            0                            0   \n",
       "4                            0                            0   \n",
       "\n",
       "   arrival_date_week_number_2  arrival_date_week_number_3  \\\n",
       "0                           0                           0   \n",
       "1                           0                           0   \n",
       "2                           0                           0   \n",
       "3                           0                           0   \n",
       "4                           0                           0   \n",
       "\n",
       "   arrival_date_week_number_4  arrival_date_week_number_5  \\\n",
       "0                           0                           0   \n",
       "1                           0                           0   \n",
       "2                           0                           0   \n",
       "3                           0                           0   \n",
       "4                           0                           0   \n",
       "\n",
       "   arrival_date_week_number_6  arrival_date_week_number_7  \\\n",
       "0                           0                           0   \n",
       "1                           0                           0   \n",
       "2                           0                           0   \n",
       "3                           0                           0   \n",
       "4                           0                           0   \n",
       "\n",
       "   arrival_date_week_number_8  arrival_date_week_number_9  \\\n",
       "0                           0                           0   \n",
       "1                           0                           0   \n",
       "2                           0                           0   \n",
       "3                           0                           0   \n",
       "4                           0                           0   \n",
       "\n",
       "   arrival_date_week_number_10  arrival_date_week_number_11  \\\n",
       "0                            0                            0   \n",
       "1                            0                            0   \n",
       "2                            0                            0   \n",
       "3                            0                            0   \n",
       "4                            0                            0   \n",
       "\n",
       "   arrival_date_week_number_12  arrival_date_week_number_13  \\\n",
       "0                            0                            0   \n",
       "1                            0                            0   \n",
       "2                            0                            0   \n",
       "3                            0                            0   \n",
       "4                            0                            0   \n",
       "\n",
       "   arrival_date_week_number_14  arrival_date_week_number_15  \\\n",
       "0                            0                            0   \n",
       "1                            0                            0   \n",
       "2                            0                            0   \n",
       "3                            0                            0   \n",
       "4                            0                            0   \n",
       "\n",
       "   arrival_date_week_number_16  arrival_date_week_number_17  \\\n",
       "0                            0                            0   \n",
       "1                            0                            0   \n",
       "2                            0                            0   \n",
       "3                            0                            0   \n",
       "4                            0                            0   \n",
       "\n",
       "   arrival_date_week_number_18  arrival_date_week_number_19  \\\n",
       "0                            0                            0   \n",
       "1                            0                            0   \n",
       "2                            0                            0   \n",
       "3                            0                            0   \n",
       "4                            0                            0   \n",
       "\n",
       "   arrival_date_week_number_20  arrival_date_week_number_21  \\\n",
       "0                            0                            0   \n",
       "1                            0                            0   \n",
       "2                            0                            0   \n",
       "3                            0                            0   \n",
       "4                            0                            0   \n",
       "\n",
       "   arrival_date_week_number_22  arrival_date_week_number_23  \\\n",
       "0                            0                            0   \n",
       "1                            0                            0   \n",
       "2                            0                            0   \n",
       "3                            0                            0   \n",
       "4                            0                            0   \n",
       "\n",
       "   arrival_date_week_number_24  arrival_date_week_number_25  \\\n",
       "0                            0                            0   \n",
       "1                            0                            0   \n",
       "2                            0                            0   \n",
       "3                            0                            0   \n",
       "4                            0                            0   \n",
       "\n",
       "   arrival_date_week_number_26  arrival_date_week_number_27  \\\n",
       "0                            0                            0   \n",
       "1                            0                            0   \n",
       "2                            0                            0   \n",
       "3                            0                            0   \n",
       "4                            0                            0   \n",
       "\n",
       "   arrival_date_week_number_28  arrival_date_week_number_29  \\\n",
       "0                            0                            0   \n",
       "1                            0                            0   \n",
       "2                            0                            0   \n",
       "3                            0                            0   \n",
       "4                            0                            0   \n",
       "\n",
       "   arrival_date_week_number_30  arrival_date_week_number_31  \\\n",
       "0                            0                            0   \n",
       "1                            0                            0   \n",
       "2                            0                            0   \n",
       "3                            0                            0   \n",
       "4                            0                            0   \n",
       "\n",
       "   arrival_date_week_number_32  arrival_date_week_number_33  \\\n",
       "0                            0                            0   \n",
       "1                            0                            0   \n",
       "2                            0                            0   \n",
       "3                            0                            0   \n",
       "4                            0                            0   \n",
       "\n",
       "   arrival_date_week_number_34  arrival_date_week_number_35  \\\n",
       "0                            0                            0   \n",
       "1                            0                            0   \n",
       "2                            0                            0   \n",
       "3                            0                            0   \n",
       "4                            0                            0   \n",
       "\n",
       "   arrival_date_day_of_month_2  arrival_date_day_of_month_3  \\\n",
       "0                            0                            0   \n",
       "1                            0                            0   \n",
       "2                            0                            0   \n",
       "3                            0                            0   \n",
       "4                            0                            0   \n",
       "\n",
       "   arrival_date_day_of_month_4  arrival_date_day_of_month_5  \\\n",
       "0                            0                            0   \n",
       "1                            0                            0   \n",
       "2                            0                            0   \n",
       "3                            0                            0   \n",
       "4                            0                            0   \n",
       "\n",
       "   arrival_date_day_of_month_6  arrival_date_day_of_month_7  \\\n",
       "0                            0                            0   \n",
       "1                            0                            0   \n",
       "2                            0                            0   \n",
       "3                            0                            0   \n",
       "4                            0                            0   \n",
       "\n",
       "   arrival_date_day_of_month_8  arrival_date_day_of_month_9  \\\n",
       "0                            0                            0   \n",
       "1                            0                            0   \n",
       "2                            0                            0   \n",
       "3                            0                            0   \n",
       "4                            0                            0   \n",
       "\n",
       "   arrival_date_day_of_month_10  arrival_date_day_of_month_11  \\\n",
       "0                             0                             0   \n",
       "1                             0                             0   \n",
       "2                             0                             0   \n",
       "3                             0                             0   \n",
       "4                             0                             0   \n",
       "\n",
       "   arrival_date_day_of_month_12  arrival_date_day_of_month_13  \\\n",
       "0                             0                             0   \n",
       "1                             0                             0   \n",
       "2                             0                             0   \n",
       "3                             0                             0   \n",
       "4                             0                             0   \n",
       "\n",
       "   arrival_date_day_of_month_14  arrival_date_day_of_month_15  \\\n",
       "0                             0                             0   \n",
       "1                             0                             0   \n",
       "2                             0                             0   \n",
       "3                             0                             0   \n",
       "4                             0                             0   \n",
       "\n",
       "   arrival_date_day_of_month_16  arrival_date_day_of_month_17  \\\n",
       "0                             0                             0   \n",
       "1                             0                             0   \n",
       "2                             0                             0   \n",
       "3                             0                             0   \n",
       "4                             0                             0   \n",
       "\n",
       "   arrival_date_day_of_month_18  arrival_date_day_of_month_19  \\\n",
       "0                             0                             0   \n",
       "1                             0                             0   \n",
       "2                             0                             0   \n",
       "3                             0                             0   \n",
       "4                             0                             0   \n",
       "\n",
       "   arrival_date_day_of_month_20  arrival_date_day_of_month_21  \\\n",
       "0                             0                             0   \n",
       "1                             0                             0   \n",
       "2                             0                             0   \n",
       "3                             0                             0   \n",
       "4                             0                             0   \n",
       "\n",
       "   arrival_date_day_of_month_22  arrival_date_day_of_month_23  \\\n",
       "0                             0                             0   \n",
       "1                             0                             0   \n",
       "2                             0                             0   \n",
       "3                             0                             0   \n",
       "4                             0                             0   \n",
       "\n",
       "   arrival_date_day_of_month_24  arrival_date_day_of_month_25  \\\n",
       "0                             0                             0   \n",
       "1                             0                             0   \n",
       "2                             0                             0   \n",
       "3                             0                             0   \n",
       "4                             0                             0   \n",
       "\n",
       "   arrival_date_day_of_month_26  arrival_date_day_of_month_27  \\\n",
       "0                             0                             0   \n",
       "1                             0                             0   \n",
       "2                             0                             0   \n",
       "3                             0                             0   \n",
       "4                             0                             0   \n",
       "\n",
       "   arrival_date_day_of_month_28  arrival_date_day_of_month_29  \\\n",
       "0                             0                             0   \n",
       "1                             0                             0   \n",
       "2                             0                             0   \n",
       "3                             0                             0   \n",
       "4                             0                             0   \n",
       "\n",
       "   arrival_date_day_of_month_30  arrival_date_day_of_month_31  \\\n",
       "0                             0                             0   \n",
       "1                             0                             0   \n",
       "2                             0                             0   \n",
       "3                             0                             0   \n",
       "4                             0                             0   \n",
       "\n",
       "   reserved_room_type_B  reserved_room_type_C  reserved_room_type_D  \\\n",
       "0                     0                     0                     0   \n",
       "1                     0                     0                     0   \n",
       "2                     0                     0                     0   \n",
       "3                     0                     0                     0   \n",
       "4                     0                     0                     0   \n",
       "\n",
       "   reserved_room_type_E  reserved_room_type_F  reserved_room_type_G  \\\n",
       "0                     0                     0                     0   \n",
       "1                     0                     0                     0   \n",
       "2                     0                     0                     0   \n",
       "3                     0                     0                     0   \n",
       "4                     0                     0                     0   \n",
       "\n",
       "   total_of_special_requests_1  total_of_special_requests_2  \\\n",
       "0                            0                            0   \n",
       "1                            1                            0   \n",
       "2                            1                            0   \n",
       "3                            1                            0   \n",
       "4                            0                            0   \n",
       "\n",
       "   total_of_special_requests_3  total_of_special_requests_4  \\\n",
       "0                            0                            0   \n",
       "1                            0                            0   \n",
       "2                            0                            0   \n",
       "3                            0                            0   \n",
       "4                            0                            0   \n",
       "\n",
       "   total_of_special_requests_5  adults_1.0  adults_2.0  adults_3.0  \\\n",
       "0                            0           0           1           0   \n",
       "1                            0           0           1           0   \n",
       "2                            0           0           1           0   \n",
       "3                            0           1           0           0   \n",
       "4                            0           0           1           0   \n",
       "\n",
       "   adults_4.0  children_1.0  children_2.0  children_3.0  babies_1.0  \\\n",
       "0           0             0             0             0           0   \n",
       "1           0             0             0             0           0   \n",
       "2           0             0             0             0           0   \n",
       "3           0             0             0             0           0   \n",
       "4           0             0             0             0           0   \n",
       "\n",
       "   babies_2.0  meal_FB  meal_HB  meal_SC  country_AGO  country_ALB  \\\n",
       "0           0        0        0        0            0            0   \n",
       "1           0        0        0        0            0            0   \n",
       "2           0        0        0        0            0            0   \n",
       "3           0        0        0        0            0            0   \n",
       "4           0        0        0        0            0            0   \n",
       "\n",
       "   country_AND  country_ARE  country_ARG  country_ASM  country_ATA  \\\n",
       "0            0            0            0            0            0   \n",
       "1            0            0            0            0            0   \n",
       "2            0            0            0            0            0   \n",
       "3            0            0            0            0            0   \n",
       "4            0            0            0            0            0   \n",
       "\n",
       "   country_ATF  country_AUS  country_AUT  country_AZE  country_BEL  \\\n",
       "0            0            0            0            0            0   \n",
       "1            0            0            1            0            0   \n",
       "2            0            0            1            0            0   \n",
       "3            0            0            0            0            0   \n",
       "4            0            0            0            0            1   \n",
       "\n",
       "   country_BEN  country_BGD  country_BGR  country_BHR  country_BHS  \\\n",
       "0            0            0            0            0            0   \n",
       "1            0            0            0            0            0   \n",
       "2            0            0            0            0            0   \n",
       "3            0            0            0            0            0   \n",
       "4            0            0            0            0            0   \n",
       "\n",
       "   country_BIH  country_BLR  country_BRA  country_CAF  country_CHE  \\\n",
       "0            0            0            0            0            0   \n",
       "1            0            0            0            0            0   \n",
       "2            0            0            0            0            0   \n",
       "3            0            0            0            0            0   \n",
       "4            0            0            0            0            0   \n",
       "\n",
       "   country_CHL  country_CHN  country_CIV  country_CMR  country_CN  \\\n",
       "0            0            0            0            0           0   \n",
       "1            0            0            0            0           0   \n",
       "2            0            0            0            0           0   \n",
       "3            0            0            0            0           0   \n",
       "4            0            0            0            0           0   \n",
       "\n",
       "   country_COL  country_CPV  country_CRI  country_CUB  country_CYP  \\\n",
       "0            0            0            0            0            0   \n",
       "1            0            0            0            0            0   \n",
       "2            0            0            0            0            0   \n",
       "3            0            0            0            0            0   \n",
       "4            0            0            0            0            0   \n",
       "\n",
       "   country_CZE  country_DEU  country_DNK  country_DOM  country_DZA  \\\n",
       "0            0            0            0            0            0   \n",
       "1            0            0            0            0            0   \n",
       "2            0            0            0            0            0   \n",
       "3            0            0            0            0            0   \n",
       "4            0            0            0            0            0   \n",
       "\n",
       "   country_ECU  country_EGY  country_ESP  country_EST  country_ETH  \\\n",
       "0            0            0            0            0            0   \n",
       "1            0            0            0            0            0   \n",
       "2            0            0            0            0            0   \n",
       "3            0            0            0            0            0   \n",
       "4            0            0            0            0            0   \n",
       "\n",
       "   country_FIN  country_FJI  country_FRA  country_FRO  country_GAB  \\\n",
       "0            0            0            0            0            0   \n",
       "1            0            0            0            0            0   \n",
       "2            0            0            0            0            0   \n",
       "3            0            0            0            0            0   \n",
       "4            0            0            0            0            0   \n",
       "\n",
       "   country_GBR  country_GHA  country_GIB  country_GNB  country_GRC  \\\n",
       "0            0            0            0            0            0   \n",
       "1            0            0            0            0            0   \n",
       "2            0            0            0            0            0   \n",
       "3            0            0            0            0            0   \n",
       "4            0            0            0            0            0   \n",
       "\n",
       "   country_GTM  country_HKG  country_HRV  country_HUN  country_IDN  \\\n",
       "0            0            0            0            0            0   \n",
       "1            0            0            0            0            0   \n",
       "2            0            0            0            0            0   \n",
       "3            0            0            0            0            0   \n",
       "4            0            0            0            0            0   \n",
       "\n",
       "   country_IMN  country_IND  country_IRL  country_IRN  country_IRQ  \\\n",
       "0            0            0            0            0            0   \n",
       "1            0            0            0            0            0   \n",
       "2            0            0            0            0            0   \n",
       "3            0            0            0            0            0   \n",
       "4            0            0            0            0            0   \n",
       "\n",
       "   country_ISL  country_ISR  country_ITA  country_JAM  country_JEY  \\\n",
       "0            0            0            0            0            0   \n",
       "1            0            0            0            0            0   \n",
       "2            0            0            0            0            0   \n",
       "3            0            0            0            0            0   \n",
       "4            0            0            0            0            0   \n",
       "\n",
       "   country_JOR  country_JPN  country_KAZ  country_KEN  country_KIR  \\\n",
       "0            0            0            0            0            0   \n",
       "1            0            0            0            0            0   \n",
       "2            0            0            0            0            0   \n",
       "3            0            0            0            0            0   \n",
       "4            0            0            0            0            0   \n",
       "\n",
       "   country_KOR  country_KWT  country_LAO  country_LBN  country_LBY  \\\n",
       "0            0            0            0            0            0   \n",
       "1            0            0            0            0            0   \n",
       "2            0            0            0            0            0   \n",
       "3            0            0            0            0            0   \n",
       "4            0            0            0            0            0   \n",
       "\n",
       "   country_LIE  country_LKA  country_LTU  country_LUX  country_LVA  \\\n",
       "0            0            0            0            0            0   \n",
       "1            0            0            0            0            0   \n",
       "2            0            0            0            0            0   \n",
       "3            0            0            0            0            0   \n",
       "4            0            0            0            0            0   \n",
       "\n",
       "   country_MAC  country_MAR  country_MCO  country_MDG  country_MDV  \\\n",
       "0            0            0            0            0            0   \n",
       "1            0            0            0            0            0   \n",
       "2            0            0            0            0            0   \n",
       "3            0            0            0            0            0   \n",
       "4            0            0            0            0            0   \n",
       "\n",
       "   country_MEX  country_MLT  country_MNE  country_MOZ  country_MRT  \\\n",
       "0            0            0            0            0            0   \n",
       "1            0            0            0            0            0   \n",
       "2            0            0            0            0            0   \n",
       "3            0            0            0            0            0   \n",
       "4            0            0            0            0            0   \n",
       "\n",
       "   country_MUS  country_MYS  country_MYT  country_NCL  country_NGA  \\\n",
       "0            0            0            0            0            0   \n",
       "1            0            0            0            0            0   \n",
       "2            0            0            0            0            0   \n",
       "3            0            0            0            0            0   \n",
       "4            0            0            0            0            0   \n",
       "\n",
       "   country_NLD  country_NOR  country_NPL  country_NZL  country_PAK  \\\n",
       "0            0            0            0            0            0   \n",
       "1            0            0            0            0            0   \n",
       "2            0            0            0            0            0   \n",
       "3            0            0            0            0            0   \n",
       "4            0            0            0            0            0   \n",
       "\n",
       "   country_PAN  country_PER  country_PHL  country_POL  country_PRI  \\\n",
       "0            0            0            0            0            0   \n",
       "1            0            0            0            0            0   \n",
       "2            0            0            0            0            0   \n",
       "3            0            0            0            0            0   \n",
       "4            0            0            0            0            0   \n",
       "\n",
       "   country_PRT  country_PRY  country_QAT  country_ROU  country_RUS  \\\n",
       "0            1            0            0            0            0   \n",
       "1            0            0            0            0            0   \n",
       "2            0            0            0            0            0   \n",
       "3            1            0            0            0            0   \n",
       "4            0            0            0            0            0   \n",
       "\n",
       "   country_SAU  country_SDN  country_SEN  country_SGP  country_SLE  \\\n",
       "0            0            0            0            0            0   \n",
       "1            0            0            0            0            0   \n",
       "2            0            0            0            0            0   \n",
       "3            0            0            0            0            0   \n",
       "4            0            0            0            0            0   \n",
       "\n",
       "   country_SLV  country_SRB  country_STP  country_SUR  country_SVK  \\\n",
       "0            0            0            0            0            0   \n",
       "1            0            0            0            0            0   \n",
       "2            0            0            0            0            0   \n",
       "3            0            0            0            0            0   \n",
       "4            0            0            0            0            0   \n",
       "\n",
       "   country_SVN  country_SWE  country_SYC  country_SYR  country_TGO  \\\n",
       "0            0            0            0            0            0   \n",
       "1            0            0            0            0            0   \n",
       "2            0            0            0            0            0   \n",
       "3            0            0            0            0            0   \n",
       "4            0            0            0            0            0   \n",
       "\n",
       "   country_THA  country_TJK  country_TUN  country_TUR  country_TWN  \\\n",
       "0            0            0            0            0            0   \n",
       "1            0            0            0            0            0   \n",
       "2            0            0            0            0            0   \n",
       "3            0            0            0            0            0   \n",
       "4            0            0            0            0            0   \n",
       "\n",
       "   country_TZA  country_UKR  country_UMI  country_URY  country_USA  \\\n",
       "0            0            0            0            0            0   \n",
       "1            0            0            0            0            0   \n",
       "2            0            0            0            0            0   \n",
       "3            0            0            0            0            0   \n",
       "4            0            0            0            0            0   \n",
       "\n",
       "   country_UZB  country_VEN  country_VNM  country_ZAF  country_ZWE  \\\n",
       "0            0            0            0            0            0   \n",
       "1            0            0            0            0            0   \n",
       "2            0            0            0            0            0   \n",
       "3            0            0            0            0            0   \n",
       "4            0            0            0            0            0   \n",
       "\n",
       "   distribution_channel_Direct  distribution_channel_GDS  \\\n",
       "0                            0                         0   \n",
       "1                            0                         0   \n",
       "2                            0                         0   \n",
       "3                            0                         0   \n",
       "4                            0                         0   \n",
       "\n",
       "   distribution_channel_TA/TO  customer_type_Group  customer_type_Transient  \\\n",
       "0                           1                    0                        1   \n",
       "1                           1                    0                        1   \n",
       "2                           1                    0                        1   \n",
       "3                           1                    0                        1   \n",
       "4                           1                    0                        1   \n",
       "\n",
       "   customer_type_Transient-Party  \n",
       "0                              0  \n",
       "1                              0  \n",
       "2                              0  \n",
       "3                              0  \n",
       "4                              0  "
      ]
     },
     "metadata": {},
     "output_type": "display_data"
    }
   ],
   "source": [
    "numeric = ['lead_time', 'room_value_season', 'service_room_one_day', 'service_room_all_days',\\\n",
    "           'room_profit', 'room_value_total', 'days_in_waiting_list', 'total_nights',\\\n",
    "          'stays_in_weekend_nights', 'stays_in_week_nights']\n",
    "\n",
    "scaler = StandardScaler()\n",
    "scaler.fit(features_train[numeric])\n",
    "features_train[numeric] = scaler.transform(features_train[numeric])\n",
    "features_valid[numeric] = scaler.transform(features_valid[numeric])\n",
    "features_test[numeric] = scaler.transform(features_test[numeric])\n",
    "\n",
    "print(features_train.shape)\n",
    "display (features_train.head(5))\n",
    "display (features_test.head(5))"
   ]
  },
  {
   "cell_type": "markdown",
   "metadata": {},
   "source": [
    "#### Исследую модель случайного леса"
   ]
  },
  {
   "cell_type": "markdown",
   "metadata": {},
   "source": [
    "В нашем случае мы решаем задачу бинарной классификации. Выбираю для оценки моделей метрику F1 поскольку она является средним гармоническим точности и полноты."
   ]
  },
  {
   "cell_type": "code",
   "execution_count": 42,
   "metadata": {},
   "outputs": [
    {
     "name": "stdout",
     "output_type": "stream",
     "text": [
      "F1 наилучшей модели на валидационной выборке: 0.7341118623232944\n",
      "Какие гиперпараметры дали наилучший результат: RandomForestClassifier(max_depth=15, n_estimators=9, random_state=12345)\n",
      "CPU times: user 1min 48s, sys: 12.2 s, total: 2min\n",
      "Wall time: 2min 2s\n"
     ]
    }
   ],
   "source": [
    "%%time\n",
    "\n",
    "best_model = None\n",
    "best_result = 0\n",
    "for est in range(1, 16):\n",
    "    for depth in range(1, 16):\n",
    "        model = RandomForestClassifier(random_state=12345, n_estimators=est, max_depth=depth)\n",
    "        model.fit(features_train, target_train)\n",
    "        predictions_valid = model.predict(features_valid)\n",
    "        result = f1_score(target_valid, predictions_valid)\n",
    "        if result > best_result:\n",
    "            best_model = model\n",
    "            best_result = result\n",
    "\n",
    "print(\"F1 наилучшей модели на валидационной выборке:\", best_result)\n",
    "print (\"Какие гиперпараметры дали наилучший результат:\", best_model)"
   ]
  },
  {
   "cell_type": "markdown",
   "metadata": {},
   "source": [
    "**Строю ROC кривую для случайного леса и рассчитываю AUC-ROC (насколько сильно модель отличается от случайной)**"
   ]
  },
  {
   "cell_type": "code",
   "execution_count": 43,
   "metadata": {},
   "outputs": [
    {
     "data": {
      "image/png": "[encoded data removed]",
      "text/plain": [
       "<Figure size 432x288 with 1 Axes>"
      ]
     },
     "metadata": {
      "needs_background": "light"
     },
     "output_type": "display_data"
    },
    {
     "name": "stdout",
     "output_type": "stream",
     "text": [
      "0.9146693504994177\n"
     ]
    }
   ],
   "source": [
    "probabilities_valid = model.predict_proba(features_valid)\n",
    "probabilities_one_valid = probabilities_valid[:, 1]\n",
    "\n",
    "fpr, tpr, thresholds = roc_curve(target_valid, probabilities_one_valid)\n",
    "\n",
    "plt.figure()\n",
    "plt.plot(fpr, tpr)\n",
    "\n",
    "# ROC-кривая случайной модели\n",
    "plt.plot([0, 1], [0, 1], linestyle='--')\n",
    "plt.xlim([0.0, 1.0])\n",
    "plt.ylim([0.0, 1.0])\n",
    "plt.xlabel('False Positive Rate')\n",
    "plt.ylabel('True Positive Rate')\n",
    "plt.title('ROC-кривая')\n",
    "plt.show()\n",
    "\n",
    "#рассчитываю AUC-ROC\n",
    "auc_roc = roc_auc_score(target_valid, probabilities_one_valid, multi_class='ovr')\n",
    "\n",
    "print(auc_roc)"
   ]
  },
  {
   "cell_type": "markdown",
   "metadata": {},
   "source": [
    "Из графика видно, что модель работает и отличается от случайной"
   ]
  },
  {
   "cell_type": "markdown",
   "metadata": {},
   "source": [
    "#### Исследую модель логистической регрессии"
   ]
  },
  {
   "cell_type": "code",
   "execution_count": 44,
   "metadata": {},
   "outputs": [
    {
     "name": "stdout",
     "output_type": "stream",
     "text": [
      "F1 наилучшей модели на валидационной выборке: 0.7295755362848014\n",
      "Какие гиперпараметры дали наилучший результат: LogisticRegression(max_iter=500, penalty='l1', random_state=12345,\n",
      "                   solver='liblinear')\n",
      "CPU times: user 44.8 s, sys: 1.14 s, total: 46 s\n",
      "Wall time: 46 s\n"
     ]
    }
   ],
   "source": [
    "%%time\n",
    "\n",
    "best_model = None\n",
    "best_result = 0\n",
    "list_penalty = ['l1', 'l2']\n",
    "list = [500, 600, 700]\n",
    "for iter in list:\n",
    "    for index in list_penalty:\n",
    "        model = LogisticRegression(random_state=12345, solver='liblinear', max_iter=iter, penalty=index)\n",
    "        model.fit(features_train, target_train)\n",
    "        predictions_valid = model.predict(features_valid)\n",
    "        result = f1_score(target_valid, predictions_valid)\n",
    "        if result > best_result:\n",
    "            best_model = model\n",
    "            best_result = result\n",
    "\n",
    "print(\"F1 наилучшей модели на валидационной выборке:\", best_result)\n",
    "print (\"Какие гиперпараметры дали наилучший результат:\", best_model)"
   ]
  },
  {
   "cell_type": "markdown",
   "metadata": {},
   "source": [
    "**Строю ROC кривую для логистической регрессии и рассчитываю AUC-ROC (насколько сильно модель отличается от случайной)**"
   ]
  },
  {
   "cell_type": "code",
   "execution_count": 45,
   "metadata": {},
   "outputs": [
    {
     "data": {
      "image/png": "[encoded data removed]",
      "text/plain": [
       "<Figure size 432x288 with 1 Axes>"
      ]
     },
     "metadata": {
      "needs_background": "light"
     },
     "output_type": "display_data"
    },
    {
     "name": "stdout",
     "output_type": "stream",
     "text": [
      "0.8858682957397368\n"
     ]
    }
   ],
   "source": [
    "probabilities_valid = model.predict_proba(features_valid)\n",
    "probabilities_one_valid = probabilities_valid[:, 1]\n",
    "\n",
    "fpr, tpr, thresholds = roc_curve(target_valid, probabilities_one_valid)\n",
    "\n",
    "plt.figure()\n",
    "plt.plot(fpr, tpr)\n",
    "\n",
    "# ROC-кривая случайной модели\n",
    "plt.plot([0, 1], [0, 1], linestyle='--')\n",
    "plt.xlim([0.0, 1.0])\n",
    "plt.ylim([0.0, 1.0])\n",
    "plt.xlabel('False Positive Rate')\n",
    "plt.ylabel('True Positive Rate')\n",
    "plt.title('ROC-кривая')\n",
    "plt.show()\n",
    "\n",
    "#рассчитываю AUC-ROC\n",
    "auc_roc = roc_auc_score(target_valid, probabilities_one_valid, multi_class='ovr')\n",
    "\n",
    "print(auc_roc)"
   ]
  },
  {
   "cell_type": "markdown",
   "metadata": {},
   "source": [
    "Из графика видно, что модель работает, а результат отличается от случайного"
   ]
  },
  {
   "cell_type": "markdown",
   "metadata": {},
   "source": [
    "### Борьба с дисбалансом"
   ]
  },
  {
   "cell_type": "markdown",
   "metadata": {},
   "source": [
    "#### Увеличиваю выборку для борьбы с дисбалансом"
   ]
  },
  {
   "cell_type": "code",
   "execution_count": 46,
   "metadata": {},
   "outputs": [
    {
     "name": "stdout",
     "output_type": "stream",
     "text": [
      "(71400, 294)\n",
      "(71400,)\n"
     ]
    }
   ],
   "source": [
    "def upsample (features, target, repeat):\n",
    "    features_zeros = features_train[target_train == 0]\n",
    "    features_ones = features_train[target_train == 1]\n",
    "    target_zeros = target_train[target_train == 0]\n",
    "    target_ones = target_train[target_train == 1]\n",
    "    repeat = 2\n",
    "    features_upsampled = pd.concat([features_zeros] + [features_ones] * repeat)\n",
    "    target_upsampled = pd.concat([target_zeros] + [target_ones] * repeat)\n",
    "    features_upsampled = shuffle (features_upsampled, random_state=12345)\n",
    "    target_upsampled = shuffle (target_upsampled, random_state=12345)\n",
    "    return features_upsampled, target_upsampled\n",
    "    \n",
    "features_upsampled, target_upsampled = upsample(features_train, target_train, 2)\n",
    "\n",
    "print(features_upsampled.shape)\n",
    "print(target_upsampled.shape)"
   ]
  },
  {
   "cell_type": "markdown",
   "metadata": {},
   "source": [
    "#### Модель случайного леса на увеличенной выборке"
   ]
  },
  {
   "cell_type": "code",
   "execution_count": 47,
   "metadata": {},
   "outputs": [
    {
     "name": "stdout",
     "output_type": "stream",
     "text": [
      "F1 наилучшей модели на валидационной выборке: 0.7859154929577465\n",
      "Какие гиперпараметры дали наилучший результат: RandomForestClassifier(max_depth=13, n_estimators=14, random_state=12345)\n",
      "CPU times: user 1min 54s, sys: 14.2 s, total: 2min 9s\n",
      "Wall time: 2min 44s\n"
     ]
    }
   ],
   "source": [
    "%%time\n",
    "\n",
    "best_model = None\n",
    "best_result = 0\n",
    "for est in range(1, 15):\n",
    "    for depth in range(1, 15):\n",
    "        model = RandomForestClassifier(random_state=12345, n_estimators=est, max_depth=depth)\n",
    "        model.fit(features_upsampled, target_upsampled)\n",
    "        predictions_valid = model.predict(features_valid)\n",
    "        result = f1_score(target_valid, predictions_valid)\n",
    "        if result > best_result:\n",
    "            best_model = model\n",
    "            best_result = result\n",
    "\n",
    "print(\"F1 наилучшей модели на валидационной выборке:\", best_result)\n",
    "print (\"Какие гиперпараметры дали наилучший результат:\", best_model)"
   ]
  },
  {
   "cell_type": "markdown",
   "metadata": {},
   "source": [
    "#### ROC кривая для модели случайного леса на увеличенной выборке и рассчет AUC-ROC (насколько сильно модель отличается от случайной)"
   ]
  },
  {
   "cell_type": "code",
   "execution_count": 48,
   "metadata": {},
   "outputs": [
    {
     "data": {
      "image/png": "[encoded data removed]",
      "text/plain": [
       "<Figure size 432x288 with 1 Axes>"
      ]
     },
     "metadata": {
      "needs_background": "light"
     },
     "output_type": "display_data"
    },
    {
     "name": "stdout",
     "output_type": "stream",
     "text": [
      "0.9135136685644003\n"
     ]
    }
   ],
   "source": [
    "probabilities_valid = model.predict_proba(features_valid)\n",
    "probabilities_one_valid = probabilities_valid[:, 1]\n",
    "\n",
    "fpr, tpr, thresholds = roc_curve(target_valid, probabilities_one_valid)\n",
    "\n",
    "plt.figure()\n",
    "plt.plot(fpr, tpr)\n",
    "\n",
    "# ROC-кривая случайной модели\n",
    "plt.plot([0, 1], [0, 1], linestyle='--')\n",
    "plt.xlim([0.0, 1.0])\n",
    "plt.ylim([0.0, 1.0])\n",
    "plt.xlabel('False Positive Rate')\n",
    "plt.ylabel('True Positive Rate')\n",
    "plt.title('ROC-кривая')\n",
    "plt.show()\n",
    "\n",
    "#рассчитываю AUC-ROC\n",
    "auc_roc = roc_auc_score(target_valid, probabilities_one_valid, multi_class='ovr')\n",
    "\n",
    "print(auc_roc)"
   ]
  },
  {
   "cell_type": "markdown",
   "metadata": {},
   "source": [
    "Из графика видно, что модель работает и отличается от случайной"
   ]
  },
  {
   "cell_type": "markdown",
   "metadata": {},
   "source": [
    "#### Уменьшаю выборку для борьбы с дисбалансом"
   ]
  },
  {
   "cell_type": "code",
   "execution_count": 49,
   "metadata": {},
   "outputs": [
    {
     "name": "stdout",
     "output_type": "stream",
     "text": [
      "(35700, 294)\n",
      "(35700,)\n"
     ]
    }
   ],
   "source": [
    "def downsample(features, target, fraction):\n",
    "    features_zeros = features[target == 0]\n",
    "    features_ones = features[target == 1]\n",
    "    target_zeros = target[target == 0]\n",
    "    target_ones = target[target == 1]\n",
    "    features_downsampled = pd.concat([features_zeros.sample(frac=fraction, random_state=12345)] + [features_ones])\n",
    "    target_downsampled = pd.concat([target_zeros.sample(frac=fraction, random_state=12345)] + [target_ones])\n",
    "    features_downsampled, target_downsampled = shuffle(features_downsampled, target_downsampled, random_state=12345)\n",
    "    return features_downsampled, target_downsampled\n",
    "\n",
    "features_downsampled, target_downsampled = downsample(features_train, target_train, 0.5)\n",
    "\n",
    "print(features_downsampled.shape)\n",
    "print(target_downsampled.shape)"
   ]
  },
  {
   "cell_type": "markdown",
   "metadata": {},
   "source": [
    "#### Модель случайного леса на уменьшенной выборке"
   ]
  },
  {
   "cell_type": "code",
   "execution_count": 50,
   "metadata": {},
   "outputs": [
    {
     "name": "stdout",
     "output_type": "stream",
     "text": [
      "F1 наилучшей модели на валидационной выборке: 0.7605958673714561\n",
      "Какие гиперпараметры дали наилучший результат: RandomForestClassifier(max_depth=10, n_estimators=8, random_state=12345)\n",
      "CPU times: user 33.3 s, sys: 3.47 s, total: 36.7 s\n",
      "Wall time: 37.5 s\n"
     ]
    }
   ],
   "source": [
    "%%time\n",
    "\n",
    "best_model = None\n",
    "best_result = 0\n",
    "for est in range(1, 15):\n",
    "    for depth in range(1, 11):\n",
    "        model = RandomForestClassifier(random_state=12345, n_estimators=est, max_depth=depth)\n",
    "        model.fit(features_downsampled, target_downsampled)\n",
    "        predictions_valid = model.predict(features_valid)\n",
    "        result = f1_score(target_valid, predictions_valid)\n",
    "        if result > best_result:\n",
    "            best_model = model\n",
    "            best_result = result\n",
    "\n",
    "print(\"F1 наилучшей модели на валидационной выборке:\", best_result)\n",
    "print (\"Какие гиперпараметры дали наилучший результат:\", best_model)"
   ]
  },
  {
   "cell_type": "markdown",
   "metadata": {},
   "source": [
    "В результате уменьшения выборки F1 увеличилось по сравнению с выборкой до ее уменьшения, но метод увеличения выборки дал лучший результат."
   ]
  },
  {
   "cell_type": "markdown",
   "metadata": {},
   "source": [
    "#### ROC кривая для модели случайного леса на уменьшенной выборке и рассчет AUC-ROC (насколько сильно модель отличается от случайной)"
   ]
  },
  {
   "cell_type": "code",
   "execution_count": 51,
   "metadata": {},
   "outputs": [
    {
     "data": {
      "image/png": "[encoded data removed]",
      "text/plain": [
       "<Figure size 432x288 with 1 Axes>"
      ]
     },
     "metadata": {
      "needs_background": "light"
     },
     "output_type": "display_data"
    },
    {
     "name": "stdout",
     "output_type": "stream",
     "text": [
      "0.8976721211667962\n"
     ]
    }
   ],
   "source": [
    "probabilities_valid = model.predict_proba(features_valid)\n",
    "probabilities_one_valid = probabilities_valid[:, 1]\n",
    "\n",
    "fpr, tpr, thresholds = roc_curve(target_valid, probabilities_one_valid)\n",
    "\n",
    "plt.figure()\n",
    "plt.plot(fpr, tpr)\n",
    "\n",
    "# ROC-кривая случайной модели\n",
    "plt.plot([0, 1], [0, 1], linestyle='--')\n",
    "plt.xlim([0.0, 1.0])\n",
    "plt.ylim([0.0, 1.0])\n",
    "plt.xlabel('False Positive Rate')\n",
    "plt.ylabel('True Positive Rate')\n",
    "plt.title('ROC-кривая')\n",
    "plt.show()\n",
    "\n",
    "#рассчитываю AUC-ROC\n",
    "auc_roc = roc_auc_score(target_valid, probabilities_one_valid, multi_class='ovr')\n",
    "\n",
    "print(auc_roc)"
   ]
  },
  {
   "cell_type": "markdown",
   "metadata": {},
   "source": [
    "Из графика видно, что модель работает и отличается от случайной"
   ]
  },
  {
   "cell_type": "markdown",
   "metadata": {},
   "source": [
    "### Тестирование модели"
   ]
  },
  {
   "cell_type": "markdown",
   "metadata": {},
   "source": [
    "#### Объединение тренировочных и валидационных данных"
   ]
  },
  {
   "cell_type": "code",
   "execution_count": 52,
   "metadata": {},
   "outputs": [
    {
     "name": "stdout",
     "output_type": "stream",
     "text": [
      "(84446, 294)\n",
      "(84446,)\n"
     ]
    }
   ],
   "source": [
    "features_train_valid = pd.concat([features_upsampled, features_valid])\n",
    "target_train_valid = pd.concat([target_upsampled, target_valid])\n",
    "print (features_train_valid.shape)\n",
    "print (target_train_valid.shape)"
   ]
  },
  {
   "cell_type": "markdown",
   "metadata": {},
   "source": [
    "#### Делаю upsample для объединенной выборки"
   ]
  },
  {
   "cell_type": "code",
   "execution_count": 53,
   "metadata": {},
   "outputs": [
    {
     "name": "stdout",
     "output_type": "stream",
     "text": [
      "(71400, 294)\n",
      "(71400,)\n"
     ]
    }
   ],
   "source": [
    "def upsample (features, target, repeat):\n",
    "    features_zeros = features_train_valid[target_train_valid == 0]\n",
    "    features_ones = features_train_valid[target_train_valid == 1]\n",
    "    target_zeros = target_train_valid[target_train_valid == 0]\n",
    "    target_ones = target_train_valid[target_train_valid == 1]\n",
    "    repeat = 2\n",
    "    features_upsampled_integrate = pd.concat([features_zeros] + [features_ones] * repeat)\n",
    "    target_upsampled_integrate = pd.concat([target_zeros] + [target_ones] * repeat)\n",
    "    features_upsampled_integrate = shuffle (features_upsampled, random_state=12345)\n",
    "    target_upsampled_integrate = shuffle (target_upsampled, random_state=12345)\n",
    "    return features_upsampled_integrate, target_upsampled_integrate\n",
    "    \n",
    "features_upsampled_integrate, target_upsampled_integrate = upsample(features_train_valid, target_train_valid, 2)\n",
    "\n",
    "print(features_upsampled_integrate.shape)\n",
    "print(target_upsampled_integrate.shape)"
   ]
  },
  {
   "cell_type": "markdown",
   "metadata": {},
   "source": [
    "#### Проверка на тестовой выборке модели случайного леса"
   ]
  },
  {
   "cell_type": "code",
   "execution_count": 54,
   "metadata": {},
   "outputs": [
    {
     "name": "stdout",
     "output_type": "stream",
     "text": [
      "F1 тестовой выборки случайного леса 0.34825574473151566\n"
     ]
    }
   ],
   "source": [
    "model = RandomForestClassifier(max_depth=13, n_estimators=14, random_state=12345)\n",
    "model.fit(features_upsampled_integrate, target_upsampled_integrate)\n",
    "predictions_test = model.predict(features_test)\n",
    "\n",
    "f1 = f1_score(target_test, predictions_test)\n",
    "print ('F1 тестовой выборки случайного леса', f1)"
   ]
  },
  {
   "cell_type": "code",
   "execution_count": 55,
   "metadata": {},
   "outputs": [
    {
     "data": {
      "image/png": "[encoded data removed]",
      "text/plain": [
       "<Figure size 432x288 with 1 Axes>"
      ]
     },
     "metadata": {
      "needs_background": "light"
     },
     "output_type": "display_data"
    },
    {
     "name": "stdout",
     "output_type": "stream",
     "text": [
      "0.7427656382538099\n"
     ]
    }
   ],
   "source": [
    "probabilities_valid = model.predict_proba(features_test)\n",
    "probabilities_one_valid = probabilities_valid[:, 1]\n",
    "\n",
    "fpr, tpr, thresholds = roc_curve(target_test, probabilities_one_valid)\n",
    "\n",
    "plt.figure()\n",
    "plt.plot(fpr, tpr)\n",
    "\n",
    "# ROC-кривая случайной модели\n",
    "plt.plot([0, 1], [0, 1], linestyle='--')\n",
    "plt.xlim([0.0, 1.0])\n",
    "plt.ylim([0.0, 1.0])\n",
    "plt.xlabel('False Positive Rate')\n",
    "plt.ylabel('True Positive Rate')\n",
    "plt.title('ROC-кривая')\n",
    "plt.show()\n",
    "\n",
    "#рассчитываю AUC-ROC\n",
    "auc_roc = roc_auc_score(target_test, probabilities_one_valid, multi_class='ovr')\n",
    "\n",
    "print(auc_roc)"
   ]
  },
  {
   "cell_type": "markdown",
   "metadata": {},
   "source": [
    "Из графика видно, что модель работает и отличается от случайной"
   ]
  },
  {
   "cell_type": "markdown",
   "metadata": {},
   "source": [
    "### Расчет предполагаемой прибыли от внедрения модели"
   ]
  },
  {
   "cell_type": "markdown",
   "metadata": {},
   "source": [
    "#### Записываю predictions в отдельный столбец"
   ]
  },
  {
   "cell_type": "code",
   "execution_count": 56,
   "metadata": {},
   "outputs": [],
   "source": [
    "df_test ['is_cancelled_predicted'] = pd.Series(predictions_test)\n",
    "#print (df_test.head(5))"
   ]
  },
  {
   "cell_type": "code",
   "execution_count": 57,
   "metadata": {},
   "outputs": [],
   "source": [
    "df_test['deposit'] = (df_test['room_value_season'] + df_test['service_room_one_day'])/100*80"
   ]
  },
  {
   "cell_type": "markdown",
   "metadata": {},
   "source": [
    "#### Сравниваю рассчитанную моделью прибыль с фактической прибылью"
   ]
  },
  {
   "cell_type": "code",
   "execution_count": 58,
   "metadata": {},
   "outputs": [
    {
     "name": "stdout",
     "output_type": "stream",
     "text": [
      "Фактическая прибыль от номеров, бронь на которые не была отменена в 2017 году, составляет: 55307680.0 рублей\n",
      "Фактический убыток от номеров, бронь на которые была отменена в 2017 году, составляет: 4286800 рублей\n"
     ]
    }
   ],
   "source": [
    "print ('Фактическая прибыль от номеров, бронь на которые не была отменена в 2017 году, составляет:', \\\n",
    "       df_test.query('is_canceled==0 & arrival_date_year == 2017')['room_profit'].sum(), 'рублей')\n",
    "print ('Фактический убыток от номеров, бронь на которые была отменена в 2017 году, составляет:', \\\n",
    "       df_test.query('is_canceled==1 & arrival_date_year == 2017')['service_room_one_day'].sum(), 'рублей')"
   ]
  },
  {
   "cell_type": "code",
   "execution_count": 59,
   "metadata": {},
   "outputs": [
    {
     "name": "stdout",
     "output_type": "stream",
     "text": [
      "При внедрении модели: на сколько увеличится прибыль отеля при внедрении депозитов: 1558300 рублей\n"
     ]
    }
   ],
   "source": [
    "deposit_predicted =  df_test.query('is_cancelled_predicted==1 & arrival_date_year == 2017')['deposit'].sum()\n",
    "service_room_predicted = df_test.query('is_cancelled_predicted==1 & arrival_date_year == 2017')['service_room_one_day'].sum()\n",
    "room_value_season_predicted = df_test.query('is_cancelled_predicted==1 & arrival_date_year == 2017')['room_value_season'].sum()\n",
    "profit_predicted = deposit_predicted - service_room_predicted - room_value_season_predicted\n",
    "\n",
    "print ('При внедрении модели: на сколько увеличится прибыль отеля при внедрении депозитов:', \\\n",
    "       service_room_predicted, 'рублей')"
   ]
  },
  {
   "cell_type": "markdown",
   "metadata": {},
   "source": [
    "**Вывод: если ввести депозиты для клиентов, которые (как предполагает модель) отменят бронь, то прибыль отеля за год на депозитах увеличится на 4,6 млн. руб.**"
   ]
  },
  {
   "cell_type": "markdown",
   "metadata": {},
   "source": [
    "### Шаг 5. Опишите портрет «ненадёжного» клиента"
   ]
  },
  {
   "cell_type": "code",
   "execution_count": 60,
   "metadata": {},
   "outputs": [
    {
     "data": {
      "text/plain": [
       "<AxesSubplot:>"
      ]
     },
     "execution_count": 60,
     "metadata": {},
     "output_type": "execute_result"
    },
    {
     "data": {
      "image/png": "[encoded data removed]",
      "text/plain": [
       "<Figure size 432x288 with 1 Axes>"
      ]
     },
     "metadata": {
      "needs_background": "light"
     },
     "output_type": "display_data"
    }
   ],
   "source": [
    "feat_importances = pd.Series(model.feature_importances_, index=features_train_valid.columns)\n",
    "feat_importances.nlargest(20).plot(kind='barh')"
   ]
  },
  {
   "cell_type": "markdown",
   "metadata": {},
   "source": [
    "Наиболее часто отменяют заказы клиенты со следующими характеристиками:\\\n",
    "Страна PRT (наверное, Португалия)\\\n",
    "Которые раньше отменяли заказы\\\n",
    "Которые бронируют заранее\\\n",
    "У которых есть один специальный запрос\\\n",
    "Которым требуется парковочное место."
   ]
  },
  {
   "cell_type": "markdown",
   "metadata": {},
   "source": [
    "### Шаг 6. Напишите общий вывод"
   ]
  },
  {
   "cell_type": "markdown",
   "metadata": {},
   "source": [
    "Заказчик этого исследования — сеть отелей «Как в гостях».\\\n",
    "Чтобы привлечь клиентов, эта сеть отелей добавила на свой сайт возможность забронировать номер без предоплаты. Однако если клиент отменял бронирование, то компания терпела убытки. Сотрудники отеля могли, например, закупить продукты к приезду гостя или просто не успеть найти другого клиента.\\\n",
    "Задачей исследования была разработка системы предсказания отказа от брони. Если модель покажет, что бронь будет отменена, то клиенту предлагается внести депозит. Размер депозита — 80% от стоимости номера за одни сутки и затрат на разовую уборку. Деньги будут списаны со счёта клиента, если он всё же отменит бронь.\\\n",
    "\\\n",
    "На разработку системы прогнозирования заложен бюджет — 400 000. При этом необходимо учесть, что внедрение модели должно окупиться за тестовый период. Затраты на разработку должны быть меньше той выручки, которую система принесёт компании.\\\n",
    "\\\n",
    "**Предварительно я изучила данные**\\\n",
    "is_canceled— отмена заказа - происходит больше, чем в половине случаев;\\\n",
    "lead_time— количество дней между датой бронирования и датой прибытия - большая часть бронирований происходит в промежутке от 0 до 30 дней до даты заезда;\\\n",
    "arrival_date_year— год заезда - информация в данных есть за 2015 и 2016 года (в трейне) и за 2017 год в тесте;\\\n",
    "arrival_date_week_number— неделя заезда - наиболее популяной неделей для заезда являеся 40 неделя. Это, ориентировочно, начало октября;\\\n",
    "arrival_date_day_of_month— день заезда - дни заезда распределены достаточно равномерно. Но наиболее популярным для заезда являются 15-20 и 30 дни месяца;\\\n",
    "stays_in_weekend_nights— количество ночей в выходные дни - большинство гостей не остаются на выходные;\\\n",
    "stays_in_week_nights— количество ночей в будние дни - наибольшее количество бронирований приходится на 2й день недели. Вероятно, это вторник;\\\n",
    "\\\n",
    "adults — количество взрослых постояльцев - в основном бронируют двое постояльцев. Данный столбец я изучала подробнее выше. Меня смутило, что в части номеров проживало 0 взрослых. Я предположила, что эти номера родители снимали отдельно для своих детей. Эта версия подтвердилась. В большинстве случаев, в номерах, в которых было 0 взрослых, проживали дети.\\\n",
    "Все равно остались бронирования, в которых было 0 взрослых и 0 детей. Видимо, это ошибка. Поскольку, таких бронирований всего 15, то я их оставляю без изменения, т.к. в других столбцах может содержаться важная информация.\\\n",
    "\\\n",
    "total_nights— общее количество ночей - колеблется в промежутся от 1 до 10. Большинство постояльцев останавливаются на срок от двух до четрых ночей;\\\n",
    "meal— опции заказа - большинство заказов - это номера с завтраком.\\\n",
    "\\\n",
    "**Портрет ненадежного клиента**\\\n",
    "Наиболее часто отменяют заказы клиенты со следующими характеристиками:\\\n",
    "Страна PRT (наверное, Португалия)\\\n",
    "Которые раньше отменяли заказы\\\n",
    "Которые бронируют заранее\\\n",
    "У которых есть один специальный запрос\\\n",
    "Которым требуется парковочное место.\\\n",
    "\\\n",
    "**Исследование моделей**\\\n",
    "Я исследовала две модели. В результате исследования, я выяснила, что модель случайного леса показала результат, лучше случайного.\\\n",
    "При внедрении модели прибыль отеля увеличится на 4,6 млн. руб. в год. Предполагаемая прибыль за год выше стоимости внедрения модели (400 тыс. руб.), следовательно, можно рекомендовать ее внедрение.\\"
   ]
  }
 ],
 "metadata": {
  "ExecuteTimeLog": [
   {
    "duration": 426,
    "start_time": "2022-12-19T07:33:03.978Z"
   },
   {
    "duration": 327,
    "start_time": "2022-12-19T07:33:56.255Z"
   },
   {
    "duration": 338,
    "start_time": "2022-12-19T07:34:02.879Z"
   },
   {
    "duration": 26,
    "start_time": "2022-12-19T07:34:36.172Z"
   },
   {
    "duration": 21,
    "start_time": "2022-12-19T07:35:11.536Z"
   },
   {
    "duration": 77,
    "start_time": "2022-12-19T07:35:32.201Z"
   },
   {
    "duration": 39,
    "start_time": "2022-12-19T07:35:52.986Z"
   },
   {
    "duration": 22,
    "start_time": "2022-12-19T08:08:15.060Z"
   },
   {
    "duration": 21,
    "start_time": "2022-12-19T08:08:30.104Z"
   },
   {
    "duration": 62,
    "start_time": "2022-12-19T08:09:19.781Z"
   },
   {
    "duration": 28,
    "start_time": "2022-12-19T08:09:30.138Z"
   },
   {
    "duration": 445,
    "start_time": "2022-12-20T08:58:34.652Z"
   },
   {
    "duration": 440,
    "start_time": "2022-12-20T08:58:35.099Z"
   },
   {
    "duration": 47,
    "start_time": "2022-12-20T08:58:35.540Z"
   },
   {
    "duration": 34,
    "start_time": "2022-12-20T08:58:35.588Z"
   },
   {
    "duration": 19,
    "start_time": "2022-12-20T08:58:35.624Z"
   },
   {
    "duration": 36,
    "start_time": "2022-12-20T08:58:35.645Z"
   },
   {
    "duration": 93,
    "start_time": "2022-12-20T08:58:35.683Z"
   },
   {
    "duration": 28,
    "start_time": "2022-12-20T08:58:35.778Z"
   },
   {
    "duration": 1849,
    "start_time": "2022-12-20T08:58:38.513Z"
   },
   {
    "duration": 1546,
    "start_time": "2022-12-20T08:59:17.857Z"
   },
   {
    "duration": 6,
    "start_time": "2022-12-20T08:59:26.115Z"
   },
   {
    "duration": 145,
    "start_time": "2022-12-20T08:59:30.297Z"
   },
   {
    "duration": 1337,
    "start_time": "2022-12-20T08:59:44.376Z"
   },
   {
    "duration": 1473,
    "start_time": "2022-12-20T08:59:51.907Z"
   },
   {
    "duration": 176,
    "start_time": "2022-12-20T09:00:38.101Z"
   },
   {
    "duration": 175,
    "start_time": "2022-12-20T09:00:48.553Z"
   },
   {
    "duration": 152,
    "start_time": "2022-12-20T09:01:01.745Z"
   },
   {
    "duration": 797,
    "start_time": "2022-12-20T09:01:41.411Z"
   },
   {
    "duration": 227,
    "start_time": "2022-12-20T09:01:58.468Z"
   },
   {
    "duration": 8,
    "start_time": "2022-12-20T09:03:03.518Z"
   },
   {
    "duration": 19,
    "start_time": "2022-12-20T09:03:45.318Z"
   },
   {
    "duration": 50,
    "start_time": "2022-12-20T09:03:53.385Z"
   },
   {
    "duration": 1521,
    "start_time": "2022-12-20T09:05:16.860Z"
   },
   {
    "duration": 18,
    "start_time": "2022-12-20T09:12:08.375Z"
   },
   {
    "duration": 1502,
    "start_time": "2022-12-20T09:12:40.912Z"
   },
   {
    "duration": 2307,
    "start_time": "2022-12-20T09:14:31.677Z"
   },
   {
    "duration": 8,
    "start_time": "2022-12-20T09:18:04.783Z"
   },
   {
    "duration": 2570,
    "start_time": "2022-12-20T09:19:56.374Z"
   },
   {
    "duration": 12,
    "start_time": "2022-12-20T09:22:02.721Z"
   },
   {
    "duration": 1599,
    "start_time": "2022-12-20T09:23:24.413Z"
   },
   {
    "duration": 2,
    "start_time": "2022-12-20T09:23:47.660Z"
   },
   {
    "duration": 125,
    "start_time": "2022-12-20T09:30:02.696Z"
   },
   {
    "duration": 150,
    "start_time": "2022-12-20T09:30:13.478Z"
   },
   {
    "duration": 138,
    "start_time": "2022-12-20T09:30:21.903Z"
   },
   {
    "duration": 2869,
    "start_time": "2022-12-20T09:39:14.420Z"
   },
   {
    "duration": 159,
    "start_time": "2022-12-20T09:41:59.153Z"
   },
   {
    "duration": 134,
    "start_time": "2022-12-20T09:43:14.581Z"
   },
   {
    "duration": 453,
    "start_time": "2022-12-20T09:44:33.556Z"
   },
   {
    "duration": 148,
    "start_time": "2022-12-20T09:44:43.407Z"
   },
   {
    "duration": 141,
    "start_time": "2022-12-20T09:44:54.623Z"
   },
   {
    "duration": 147,
    "start_time": "2022-12-20T09:44:59.660Z"
   },
   {
    "duration": 149,
    "start_time": "2022-12-20T09:49:10.871Z"
   },
   {
    "duration": 160,
    "start_time": "2022-12-20T09:49:18.073Z"
   },
   {
    "duration": 126,
    "start_time": "2022-12-20T09:49:23.540Z"
   },
   {
    "duration": 152,
    "start_time": "2022-12-20T09:49:31.861Z"
   },
   {
    "duration": 5,
    "start_time": "2022-12-20T09:55:33.878Z"
   },
   {
    "duration": 8,
    "start_time": "2022-12-20T10:05:35.670Z"
   },
   {
    "duration": 8,
    "start_time": "2022-12-20T10:06:01.777Z"
   },
   {
    "duration": 10,
    "start_time": "2022-12-20T10:06:09.556Z"
   },
   {
    "duration": 5,
    "start_time": "2022-12-20T10:06:48.761Z"
   },
   {
    "duration": 8,
    "start_time": "2022-12-20T10:09:47.116Z"
   },
   {
    "duration": 9,
    "start_time": "2022-12-20T10:10:02.950Z"
   },
   {
    "duration": 9,
    "start_time": "2022-12-20T10:10:23.080Z"
   },
   {
    "duration": 10,
    "start_time": "2022-12-20T10:11:39.763Z"
   },
   {
    "duration": 8,
    "start_time": "2022-12-20T10:11:43.114Z"
   },
   {
    "duration": 7,
    "start_time": "2022-12-20T10:11:49.390Z"
   },
   {
    "duration": 31,
    "start_time": "2022-12-20T10:15:00.008Z"
   },
   {
    "duration": 8,
    "start_time": "2022-12-20T10:15:59.001Z"
   },
   {
    "duration": 9,
    "start_time": "2022-12-20T10:16:21.777Z"
   },
   {
    "duration": 10,
    "start_time": "2022-12-20T10:17:20.514Z"
   },
   {
    "duration": 11,
    "start_time": "2022-12-20T10:17:41.845Z"
   },
   {
    "duration": 46,
    "start_time": "2022-12-20T10:19:44.656Z"
   },
   {
    "duration": 15,
    "start_time": "2022-12-20T10:19:51.287Z"
   },
   {
    "duration": 27,
    "start_time": "2022-12-20T10:22:48.080Z"
   },
   {
    "duration": 847,
    "start_time": "2022-12-20T10:23:21.856Z"
   },
   {
    "duration": 9,
    "start_time": "2022-12-20T10:23:47.573Z"
   },
   {
    "duration": 49,
    "start_time": "2022-12-21T08:33:04.907Z"
   },
   {
    "duration": 428,
    "start_time": "2022-12-21T08:33:08.138Z"
   },
   {
    "duration": 1849,
    "start_time": "2022-12-21T08:33:08.568Z"
   },
   {
    "duration": 50,
    "start_time": "2022-12-21T08:33:10.419Z"
   },
   {
    "duration": 39,
    "start_time": "2022-12-21T08:33:10.471Z"
   },
   {
    "duration": 20,
    "start_time": "2022-12-21T08:33:10.512Z"
   },
   {
    "duration": 20,
    "start_time": "2022-12-21T08:33:10.533Z"
   },
   {
    "duration": 76,
    "start_time": "2022-12-21T08:33:10.555Z"
   },
   {
    "duration": 28,
    "start_time": "2022-12-21T08:33:10.632Z"
   },
   {
    "duration": 3198,
    "start_time": "2022-12-21T08:33:10.662Z"
   },
   {
    "duration": 187,
    "start_time": "2022-12-21T08:33:13.862Z"
   },
   {
    "duration": 148,
    "start_time": "2022-12-21T08:33:14.050Z"
   },
   {
    "duration": 130,
    "start_time": "2022-12-21T08:33:14.200Z"
   },
   {
    "duration": 147,
    "start_time": "2022-12-21T08:33:14.332Z"
   },
   {
    "duration": 7,
    "start_time": "2022-12-21T08:33:14.481Z"
   },
   {
    "duration": 18,
    "start_time": "2022-12-21T08:33:14.490Z"
   },
   {
    "duration": 58,
    "start_time": "2022-12-21T08:51:39.920Z"
   },
   {
    "duration": 27,
    "start_time": "2022-12-21T08:51:52.643Z"
   },
   {
    "duration": 222,
    "start_time": "2022-12-21T08:52:27.113Z"
   },
   {
    "duration": 6,
    "start_time": "2022-12-21T08:55:16.714Z"
   },
   {
    "duration": 9,
    "start_time": "2022-12-21T09:03:29.823Z"
   },
   {
    "duration": 11,
    "start_time": "2022-12-21T09:03:41.950Z"
   },
   {
    "duration": 21,
    "start_time": "2022-12-21T09:12:00.484Z"
   },
   {
    "duration": 12,
    "start_time": "2022-12-21T09:12:32.981Z"
   },
   {
    "duration": 7,
    "start_time": "2022-12-21T09:13:50.207Z"
   },
   {
    "duration": 5,
    "start_time": "2022-12-21T09:16:04.673Z"
   },
   {
    "duration": 23,
    "start_time": "2022-12-21T09:16:59.849Z"
   },
   {
    "duration": 27,
    "start_time": "2022-12-21T09:17:11.465Z"
   },
   {
    "duration": 14,
    "start_time": "2022-12-21T09:17:38.468Z"
   },
   {
    "duration": 39,
    "start_time": "2022-12-21T09:18:55.705Z"
   },
   {
    "duration": 3,
    "start_time": "2022-12-21T09:19:02.681Z"
   },
   {
    "duration": 303,
    "start_time": "2022-12-21T09:19:02.685Z"
   },
   {
    "duration": 40,
    "start_time": "2022-12-21T09:19:02.991Z"
   },
   {
    "duration": 53,
    "start_time": "2022-12-21T09:19:03.032Z"
   },
   {
    "duration": 29,
    "start_time": "2022-12-21T09:19:03.087Z"
   },
   {
    "duration": 18,
    "start_time": "2022-12-21T09:19:03.118Z"
   },
   {
    "duration": 85,
    "start_time": "2022-12-21T09:19:03.138Z"
   },
   {
    "duration": 25,
    "start_time": "2022-12-21T09:19:03.225Z"
   },
   {
    "duration": 32,
    "start_time": "2022-12-21T09:19:03.252Z"
   },
   {
    "duration": 44,
    "start_time": "2022-12-21T09:19:03.285Z"
   },
   {
    "duration": 8,
    "start_time": "2022-12-21T09:19:03.332Z"
   },
   {
    "duration": 38,
    "start_time": "2022-12-21T09:19:03.342Z"
   },
   {
    "duration": 25,
    "start_time": "2022-12-21T09:19:03.382Z"
   },
   {
    "duration": 2552,
    "start_time": "2022-12-21T09:19:03.409Z"
   },
   {
    "duration": 263,
    "start_time": "2022-12-21T09:19:05.964Z"
   },
   {
    "duration": 123,
    "start_time": "2022-12-21T09:19:06.229Z"
   },
   {
    "duration": 148,
    "start_time": "2022-12-21T09:19:06.354Z"
   },
   {
    "duration": 162,
    "start_time": "2022-12-21T09:19:06.504Z"
   },
   {
    "duration": 15,
    "start_time": "2022-12-21T09:19:06.668Z"
   },
   {
    "duration": 56,
    "start_time": "2022-12-21T09:19:06.684Z"
   },
   {
    "duration": 55,
    "start_time": "2022-12-21T09:19:06.741Z"
   },
   {
    "duration": 0,
    "start_time": "2022-12-21T09:19:06.798Z"
   },
   {
    "duration": 76,
    "start_time": "2022-12-21T09:19:16.050Z"
   },
   {
    "duration": 31,
    "start_time": "2022-12-21T09:20:51.559Z"
   },
   {
    "duration": 82,
    "start_time": "2022-12-21T09:21:23.519Z"
   },
   {
    "duration": 23,
    "start_time": "2022-12-21T09:22:04.560Z"
   },
   {
    "duration": 43,
    "start_time": "2022-12-21T09:22:16.977Z"
   },
   {
    "duration": 14,
    "start_time": "2022-12-21T09:22:30.500Z"
   },
   {
    "duration": 14,
    "start_time": "2022-12-21T09:24:28.239Z"
   },
   {
    "duration": 17,
    "start_time": "2022-12-21T09:25:20.140Z"
   },
   {
    "duration": 45,
    "start_time": "2022-12-21T09:38:00.767Z"
   },
   {
    "duration": 8,
    "start_time": "2022-12-21T10:00:41.144Z"
   },
   {
    "duration": 7,
    "start_time": "2022-12-21T10:01:17.798Z"
   },
   {
    "duration": 9,
    "start_time": "2022-12-21T10:01:33.487Z"
   },
   {
    "duration": 8,
    "start_time": "2022-12-21T10:01:59.731Z"
   },
   {
    "duration": 10,
    "start_time": "2022-12-21T10:02:15.443Z"
   },
   {
    "duration": 8,
    "start_time": "2022-12-21T10:03:40.504Z"
   },
   {
    "duration": 33,
    "start_time": "2022-12-21T10:03:50.106Z"
   },
   {
    "duration": 9,
    "start_time": "2022-12-21T10:04:20.764Z"
   },
   {
    "duration": 91,
    "start_time": "2022-12-21T10:15:10.020Z"
   },
   {
    "duration": 12,
    "start_time": "2022-12-21T10:15:19.490Z"
   },
   {
    "duration": 7,
    "start_time": "2022-12-21T10:16:51.419Z"
   },
   {
    "duration": 9,
    "start_time": "2022-12-21T10:16:59.291Z"
   },
   {
    "duration": 30,
    "start_time": "2022-12-21T10:33:00.439Z"
   },
   {
    "duration": 7,
    "start_time": "2022-12-21T10:33:39.470Z"
   },
   {
    "duration": 7,
    "start_time": "2022-12-21T10:47:18.569Z"
   },
   {
    "duration": 172,
    "start_time": "2022-12-21T11:09:31.119Z"
   },
   {
    "duration": 349,
    "start_time": "2022-12-21T11:09:52.962Z"
   },
   {
    "duration": 254,
    "start_time": "2022-12-21T11:10:11.415Z"
   },
   {
    "duration": 178,
    "start_time": "2022-12-21T11:10:18.269Z"
   },
   {
    "duration": 171,
    "start_time": "2022-12-21T11:10:27.107Z"
   },
   {
    "duration": 170,
    "start_time": "2022-12-21T11:10:32.459Z"
   },
   {
    "duration": 383,
    "start_time": "2022-12-21T11:34:19.938Z"
   },
   {
    "duration": 394,
    "start_time": "2022-12-21T11:34:59.375Z"
   },
   {
    "duration": 603,
    "start_time": "2022-12-21T11:37:31.032Z"
   },
   {
    "duration": 616,
    "start_time": "2022-12-21T12:27:06.376Z"
   },
   {
    "duration": 564,
    "start_time": "2022-12-21T12:32:57.857Z"
   },
   {
    "duration": 557,
    "start_time": "2022-12-21T12:34:30.252Z"
   },
   {
    "duration": 614,
    "start_time": "2022-12-21T12:34:43.223Z"
   },
   {
    "duration": 95,
    "start_time": "2022-12-21T12:36:14.448Z"
   },
   {
    "duration": 44,
    "start_time": "2022-12-21T12:38:30.696Z"
   },
   {
    "duration": 53,
    "start_time": "2022-12-21T12:39:42.276Z"
   },
   {
    "duration": 561,
    "start_time": "2022-12-21T12:40:54.582Z"
   },
   {
    "duration": 570,
    "start_time": "2022-12-21T12:41:14.353Z"
   },
   {
    "duration": 755,
    "start_time": "2022-12-21T12:42:23.805Z"
   },
   {
    "duration": 605,
    "start_time": "2022-12-21T12:43:40.248Z"
   },
   {
    "duration": 625,
    "start_time": "2022-12-21T12:47:20.048Z"
   },
   {
    "duration": 605,
    "start_time": "2022-12-21T12:47:38.964Z"
   },
   {
    "duration": 585,
    "start_time": "2022-12-21T12:48:29.760Z"
   },
   {
    "duration": 654,
    "start_time": "2022-12-21T12:49:53.934Z"
   },
   {
    "duration": 658,
    "start_time": "2022-12-21T12:56:10.481Z"
   },
   {
    "duration": 670,
    "start_time": "2022-12-21T12:57:13.360Z"
   },
   {
    "duration": 607,
    "start_time": "2022-12-21T12:57:38.257Z"
   },
   {
    "duration": 623,
    "start_time": "2022-12-21T12:58:33.467Z"
   },
   {
    "duration": 594,
    "start_time": "2022-12-21T12:59:14.669Z"
   },
   {
    "duration": 682,
    "start_time": "2022-12-21T13:02:03.432Z"
   },
   {
    "duration": 56,
    "start_time": "2022-12-21T13:05:33.917Z"
   },
   {
    "duration": 46,
    "start_time": "2022-12-21T13:07:51.882Z"
   },
   {
    "duration": 51,
    "start_time": "2022-12-21T13:08:35.013Z"
   },
   {
    "duration": 57,
    "start_time": "2022-12-21T13:08:45.449Z"
   },
   {
    "duration": 626,
    "start_time": "2022-12-21T13:10:14.749Z"
   },
   {
    "duration": 602,
    "start_time": "2022-12-21T13:11:16.858Z"
   },
   {
    "duration": 600,
    "start_time": "2022-12-21T13:14:08.730Z"
   },
   {
    "duration": 2,
    "start_time": "2022-12-21T13:20:20.900Z"
   },
   {
    "duration": 3,
    "start_time": "2022-12-21T13:25:18.178Z"
   },
   {
    "duration": 3,
    "start_time": "2022-12-21T13:25:26.179Z"
   },
   {
    "duration": 31,
    "start_time": "2022-12-21T13:29:34.867Z"
   },
   {
    "duration": 31,
    "start_time": "2022-12-21T13:29:56.460Z"
   },
   {
    "duration": 885,
    "start_time": "2022-12-21T13:34:21.474Z"
   },
   {
    "duration": 12,
    "start_time": "2022-12-21T13:40:17.169Z"
   },
   {
    "duration": 12,
    "start_time": "2022-12-21T13:44:08.832Z"
   },
   {
    "duration": 11,
    "start_time": "2022-12-21T13:44:16.205Z"
   },
   {
    "duration": 14,
    "start_time": "2022-12-21T13:45:32.251Z"
   },
   {
    "duration": 11,
    "start_time": "2022-12-21T13:46:28.739Z"
   },
   {
    "duration": 12,
    "start_time": "2022-12-21T13:46:36.865Z"
   },
   {
    "duration": 21,
    "start_time": "2022-12-21T13:47:12.567Z"
   },
   {
    "duration": 16,
    "start_time": "2022-12-21T13:47:27.459Z"
   },
   {
    "duration": 3,
    "start_time": "2022-12-21T13:53:02.752Z"
   },
   {
    "duration": 399,
    "start_time": "2022-12-21T14:02:50.033Z"
   },
   {
    "duration": 585,
    "start_time": "2022-12-21T14:03:26.057Z"
   },
   {
    "duration": 587,
    "start_time": "2022-12-21T14:31:14.191Z"
   },
   {
    "duration": 913,
    "start_time": "2022-12-21T14:34:20.244Z"
   },
   {
    "duration": 901,
    "start_time": "2022-12-21T14:39:14.411Z"
   },
   {
    "duration": 901,
    "start_time": "2022-12-21T14:42:37.950Z"
   },
   {
    "duration": 981,
    "start_time": "2022-12-21T14:53:23.545Z"
   },
   {
    "duration": 60,
    "start_time": "2022-12-22T05:59:20.738Z"
   },
   {
    "duration": 461,
    "start_time": "2022-12-22T05:59:25.733Z"
   },
   {
    "duration": 1195,
    "start_time": "2022-12-22T05:59:26.196Z"
   },
   {
    "duration": 79,
    "start_time": "2022-12-22T05:59:27.393Z"
   },
   {
    "duration": 49,
    "start_time": "2022-12-22T05:59:27.475Z"
   },
   {
    "duration": 41,
    "start_time": "2022-12-22T05:59:27.526Z"
   },
   {
    "duration": 18,
    "start_time": "2022-12-22T05:59:27.569Z"
   },
   {
    "duration": 87,
    "start_time": "2022-12-22T05:59:27.589Z"
   },
   {
    "duration": 50,
    "start_time": "2022-12-22T05:59:27.678Z"
   },
   {
    "duration": 38,
    "start_time": "2022-12-22T05:59:27.730Z"
   },
   {
    "duration": 31,
    "start_time": "2022-12-22T05:59:27.771Z"
   },
   {
    "duration": 17,
    "start_time": "2022-12-22T05:59:27.804Z"
   },
   {
    "duration": 44,
    "start_time": "2022-12-22T05:59:27.822Z"
   },
   {
    "duration": 22,
    "start_time": "2022-12-22T05:59:27.868Z"
   },
   {
    "duration": 3463,
    "start_time": "2022-12-22T05:59:27.893Z"
   },
   {
    "duration": 185,
    "start_time": "2022-12-22T05:59:31.358Z"
   },
   {
    "duration": 157,
    "start_time": "2022-12-22T05:59:31.544Z"
   },
   {
    "duration": 165,
    "start_time": "2022-12-22T05:59:31.703Z"
   },
   {
    "duration": 168,
    "start_time": "2022-12-22T05:59:31.870Z"
   },
   {
    "duration": 324,
    "start_time": "2022-12-22T05:59:32.050Z"
   },
   {
    "duration": 9,
    "start_time": "2022-12-22T05:59:32.376Z"
   },
   {
    "duration": 45,
    "start_time": "2022-12-22T05:59:32.387Z"
   },
   {
    "duration": 713,
    "start_time": "2022-12-22T05:59:32.434Z"
   },
   {
    "duration": 71,
    "start_time": "2022-12-22T05:59:33.152Z"
   },
   {
    "duration": 4,
    "start_time": "2022-12-22T05:59:33.225Z"
   },
   {
    "duration": 977,
    "start_time": "2022-12-22T05:59:33.231Z"
   },
   {
    "duration": 21,
    "start_time": "2022-12-22T05:59:34.209Z"
   },
   {
    "duration": 19,
    "start_time": "2022-12-22T05:59:34.232Z"
   },
   {
    "duration": 665,
    "start_time": "2022-12-22T05:59:34.255Z"
   },
   {
    "duration": 976,
    "start_time": "2022-12-22T05:59:34.923Z"
   },
   {
    "duration": 9,
    "start_time": "2022-12-22T05:59:35.901Z"
   },
   {
    "duration": 12,
    "start_time": "2022-12-22T05:59:53.587Z"
   },
   {
    "duration": 11,
    "start_time": "2022-12-22T07:04:29.465Z"
   },
   {
    "duration": 13,
    "start_time": "2022-12-22T07:09:34.823Z"
   },
   {
    "duration": 16,
    "start_time": "2022-12-22T07:12:41.044Z"
   },
   {
    "duration": 17,
    "start_time": "2022-12-22T07:13:05.961Z"
   },
   {
    "duration": 25,
    "start_time": "2022-12-22T07:13:25.890Z"
   },
   {
    "duration": 15,
    "start_time": "2022-12-22T07:17:35.745Z"
   },
   {
    "duration": 16,
    "start_time": "2022-12-22T07:17:48.162Z"
   },
   {
    "duration": 33,
    "start_time": "2022-12-22T07:22:14.135Z"
   },
   {
    "duration": 17,
    "start_time": "2022-12-22T07:44:24.406Z"
   },
   {
    "duration": 37,
    "start_time": "2022-12-22T07:46:39.496Z"
   },
   {
    "duration": 226,
    "start_time": "2022-12-22T08:04:25.626Z"
   },
   {
    "duration": 169,
    "start_time": "2022-12-22T08:04:43.144Z"
   },
   {
    "duration": 153,
    "start_time": "2022-12-22T08:04:53.192Z"
   },
   {
    "duration": 120,
    "start_time": "2022-12-22T08:05:04.634Z"
   },
   {
    "duration": 136,
    "start_time": "2022-12-22T08:09:49.668Z"
   },
   {
    "duration": 118,
    "start_time": "2022-12-22T08:19:51.415Z"
   },
   {
    "duration": 183,
    "start_time": "2022-12-22T08:20:41.285Z"
   },
   {
    "duration": 30,
    "start_time": "2022-12-22T08:32:09.941Z"
   },
   {
    "duration": 19,
    "start_time": "2022-12-22T08:33:11.902Z"
   },
   {
    "duration": 31,
    "start_time": "2022-12-22T08:33:22.784Z"
   },
   {
    "duration": 12,
    "start_time": "2022-12-22T08:33:44.728Z"
   },
   {
    "duration": 17,
    "start_time": "2022-12-22T08:33:53.389Z"
   },
   {
    "duration": 3,
    "start_time": "2022-12-22T08:36:01.787Z"
   },
   {
    "duration": 90,
    "start_time": "2022-12-22T08:36:08.411Z"
   },
   {
    "duration": 83,
    "start_time": "2022-12-22T08:38:55.016Z"
   },
   {
    "duration": 180,
    "start_time": "2022-12-22T08:39:14.985Z"
   },
   {
    "duration": 46,
    "start_time": "2022-12-22T08:41:56.864Z"
   },
   {
    "duration": 784,
    "start_time": "2022-12-22T08:42:45.962Z"
   },
   {
    "duration": 100,
    "start_time": "2022-12-22T08:42:53.363Z"
   },
   {
    "duration": 45,
    "start_time": "2022-12-22T08:47:30.341Z"
   },
   {
    "duration": 118,
    "start_time": "2022-12-22T08:47:50.207Z"
   },
   {
    "duration": 228,
    "start_time": "2022-12-22T08:47:55.381Z"
   },
   {
    "duration": 91,
    "start_time": "2022-12-22T08:48:57.140Z"
   },
   {
    "duration": 260,
    "start_time": "2022-12-22T08:49:00.210Z"
   },
   {
    "duration": 36,
    "start_time": "2022-12-22T08:51:58.023Z"
   },
   {
    "duration": 17,
    "start_time": "2022-12-22T08:52:45.875Z"
   },
   {
    "duration": 3,
    "start_time": "2022-12-22T08:53:13.922Z"
   },
   {
    "duration": 7,
    "start_time": "2022-12-22T08:53:13.928Z"
   },
   {
    "duration": 429,
    "start_time": "2022-12-22T08:53:13.937Z"
   },
   {
    "duration": 46,
    "start_time": "2022-12-22T08:53:14.368Z"
   },
   {
    "duration": 52,
    "start_time": "2022-12-22T08:53:14.416Z"
   },
   {
    "duration": 22,
    "start_time": "2022-12-22T08:53:14.470Z"
   },
   {
    "duration": 14,
    "start_time": "2022-12-22T08:53:14.494Z"
   },
   {
    "duration": 82,
    "start_time": "2022-12-22T08:53:14.510Z"
   },
   {
    "duration": 40,
    "start_time": "2022-12-22T08:53:14.594Z"
   },
   {
    "duration": 36,
    "start_time": "2022-12-22T08:53:14.650Z"
   },
   {
    "duration": 16,
    "start_time": "2022-12-22T08:53:14.689Z"
   },
   {
    "duration": 8,
    "start_time": "2022-12-22T08:53:14.708Z"
   },
   {
    "duration": 56,
    "start_time": "2022-12-22T08:53:14.719Z"
   },
   {
    "duration": 29,
    "start_time": "2022-12-22T08:53:14.778Z"
   },
   {
    "duration": 2809,
    "start_time": "2022-12-22T08:53:14.808Z"
   },
   {
    "duration": 185,
    "start_time": "2022-12-22T08:53:17.618Z"
   },
   {
    "duration": 151,
    "start_time": "2022-12-22T08:53:17.805Z"
   },
   {
    "duration": 148,
    "start_time": "2022-12-22T08:53:17.958Z"
   },
   {
    "duration": 164,
    "start_time": "2022-12-22T08:53:18.108Z"
   },
   {
    "duration": 215,
    "start_time": "2022-12-22T08:53:18.275Z"
   },
   {
    "duration": 8,
    "start_time": "2022-12-22T08:53:18.491Z"
   },
   {
    "duration": 14,
    "start_time": "2022-12-22T08:53:18.500Z"
   },
   {
    "duration": 884,
    "start_time": "2022-12-22T08:53:18.516Z"
   },
   {
    "duration": 68,
    "start_time": "2022-12-22T08:53:19.402Z"
   },
   {
    "duration": 3,
    "start_time": "2022-12-22T08:53:19.473Z"
   },
   {
    "duration": 1217,
    "start_time": "2022-12-22T08:53:19.478Z"
   },
   {
    "duration": 3,
    "start_time": "2022-12-22T08:53:20.696Z"
   },
   {
    "duration": 724,
    "start_time": "2022-12-22T08:53:20.701Z"
   },
   {
    "duration": 1035,
    "start_time": "2022-12-22T08:53:21.426Z"
   },
   {
    "duration": 19,
    "start_time": "2022-12-22T08:53:22.463Z"
   },
   {
    "duration": 50,
    "start_time": "2022-12-22T08:53:22.484Z"
   },
   {
    "duration": 34,
    "start_time": "2022-12-22T08:53:22.536Z"
   },
   {
    "duration": 115,
    "start_time": "2022-12-22T08:53:22.572Z"
   },
   {
    "duration": 213,
    "start_time": "2022-12-22T08:53:22.690Z"
   },
   {
    "duration": 168,
    "start_time": "2022-12-22T08:53:22.905Z"
   },
   {
    "duration": 287,
    "start_time": "2022-12-22T08:53:23.075Z"
   },
   {
    "duration": 301,
    "start_time": "2022-12-22T08:55:01.180Z"
   },
   {
    "duration": 48,
    "start_time": "2022-12-23T03:23:27.326Z"
   },
   {
    "duration": 1110,
    "start_time": "2022-12-23T03:23:34.389Z"
   },
   {
    "duration": 3,
    "start_time": "2022-12-23T03:23:35.501Z"
   },
   {
    "duration": 447,
    "start_time": "2022-12-23T03:23:35.506Z"
   },
   {
    "duration": 44,
    "start_time": "2022-12-23T03:23:35.956Z"
   },
   {
    "duration": 31,
    "start_time": "2022-12-23T03:23:36.002Z"
   },
   {
    "duration": 23,
    "start_time": "2022-12-23T03:23:36.035Z"
   },
   {
    "duration": 15,
    "start_time": "2022-12-23T03:23:36.060Z"
   },
   {
    "duration": 68,
    "start_time": "2022-12-23T03:23:36.077Z"
   },
   {
    "duration": 27,
    "start_time": "2022-12-23T03:23:36.147Z"
   },
   {
    "duration": 41,
    "start_time": "2022-12-23T03:23:36.177Z"
   },
   {
    "duration": 16,
    "start_time": "2022-12-23T03:23:36.220Z"
   },
   {
    "duration": 8,
    "start_time": "2022-12-23T03:23:36.238Z"
   },
   {
    "duration": 35,
    "start_time": "2022-12-23T03:23:36.248Z"
   },
   {
    "duration": 31,
    "start_time": "2022-12-23T03:23:36.285Z"
   },
   {
    "duration": 2943,
    "start_time": "2022-12-23T03:23:36.317Z"
   },
   {
    "duration": 159,
    "start_time": "2022-12-23T03:23:39.262Z"
   },
   {
    "duration": 122,
    "start_time": "2022-12-23T03:23:39.423Z"
   },
   {
    "duration": 126,
    "start_time": "2022-12-23T03:23:39.547Z"
   },
   {
    "duration": 138,
    "start_time": "2022-12-23T03:23:39.674Z"
   },
   {
    "duration": 199,
    "start_time": "2022-12-23T03:23:39.813Z"
   },
   {
    "duration": 7,
    "start_time": "2022-12-23T03:23:40.014Z"
   },
   {
    "duration": 16,
    "start_time": "2022-12-23T03:23:40.022Z"
   },
   {
    "duration": 764,
    "start_time": "2022-12-23T03:23:40.040Z"
   },
   {
    "duration": 43,
    "start_time": "2022-12-23T03:23:40.811Z"
   },
   {
    "duration": 3,
    "start_time": "2022-12-23T03:23:40.855Z"
   },
   {
    "duration": 934,
    "start_time": "2022-12-23T03:23:40.859Z"
   },
   {
    "duration": 2,
    "start_time": "2022-12-23T03:23:41.795Z"
   },
   {
    "duration": 662,
    "start_time": "2022-12-23T03:23:41.800Z"
   },
   {
    "duration": 935,
    "start_time": "2022-12-23T03:23:42.463Z"
   },
   {
    "duration": 22,
    "start_time": "2022-12-23T03:23:43.399Z"
   },
   {
    "duration": 27,
    "start_time": "2022-12-23T03:23:43.423Z"
   },
   {
    "duration": 13,
    "start_time": "2022-12-23T03:23:43.452Z"
   },
   {
    "duration": 121,
    "start_time": "2022-12-23T03:23:43.467Z"
   },
   {
    "duration": 204,
    "start_time": "2022-12-23T03:23:43.589Z"
   },
   {
    "duration": 111,
    "start_time": "2022-12-23T03:23:43.795Z"
   },
   {
    "duration": 269,
    "start_time": "2022-12-23T03:23:43.907Z"
   },
   {
    "duration": 1830,
    "start_time": "2022-12-23T03:23:44.178Z"
   },
   {
    "duration": 10,
    "start_time": "2022-12-23T03:24:25.984Z"
   },
   {
    "duration": 81907,
    "start_time": "2022-12-23T03:24:31.572Z"
   },
   {
    "duration": 1956,
    "start_time": "2022-12-23T03:29:22.747Z"
   },
   {
    "duration": 4,
    "start_time": "2022-12-23T03:30:10.419Z"
   },
   {
    "duration": 4,
    "start_time": "2022-12-23T03:30:35.735Z"
   },
   {
    "duration": 80503,
    "start_time": "2022-12-23T03:30:44.195Z"
   },
   {
    "duration": 74987,
    "start_time": "2022-12-23T03:40:48.246Z"
   },
   {
    "duration": 10,
    "start_time": "2022-12-23T03:45:44.247Z"
   },
   {
    "duration": 3,
    "start_time": "2022-12-23T03:46:14.358Z"
   },
   {
    "duration": 3727,
    "start_time": "2022-12-23T03:46:21.292Z"
   },
   {
    "duration": 13502,
    "start_time": "2022-12-23T03:48:59.019Z"
   },
   {
    "duration": 61164,
    "start_time": "2022-12-23T03:50:15.453Z"
   },
   {
    "duration": 53728,
    "start_time": "2022-12-23T03:51:25.393Z"
   },
   {
    "duration": 77942,
    "start_time": "2022-12-23T03:53:53.867Z"
   },
   {
    "duration": 120,
    "start_time": "2022-12-23T10:33:57.716Z"
   },
   {
    "duration": 1082,
    "start_time": "2022-12-23T10:34:40.509Z"
   },
   {
    "duration": 3,
    "start_time": "2022-12-23T10:34:41.593Z"
   },
   {
    "duration": 1096,
    "start_time": "2022-12-23T10:34:41.597Z"
   },
   {
    "duration": 61,
    "start_time": "2022-12-23T10:34:42.695Z"
   },
   {
    "duration": 39,
    "start_time": "2022-12-23T10:34:42.757Z"
   },
   {
    "duration": 33,
    "start_time": "2022-12-23T10:34:42.798Z"
   },
   {
    "duration": 15,
    "start_time": "2022-12-23T10:34:42.833Z"
   },
   {
    "duration": 67,
    "start_time": "2022-12-23T10:34:42.850Z"
   },
   {
    "duration": 27,
    "start_time": "2022-12-23T10:34:42.919Z"
   },
   {
    "duration": 24,
    "start_time": "2022-12-23T10:34:42.949Z"
   },
   {
    "duration": 12,
    "start_time": "2022-12-23T10:34:42.975Z"
   },
   {
    "duration": 7,
    "start_time": "2022-12-23T10:34:43.012Z"
   },
   {
    "duration": 25,
    "start_time": "2022-12-23T10:34:43.020Z"
   },
   {
    "duration": 14,
    "start_time": "2022-12-23T10:34:43.047Z"
   },
   {
    "duration": 2875,
    "start_time": "2022-12-23T10:34:43.062Z"
   },
   {
    "duration": 141,
    "start_time": "2022-12-23T10:34:45.939Z"
   },
   {
    "duration": 121,
    "start_time": "2022-12-23T10:34:46.082Z"
   },
   {
    "duration": 131,
    "start_time": "2022-12-23T10:34:46.213Z"
   },
   {
    "duration": 143,
    "start_time": "2022-12-23T10:34:46.345Z"
   },
   {
    "duration": 190,
    "start_time": "2022-12-23T10:34:46.489Z"
   },
   {
    "duration": 8,
    "start_time": "2022-12-23T10:34:46.681Z"
   },
   {
    "duration": 40,
    "start_time": "2022-12-23T10:34:46.690Z"
   },
   {
    "duration": 744,
    "start_time": "2022-12-23T10:34:46.732Z"
   },
   {
    "duration": 58,
    "start_time": "2022-12-23T10:34:47.478Z"
   },
   {
    "duration": 3,
    "start_time": "2022-12-23T10:34:47.537Z"
   },
   {
    "duration": 852,
    "start_time": "2022-12-23T10:34:47.542Z"
   },
   {
    "duration": 3,
    "start_time": "2022-12-23T10:34:48.396Z"
   },
   {
    "duration": 627,
    "start_time": "2022-12-23T10:34:48.414Z"
   },
   {
    "duration": 867,
    "start_time": "2022-12-23T10:34:49.042Z"
   },
   {
    "duration": 18,
    "start_time": "2022-12-23T10:34:49.913Z"
   },
   {
    "duration": 29,
    "start_time": "2022-12-23T10:34:49.932Z"
   },
   {
    "duration": 13,
    "start_time": "2022-12-23T10:34:49.963Z"
   },
   {
    "duration": 123,
    "start_time": "2022-12-23T10:34:49.978Z"
   },
   {
    "duration": 222,
    "start_time": "2022-12-23T10:34:50.103Z"
   },
   {
    "duration": 134,
    "start_time": "2022-12-23T10:34:50.327Z"
   },
   {
    "duration": 274,
    "start_time": "2022-12-23T10:34:50.463Z"
   },
   {
    "duration": 286,
    "start_time": "2022-12-23T10:34:50.739Z"
   },
   {
    "duration": 4490,
    "start_time": "2022-12-23T10:34:51.027Z"
   },
   {
    "duration": 62696,
    "start_time": "2022-12-23T10:34:55.519Z"
   },
   {
    "duration": 17,
    "start_time": "2022-12-23T10:35:58.314Z"
   },
   {
    "duration": 1216,
    "start_time": "2022-12-26T07:23:28.000Z"
   },
   {
    "duration": 4,
    "start_time": "2022-12-26T07:23:29.219Z"
   },
   {
    "duration": 873,
    "start_time": "2022-12-26T07:23:29.224Z"
   },
   {
    "duration": 54,
    "start_time": "2022-12-26T07:23:30.099Z"
   },
   {
    "duration": 41,
    "start_time": "2022-12-26T07:23:30.155Z"
   },
   {
    "duration": 23,
    "start_time": "2022-12-26T07:23:30.198Z"
   },
   {
    "duration": 41,
    "start_time": "2022-12-26T07:23:30.223Z"
   },
   {
    "duration": 87,
    "start_time": "2022-12-26T07:23:30.267Z"
   },
   {
    "duration": 38,
    "start_time": "2022-12-26T07:23:30.356Z"
   },
   {
    "duration": 26,
    "start_time": "2022-12-26T07:23:30.397Z"
   },
   {
    "duration": 34,
    "start_time": "2022-12-26T07:23:30.425Z"
   },
   {
    "duration": 13,
    "start_time": "2022-12-26T07:23:30.461Z"
   },
   {
    "duration": 52,
    "start_time": "2022-12-26T07:23:30.475Z"
   },
   {
    "duration": 30,
    "start_time": "2022-12-26T07:23:30.529Z"
   },
   {
    "duration": 3592,
    "start_time": "2022-12-26T07:23:30.561Z"
   },
   {
    "duration": 184,
    "start_time": "2022-12-26T07:23:34.154Z"
   },
   {
    "duration": 160,
    "start_time": "2022-12-26T07:23:34.340Z"
   },
   {
    "duration": 158,
    "start_time": "2022-12-26T07:23:34.502Z"
   },
   {
    "duration": 164,
    "start_time": "2022-12-26T07:23:34.662Z"
   },
   {
    "duration": 323,
    "start_time": "2022-12-26T07:23:34.828Z"
   },
   {
    "duration": 8,
    "start_time": "2022-12-26T07:23:35.152Z"
   },
   {
    "duration": 16,
    "start_time": "2022-12-26T07:23:35.162Z"
   },
   {
    "duration": 725,
    "start_time": "2022-12-26T07:23:35.180Z"
   },
   {
    "duration": 65,
    "start_time": "2022-12-26T07:23:35.907Z"
   },
   {
    "duration": 3,
    "start_time": "2022-12-26T07:23:35.974Z"
   },
   {
    "duration": 1005,
    "start_time": "2022-12-26T07:23:35.979Z"
   },
   {
    "duration": 3,
    "start_time": "2022-12-26T07:23:36.986Z"
   },
   {
    "duration": 780,
    "start_time": "2022-12-26T07:23:36.994Z"
   },
   {
    "duration": 1001,
    "start_time": "2022-12-26T07:23:37.776Z"
   },
   {
    "duration": 20,
    "start_time": "2022-12-26T07:23:38.779Z"
   },
   {
    "duration": 54,
    "start_time": "2022-12-26T07:23:38.802Z"
   },
   {
    "duration": 21,
    "start_time": "2022-12-26T07:23:38.858Z"
   },
   {
    "duration": 152,
    "start_time": "2022-12-26T07:23:38.880Z"
   },
   {
    "duration": 247,
    "start_time": "2022-12-26T07:23:39.034Z"
   },
   {
    "duration": 124,
    "start_time": "2022-12-26T07:23:39.284Z"
   },
   {
    "duration": 404,
    "start_time": "2022-12-26T07:23:39.410Z"
   },
   {
    "duration": 231694,
    "start_time": "2022-12-26T07:23:39.816Z"
   },
   {
    "duration": 4730,
    "start_time": "2022-12-26T07:27:31.512Z"
   },
   {
    "duration": 0,
    "start_time": "2022-12-26T07:27:36.251Z"
   },
   {
    "duration": 10,
    "start_time": "2022-12-26T07:50:47.794Z"
   },
   {
    "duration": 4,
    "start_time": "2022-12-26T07:51:09.604Z"
   },
   {
    "duration": 10,
    "start_time": "2022-12-26T07:51:15.736Z"
   },
   {
    "duration": 12,
    "start_time": "2022-12-26T07:52:43.173Z"
   },
   {
    "duration": 11,
    "start_time": "2022-12-26T07:55:29.282Z"
   },
   {
    "duration": 65114,
    "start_time": "2022-12-26T07:56:23.737Z"
   },
   {
    "duration": 52,
    "start_time": "2022-12-26T07:57:41.403Z"
   },
   {
    "duration": 4,
    "start_time": "2022-12-26T07:58:18.665Z"
   },
   {
    "duration": 298,
    "start_time": "2022-12-26T07:58:26.466Z"
   },
   {
    "duration": 4,
    "start_time": "2022-12-26T07:58:41.370Z"
   },
   {
    "duration": 18,
    "start_time": "2022-12-26T07:58:41.376Z"
   },
   {
    "duration": 202,
    "start_time": "2022-12-26T07:58:41.396Z"
   },
   {
    "duration": 51,
    "start_time": "2022-12-26T07:58:41.600Z"
   },
   {
    "duration": 35,
    "start_time": "2022-12-26T07:58:41.652Z"
   },
   {
    "duration": 21,
    "start_time": "2022-12-26T07:58:41.689Z"
   },
   {
    "duration": 39,
    "start_time": "2022-12-26T07:58:41.712Z"
   },
   {
    "duration": 49,
    "start_time": "2022-12-26T07:58:41.753Z"
   },
   {
    "duration": 27,
    "start_time": "2022-12-26T07:58:41.805Z"
   },
   {
    "duration": 41,
    "start_time": "2022-12-26T07:58:41.834Z"
   },
   {
    "duration": 15,
    "start_time": "2022-12-26T07:58:41.877Z"
   },
   {
    "duration": 9,
    "start_time": "2022-12-26T07:58:41.894Z"
   },
   {
    "duration": 56,
    "start_time": "2022-12-26T07:58:41.904Z"
   },
   {
    "duration": 15,
    "start_time": "2022-12-26T07:58:41.962Z"
   },
   {
    "duration": 2598,
    "start_time": "2022-12-26T07:58:41.979Z"
   },
   {
    "duration": 171,
    "start_time": "2022-12-26T07:58:44.579Z"
   },
   {
    "duration": 139,
    "start_time": "2022-12-26T07:58:44.752Z"
   },
   {
    "duration": 139,
    "start_time": "2022-12-26T07:58:44.893Z"
   },
   {
    "duration": 162,
    "start_time": "2022-12-26T07:58:45.033Z"
   },
   {
    "duration": 209,
    "start_time": "2022-12-26T07:58:45.197Z"
   },
   {
    "duration": 8,
    "start_time": "2022-12-26T07:58:45.407Z"
   },
   {
    "duration": 15,
    "start_time": "2022-12-26T07:58:45.417Z"
   },
   {
    "duration": 666,
    "start_time": "2022-12-26T07:58:45.433Z"
   },
   {
    "duration": 59,
    "start_time": "2022-12-26T07:58:46.102Z"
   },
   {
    "duration": 3,
    "start_time": "2022-12-26T07:58:46.163Z"
   },
   {
    "duration": 965,
    "start_time": "2022-12-26T07:58:46.168Z"
   },
   {
    "duration": 3,
    "start_time": "2022-12-26T07:58:47.134Z"
   },
   {
    "duration": 670,
    "start_time": "2022-12-26T07:58:47.139Z"
   },
   {
    "duration": 967,
    "start_time": "2022-12-26T07:58:47.811Z"
   },
   {
    "duration": 18,
    "start_time": "2022-12-26T07:58:48.780Z"
   },
   {
    "duration": 51,
    "start_time": "2022-12-26T07:58:48.800Z"
   },
   {
    "duration": 16,
    "start_time": "2022-12-26T07:58:48.853Z"
   },
   {
    "duration": 130,
    "start_time": "2022-12-26T07:58:48.871Z"
   },
   {
    "duration": 380,
    "start_time": "2022-12-26T07:58:49.004Z"
   },
   {
    "duration": 106,
    "start_time": "2022-12-26T07:58:49.387Z"
   },
   {
    "duration": 377,
    "start_time": "2022-12-26T07:58:49.494Z"
   },
   {
    "duration": 97764,
    "start_time": "2022-12-26T07:58:49.873Z"
   },
   {
    "duration": 185,
    "start_time": "2022-12-26T08:00:27.639Z"
   },
   {
    "duration": 63526,
    "start_time": "2022-12-26T08:00:27.826Z"
   },
   {
    "duration": 413,
    "start_time": "2022-12-26T08:01:31.355Z"
   },
   {
    "duration": 1578,
    "start_time": "2022-12-26T12:17:24.680Z"
   },
   {
    "duration": 2,
    "start_time": "2022-12-26T12:17:26.260Z"
   },
   {
    "duration": 1136,
    "start_time": "2022-12-26T12:17:26.264Z"
   },
   {
    "duration": 49,
    "start_time": "2022-12-26T12:17:27.402Z"
   },
   {
    "duration": 32,
    "start_time": "2022-12-26T12:17:27.453Z"
   },
   {
    "duration": 34,
    "start_time": "2022-12-26T12:17:27.487Z"
   },
   {
    "duration": 15,
    "start_time": "2022-12-26T12:17:27.523Z"
   },
   {
    "duration": 67,
    "start_time": "2022-12-26T12:17:27.540Z"
   },
   {
    "duration": 45,
    "start_time": "2022-12-26T12:17:27.608Z"
   },
   {
    "duration": 30,
    "start_time": "2022-12-26T12:17:27.656Z"
   },
   {
    "duration": 28,
    "start_time": "2022-12-26T12:17:27.688Z"
   },
   {
    "duration": 8,
    "start_time": "2022-12-26T12:17:27.717Z"
   },
   {
    "duration": 45,
    "start_time": "2022-12-26T12:17:27.727Z"
   },
   {
    "duration": 15,
    "start_time": "2022-12-26T12:17:27.774Z"
   },
   {
    "duration": 2634,
    "start_time": "2022-12-26T12:17:27.790Z"
   },
   {
    "duration": 168,
    "start_time": "2022-12-26T12:17:30.426Z"
   },
   {
    "duration": 166,
    "start_time": "2022-12-26T12:17:30.596Z"
   },
   {
    "duration": 145,
    "start_time": "2022-12-26T12:17:30.763Z"
   },
   {
    "duration": 156,
    "start_time": "2022-12-26T12:17:30.910Z"
   },
   {
    "duration": 209,
    "start_time": "2022-12-26T12:17:31.068Z"
   },
   {
    "duration": 8,
    "start_time": "2022-12-26T12:17:31.279Z"
   },
   {
    "duration": 43,
    "start_time": "2022-12-26T12:17:31.289Z"
   },
   {
    "duration": 796,
    "start_time": "2022-12-26T12:17:31.336Z"
   },
   {
    "duration": 47,
    "start_time": "2022-12-26T12:17:32.134Z"
   },
   {
    "duration": 2,
    "start_time": "2022-12-26T12:17:32.183Z"
   },
   {
    "duration": 986,
    "start_time": "2022-12-26T12:17:32.187Z"
   },
   {
    "duration": 3,
    "start_time": "2022-12-26T12:17:33.174Z"
   },
   {
    "duration": 683,
    "start_time": "2022-12-26T12:17:33.180Z"
   },
   {
    "duration": 1110,
    "start_time": "2022-12-26T12:17:33.865Z"
   },
   {
    "duration": 18,
    "start_time": "2022-12-26T12:17:34.977Z"
   },
   {
    "duration": 51,
    "start_time": "2022-12-26T12:17:34.997Z"
   },
   {
    "duration": 14,
    "start_time": "2022-12-26T12:17:35.050Z"
   },
   {
    "duration": 118,
    "start_time": "2022-12-26T12:17:35.066Z"
   },
   {
    "duration": 210,
    "start_time": "2022-12-26T12:17:35.185Z"
   },
   {
    "duration": 116,
    "start_time": "2022-12-26T12:17:35.397Z"
   },
   {
    "duration": 293,
    "start_time": "2022-12-26T12:17:35.515Z"
   },
   {
    "duration": 97803,
    "start_time": "2022-12-26T12:17:35.822Z"
   },
   {
    "duration": 183,
    "start_time": "2022-12-26T12:19:13.628Z"
   },
   {
    "duration": 54229,
    "start_time": "2022-12-26T12:19:13.812Z"
   },
   {
    "duration": 398,
    "start_time": "2022-12-26T12:20:08.044Z"
   },
   {
    "duration": 158,
    "start_time": "2022-12-26T12:26:39.978Z"
   },
   {
    "duration": 4,
    "start_time": "2022-12-26T12:27:08.074Z"
   },
   {
    "duration": 115,
    "start_time": "2022-12-26T12:27:13.255Z"
   },
   {
    "duration": 102681,
    "start_time": "2022-12-26T12:28:39.186Z"
   },
   {
    "duration": 167,
    "start_time": "2022-12-26T12:31:53.308Z"
   },
   {
    "duration": 75,
    "start_time": "2022-12-26T12:34:57.510Z"
   },
   {
    "duration": 30721,
    "start_time": "2022-12-26T12:35:38.652Z"
   },
   {
    "duration": 159,
    "start_time": "2022-12-26T12:37:18.384Z"
   },
   {
    "duration": 17,
    "start_time": "2022-12-26T12:39:08.287Z"
   },
   {
    "duration": 24,
    "start_time": "2022-12-26T12:39:17.528Z"
   },
   {
    "duration": 1424,
    "start_time": "2022-12-26T12:42:45.492Z"
   },
   {
    "duration": 103,
    "start_time": "2022-12-26T12:44:10.948Z"
   },
   {
    "duration": 107106,
    "start_time": "2022-12-26T12:44:19.059Z"
   },
   {
    "duration": 1392,
    "start_time": "2022-12-26T12:46:06.167Z"
   },
   {
    "duration": 4,
    "start_time": "2022-12-26T12:47:56.696Z"
   },
   {
    "duration": 53,
    "start_time": "2022-12-26T12:49:41.953Z"
   },
   {
    "duration": 1448,
    "start_time": "2022-12-26T12:49:57.553Z"
   },
   {
    "duration": 13,
    "start_time": "2022-12-26T12:52:33.256Z"
   },
   {
    "duration": 4,
    "start_time": "2022-12-26T12:53:09.902Z"
   },
   {
    "duration": 10,
    "start_time": "2022-12-26T12:53:17.741Z"
   },
   {
    "duration": 16,
    "start_time": "2022-12-26T12:56:15.492Z"
   },
   {
    "duration": 5,
    "start_time": "2022-12-26T12:56:34.218Z"
   },
   {
    "duration": 16,
    "start_time": "2022-12-26T12:56:34.225Z"
   },
   {
    "duration": 212,
    "start_time": "2022-12-26T12:56:34.243Z"
   },
   {
    "duration": 41,
    "start_time": "2022-12-26T12:56:34.457Z"
   },
   {
    "duration": 48,
    "start_time": "2022-12-26T12:56:34.500Z"
   },
   {
    "duration": 19,
    "start_time": "2022-12-26T12:56:34.550Z"
   },
   {
    "duration": 12,
    "start_time": "2022-12-26T12:56:34.571Z"
   },
   {
    "duration": 78,
    "start_time": "2022-12-26T12:56:34.585Z"
   },
   {
    "duration": 26,
    "start_time": "2022-12-26T12:56:34.665Z"
   },
   {
    "duration": 34,
    "start_time": "2022-12-26T12:56:34.693Z"
   },
   {
    "duration": 16,
    "start_time": "2022-12-26T12:56:34.729Z"
   },
   {
    "duration": 6,
    "start_time": "2022-12-26T12:56:34.749Z"
   },
   {
    "duration": 27,
    "start_time": "2022-12-26T12:56:34.757Z"
   },
   {
    "duration": 48,
    "start_time": "2022-12-26T12:56:34.786Z"
   },
   {
    "duration": 2572,
    "start_time": "2022-12-26T12:56:34.836Z"
   },
   {
    "duration": 184,
    "start_time": "2022-12-26T12:56:37.410Z"
   },
   {
    "duration": 141,
    "start_time": "2022-12-26T12:56:37.596Z"
   },
   {
    "duration": 142,
    "start_time": "2022-12-26T12:56:37.739Z"
   },
   {
    "duration": 140,
    "start_time": "2022-12-26T12:56:37.882Z"
   },
   {
    "duration": 311,
    "start_time": "2022-12-26T12:56:38.024Z"
   },
   {
    "duration": 7,
    "start_time": "2022-12-26T12:56:38.337Z"
   },
   {
    "duration": 15,
    "start_time": "2022-12-26T12:56:38.346Z"
   },
   {
    "duration": 680,
    "start_time": "2022-12-26T12:56:38.363Z"
   },
   {
    "duration": 45,
    "start_time": "2022-12-26T12:56:39.044Z"
   },
   {
    "duration": 3,
    "start_time": "2022-12-26T12:56:39.090Z"
   },
   {
    "duration": 977,
    "start_time": "2022-12-26T12:56:39.095Z"
   },
   {
    "duration": 2,
    "start_time": "2022-12-26T12:56:40.074Z"
   },
   {
    "duration": 654,
    "start_time": "2022-12-26T12:56:40.078Z"
   },
   {
    "duration": 988,
    "start_time": "2022-12-26T12:56:40.734Z"
   },
   {
    "duration": 19,
    "start_time": "2022-12-26T12:56:41.726Z"
   },
   {
    "duration": 35,
    "start_time": "2022-12-26T12:56:41.747Z"
   },
   {
    "duration": 25,
    "start_time": "2022-12-26T12:56:41.784Z"
   },
   {
    "duration": 111,
    "start_time": "2022-12-26T12:56:41.811Z"
   },
   {
    "duration": 192,
    "start_time": "2022-12-26T12:56:41.924Z"
   },
   {
    "duration": 87,
    "start_time": "2022-12-26T12:56:42.117Z"
   },
   {
    "duration": 289,
    "start_time": "2022-12-26T12:56:42.206Z"
   },
   {
    "duration": 97082,
    "start_time": "2022-12-26T12:56:42.497Z"
   },
   {
    "duration": 173,
    "start_time": "2022-12-26T12:58:19.580Z"
   },
   {
    "duration": 57576,
    "start_time": "2022-12-26T12:58:19.754Z"
   },
   {
    "duration": 310,
    "start_time": "2022-12-26T12:59:17.421Z"
   },
   {
    "duration": 99,
    "start_time": "2022-12-26T12:59:17.733Z"
   },
   {
    "duration": 103084,
    "start_time": "2022-12-26T12:59:17.833Z"
   },
   {
    "duration": 172,
    "start_time": "2022-12-26T13:01:00.922Z"
   },
   {
    "duration": 85,
    "start_time": "2022-12-26T13:01:01.096Z"
   },
   {
    "duration": 30099,
    "start_time": "2022-12-26T13:01:01.183Z"
   },
   {
    "duration": 163,
    "start_time": "2022-12-26T13:01:31.283Z"
   },
   {
    "duration": 18,
    "start_time": "2022-12-26T13:01:31.447Z"
   },
   {
    "duration": 4,
    "start_time": "2022-12-26T13:01:31.466Z"
   },
   {
    "duration": 77,
    "start_time": "2022-12-26T13:01:31.471Z"
   },
   {
    "duration": 1359,
    "start_time": "2022-12-26T13:01:31.549Z"
   },
   {
    "duration": 20,
    "start_time": "2022-12-26T13:02:24.709Z"
   },
   {
    "duration": 4,
    "start_time": "2022-12-26T13:02:35.788Z"
   },
   {
    "duration": 30,
    "start_time": "2022-12-26T13:02:35.794Z"
   },
   {
    "duration": 196,
    "start_time": "2022-12-26T13:02:35.826Z"
   },
   {
    "duration": 37,
    "start_time": "2022-12-26T13:02:36.024Z"
   },
   {
    "duration": 30,
    "start_time": "2022-12-26T13:02:36.062Z"
   },
   {
    "duration": 36,
    "start_time": "2022-12-26T13:02:36.094Z"
   },
   {
    "duration": 12,
    "start_time": "2022-12-26T13:02:36.132Z"
   },
   {
    "duration": 43,
    "start_time": "2022-12-26T13:02:36.146Z"
   },
   {
    "duration": 44,
    "start_time": "2022-12-26T13:02:36.191Z"
   },
   {
    "duration": 22,
    "start_time": "2022-12-26T13:02:36.237Z"
   },
   {
    "duration": 12,
    "start_time": "2022-12-26T13:02:36.263Z"
   },
   {
    "duration": 11,
    "start_time": "2022-12-26T13:02:36.277Z"
   },
   {
    "duration": 53,
    "start_time": "2022-12-26T13:02:36.290Z"
   },
   {
    "duration": 14,
    "start_time": "2022-12-26T13:02:36.345Z"
   },
   {
    "duration": 2476,
    "start_time": "2022-12-26T13:02:36.361Z"
   },
   {
    "duration": 157,
    "start_time": "2022-12-26T13:02:38.839Z"
   },
   {
    "duration": 126,
    "start_time": "2022-12-26T13:02:38.998Z"
   },
   {
    "duration": 134,
    "start_time": "2022-12-26T13:02:39.126Z"
   },
   {
    "duration": 135,
    "start_time": "2022-12-26T13:02:39.261Z"
   },
   {
    "duration": 309,
    "start_time": "2022-12-26T13:02:39.398Z"
   },
   {
    "duration": 13,
    "start_time": "2022-12-26T13:02:39.709Z"
   },
   {
    "duration": 13,
    "start_time": "2022-12-26T13:02:39.724Z"
   },
   {
    "duration": 673,
    "start_time": "2022-12-26T13:02:39.739Z"
   },
   {
    "duration": 47,
    "start_time": "2022-12-26T13:02:40.413Z"
   },
   {
    "duration": 3,
    "start_time": "2022-12-26T13:02:40.461Z"
   },
   {
    "duration": 933,
    "start_time": "2022-12-26T13:02:40.466Z"
   },
   {
    "duration": 3,
    "start_time": "2022-12-26T13:02:41.400Z"
   },
   {
    "duration": 660,
    "start_time": "2022-12-26T13:02:41.404Z"
   },
   {
    "duration": 920,
    "start_time": "2022-12-26T13:02:42.067Z"
   },
   {
    "duration": 17,
    "start_time": "2022-12-26T13:02:42.989Z"
   },
   {
    "duration": 39,
    "start_time": "2022-12-26T13:02:43.007Z"
   },
   {
    "duration": 14,
    "start_time": "2022-12-26T13:02:43.048Z"
   },
   {
    "duration": 117,
    "start_time": "2022-12-26T13:02:43.064Z"
   },
   {
    "duration": 176,
    "start_time": "2022-12-26T13:02:46.604Z"
   },
   {
    "duration": 4,
    "start_time": "2022-12-26T13:03:27.764Z"
   },
   {
    "duration": 12,
    "start_time": "2022-12-26T13:04:57.563Z"
   },
   {
    "duration": 41,
    "start_time": "2022-12-26T13:05:26.171Z"
   },
   {
    "duration": 37,
    "start_time": "2022-12-26T13:05:38.281Z"
   },
   {
    "duration": 3,
    "start_time": "2022-12-26T13:05:49.967Z"
   },
   {
    "duration": 9,
    "start_time": "2022-12-26T13:06:41.218Z"
   },
   {
    "duration": 45,
    "start_time": "2022-12-26T13:07:02.974Z"
   },
   {
    "duration": 45,
    "start_time": "2022-12-26T13:07:20.822Z"
   },
   {
    "duration": 4,
    "start_time": "2022-12-26T13:07:41.958Z"
   },
   {
    "duration": 4,
    "start_time": "2022-12-26T13:26:08.155Z"
   },
   {
    "duration": 18,
    "start_time": "2022-12-26T13:29:16.008Z"
   },
   {
    "duration": 18,
    "start_time": "2022-12-26T13:29:58.322Z"
   },
   {
    "duration": 19,
    "start_time": "2022-12-26T13:30:27.701Z"
   },
   {
    "duration": 5,
    "start_time": "2022-12-26T13:32:20.317Z"
   },
   {
    "duration": 7,
    "start_time": "2022-12-26T13:32:55.436Z"
   },
   {
    "duration": 9,
    "start_time": "2022-12-26T13:33:42.668Z"
   },
   {
    "duration": 9,
    "start_time": "2022-12-26T13:34:09.639Z"
   },
   {
    "duration": 16,
    "start_time": "2022-12-26T13:34:17.037Z"
   },
   {
    "duration": 6,
    "start_time": "2022-12-26T13:34:35.117Z"
   },
   {
    "duration": 10,
    "start_time": "2022-12-26T13:34:37.596Z"
   },
   {
    "duration": 5,
    "start_time": "2022-12-26T13:37:27.395Z"
   },
   {
    "duration": 4,
    "start_time": "2022-12-26T13:37:58.829Z"
   },
   {
    "duration": 5,
    "start_time": "2022-12-26T13:38:27.259Z"
   },
   {
    "duration": 1528,
    "start_time": "2022-12-28T03:29:43.525Z"
   },
   {
    "duration": 3,
    "start_time": "2022-12-28T03:29:45.055Z"
   },
   {
    "duration": 1140,
    "start_time": "2022-12-28T03:29:45.059Z"
   },
   {
    "duration": 56,
    "start_time": "2022-12-28T03:29:46.201Z"
   },
   {
    "duration": 30,
    "start_time": "2022-12-28T03:29:46.259Z"
   },
   {
    "duration": 33,
    "start_time": "2022-12-28T03:29:46.290Z"
   },
   {
    "duration": 18,
    "start_time": "2022-12-28T03:29:46.325Z"
   },
   {
    "duration": 8,
    "start_time": "2022-12-28T03:29:46.345Z"
   },
   {
    "duration": 11,
    "start_time": "2022-12-28T03:29:46.354Z"
   },
   {
    "duration": 81,
    "start_time": "2022-12-28T03:29:46.368Z"
   },
   {
    "duration": 25,
    "start_time": "2022-12-28T03:29:46.450Z"
   },
   {
    "duration": 36,
    "start_time": "2022-12-28T03:29:46.477Z"
   },
   {
    "duration": 14,
    "start_time": "2022-12-28T03:29:46.514Z"
   },
   {
    "duration": 15,
    "start_time": "2022-12-28T03:29:46.531Z"
   },
   {
    "duration": 31,
    "start_time": "2022-12-28T03:29:46.548Z"
   },
   {
    "duration": 46,
    "start_time": "2022-12-28T03:29:46.580Z"
   },
   {
    "duration": 2507,
    "start_time": "2022-12-28T03:29:46.628Z"
   },
   {
    "duration": 143,
    "start_time": "2022-12-28T03:29:49.138Z"
   },
   {
    "duration": 120,
    "start_time": "2022-12-28T03:29:49.283Z"
   },
   {
    "duration": 133,
    "start_time": "2022-12-28T03:29:49.412Z"
   },
   {
    "duration": 140,
    "start_time": "2022-12-28T03:29:49.546Z"
   },
   {
    "duration": 187,
    "start_time": "2022-12-28T03:29:49.687Z"
   },
   {
    "duration": 7,
    "start_time": "2022-12-28T03:29:49.875Z"
   },
   {
    "duration": 15,
    "start_time": "2022-12-28T03:29:49.884Z"
   },
   {
    "duration": 773,
    "start_time": "2022-12-28T03:29:49.900Z"
   },
   {
    "duration": 58,
    "start_time": "2022-12-28T03:29:50.675Z"
   },
   {
    "duration": 3,
    "start_time": "2022-12-28T03:29:50.734Z"
   },
   {
    "duration": 882,
    "start_time": "2022-12-28T03:29:50.742Z"
   },
   {
    "duration": 3,
    "start_time": "2022-12-28T03:29:51.626Z"
   },
   {
    "duration": 603,
    "start_time": "2022-12-28T03:29:51.630Z"
   },
   {
    "duration": 858,
    "start_time": "2022-12-28T03:29:52.235Z"
   },
   {
    "duration": 26,
    "start_time": "2022-12-28T03:29:53.095Z"
   },
   {
    "duration": 29,
    "start_time": "2022-12-28T03:29:53.122Z"
   },
   {
    "duration": 14,
    "start_time": "2022-12-28T03:29:53.153Z"
   },
   {
    "duration": 128,
    "start_time": "2022-12-28T03:29:53.168Z"
   },
   {
    "duration": 108,
    "start_time": "2022-12-28T03:34:06.612Z"
   },
   {
    "duration": 7,
    "start_time": "2022-12-28T03:35:07.675Z"
   },
   {
    "duration": 13,
    "start_time": "2022-12-28T03:35:50.849Z"
   },
   {
    "duration": 183,
    "start_time": "2022-12-28T03:36:09.266Z"
   },
   {
    "duration": 6,
    "start_time": "2022-12-28T03:37:47.562Z"
   },
   {
    "duration": 6,
    "start_time": "2022-12-28T03:38:12.848Z"
   },
   {
    "duration": 199,
    "start_time": "2022-12-28T03:38:15.988Z"
   },
   {
    "duration": 13,
    "start_time": "2022-12-28T03:39:34.843Z"
   },
   {
    "duration": 12,
    "start_time": "2022-12-28T03:43:15.334Z"
   },
   {
    "duration": 7,
    "start_time": "2022-12-28T03:44:07.231Z"
   },
   {
    "duration": 13,
    "start_time": "2022-12-28T03:44:54.194Z"
   },
   {
    "duration": 8,
    "start_time": "2022-12-28T03:45:19.729Z"
   },
   {
    "duration": 8,
    "start_time": "2022-12-28T03:45:34.310Z"
   },
   {
    "duration": 11,
    "start_time": "2022-12-28T03:46:21.042Z"
   },
   {
    "duration": 8,
    "start_time": "2022-12-28T03:55:04.579Z"
   },
   {
    "duration": 9,
    "start_time": "2022-12-28T03:58:14.566Z"
   },
   {
    "duration": 9,
    "start_time": "2022-12-28T04:02:00.243Z"
   },
   {
    "duration": 9,
    "start_time": "2022-12-28T04:04:16.994Z"
   },
   {
    "duration": 25,
    "start_time": "2022-12-28T04:07:15.736Z"
   },
   {
    "duration": 31,
    "start_time": "2022-12-28T04:08:25.969Z"
   },
   {
    "duration": 188,
    "start_time": "2022-12-28T04:08:32.965Z"
   },
   {
    "duration": 9,
    "start_time": "2022-12-28T04:10:44.378Z"
   },
   {
    "duration": 35,
    "start_time": "2022-12-28T04:13:53.726Z"
   },
   {
    "duration": 212,
    "start_time": "2022-12-28T04:13:55.782Z"
   },
   {
    "duration": 11,
    "start_time": "2022-12-28T04:14:26.579Z"
   },
   {
    "duration": 179,
    "start_time": "2022-12-28T04:15:31.731Z"
   },
   {
    "duration": 3,
    "start_time": "2022-12-28T04:15:36.704Z"
   },
   {
    "duration": 15,
    "start_time": "2022-12-28T04:16:28.659Z"
   },
   {
    "duration": 8,
    "start_time": "2022-12-28T04:16:34.870Z"
   },
   {
    "duration": 7,
    "start_time": "2022-12-28T04:18:05.929Z"
   },
   {
    "duration": 13,
    "start_time": "2022-12-28T04:18:28.750Z"
   },
   {
    "duration": 13,
    "start_time": "2022-12-28T04:18:40.950Z"
   },
   {
    "duration": 13,
    "start_time": "2022-12-28T04:18:46.753Z"
   },
   {
    "duration": 13,
    "start_time": "2022-12-28T04:18:58.057Z"
   },
   {
    "duration": 15,
    "start_time": "2022-12-28T04:19:54.373Z"
   },
   {
    "duration": 183,
    "start_time": "2022-12-28T04:19:59.543Z"
   },
   {
    "duration": 4,
    "start_time": "2022-12-28T04:20:04.025Z"
   },
   {
    "duration": 10,
    "start_time": "2022-12-28T04:20:12.265Z"
   },
   {
    "duration": 181,
    "start_time": "2022-12-28T04:20:14.755Z"
   },
   {
    "duration": 6,
    "start_time": "2022-12-28T04:20:24.209Z"
   },
   {
    "duration": 29,
    "start_time": "2022-12-28T04:20:24.217Z"
   },
   {
    "duration": 195,
    "start_time": "2022-12-28T04:20:24.248Z"
   },
   {
    "duration": 52,
    "start_time": "2022-12-28T04:20:24.445Z"
   },
   {
    "duration": 50,
    "start_time": "2022-12-28T04:20:24.499Z"
   },
   {
    "duration": 17,
    "start_time": "2022-12-28T04:20:24.550Z"
   },
   {
    "duration": 12,
    "start_time": "2022-12-28T04:20:24.569Z"
   },
   {
    "duration": 73,
    "start_time": "2022-12-28T04:20:24.582Z"
   },
   {
    "duration": 32,
    "start_time": "2022-12-28T04:20:24.658Z"
   },
   {
    "duration": 46,
    "start_time": "2022-12-28T04:20:24.693Z"
   },
   {
    "duration": 13,
    "start_time": "2022-12-28T04:20:24.741Z"
   },
   {
    "duration": 10,
    "start_time": "2022-12-28T04:20:24.756Z"
   },
   {
    "duration": 23,
    "start_time": "2022-12-28T04:20:24.767Z"
   },
   {
    "duration": 17,
    "start_time": "2022-12-28T04:20:24.818Z"
   },
   {
    "duration": 2439,
    "start_time": "2022-12-28T04:20:24.837Z"
   },
   {
    "duration": 161,
    "start_time": "2022-12-28T04:20:27.278Z"
   },
   {
    "duration": 129,
    "start_time": "2022-12-28T04:20:27.441Z"
   },
   {
    "duration": 133,
    "start_time": "2022-12-28T04:20:27.572Z"
   },
   {
    "duration": 137,
    "start_time": "2022-12-28T04:20:27.713Z"
   },
   {
    "duration": 199,
    "start_time": "2022-12-28T04:20:27.852Z"
   },
   {
    "duration": 8,
    "start_time": "2022-12-28T04:20:28.052Z"
   },
   {
    "duration": 13,
    "start_time": "2022-12-28T04:20:28.062Z"
   },
   {
    "duration": 654,
    "start_time": "2022-12-28T04:20:28.077Z"
   },
   {
    "duration": 44,
    "start_time": "2022-12-28T04:20:28.734Z"
   },
   {
    "duration": 3,
    "start_time": "2022-12-28T04:20:28.779Z"
   },
   {
    "duration": 914,
    "start_time": "2022-12-28T04:20:28.784Z"
   },
   {
    "duration": 3,
    "start_time": "2022-12-28T04:20:29.699Z"
   },
   {
    "duration": 702,
    "start_time": "2022-12-28T04:20:29.703Z"
   },
   {
    "duration": 960,
    "start_time": "2022-12-28T04:20:30.407Z"
   },
   {
    "duration": 16,
    "start_time": "2022-12-28T04:20:31.368Z"
   },
   {
    "duration": 50,
    "start_time": "2022-12-28T04:20:31.386Z"
   },
   {
    "duration": 13,
    "start_time": "2022-12-28T04:20:31.438Z"
   },
   {
    "duration": 104,
    "start_time": "2022-12-28T04:20:31.453Z"
   },
   {
    "duration": 31,
    "start_time": "2022-12-28T04:20:31.558Z"
   },
   {
    "duration": 226,
    "start_time": "2022-12-28T04:20:31.590Z"
   },
   {
    "duration": 4,
    "start_time": "2022-12-28T04:20:34.827Z"
   },
   {
    "duration": 4,
    "start_time": "2022-12-28T04:21:32.505Z"
   },
   {
    "duration": 26,
    "start_time": "2022-12-28T04:21:32.512Z"
   },
   {
    "duration": 201,
    "start_time": "2022-12-28T04:21:32.541Z"
   },
   {
    "duration": 52,
    "start_time": "2022-12-28T04:21:32.743Z"
   },
   {
    "duration": 49,
    "start_time": "2022-12-28T04:21:32.798Z"
   },
   {
    "duration": 16,
    "start_time": "2022-12-28T04:21:32.849Z"
   },
   {
    "duration": 15,
    "start_time": "2022-12-28T04:21:32.866Z"
   },
   {
    "duration": 79,
    "start_time": "2022-12-28T04:21:32.883Z"
   },
   {
    "duration": 38,
    "start_time": "2022-12-28T04:21:32.964Z"
   },
   {
    "duration": 39,
    "start_time": "2022-12-28T04:21:33.012Z"
   },
   {
    "duration": 17,
    "start_time": "2022-12-28T04:21:33.055Z"
   },
   {
    "duration": 15,
    "start_time": "2022-12-28T04:21:33.073Z"
   },
   {
    "duration": 50,
    "start_time": "2022-12-28T04:21:33.090Z"
   },
   {
    "duration": 14,
    "start_time": "2022-12-28T04:21:33.141Z"
   },
   {
    "duration": 2586,
    "start_time": "2022-12-28T04:21:33.156Z"
   },
   {
    "duration": 214,
    "start_time": "2022-12-28T04:21:35.744Z"
   },
   {
    "duration": 147,
    "start_time": "2022-12-28T04:21:35.960Z"
   },
   {
    "duration": 126,
    "start_time": "2022-12-28T04:21:36.115Z"
   },
   {
    "duration": 141,
    "start_time": "2022-12-28T04:21:36.242Z"
   },
   {
    "duration": 225,
    "start_time": "2022-12-28T04:21:36.385Z"
   },
   {
    "duration": 9,
    "start_time": "2022-12-28T04:21:36.612Z"
   },
   {
    "duration": 28,
    "start_time": "2022-12-28T04:21:36.622Z"
   },
   {
    "duration": 832,
    "start_time": "2022-12-28T04:21:36.652Z"
   },
   {
    "duration": 75,
    "start_time": "2022-12-28T04:21:37.487Z"
   },
   {
    "duration": 4,
    "start_time": "2022-12-28T04:21:37.564Z"
   },
   {
    "duration": 959,
    "start_time": "2022-12-28T04:21:37.570Z"
   },
   {
    "duration": 2,
    "start_time": "2022-12-28T04:21:38.531Z"
   },
   {
    "duration": 660,
    "start_time": "2022-12-28T04:21:38.535Z"
   },
   {
    "duration": 945,
    "start_time": "2022-12-28T04:21:39.198Z"
   },
   {
    "duration": 16,
    "start_time": "2022-12-28T04:21:40.144Z"
   },
   {
    "duration": 41,
    "start_time": "2022-12-28T04:21:40.163Z"
   },
   {
    "duration": 20,
    "start_time": "2022-12-28T04:21:40.216Z"
   },
   {
    "duration": 152,
    "start_time": "2022-12-28T04:21:40.240Z"
   },
   {
    "duration": 27,
    "start_time": "2022-12-28T04:21:40.395Z"
   },
   {
    "duration": 61,
    "start_time": "2022-12-28T04:21:40.428Z"
   },
   {
    "duration": 210,
    "start_time": "2022-12-28T04:21:40.491Z"
   },
   {
    "duration": 3,
    "start_time": "2022-12-28T04:21:43.304Z"
   },
   {
    "duration": 6,
    "start_time": "2022-12-28T04:26:48.525Z"
   },
   {
    "duration": 8,
    "start_time": "2022-12-28T04:27:05.995Z"
   },
   {
    "duration": 9,
    "start_time": "2022-12-28T04:27:38.540Z"
   },
   {
    "duration": 11,
    "start_time": "2022-12-28T04:28:01.835Z"
   },
   {
    "duration": 12,
    "start_time": "2022-12-28T04:28:20.040Z"
   },
   {
    "duration": 5,
    "start_time": "2022-12-28T04:28:40.511Z"
   },
   {
    "duration": 12,
    "start_time": "2022-12-28T04:29:31.328Z"
   },
   {
    "duration": 192,
    "start_time": "2022-12-28T04:29:33.269Z"
   },
   {
    "duration": 3,
    "start_time": "2022-12-28T04:29:39.086Z"
   },
   {
    "duration": 4,
    "start_time": "2022-12-28T04:30:48.029Z"
   },
   {
    "duration": 9,
    "start_time": "2022-12-28T04:30:48.035Z"
   },
   {
    "duration": 185,
    "start_time": "2022-12-28T04:30:48.045Z"
   },
   {
    "duration": 37,
    "start_time": "2022-12-28T04:30:48.232Z"
   },
   {
    "duration": 46,
    "start_time": "2022-12-28T04:30:48.271Z"
   },
   {
    "duration": 21,
    "start_time": "2022-12-28T04:30:48.321Z"
   },
   {
    "duration": 12,
    "start_time": "2022-12-28T04:30:48.343Z"
   },
   {
    "duration": 42,
    "start_time": "2022-12-28T04:30:48.357Z"
   },
   {
    "duration": 41,
    "start_time": "2022-12-28T04:30:48.416Z"
   },
   {
    "duration": 31,
    "start_time": "2022-12-28T04:30:48.459Z"
   },
   {
    "duration": 29,
    "start_time": "2022-12-28T04:30:48.492Z"
   },
   {
    "duration": 24,
    "start_time": "2022-12-28T04:30:48.523Z"
   },
   {
    "duration": 26,
    "start_time": "2022-12-28T04:30:48.549Z"
   },
   {
    "duration": 16,
    "start_time": "2022-12-28T04:30:48.578Z"
   },
   {
    "duration": 2457,
    "start_time": "2022-12-28T04:30:48.596Z"
   },
   {
    "duration": 264,
    "start_time": "2022-12-28T04:30:51.055Z"
   },
   {
    "duration": 117,
    "start_time": "2022-12-28T04:30:51.328Z"
   },
   {
    "duration": 131,
    "start_time": "2022-12-28T04:30:51.446Z"
   },
   {
    "duration": 151,
    "start_time": "2022-12-28T04:30:51.578Z"
   },
   {
    "duration": 174,
    "start_time": "2022-12-28T04:30:51.731Z"
   },
   {
    "duration": 25,
    "start_time": "2022-12-28T04:30:51.907Z"
   },
   {
    "duration": 15,
    "start_time": "2022-12-28T04:30:51.933Z"
   },
   {
    "duration": 631,
    "start_time": "2022-12-28T04:30:51.949Z"
   },
   {
    "duration": 65,
    "start_time": "2022-12-28T04:30:52.582Z"
   },
   {
    "duration": 2,
    "start_time": "2022-12-28T04:30:52.649Z"
   },
   {
    "duration": 926,
    "start_time": "2022-12-28T04:30:52.653Z"
   },
   {
    "duration": 3,
    "start_time": "2022-12-28T04:30:53.580Z"
   },
   {
    "duration": 658,
    "start_time": "2022-12-28T04:30:53.584Z"
   },
   {
    "duration": 930,
    "start_time": "2022-12-28T04:30:54.243Z"
   },
   {
    "duration": 15,
    "start_time": "2022-12-28T04:30:55.175Z"
   },
   {
    "duration": 50,
    "start_time": "2022-12-28T04:30:55.192Z"
   },
   {
    "duration": 17,
    "start_time": "2022-12-28T04:30:55.244Z"
   },
   {
    "duration": 105,
    "start_time": "2022-12-28T04:30:55.263Z"
   },
   {
    "duration": 11,
    "start_time": "2022-12-28T04:30:55.370Z"
   },
   {
    "duration": 4,
    "start_time": "2022-12-28T04:30:55.382Z"
   },
   {
    "duration": 59,
    "start_time": "2022-12-28T04:30:55.387Z"
   },
   {
    "duration": 203,
    "start_time": "2022-12-28T04:30:55.447Z"
   },
   {
    "duration": 3,
    "start_time": "2022-12-28T04:31:02.689Z"
   },
   {
    "duration": 3,
    "start_time": "2022-12-28T04:31:13.458Z"
   },
   {
    "duration": 4,
    "start_time": "2022-12-28T04:31:31.449Z"
   },
   {
    "duration": 12,
    "start_time": "2022-12-28T04:31:31.455Z"
   },
   {
    "duration": 187,
    "start_time": "2022-12-28T04:31:31.469Z"
   },
   {
    "duration": 36,
    "start_time": "2022-12-28T04:31:31.657Z"
   },
   {
    "duration": 41,
    "start_time": "2022-12-28T04:31:31.695Z"
   },
   {
    "duration": 16,
    "start_time": "2022-12-28T04:31:31.738Z"
   },
   {
    "duration": 12,
    "start_time": "2022-12-28T04:31:31.755Z"
   },
   {
    "duration": 70,
    "start_time": "2022-12-28T04:31:31.769Z"
   },
   {
    "duration": 25,
    "start_time": "2022-12-28T04:31:31.841Z"
   },
   {
    "duration": 23,
    "start_time": "2022-12-28T04:31:31.868Z"
   },
   {
    "duration": 21,
    "start_time": "2022-12-28T04:31:31.915Z"
   },
   {
    "duration": 10,
    "start_time": "2022-12-28T04:31:31.938Z"
   },
   {
    "duration": 31,
    "start_time": "2022-12-28T04:31:31.950Z"
   },
   {
    "duration": 14,
    "start_time": "2022-12-28T04:31:31.983Z"
   },
   {
    "duration": 2388,
    "start_time": "2022-12-28T04:31:31.998Z"
   },
   {
    "duration": 156,
    "start_time": "2022-12-28T04:31:34.387Z"
   },
   {
    "duration": 136,
    "start_time": "2022-12-28T04:31:34.545Z"
   },
   {
    "duration": 148,
    "start_time": "2022-12-28T04:31:34.683Z"
   },
   {
    "duration": 133,
    "start_time": "2022-12-28T04:31:34.833Z"
   },
   {
    "duration": 195,
    "start_time": "2022-12-28T04:31:34.968Z"
   },
   {
    "duration": 9,
    "start_time": "2022-12-28T04:31:35.164Z"
   },
   {
    "duration": 13,
    "start_time": "2022-12-28T04:31:35.174Z"
   },
   {
    "duration": 668,
    "start_time": "2022-12-28T04:31:35.189Z"
   },
   {
    "duration": 62,
    "start_time": "2022-12-28T04:31:35.859Z"
   },
   {
    "duration": 5,
    "start_time": "2022-12-28T04:31:35.923Z"
   },
   {
    "duration": 896,
    "start_time": "2022-12-28T04:31:35.930Z"
   },
   {
    "duration": 3,
    "start_time": "2022-12-28T04:31:36.828Z"
   },
   {
    "duration": 681,
    "start_time": "2022-12-28T04:31:36.832Z"
   },
   {
    "duration": 910,
    "start_time": "2022-12-28T04:31:37.518Z"
   },
   {
    "duration": 16,
    "start_time": "2022-12-28T04:31:38.430Z"
   },
   {
    "duration": 26,
    "start_time": "2022-12-28T04:31:38.447Z"
   },
   {
    "duration": 13,
    "start_time": "2022-12-28T04:31:38.475Z"
   },
   {
    "duration": 117,
    "start_time": "2022-12-28T04:31:38.489Z"
   },
   {
    "duration": 11,
    "start_time": "2022-12-28T04:31:38.612Z"
   },
   {
    "duration": 11,
    "start_time": "2022-12-28T04:31:38.629Z"
   },
   {
    "duration": 3,
    "start_time": "2022-12-28T04:31:38.642Z"
   },
   {
    "duration": 33,
    "start_time": "2022-12-28T04:31:38.647Z"
   },
   {
    "duration": 348,
    "start_time": "2022-12-28T04:31:38.681Z"
   },
   {
    "duration": 4,
    "start_time": "2022-12-28T04:31:42.194Z"
   },
   {
    "duration": 9,
    "start_time": "2022-12-28T04:33:24.693Z"
   },
   {
    "duration": 5,
    "start_time": "2022-12-28T04:33:41.010Z"
   },
   {
    "duration": 22,
    "start_time": "2022-12-28T04:33:41.016Z"
   },
   {
    "duration": 191,
    "start_time": "2022-12-28T04:33:41.040Z"
   },
   {
    "duration": 36,
    "start_time": "2022-12-28T04:33:41.233Z"
   },
   {
    "duration": 47,
    "start_time": "2022-12-28T04:33:41.271Z"
   },
   {
    "duration": 27,
    "start_time": "2022-12-28T04:33:41.329Z"
   },
   {
    "duration": 12,
    "start_time": "2022-12-28T04:33:41.358Z"
   },
   {
    "duration": 61,
    "start_time": "2022-12-28T04:33:41.371Z"
   },
   {
    "duration": 30,
    "start_time": "2022-12-28T04:33:41.435Z"
   },
   {
    "duration": 25,
    "start_time": "2022-12-28T04:33:41.467Z"
   },
   {
    "duration": 20,
    "start_time": "2022-12-28T04:33:41.516Z"
   },
   {
    "duration": 12,
    "start_time": "2022-12-28T04:33:41.538Z"
   },
   {
    "duration": 30,
    "start_time": "2022-12-28T04:33:41.552Z"
   },
   {
    "duration": 30,
    "start_time": "2022-12-28T04:33:41.583Z"
   },
   {
    "duration": 2351,
    "start_time": "2022-12-28T04:33:41.615Z"
   },
   {
    "duration": 153,
    "start_time": "2022-12-28T04:33:43.968Z"
   },
   {
    "duration": 255,
    "start_time": "2022-12-28T04:33:44.122Z"
   },
   {
    "duration": 146,
    "start_time": "2022-12-28T04:33:44.379Z"
   },
   {
    "duration": 149,
    "start_time": "2022-12-28T04:33:44.528Z"
   },
   {
    "duration": 206,
    "start_time": "2022-12-28T04:33:44.678Z"
   },
   {
    "duration": 7,
    "start_time": "2022-12-28T04:33:44.886Z"
   },
   {
    "duration": 36,
    "start_time": "2022-12-28T04:33:44.895Z"
   },
   {
    "duration": 646,
    "start_time": "2022-12-28T04:33:44.933Z"
   },
   {
    "duration": 71,
    "start_time": "2022-12-28T04:33:45.581Z"
   },
   {
    "duration": 3,
    "start_time": "2022-12-28T04:33:45.653Z"
   },
   {
    "duration": 911,
    "start_time": "2022-12-28T04:33:45.658Z"
   },
   {
    "duration": 3,
    "start_time": "2022-12-28T04:33:46.570Z"
   },
   {
    "duration": 653,
    "start_time": "2022-12-28T04:33:46.574Z"
   },
   {
    "duration": 886,
    "start_time": "2022-12-28T04:33:47.232Z"
   },
   {
    "duration": 18,
    "start_time": "2022-12-28T04:33:48.122Z"
   },
   {
    "duration": 32,
    "start_time": "2022-12-28T04:33:48.142Z"
   },
   {
    "duration": 14,
    "start_time": "2022-12-28T04:33:48.176Z"
   },
   {
    "duration": 104,
    "start_time": "2022-12-28T04:33:48.191Z"
   },
   {
    "duration": 20,
    "start_time": "2022-12-28T04:33:48.296Z"
   },
   {
    "duration": 7,
    "start_time": "2022-12-28T04:33:48.322Z"
   },
   {
    "duration": 50,
    "start_time": "2022-12-28T04:33:48.331Z"
   },
   {
    "duration": 202,
    "start_time": "2022-12-28T04:33:48.383Z"
   },
   {
    "duration": 3,
    "start_time": "2022-12-28T04:33:48.587Z"
   },
   {
    "duration": 117,
    "start_time": "2022-12-28T04:33:48.592Z"
   },
   {
    "duration": 313,
    "start_time": "2022-12-28T04:33:48.711Z"
   },
   {
    "duration": 91129,
    "start_time": "2022-12-28T04:33:49.029Z"
   },
   {
    "duration": 190,
    "start_time": "2022-12-28T04:35:20.159Z"
   },
   {
    "duration": 54474,
    "start_time": "2022-12-28T04:35:20.351Z"
   },
   {
    "duration": 391,
    "start_time": "2022-12-28T04:36:14.832Z"
   },
   {
    "duration": 85,
    "start_time": "2022-12-28T04:36:15.226Z"
   },
   {
    "duration": 99873,
    "start_time": "2022-12-28T04:36:15.313Z"
   },
   {
    "duration": 161,
    "start_time": "2022-12-28T04:37:55.188Z"
   },
   {
    "duration": 85,
    "start_time": "2022-12-28T04:37:55.350Z"
   },
   {
    "duration": 28590,
    "start_time": "2022-12-28T04:37:55.437Z"
   },
   {
    "duration": 153,
    "start_time": "2022-12-28T04:38:24.029Z"
   },
   {
    "duration": 18,
    "start_time": "2022-12-28T04:38:24.183Z"
   },
   {
    "duration": 11,
    "start_time": "2022-12-28T04:38:24.216Z"
   },
   {
    "duration": 33,
    "start_time": "2022-12-28T04:38:24.229Z"
   },
   {
    "duration": 1372,
    "start_time": "2022-12-28T04:38:24.264Z"
   },
   {
    "duration": 1347,
    "start_time": "2022-12-28T04:41:03.624Z"
   },
   {
    "duration": 254,
    "start_time": "2022-12-28T04:43:24.891Z"
   },
   {
    "duration": 233,
    "start_time": "2022-12-28T04:43:34.917Z"
   },
   {
    "duration": 234,
    "start_time": "2022-12-28T05:46:27.825Z"
   },
   {
    "duration": 11,
    "start_time": "2022-12-28T05:52:35.978Z"
   },
   {
    "duration": 9,
    "start_time": "2022-12-28T05:53:12.394Z"
   },
   {
    "duration": 4,
    "start_time": "2022-12-28T05:56:14.541Z"
   },
   {
    "duration": 9,
    "start_time": "2022-12-28T05:59:29.295Z"
   },
   {
    "duration": 4,
    "start_time": "2022-12-28T05:59:48.141Z"
   },
   {
    "duration": 3,
    "start_time": "2022-12-28T06:05:49.453Z"
   },
   {
    "duration": 3,
    "start_time": "2022-12-28T07:49:12.555Z"
   },
   {
    "duration": 3,
    "start_time": "2022-12-28T07:49:59.851Z"
   },
   {
    "duration": 4,
    "start_time": "2022-12-28T07:50:09.236Z"
   },
   {
    "duration": 3,
    "start_time": "2022-12-28T07:50:12.368Z"
   },
   {
    "duration": 38,
    "start_time": "2022-12-28T07:50:30.305Z"
   },
   {
    "duration": 1356,
    "start_time": "2022-12-28T07:53:19.936Z"
   },
   {
    "duration": 204,
    "start_time": "2022-12-28T07:53:43.178Z"
   },
   {
    "duration": 29,
    "start_time": "2022-12-28T08:27:24.000Z"
   },
   {
    "duration": 43,
    "start_time": "2022-12-28T08:28:04.698Z"
   },
   {
    "duration": 33,
    "start_time": "2022-12-28T08:28:31.093Z"
   },
   {
    "duration": 23,
    "start_time": "2022-12-28T08:30:11.674Z"
   },
   {
    "duration": 13,
    "start_time": "2022-12-28T08:34:25.113Z"
   },
   {
    "duration": 11,
    "start_time": "2022-12-28T08:36:01.418Z"
   },
   {
    "duration": 3,
    "start_time": "2022-12-28T08:37:03.074Z"
   },
   {
    "duration": 22,
    "start_time": "2022-12-28T08:38:57.539Z"
   },
   {
    "duration": 18,
    "start_time": "2022-12-28T08:39:00.551Z"
   },
   {
    "duration": 1353,
    "start_time": "2022-12-28T08:56:31.434Z"
   },
   {
    "duration": 5,
    "start_time": "2022-12-28T08:56:35.738Z"
   },
   {
    "duration": 14,
    "start_time": "2022-12-28T08:56:40.560Z"
   },
   {
    "duration": 23,
    "start_time": "2022-12-28T08:59:24.841Z"
   },
   {
    "duration": 25,
    "start_time": "2022-12-28T09:17:50.241Z"
   },
   {
    "duration": 27,
    "start_time": "2022-12-28T09:24:01.908Z"
   },
   {
    "duration": 27,
    "start_time": "2022-12-28T09:24:38.143Z"
   },
   {
    "duration": 51,
    "start_time": "2022-12-28T10:40:38.744Z"
   },
   {
    "duration": 1317,
    "start_time": "2022-12-28T10:49:20.670Z"
   },
   {
    "duration": 3,
    "start_time": "2022-12-28T10:49:21.989Z"
   },
   {
    "duration": 234,
    "start_time": "2022-12-28T10:49:21.994Z"
   },
   {
    "duration": 48,
    "start_time": "2022-12-28T10:49:22.230Z"
   },
   {
    "duration": 47,
    "start_time": "2022-12-28T10:49:22.281Z"
   },
   {
    "duration": 17,
    "start_time": "2022-12-28T10:49:22.329Z"
   },
   {
    "duration": 25,
    "start_time": "2022-12-28T10:49:22.347Z"
   },
   {
    "duration": 74,
    "start_time": "2022-12-28T10:49:22.373Z"
   },
   {
    "duration": 26,
    "start_time": "2022-12-28T10:49:22.449Z"
   },
   {
    "duration": 36,
    "start_time": "2022-12-28T10:49:22.478Z"
   },
   {
    "duration": 21,
    "start_time": "2022-12-28T10:49:22.516Z"
   },
   {
    "duration": 8,
    "start_time": "2022-12-28T10:49:22.539Z"
   },
   {
    "duration": 32,
    "start_time": "2022-12-28T10:49:22.549Z"
   },
   {
    "duration": 38,
    "start_time": "2022-12-28T10:49:22.583Z"
   },
   {
    "duration": 2498,
    "start_time": "2022-12-28T10:49:22.623Z"
   },
   {
    "duration": 145,
    "start_time": "2022-12-28T10:49:25.123Z"
   },
   {
    "duration": 124,
    "start_time": "2022-12-28T10:49:25.269Z"
   },
   {
    "duration": 155,
    "start_time": "2022-12-28T10:49:25.395Z"
   },
   {
    "duration": 140,
    "start_time": "2022-12-28T10:49:25.552Z"
   },
   {
    "duration": 199,
    "start_time": "2022-12-28T10:49:25.693Z"
   },
   {
    "duration": 19,
    "start_time": "2022-12-28T10:49:25.895Z"
   },
   {
    "duration": 22,
    "start_time": "2022-12-28T10:49:25.916Z"
   },
   {
    "duration": 752,
    "start_time": "2022-12-28T10:49:25.940Z"
   },
   {
    "duration": 3,
    "start_time": "2022-12-28T10:49:26.694Z"
   },
   {
    "duration": 897,
    "start_time": "2022-12-28T10:49:26.699Z"
   },
   {
    "duration": 3,
    "start_time": "2022-12-28T10:49:27.598Z"
   },
   {
    "duration": 603,
    "start_time": "2022-12-28T10:49:27.613Z"
   },
   {
    "duration": 895,
    "start_time": "2022-12-28T10:49:28.219Z"
   },
   {
    "duration": 16,
    "start_time": "2022-12-28T10:49:29.116Z"
   },
   {
    "duration": 30,
    "start_time": "2022-12-28T10:49:29.134Z"
   },
   {
    "duration": 16,
    "start_time": "2022-12-28T10:49:29.166Z"
   },
   {
    "duration": 131,
    "start_time": "2022-12-28T10:49:29.183Z"
   },
   {
    "duration": 9,
    "start_time": "2022-12-28T10:49:29.316Z"
   },
   {
    "duration": 9,
    "start_time": "2022-12-28T10:49:29.326Z"
   },
   {
    "duration": 38,
    "start_time": "2022-12-28T10:49:29.337Z"
   },
   {
    "duration": 230,
    "start_time": "2022-12-28T10:49:29.377Z"
   },
   {
    "duration": 4,
    "start_time": "2022-12-28T10:49:29.612Z"
   },
   {
    "duration": 118,
    "start_time": "2022-12-28T10:49:29.617Z"
   },
   {
    "duration": 293,
    "start_time": "2022-12-28T10:49:29.736Z"
   },
   {
    "duration": 92852,
    "start_time": "2022-12-28T10:49:30.031Z"
   },
   {
    "duration": 176,
    "start_time": "2022-12-28T10:51:02.884Z"
   },
   {
    "duration": 64160,
    "start_time": "2022-12-28T10:51:03.062Z"
   },
   {
    "duration": 396,
    "start_time": "2022-12-28T10:52:07.224Z"
   },
   {
    "duration": 108,
    "start_time": "2022-12-28T10:52:07.622Z"
   },
   {
    "duration": 100370,
    "start_time": "2022-12-28T10:52:07.731Z"
   },
   {
    "duration": 181,
    "start_time": "2022-12-28T10:53:48.103Z"
   },
   {
    "duration": 109,
    "start_time": "2022-12-28T10:53:48.286Z"
   },
   {
    "duration": 27456,
    "start_time": "2022-12-28T10:53:48.396Z"
   },
   {
    "duration": 152,
    "start_time": "2022-12-28T10:54:15.853Z"
   },
   {
    "duration": 17,
    "start_time": "2022-12-28T10:54:16.013Z"
   },
   {
    "duration": 1373,
    "start_time": "2022-12-28T10:54:16.031Z"
   },
   {
    "duration": 227,
    "start_time": "2022-12-28T10:54:17.406Z"
   },
   {
    "duration": 4,
    "start_time": "2022-12-28T10:54:17.635Z"
   },
   {
    "duration": 11,
    "start_time": "2022-12-28T10:54:17.641Z"
   },
   {
    "duration": 41,
    "start_time": "2022-12-28T10:54:17.653Z"
   },
   {
    "duration": 34,
    "start_time": "2022-12-28T10:54:17.696Z"
   },
   {
    "duration": 228,
    "start_time": "2022-12-28T10:54:17.732Z"
   },
   {
    "duration": 4,
    "start_time": "2022-12-28T10:54:17.961Z"
   },
   {
    "duration": 9,
    "start_time": "2022-12-28T10:54:17.966Z"
   },
   {
    "duration": 1489,
    "start_time": "2022-12-30T05:05:56.040Z"
   },
   {
    "duration": 3,
    "start_time": "2022-12-30T05:05:57.531Z"
   },
   {
    "duration": 851,
    "start_time": "2022-12-30T05:05:57.536Z"
   },
   {
    "duration": 41,
    "start_time": "2022-12-30T05:05:58.389Z"
   },
   {
    "duration": 32,
    "start_time": "2022-12-30T05:05:58.433Z"
   },
   {
    "duration": 17,
    "start_time": "2022-12-30T05:05:58.467Z"
   },
   {
    "duration": 10,
    "start_time": "2022-12-30T05:05:58.486Z"
   },
   {
    "duration": 75,
    "start_time": "2022-12-30T05:05:58.498Z"
   },
   {
    "duration": 25,
    "start_time": "2022-12-30T05:05:58.574Z"
   },
   {
    "duration": 35,
    "start_time": "2022-12-30T05:05:58.600Z"
   },
   {
    "duration": 12,
    "start_time": "2022-12-30T05:05:58.637Z"
   },
   {
    "duration": 9,
    "start_time": "2022-12-30T05:05:58.651Z"
   },
   {
    "duration": 26,
    "start_time": "2022-12-30T05:05:58.662Z"
   },
   {
    "duration": 34,
    "start_time": "2022-12-30T05:05:58.690Z"
   },
   {
    "duration": 2522,
    "start_time": "2022-12-30T05:05:58.725Z"
   },
   {
    "duration": 141,
    "start_time": "2022-12-30T05:06:01.249Z"
   },
   {
    "duration": 131,
    "start_time": "2022-12-30T05:06:01.392Z"
   },
   {
    "duration": 136,
    "start_time": "2022-12-30T05:06:01.525Z"
   },
   {
    "duration": 133,
    "start_time": "2022-12-30T05:06:01.663Z"
   },
   {
    "duration": 133,
    "start_time": "2022-12-30T05:06:05.061Z"
   },
   {
    "duration": 240,
    "start_time": "2022-12-30T05:06:42.494Z"
   },
   {
    "duration": 198,
    "start_time": "2022-12-30T05:06:59.899Z"
   },
   {
    "duration": 181,
    "start_time": "2022-12-30T05:07:35.282Z"
   },
   {
    "duration": 203,
    "start_time": "2022-12-30T05:07:45.772Z"
   },
   {
    "duration": 70,
    "start_time": "2022-12-30T05:10:17.491Z"
   },
   {
    "duration": 73,
    "start_time": "2022-12-30T05:38:54.614Z"
   },
   {
    "duration": 4,
    "start_time": "2022-12-30T05:57:40.420Z"
   },
   {
    "duration": 5,
    "start_time": "2022-12-30T05:57:40.426Z"
   },
   {
    "duration": 220,
    "start_time": "2022-12-30T05:57:40.433Z"
   },
   {
    "duration": 39,
    "start_time": "2022-12-30T05:57:40.655Z"
   },
   {
    "duration": 65,
    "start_time": "2022-12-30T05:57:40.697Z"
   },
   {
    "duration": 18,
    "start_time": "2022-12-30T05:57:40.763Z"
   },
   {
    "duration": 40,
    "start_time": "2022-12-30T05:57:40.783Z"
   },
   {
    "duration": 47,
    "start_time": "2022-12-30T05:57:40.825Z"
   },
   {
    "duration": 47,
    "start_time": "2022-12-30T05:57:40.875Z"
   },
   {
    "duration": 25,
    "start_time": "2022-12-30T05:57:40.925Z"
   },
   {
    "duration": 25,
    "start_time": "2022-12-30T05:57:40.952Z"
   },
   {
    "duration": 10,
    "start_time": "2022-12-30T05:57:40.980Z"
   },
   {
    "duration": 69,
    "start_time": "2022-12-30T05:57:40.992Z"
   },
   {
    "duration": 19,
    "start_time": "2022-12-30T05:57:41.063Z"
   },
   {
    "duration": 2520,
    "start_time": "2022-12-30T05:57:41.084Z"
   },
   {
    "duration": 158,
    "start_time": "2022-12-30T05:57:43.605Z"
   },
   {
    "duration": 139,
    "start_time": "2022-12-30T05:57:43.764Z"
   },
   {
    "duration": 141,
    "start_time": "2022-12-30T05:57:43.904Z"
   },
   {
    "duration": 189,
    "start_time": "2022-12-30T05:57:44.047Z"
   },
   {
    "duration": 174,
    "start_time": "2022-12-30T05:57:44.238Z"
   },
   {
    "duration": 216,
    "start_time": "2022-12-30T05:57:44.422Z"
   },
   {
    "duration": 9,
    "start_time": "2022-12-30T05:57:44.639Z"
   },
   {
    "duration": 21,
    "start_time": "2022-12-30T05:57:44.650Z"
   },
   {
    "duration": 634,
    "start_time": "2022-12-30T05:57:44.676Z"
   },
   {
    "duration": 10,
    "start_time": "2022-12-30T05:57:45.312Z"
   },
   {
    "duration": 936,
    "start_time": "2022-12-30T05:57:45.324Z"
   },
   {
    "duration": 3,
    "start_time": "2022-12-30T05:57:46.261Z"
   },
   {
    "duration": 631,
    "start_time": "2022-12-30T05:57:46.265Z"
   },
   {
    "duration": 934,
    "start_time": "2022-12-30T05:57:46.898Z"
   },
   {
    "duration": 20,
    "start_time": "2022-12-30T05:57:47.834Z"
   },
   {
    "duration": 32,
    "start_time": "2022-12-30T05:57:47.856Z"
   },
   {
    "duration": 39,
    "start_time": "2022-12-30T05:57:47.890Z"
   },
   {
    "duration": 133,
    "start_time": "2022-12-30T05:57:47.931Z"
   },
   {
    "duration": 11,
    "start_time": "2022-12-30T05:57:48.066Z"
   },
   {
    "duration": 6,
    "start_time": "2022-12-30T05:57:48.079Z"
   },
   {
    "duration": 54,
    "start_time": "2022-12-30T05:57:48.087Z"
   },
   {
    "duration": 220,
    "start_time": "2022-12-30T05:57:48.142Z"
   },
   {
    "duration": 4,
    "start_time": "2022-12-30T05:57:48.364Z"
   },
   {
    "duration": 123,
    "start_time": "2022-12-30T05:57:48.369Z"
   },
   {
    "duration": 311,
    "start_time": "2022-12-30T05:57:48.494Z"
   },
   {
    "duration": 93517,
    "start_time": "2022-12-30T05:57:48.822Z"
   },
   {
    "duration": 318,
    "start_time": "2022-12-30T05:59:22.341Z"
   },
   {
    "duration": 140990,
    "start_time": "2022-12-30T05:59:57.868Z"
   },
   {
    "duration": 543818,
    "start_time": "2022-12-30T06:02:49.361Z"
   },
   {
    "duration": 676974,
    "start_time": "2022-12-30T06:12:08.968Z"
   },
   {
    "duration": 53276,
    "start_time": "2022-12-30T06:23:34.647Z"
   },
   {
    "duration": 296919,
    "start_time": "2022-12-30T06:26:44.505Z"
   },
   {
    "duration": 316032,
    "start_time": "2022-12-30T07:29:49.904Z"
   },
   {
    "duration": 310456,
    "start_time": "2022-12-30T07:48:31.467Z"
   },
   {
    "duration": 172740,
    "start_time": "2022-12-30T07:54:43.783Z"
   },
   {
    "duration": 14197,
    "start_time": "2022-12-30T08:00:57.626Z"
   },
   {
    "duration": 59,
    "start_time": "2022-12-30T08:02:59.620Z"
   },
   {
    "duration": 72454,
    "start_time": "2022-12-30T08:10:09.323Z"
   },
   {
    "duration": 17245,
    "start_time": "2022-12-30T08:11:59.784Z"
   },
   {
    "duration": 278095,
    "start_time": "2022-12-30T08:12:36.228Z"
   },
   {
    "duration": 227221,
    "start_time": "2022-12-30T08:18:12.210Z"
   },
   {
    "duration": 249604,
    "start_time": "2022-12-30T08:30:54.427Z"
   },
   {
    "duration": 10,
    "start_time": "2022-12-30T08:36:33.827Z"
   },
   {
    "duration": 107,
    "start_time": "2022-12-30T08:36:56.166Z"
   },
   {
    "duration": 230463,
    "start_time": "2022-12-30T08:40:08.269Z"
   },
   {
    "duration": 119,
    "start_time": "2022-12-30T08:44:47.303Z"
   },
   {
    "duration": 300,
    "start_time": "2022-12-30T08:48:34.235Z"
   },
   {
    "duration": 97,
    "start_time": "2022-12-30T08:48:34.537Z"
   },
   {
    "duration": 103482,
    "start_time": "2022-12-30T08:48:34.636Z"
   },
   {
    "duration": 171,
    "start_time": "2022-12-30T08:50:18.122Z"
   },
   {
    "duration": 79,
    "start_time": "2022-12-30T08:50:18.294Z"
   },
   {
    "duration": 29985,
    "start_time": "2022-12-30T08:50:18.374Z"
   },
   {
    "duration": 162,
    "start_time": "2022-12-30T08:50:48.360Z"
   },
   {
    "duration": 57,
    "start_time": "2022-12-30T08:50:48.524Z"
   },
   {
    "duration": 1638,
    "start_time": "2022-12-30T08:50:48.583Z"
   },
   {
    "duration": 309,
    "start_time": "2022-12-30T08:50:50.224Z"
   },
   {
    "duration": 4,
    "start_time": "2022-12-30T08:50:50.535Z"
   },
   {
    "duration": 14,
    "start_time": "2022-12-30T08:50:50.541Z"
   },
   {
    "duration": 43,
    "start_time": "2022-12-30T08:50:50.557Z"
   },
   {
    "duration": 29,
    "start_time": "2022-12-30T08:50:50.602Z"
   },
   {
    "duration": 238,
    "start_time": "2022-12-30T08:50:50.632Z"
   },
   {
    "duration": 3,
    "start_time": "2022-12-30T08:50:50.872Z"
   },
   {
    "duration": 6,
    "start_time": "2022-12-30T08:50:50.877Z"
   },
   {
    "duration": 176,
    "start_time": "2022-12-30T08:55:26.229Z"
   },
   {
    "duration": 179980,
    "start_time": "2022-12-30T08:55:31.661Z"
   },
   {
    "duration": 181,
    "start_time": "2022-12-30T09:02:30.220Z"
   },
   {
    "duration": 1730,
    "start_time": "2022-12-30T09:02:38.959Z"
   },
   {
    "duration": 235,
    "start_time": "2022-12-30T09:02:47.460Z"
   },
   {
    "duration": 2696,
    "start_time": "2022-12-30T09:04:52.436Z"
   },
   {
    "duration": 233,
    "start_time": "2022-12-30T09:05:05.166Z"
   },
   {
    "duration": 151,
    "start_time": "2022-12-30T16:45:02.247Z"
   },
   {
    "duration": 1557,
    "start_time": "2022-12-30T16:45:17.394Z"
   },
   {
    "duration": 3,
    "start_time": "2022-12-30T16:45:18.954Z"
   },
   {
    "duration": 623,
    "start_time": "2022-12-30T16:45:18.959Z"
   },
   {
    "duration": 51,
    "start_time": "2022-12-30T16:45:19.584Z"
   },
   {
    "duration": 35,
    "start_time": "2022-12-30T16:45:19.637Z"
   },
   {
    "duration": 22,
    "start_time": "2022-12-30T16:45:19.674Z"
   },
   {
    "duration": 41,
    "start_time": "2022-12-30T16:45:19.698Z"
   },
   {
    "duration": 63,
    "start_time": "2022-12-30T16:45:19.740Z"
   },
   {
    "duration": 53,
    "start_time": "2022-12-30T16:45:19.805Z"
   },
   {
    "duration": 26,
    "start_time": "2022-12-30T16:45:19.861Z"
   },
   {
    "duration": 45,
    "start_time": "2022-12-30T16:45:19.889Z"
   },
   {
    "duration": 40,
    "start_time": "2022-12-30T16:45:19.937Z"
   },
   {
    "duration": 48,
    "start_time": "2022-12-30T16:45:19.979Z"
   },
   {
    "duration": 23,
    "start_time": "2022-12-30T16:45:20.029Z"
   },
   {
    "duration": 2832,
    "start_time": "2022-12-30T16:45:20.054Z"
   },
   {
    "duration": 159,
    "start_time": "2022-12-30T16:45:22.888Z"
   },
   {
    "duration": 143,
    "start_time": "2022-12-30T16:45:23.049Z"
   },
   {
    "duration": 142,
    "start_time": "2022-12-30T16:45:23.193Z"
   },
   {
    "duration": 145,
    "start_time": "2022-12-30T16:45:23.337Z"
   },
   {
    "duration": 256,
    "start_time": "2022-12-30T16:45:23.484Z"
   },
   {
    "duration": 209,
    "start_time": "2022-12-30T16:45:23.742Z"
   },
   {
    "duration": 7,
    "start_time": "2022-12-30T16:45:23.953Z"
   },
   {
    "duration": 18,
    "start_time": "2022-12-30T16:45:23.962Z"
   },
   {
    "duration": 677,
    "start_time": "2022-12-30T16:45:23.981Z"
   },
   {
    "duration": 3,
    "start_time": "2022-12-30T16:45:24.660Z"
   },
   {
    "duration": 955,
    "start_time": "2022-12-30T16:45:24.664Z"
   },
   {
    "duration": 14,
    "start_time": "2022-12-30T16:45:25.621Z"
   },
   {
    "duration": 682,
    "start_time": "2022-12-30T16:45:25.639Z"
   },
   {
    "duration": 1007,
    "start_time": "2022-12-30T16:45:26.323Z"
   },
   {
    "duration": 18,
    "start_time": "2022-12-30T16:45:27.335Z"
   },
   {
    "duration": 30,
    "start_time": "2022-12-30T16:45:27.355Z"
   },
   {
    "duration": 48,
    "start_time": "2022-12-30T16:45:27.387Z"
   },
   {
    "duration": 107,
    "start_time": "2022-12-30T16:45:27.437Z"
   },
   {
    "duration": 11,
    "start_time": "2022-12-30T16:45:27.545Z"
   },
   {
    "duration": 8,
    "start_time": "2022-12-30T16:45:27.558Z"
   },
   {
    "duration": 36,
    "start_time": "2022-12-30T16:45:27.568Z"
   },
   {
    "duration": 259,
    "start_time": "2022-12-30T16:45:27.606Z"
   },
   {
    "duration": 4,
    "start_time": "2022-12-30T16:45:27.867Z"
   },
   {
    "duration": 135,
    "start_time": "2022-12-30T16:45:27.873Z"
   },
   {
    "duration": 355,
    "start_time": "2022-12-30T16:45:28.010Z"
   },
   {
    "duration": 97773,
    "start_time": "2022-12-30T16:45:28.367Z"
   },
   {
    "duration": 208,
    "start_time": "2022-12-30T16:47:06.141Z"
   },
   {
    "duration": 67806,
    "start_time": "2022-12-30T16:48:13.797Z"
   },
   {
    "duration": 68232,
    "start_time": "2022-12-30T16:51:13.033Z"
   },
   {
    "duration": 61,
    "start_time": "2022-12-30T16:55:05.336Z"
   },
   {
    "duration": 49832,
    "start_time": "2022-12-30T16:55:12.053Z"
   },
   {
    "duration": 53,
    "start_time": "2022-12-30T16:58:07.443Z"
   },
   {
    "duration": 52,
    "start_time": "2022-12-30T16:58:29.366Z"
   },
   {
    "duration": 37907,
    "start_time": "2022-12-30T17:05:35.540Z"
   },
   {
    "duration": 12,
    "start_time": "2022-12-30T17:13:37.353Z"
   },
   {
    "duration": 11,
    "start_time": "2022-12-30T17:13:52.714Z"
   },
   {
    "duration": 12,
    "start_time": "2022-12-30T17:13:59.122Z"
   },
   {
    "duration": 4,
    "start_time": "2022-12-30T17:14:13.824Z"
   },
   {
    "duration": 33,
    "start_time": "2022-12-30T17:14:13.831Z"
   },
   {
    "duration": 246,
    "start_time": "2022-12-30T17:14:13.866Z"
   },
   {
    "duration": 69,
    "start_time": "2022-12-30T17:14:14.114Z"
   },
   {
    "duration": 78,
    "start_time": "2022-12-30T17:14:14.186Z"
   },
   {
    "duration": 26,
    "start_time": "2022-12-30T17:14:14.266Z"
   },
   {
    "duration": 16,
    "start_time": "2022-12-30T17:14:14.294Z"
   },
   {
    "duration": 74,
    "start_time": "2022-12-30T17:14:14.312Z"
   },
   {
    "duration": 47,
    "start_time": "2022-12-30T17:14:14.388Z"
   },
   {
    "duration": 26,
    "start_time": "2022-12-30T17:14:14.437Z"
   },
   {
    "duration": 21,
    "start_time": "2022-12-30T17:14:14.465Z"
   },
   {
    "duration": 16,
    "start_time": "2022-12-30T17:14:14.488Z"
   },
   {
    "duration": 49,
    "start_time": "2022-12-30T17:14:14.508Z"
   },
   {
    "duration": 17,
    "start_time": "2022-12-30T17:14:14.559Z"
   },
   {
    "duration": 2787,
    "start_time": "2022-12-30T17:14:14.578Z"
   },
   {
    "duration": 186,
    "start_time": "2022-12-30T17:14:17.367Z"
   },
   {
    "duration": 144,
    "start_time": "2022-12-30T17:14:17.555Z"
   },
   {
    "duration": 180,
    "start_time": "2022-12-30T17:14:17.701Z"
   },
   {
    "duration": 167,
    "start_time": "2022-12-30T17:14:17.883Z"
   },
   {
    "duration": 166,
    "start_time": "2022-12-30T17:14:18.051Z"
   },
   {
    "duration": 222,
    "start_time": "2022-12-30T17:14:18.219Z"
   },
   {
    "duration": 10,
    "start_time": "2022-12-30T17:14:18.444Z"
   },
   {
    "duration": 21,
    "start_time": "2022-12-30T17:14:18.457Z"
   },
   {
    "duration": 864,
    "start_time": "2022-12-30T17:14:18.479Z"
   },
   {
    "duration": 3,
    "start_time": "2022-12-30T17:14:19.345Z"
   },
   {
    "duration": 995,
    "start_time": "2022-12-30T17:14:19.350Z"
   },
   {
    "duration": 3,
    "start_time": "2022-12-30T17:14:20.347Z"
   },
   {
    "duration": 704,
    "start_time": "2022-12-30T17:14:20.351Z"
   },
   {
    "duration": 1021,
    "start_time": "2022-12-30T17:14:21.057Z"
   },
   {
    "duration": 18,
    "start_time": "2022-12-30T17:14:22.080Z"
   },
   {
    "duration": 50,
    "start_time": "2022-12-30T17:14:22.100Z"
   },
   {
    "duration": 16,
    "start_time": "2022-12-30T17:14:22.152Z"
   },
   {
    "duration": 132,
    "start_time": "2022-12-30T17:14:22.171Z"
   },
   {
    "duration": 30,
    "start_time": "2022-12-30T17:14:22.306Z"
   },
   {
    "duration": 14,
    "start_time": "2022-12-30T17:14:22.338Z"
   },
   {
    "duration": 56,
    "start_time": "2022-12-30T17:14:22.354Z"
   },
   {
    "duration": 258,
    "start_time": "2022-12-30T17:14:22.416Z"
   },
   {
    "duration": 5,
    "start_time": "2022-12-30T17:14:22.677Z"
   },
   {
    "duration": 134,
    "start_time": "2022-12-30T17:14:22.685Z"
   },
   {
    "duration": 337,
    "start_time": "2022-12-30T17:14:22.821Z"
   },
   {
    "duration": 98066,
    "start_time": "2022-12-30T17:14:23.160Z"
   },
   {
    "duration": 195,
    "start_time": "2022-12-30T17:16:01.227Z"
   },
   {
    "duration": 38021,
    "start_time": "2022-12-30T17:16:01.424Z"
   },
   {
    "duration": 405,
    "start_time": "2022-12-30T17:16:39.447Z"
   },
   {
    "duration": 102,
    "start_time": "2022-12-30T17:16:39.853Z"
   },
   {
    "duration": 111333,
    "start_time": "2022-12-30T17:16:39.957Z"
   },
   {
    "duration": 189,
    "start_time": "2022-12-30T17:18:31.293Z"
   },
   {
    "duration": 110,
    "start_time": "2022-12-30T17:18:31.484Z"
   },
   {
    "duration": 29406,
    "start_time": "2022-12-30T17:18:31.595Z"
   },
   {
    "duration": 174,
    "start_time": "2022-12-30T17:19:01.003Z"
   },
   {
    "duration": 16,
    "start_time": "2022-12-30T17:19:01.179Z"
   },
   {
    "duration": 204,
    "start_time": "2022-12-30T17:19:01.197Z"
   },
   {
    "duration": 0,
    "start_time": "2022-12-30T17:19:01.402Z"
   },
   {
    "duration": 0,
    "start_time": "2022-12-30T17:19:01.404Z"
   },
   {
    "duration": 0,
    "start_time": "2022-12-30T17:19:01.405Z"
   },
   {
    "duration": 0,
    "start_time": "2022-12-30T17:19:01.406Z"
   },
   {
    "duration": 0,
    "start_time": "2022-12-30T17:19:01.407Z"
   },
   {
    "duration": 0,
    "start_time": "2022-12-30T17:19:01.408Z"
   },
   {
    "duration": 0,
    "start_time": "2022-12-30T17:19:01.410Z"
   },
   {
    "duration": 206,
    "start_time": "2022-12-30T17:19:27.830Z"
   },
   {
    "duration": 209,
    "start_time": "2022-12-30T17:19:53.987Z"
   },
   {
    "duration": 203,
    "start_time": "2022-12-30T17:20:12.606Z"
   },
   {
    "duration": 126,
    "start_time": "2022-12-30T17:20:57.754Z"
   },
   {
    "duration": 117,
    "start_time": "2022-12-30T17:21:05.236Z"
   },
   {
    "duration": 1512,
    "start_time": "2022-12-30T17:21:05.355Z"
   },
   {
    "duration": 246,
    "start_time": "2022-12-30T17:21:06.869Z"
   },
   {
    "duration": 4,
    "start_time": "2022-12-30T17:21:07.117Z"
   },
   {
    "duration": 18,
    "start_time": "2022-12-30T17:21:07.123Z"
   },
   {
    "duration": 49,
    "start_time": "2022-12-30T17:21:07.143Z"
   },
   {
    "duration": 48,
    "start_time": "2022-12-30T17:21:07.194Z"
   },
   {
    "duration": 276,
    "start_time": "2022-12-30T17:21:07.244Z"
   },
   {
    "duration": 1505,
    "start_time": "2022-12-31T09:49:50.186Z"
   },
   {
    "duration": 3,
    "start_time": "2022-12-31T09:49:51.692Z"
   },
   {
    "duration": 450,
    "start_time": "2022-12-31T09:49:51.696Z"
   },
   {
    "duration": 50,
    "start_time": "2022-12-31T09:49:52.148Z"
   },
   {
    "duration": 45,
    "start_time": "2022-12-31T09:49:52.199Z"
   },
   {
    "duration": 17,
    "start_time": "2022-12-31T09:49:52.246Z"
   },
   {
    "duration": 11,
    "start_time": "2022-12-31T09:49:52.265Z"
   },
   {
    "duration": 82,
    "start_time": "2022-12-31T09:49:52.278Z"
   },
   {
    "duration": 26,
    "start_time": "2022-12-31T09:49:52.361Z"
   },
   {
    "duration": 62,
    "start_time": "2022-12-31T09:49:52.389Z"
   },
   {
    "duration": 18,
    "start_time": "2022-12-31T09:49:52.453Z"
   },
   {
    "duration": 20,
    "start_time": "2022-12-31T09:49:52.473Z"
   },
   {
    "duration": 50,
    "start_time": "2022-12-31T09:49:52.494Z"
   },
   {
    "duration": 16,
    "start_time": "2022-12-31T09:49:52.546Z"
   },
   {
    "duration": 2544,
    "start_time": "2022-12-31T09:49:52.563Z"
   },
   {
    "duration": 144,
    "start_time": "2022-12-31T09:49:55.109Z"
   },
   {
    "duration": 121,
    "start_time": "2022-12-31T09:49:55.255Z"
   },
   {
    "duration": 138,
    "start_time": "2022-12-31T09:49:55.377Z"
   },
   {
    "duration": 143,
    "start_time": "2022-12-31T09:49:55.517Z"
   },
   {
    "duration": 134,
    "start_time": "2022-12-31T09:49:55.662Z"
   },
   {
    "duration": 307,
    "start_time": "2022-12-31T09:49:55.798Z"
   },
   {
    "duration": 9,
    "start_time": "2022-12-31T09:49:56.107Z"
   },
   {
    "duration": 13,
    "start_time": "2022-12-31T09:49:56.118Z"
   },
   {
    "duration": 686,
    "start_time": "2022-12-31T09:49:56.132Z"
   },
   {
    "duration": 4,
    "start_time": "2022-12-31T09:49:56.819Z"
   },
   {
    "duration": 856,
    "start_time": "2022-12-31T09:49:56.824Z"
   },
   {
    "duration": 3,
    "start_time": "2022-12-31T09:49:57.682Z"
   },
   {
    "duration": 622,
    "start_time": "2022-12-31T09:49:57.690Z"
   },
   {
    "duration": 891,
    "start_time": "2022-12-31T09:49:58.314Z"
   },
   {
    "duration": 20,
    "start_time": "2022-12-31T09:49:59.212Z"
   },
   {
    "duration": 51,
    "start_time": "2022-12-31T09:49:59.234Z"
   },
   {
    "duration": 22,
    "start_time": "2022-12-31T09:49:59.287Z"
   },
   {
    "duration": 106,
    "start_time": "2022-12-31T09:49:59.312Z"
   },
   {
    "duration": 9,
    "start_time": "2022-12-31T09:49:59.419Z"
   },
   {
    "duration": 5,
    "start_time": "2022-12-31T09:49:59.429Z"
   },
   {
    "duration": 33,
    "start_time": "2022-12-31T09:49:59.435Z"
   },
   {
    "duration": 232,
    "start_time": "2022-12-31T09:49:59.469Z"
   },
   {
    "duration": 9,
    "start_time": "2022-12-31T09:49:59.703Z"
   },
   {
    "duration": 116,
    "start_time": "2022-12-31T09:49:59.714Z"
   },
   {
    "duration": 327,
    "start_time": "2022-12-31T09:49:59.832Z"
   },
   {
    "duration": 94829,
    "start_time": "2022-12-31T09:50:00.162Z"
   },
   {
    "duration": 166,
    "start_time": "2022-12-31T09:51:34.993Z"
   },
   {
    "duration": 34551,
    "start_time": "2022-12-31T09:51:35.161Z"
   },
   {
    "duration": 399,
    "start_time": "2022-12-31T09:52:09.714Z"
   },
   {
    "duration": 109,
    "start_time": "2022-12-31T09:52:10.115Z"
   },
   {
    "duration": 67315,
    "start_time": "2022-12-31T09:52:10.226Z"
   },
   {
    "duration": 15,
    "start_time": "2022-12-31T09:53:17.542Z"
   },
   {
    "duration": 0,
    "start_time": "2022-12-31T09:53:17.559Z"
   },
   {
    "duration": 0,
    "start_time": "2022-12-31T09:53:17.560Z"
   },
   {
    "duration": 0,
    "start_time": "2022-12-31T09:53:17.562Z"
   },
   {
    "duration": 0,
    "start_time": "2022-12-31T09:53:17.563Z"
   },
   {
    "duration": 0,
    "start_time": "2022-12-31T09:53:17.564Z"
   },
   {
    "duration": 0,
    "start_time": "2022-12-31T09:53:17.565Z"
   },
   {
    "duration": 0,
    "start_time": "2022-12-31T09:53:17.566Z"
   },
   {
    "duration": 0,
    "start_time": "2022-12-31T09:53:17.567Z"
   },
   {
    "duration": 0,
    "start_time": "2022-12-31T09:53:17.568Z"
   },
   {
    "duration": 0,
    "start_time": "2022-12-31T09:53:17.569Z"
   },
   {
    "duration": 0,
    "start_time": "2022-12-31T09:53:17.571Z"
   },
   {
    "duration": 0,
    "start_time": "2022-12-31T09:53:17.572Z"
   },
   {
    "duration": 130,
    "start_time": "2023-06-28T04:01:17.013Z"
   },
   {
    "duration": 1636,
    "start_time": "2023-06-28T04:01:23.614Z"
   },
   {
    "duration": 3,
    "start_time": "2023-06-28T04:01:25.252Z"
   },
   {
    "duration": 1416,
    "start_time": "2023-06-28T04:01:25.257Z"
   },
   {
    "duration": 56,
    "start_time": "2023-06-28T04:01:26.683Z"
   },
   {
    "duration": 46,
    "start_time": "2023-06-28T04:01:26.741Z"
   },
   {
    "duration": 22,
    "start_time": "2023-06-28T04:01:26.793Z"
   },
   {
    "duration": 18,
    "start_time": "2023-06-28T04:01:26.817Z"
   },
   {
    "duration": 96,
    "start_time": "2023-06-28T04:01:26.838Z"
   },
   {
    "duration": 40,
    "start_time": "2023-06-28T04:01:26.936Z"
   },
   {
    "duration": 35,
    "start_time": "2023-06-28T04:01:26.980Z"
   },
   {
    "duration": 16,
    "start_time": "2023-06-28T04:01:27.017Z"
   },
   {
    "duration": 27,
    "start_time": "2023-06-28T04:01:27.035Z"
   },
   {
    "duration": 55,
    "start_time": "2023-06-28T04:01:27.063Z"
   },
   {
    "duration": 34,
    "start_time": "2023-06-28T04:01:27.120Z"
   },
   {
    "duration": 3240,
    "start_time": "2023-06-28T04:01:27.156Z"
   },
   {
    "duration": 190,
    "start_time": "2023-06-28T04:01:30.398Z"
   },
   {
    "duration": 161,
    "start_time": "2023-06-28T04:01:30.591Z"
   },
   {
    "duration": 184,
    "start_time": "2023-06-28T04:01:30.754Z"
   },
   {
    "duration": 189,
    "start_time": "2023-06-28T04:01:30.940Z"
   },
   {
    "duration": 187,
    "start_time": "2023-06-28T04:01:31.131Z"
   },
   {
    "duration": 398,
    "start_time": "2023-06-28T04:01:31.320Z"
   },
   {
    "duration": 9,
    "start_time": "2023-06-28T04:01:31.720Z"
   },
   {
    "duration": 76,
    "start_time": "2023-06-28T04:01:31.732Z"
   },
   {
    "duration": 905,
    "start_time": "2023-06-28T04:01:31.810Z"
   },
   {
    "duration": 5,
    "start_time": "2023-06-28T04:01:32.717Z"
   },
   {
    "duration": 1199,
    "start_time": "2023-06-28T04:01:32.724Z"
   },
   {
    "duration": 3,
    "start_time": "2023-06-28T04:01:33.925Z"
   },
   {
    "duration": 906,
    "start_time": "2023-06-28T04:01:33.933Z"
   },
   {
    "duration": 1118,
    "start_time": "2023-06-28T04:01:34.841Z"
   },
   {
    "duration": 25,
    "start_time": "2023-06-28T04:01:35.961Z"
   },
   {
    "duration": 33,
    "start_time": "2023-06-28T04:01:35.988Z"
   },
   {
    "duration": 20,
    "start_time": "2023-06-28T04:01:36.023Z"
   },
   {
    "duration": 131,
    "start_time": "2023-06-28T04:01:36.068Z"
   },
   {
    "duration": 11,
    "start_time": "2023-06-28T04:01:36.201Z"
   },
   {
    "duration": 7,
    "start_time": "2023-06-28T04:01:36.213Z"
   },
   {
    "duration": 73,
    "start_time": "2023-06-28T04:01:36.222Z"
   },
   {
    "duration": 256,
    "start_time": "2023-06-28T04:01:36.297Z"
   },
   {
    "duration": 4,
    "start_time": "2023-06-28T04:01:36.554Z"
   },
   {
    "duration": 145,
    "start_time": "2023-06-28T04:01:36.560Z"
   },
   {
    "duration": 414,
    "start_time": "2023-06-28T04:01:36.706Z"
   },
   {
    "duration": 122120,
    "start_time": "2023-06-28T04:01:37.122Z"
   },
   {
    "duration": 219,
    "start_time": "2023-06-28T04:03:39.244Z"
   },
   {
    "duration": 46011,
    "start_time": "2023-06-28T04:03:39.467Z"
   },
   {
    "duration": 403,
    "start_time": "2023-06-28T04:04:25.480Z"
   },
   {
    "duration": 128,
    "start_time": "2023-06-28T04:04:25.885Z"
   },
   {
    "duration": 164339,
    "start_time": "2023-06-28T04:04:26.015Z"
   },
   {
    "duration": 238,
    "start_time": "2023-06-28T04:07:10.356Z"
   },
   {
    "duration": 109,
    "start_time": "2023-06-28T04:07:10.600Z"
   },
   {
    "duration": 37504,
    "start_time": "2023-06-28T04:07:10.711Z"
   },
   {
    "duration": 221,
    "start_time": "2023-06-28T04:07:48.217Z"
   },
   {
    "duration": 34,
    "start_time": "2023-06-28T04:07:48.440Z"
   },
   {
    "duration": 176,
    "start_time": "2023-06-28T04:07:48.476Z"
   },
   {
    "duration": 5854,
    "start_time": "2023-06-28T04:07:48.653Z"
   },
   {
    "duration": 1331,
    "start_time": "2023-06-28T04:07:54.569Z"
   },
   {
    "duration": 9,
    "start_time": "2023-06-28T04:07:55.971Z"
   },
   {
    "duration": 12,
    "start_time": "2023-06-28T04:07:55.993Z"
   },
   {
    "duration": 271,
    "start_time": "2023-06-28T04:07:56.008Z"
   },
   {
    "duration": 203,
    "start_time": "2023-06-28T04:07:56.288Z"
   },
   {
    "duration": 1310,
    "start_time": "2023-06-28T04:07:56.494Z"
   }
  ],
  "kernelspec": {
   "display_name": "Python 3 (ipykernel)",
   "language": "python",
   "name": "python3"
  },
  "language_info": {
   "codemirror_mode": {
    "name": "ipython",
    "version": 3
   },
   "file_extension": ".py",
   "mimetype": "text/x-python",
   "name": "python",
   "nbconvert_exporter": "python",
   "pygments_lexer": "ipython3",
   "version": "3.9.13"
  },
  "toc": {
   "base_numbering": 1,
   "nav_menu": {},
   "number_sections": true,
   "sideBar": true,
   "skip_h1_title": true,
   "title_cell": "Table of Contents",
   "title_sidebar": "Contents",
   "toc_cell": false,
   "toc_position": {
    "height": "calc(100% - 180px)",
    "left": "10px",
    "top": "150px",
    "width": "339px"
   },
   "toc_section_display": true,
   "toc_window_display": true
  }
 },
 "nbformat": 4,
 "nbformat_minor": 4
}
